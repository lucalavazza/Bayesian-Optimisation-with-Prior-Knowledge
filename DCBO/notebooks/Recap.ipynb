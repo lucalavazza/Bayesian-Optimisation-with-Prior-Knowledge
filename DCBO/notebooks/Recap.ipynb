{
 "cells": [
  {
   "cell_type": "markdown",
   "id": "595f06c5-71d4-476b-8c6b-14e528ebbc48",
   "metadata": {},
   "source": [
    "# Cosa sto facendo:"
   ]
  },
  {
   "cell_type": "markdown",
   "id": "4b4b3ac0-9e7a-46fa-8a30-4b5b2fe5d6e3",
   "metadata": {},
   "source": [
    "La classe 'BO' (src/methods/nome_classe.py) definisce il metodo 'run'.\n",
    "\n",
    "'run' invoca il metodo '_per_trial_computations' della classe 'root' (src/bases/root.py).\n",
    "\n",
    "'_per_trial_computations' invoca il metodo '_evaluate_acquisition_functions' della classe 'BO'.\n",
    "\n",
    "'_evaluate_acquisition_functions' invoca il metodo 'evaluate_acquisition_function' definito nella classe 'intervention_computations' (src/bayes_opt/intervention_computations.py).\n",
    "\n",
    "'evaluate_acquisition_function' utilizza le classi 'ManualCausalExpectedImprovement' e 'CausalExpectedImprovement' del file 'causal_acquisition_functions' (src/bayes_opt/causal_acquisition_functions.py).\n",
    "\n",
    "Le classi 'ManualCausalExpectedImprovement' e 'CausalExpectedImprovement' definiscono ciacuna il metodo 'evaluate'.\n",
    "\n",
    "----------------------------------------------------------------------------------------------------------------------------------------------------------------------------------------------------------------\n",
    "----------------------------------------------------------------------------------------------------------------------------------------------------------------------------------------------------------------\n",
    "corrispondenza codice-letteratura:\n",
    "    \n",
    "best_es = eval(\"max\")(self.y_acquired, key=self.y_acquired.get)\n",
    "equivale a\n",
    "$s^*=argmax \\alpha_s$\n",
    "perciò y_acquisition è alfa.\n",
    "\n",
    "$\\alpha_i$ sono le soluzionidell'ottimizzazione di EI, quindi le x_new.\n",
    "\n",
    "----------------------------------------------------------------------------------------------------------------------------------------------------------------------------------------------------------------\n",
    "----------------------------------------------------------------------------------------------------------------------------------------------------------------------------------------------------------------\n",
    "\n",
    "Perciò io devo fare una classe 'PIBO'.\n",
    "\n",
    "Devo modificare 'evaluate_acquisition_function' in 'intervention_computations' --> 'evaluate_acquisition_function_with_prior' e fare in modo che '_evaluate_acquisition_functions' in 'PIBO' invochi quello nuovo.\n",
    "\n",
    "$\\Rightarrow\\Rightarrow\\Rightarrow\\Rightarrow$ aggiungo l'uso del prior diretamente in 'evaluate_acquisition_function_with_prior' senza toccare le classi 'ManualCausalExpectedImprovement' e 'CausalExpectedImprovement'.\n",
    "\n",
    "\n",
    "A 'evaluate_acquisition_function_with_prior' arrivano già il numero di iterazione e il temporal index. Devo passargli l'array di priors con regret e ad ogni esecuzione moltiplicare il risultato di EI per il prior corrispondente.\n",
    "\n",
    "L'array di prior con regret lo passo ai parametri di definizione di PIBO. Da qui lo passo a '_evaluate_acquisition_functions' di PIBO, che me lo passa a 'evaluate_acquisition_function_with_prior' dove serve.\n",
    "\n",
    "In ordine:\n",
    "- creo PIBO\n",
    "- creo pibo_root perchè dovrò modificare '_per_trial_computations'\n",
    "- dico che run vuole i prior con regret\n",
    "- dico che '_per_trial_computations' vuole i prior\n",
    "- modifico '_evaluate_acquisition_functions' di PIBO dandogli il parametro nuovo e dicendogli di usare 'evaluate_acquisition_function_with_prior'\n",
    "- modifico 'evaluate_acquisition_function_with_prior' n modo che usi i prior\n",
    "- passo i prior a numerical_optimization_with_prior e li moltiplico con gli improvements\n",
    "- fare lo stesso per DCBO\n",
    "----------------------------------------------------------------------------------------------------------------------------------------------------------------------------------------------------------------\n",
    "- testare su più casi $\\Leftarrow$$\\Leftarrow$$\\Leftarrow$$\\Leftarrow$\n",
    "----------------------------------------------------------------------------------------------------------------------------------------------------------------------------------------------------------------\n",
    "- incrocio le dita\n",
    "- fine tesi"
   ]
  }
 ],
 "metadata": {
  "kernelspec": {
   "display_name": "Python 3 (ipykernel)",
   "language": "python",
   "name": "python3"
  },
  "language_info": {
   "codemirror_mode": {
    "name": "ipython",
    "version": 3
   },
   "file_extension": ".py",
   "mimetype": "text/x-python",
   "name": "python",
   "nbconvert_exporter": "python",
   "pygments_lexer": "ipython3",
   "version": "3.10.9"
  }
 },
 "nbformat": 4,
 "nbformat_minor": 5
}
