{
 "cells": [
  {
   "cell_type": "markdown",
   "id": "6f3f6dc7-2bec-4a05-ab60-221777faeb9a",
   "metadata": {},
   "source": [
    "# DC-$\\pi$BO - Non-stationary SCM and DAG"
   ]
  },
  {
   "cell_type": "markdown",
   "id": "b5d2bf3b-e170-4e38-9284-de546f2a1763",
   "metadata": {},
   "source": [
    "## Imports"
   ]
  },
  {
   "cell_type": "code",
   "execution_count": 1,
   "id": "dabbc7d1-50ce-464f-ac73-7802d05d057b",
   "metadata": {},
   "outputs": [],
   "source": [
    "%load_ext autoreload\n",
    "%autoreload 2\n",
    "\n",
    "import sys\n",
    "sys.path.append(\"../src/\")\n",
    "sys.path.append(\"..\")\n",
    "\n",
    "from src.examples.example_setups import setup_nonstat_scm\n",
    "from src.utils.sem_utils.toy_sems import NonStationaryDependentSEM as NonStatSEM\n",
    "from src.utils.sem_utils.sem_estimate import build_sem_hat\n",
    "from src.experimental.experiments import run_methods_replicates\n",
    "from src.experimental.analyse_results import get_relevant_results, elaborate\n",
    "from src.utils.plotting import plot_expected_opt_curve_paper\n",
    "\n",
    "from src.methods.bo import BO\n",
    "from src.methods.dcbo import DCBO\n",
    "from src.methods.pibo import PIBO\n",
    "from src.methods.dcpibo import DCPIBO\n",
    "\n",
    "from matplotlib.pyplot import rc\n",
    "import numpy as np\n",
    "from numpy import zeros\n",
    "import matplotlib.pyplot as plt\n",
    "from scipy import stats\n",
    "import random\n",
    "\n",
    "random.seed(42)"
   ]
  },
  {
   "cell_type": "markdown",
   "id": "06b288e4-dbe8-43ae-b9e4-03c73ff37b95",
   "metadata": {},
   "source": [
    "## Constants and such"
   ]
  },
  {
   "cell_type": "code",
   "execution_count": 2,
   "id": "eda6b21b-f087-4a5c-99b3-484f76f482eb",
   "metadata": {},
   "outputs": [],
   "source": [
    "T = 3 # number of time-steps\n",
    "t_axis = np.linspace(1,T,T,dtype=int) # the actual time-steps\n",
    "N = 10 # number of trials\n",
    "std_strong = 0.1 # standard deviation of the prior 𝜋 in the strong case\n",
    "std_weak = 0.5 # standard deviation of the prior 𝜋 in the weak case\n",
    "beta = 1 # set as N/10"
   ]
  },
  {
   "cell_type": "markdown",
   "id": "24c29274-1dfe-4979-b194-4d302a37d8ab",
   "metadata": {
    "tags": []
   },
   "source": [
    "## Optima location"
   ]
  },
  {
   "cell_type": "code",
   "execution_count": 3,
   "id": "e67dec19-f879-436a-83d7-d91897276676",
   "metadata": {},
   "outputs": [],
   "source": [
    "upper_good = 12\n",
    "lower_good = -upper_good\n",
    "y_good = []\n",
    "\n",
    "for t in t_axis:\n",
    "    if t%2==0:\n",
    "        y_t=upper_good\n",
    "    else:\n",
    "        y_t=lower_good\n",
    "        \n",
    "    y_good.append(y_t)"
   ]
  },
  {
   "cell_type": "code",
   "execution_count": 4,
   "id": "ea1b2d7e-e6f7-485b-b243-fc696f423411",
   "metadata": {},
   "outputs": [],
   "source": [
    "upper_bad = 7\n",
    "lower_bad = -upper_good\n",
    "y_bad = []\n",
    "\n",
    "for t in t_axis:\n",
    "    if t%2==0:\n",
    "        y_t=upper_bad\n",
    "    else:\n",
    "        y_t=lower_bad\n",
    "        \n",
    "    y_bad.append(y_t)"
   ]
  },
  {
   "cell_type": "markdown",
   "id": "8dba81e9-d5bc-43aa-b71d-8796634fe098",
   "metadata": {},
   "source": [
    "## Utility Functions"
   ]
  },
  {
   "cell_type": "code",
   "execution_count": 5,
   "id": "27ea3435-b5b7-4a5d-a840-01f996e429c3",
   "metadata": {},
   "outputs": [],
   "source": [
    "def power_list(input_list, exponent):\n",
    "    '''Raises each element of the given input_list to the desired exponent'''\n",
    "    \n",
    "    return_list = []\n",
    "    \n",
    "    for element in input_list:\n",
    "        if element >= 0:\n",
    "            raised_element = element**exponent\n",
    "        else:\n",
    "            raised_element = -(abs(element)**exponent)\n",
    "        return_list.append(raised_element)\n",
    "        \n",
    "    return return_list"
   ]
  },
  {
   "cell_type": "code",
   "execution_count": 6,
   "id": "93ce49d4-e680-4674-9993-0b02d970d454",
   "metadata": {},
   "outputs": [],
   "source": [
    "def compute_statistics(y_function, standard_deviation):\n",
    "    '''Computes all the necessary lists associated to the Normal Distribution'''\n",
    "    \n",
    "    return_variates = []\n",
    "    return_amps = []\n",
    "    return_pdfs = []\n",
    "    \n",
    "    for mean in y_function:\n",
    "        return_variates.append(stats.norm.rvs(mean, standard_deviation, 10))\n",
    "        \n",
    "        amp = np.linspace(mean-5*standard_deviation, mean+5*standard_deviation, 10)\n",
    "        return_amps.append(amp)\n",
    "        \n",
    "        return_pdfs.append(stats.norm.pdf(amp, mean, standard_deviation))\n",
    "    \n",
    "    return return_variates, return_amps, return_pdfs"
   ]
  },
  {
   "cell_type": "code",
   "execution_count": 7,
   "id": "452a4458-1a24-4beb-9410-09f72f8e3486",
   "metadata": {},
   "outputs": [],
   "source": [
    "def normalise_pdfs(pdfs_list):\n",
    "    '''Normalises the PDFs between 0 and 1'''\n",
    "    \n",
    "    return_normalised_pdfs_list = []\n",
    "    \n",
    "    for pdf_list in pdfs_list:\n",
    "        temp_list = []\n",
    "        \n",
    "        pdf_min = min(pdf_list)\n",
    "        pdf_max = max(pdf_list)\n",
    "        \n",
    "        for pdf_value in pdf_list:\n",
    "            temp_list.append(round((pdf_value-pdf_min)/(pdf_max-pdf_min),2))\n",
    "        \n",
    "        return_normalised_pdfs_list.append(temp_list)\n",
    "        \n",
    "    return return_normalised_pdfs_list"
   ]
  },
  {
   "cell_type": "code",
   "execution_count": 8,
   "id": "233249b0-0016-4f69-bedd-756e6230a1ee",
   "metadata": {},
   "outputs": [],
   "source": [
    "def regret_priors(start_prior):\n",
    "    '''Adds regret'''\n",
    "    \n",
    "    return_raised_priors = []\n",
    "    \n",
    "    for i in range(1,N+1):\n",
    "        temp = []\n",
    "        gamma = beta/i\n",
    "        \n",
    "        for p_list in start_prior:\n",
    "            temp.append(power_list(p_list, gamma))\n",
    "            \n",
    "        return_raised_priors.append(temp)\n",
    "    \n",
    "    return return_raised_priors"
   ]
  },
  {
   "cell_type": "code",
   "execution_count": 9,
   "id": "1328cad5-9224-4cce-9ccb-f9699a5fed8a",
   "metadata": {},
   "outputs": [],
   "source": [
    "def predict_optima(time_steps, variates, normalised_pdfs):\n",
    "    '''Predicts the optimum for each time-step'''\n",
    "    \n",
    "    return_prediction = []\n",
    "    \n",
    "    for time_step in range(time_steps):\n",
    "        if(min(variates[time_step])+max(variates[time_step]))<0:\n",
    "            optimum = min(variates[time_step]*normalised_pdfs[time_step])\n",
    "        else:\n",
    "            optimum = max(variates[time_step]*normalised_pdfs[time_step])\n",
    "        return_prediction.append(optimum)\n",
    "        \n",
    "    return return_prediction"
   ]
  },
  {
   "cell_type": "code",
   "execution_count": 10,
   "id": "0ba8eb16-046e-4a5b-89a5-c8e0cf326c72",
   "metadata": {},
   "outputs": [],
   "source": [
    "def predict_optima_regret(iterations, time_steps, regret_priors, normalised_pdfs):\n",
    "    '''Computes the prediction for each time-step and each iteration, according to the effect of gamma (regret)'''\n",
    "    \n",
    "    return_predictions = []\n",
    "    \n",
    "    for iteration in range(iterations):\n",
    "        temp = []\n",
    "        \n",
    "        for time_step in range(time_steps):\n",
    "            if(min(regret_priors[iteration][time_step])+max(regret_priors[iteration][time_step]))<0:\n",
    "                optimum = min(np.multiply(regret_priors[iteration][time_step], normalised_pdfs[time_step]))\n",
    "            else:\n",
    "                optimum = max(np.multiply(regret_priors[iteration][time_step], normalised_pdfs[time_step]))\n",
    "                              \n",
    "            temp.append(optimum)\n",
    "                              \n",
    "        return_predictions.append(temp)\n",
    "                              \n",
    "    return return_predictions"
   ]
  },
  {
   "cell_type": "markdown",
   "id": "9bee9d6d-f3bb-4d75-91d5-8b0f9f5a1526",
   "metadata": {},
   "source": [
    "## Setup"
   ]
  },
  {
   "cell_type": "markdown",
   "id": "5d3de4c7-daf0-40ce-918f-fdb2d108b60d",
   "metadata": {},
   "source": [
    "Concerning the prior:"
   ]
  },
  {
   "cell_type": "code",
   "execution_count": 11,
   "id": "37dbbe3c-878d-4668-92e5-d6f4a068c2d0",
   "metadata": {},
   "outputs": [],
   "source": [
    "all_variates, all_amps, all_pdfs = compute_statistics(y_good, std_strong)\n",
    "all_variates_regret = regret_priors(all_variates)\n",
    "\n",
    "all_pdfs_normalised = normalise_pdfs(all_pdfs)\n",
    "\n",
    "predicted_optima = predict_optima(T, all_variates, all_pdfs_normalised)\n",
    "predicted_optima_regret = predict_optima_regret(N, T, all_variates_regret, all_pdfs_normalised) # this are all the 𝜋s"
   ]
  },
  {
   "cell_type": "code",
   "execution_count": 12,
   "id": "4e71c668-de32-4a77-9aa6-490f9a10506f",
   "metadata": {
    "tags": []
   },
   "outputs": [],
   "source": [
    "all_bad_variates, all_bad_amps, all_bad_pdfs = compute_statistics(y_bad, std_strong)\n",
    "all_bad_variates_regret = regret_priors(all_bad_variates)\n",
    "\n",
    "all_bad_pdfs_normalised = normalise_pdfs(all_bad_pdfs)\n",
    "\n",
    "predicted_bad_optima = predict_optima(T, all_bad_variates, all_bad_pdfs_normalised)\n",
    "predicted_bad_optima_regret = predict_optima_regret(N, T, all_bad_variates_regret, all_bad_pdfs_normalised)"
   ]
  },
  {
   "cell_type": "markdown",
   "id": "5c4bb87a-d53f-4413-91ab-ac05621b130f",
   "metadata": {},
   "source": [
    "Concerning the models:"
   ]
  },
  {
   "cell_type": "code",
   "execution_count": 13,
   "id": "efeed183-2eb5-4283-b210-79c00fae8f6e",
   "metadata": {},
   "outputs": [
    {
     "name": "stderr",
     "output_type": "stream",
     "text": [
      " /mnt/c/Users/lucal/Desktop/Thesis/DCBO/DCBO/notebooks/../src/utils/sem_utils/toy_sems.py:180: RuntimeWarning:invalid value encountered in double_scalars\n"
     ]
    }
   ],
   "source": [
    "init_sem, sem, dag_view, G, exploration_sets, intervention_domain, true_objective_values, all_causal_effects = setup_nonstat_scm(T=T)"
   ]
  },
  {
   "cell_type": "code",
   "execution_count": 14,
   "id": "49502b83-3dbe-4434-a1c2-81c3730871e9",
   "metadata": {},
   "outputs": [
    {
     "data": {
      "text/plain": [
       "0"
      ]
     },
     "execution_count": 14,
     "metadata": {},
     "output_type": "execute_result"
    }
   ],
   "source": [
    "G.add_edge('X_0','Z_1')\n",
    "G.add_edge('Z_1','Y_2')"
   ]
  },
  {
   "cell_type": "markdown",
   "id": "8a2368cd-98ef-4cfc-91ff-40ae5c845b4e",
   "metadata": {},
   "source": [
    "## Execution"
   ]
  },
  {
   "cell_type": "code",
   "execution_count": 15,
   "id": "ed533f32-d8e9-4bb7-b858-ff41845680ae",
   "metadata": {},
   "outputs": [
    {
     "name": "stderr",
     "output_type": "stream",
     "text": [
      "Experiment count:   0%|                                                    | 0/1 [00:00<?, ?it/s]"
     ]
    },
    {
     "name": "stdout",
     "output_type": "stream",
     "text": [
      "\n",
      "\t>>>BO\n",
      "\n"
     ]
    },
    {
     "name": "stderr",
     "output_type": "stream",
     "text": [
      "\n",
      "Time index:   0%|                                                          | 0/3 [00:00<?, ?it/s]\u001b[Areconstraining parameters GP_regression.rbf.variance\n",
      "\n",
      "Time index:  33%|████████████████▋                                 | 1/3 [00:00<00:00,  6.03it/s]\u001b[Areconstraining parameters GP_regression.rbf.variance\n",
      "\n",
      "Time index:  67%|█████████████████████████████████▎                | 2/3 [00:00<00:00,  5.70it/s]\u001b[Areconstraining parameters GP_regression.rbf.variance\n",
      "\n",
      "Time index: 100%|██████████████████████████████████████████████████| 3/3 [00:00<00:00,  5.51it/s]\u001b[A\n",
      " /mnt/c/Users/lucal/Desktop/Thesis/DCBO/DCBO/notebooks/../src/utils/dag_utils/adjacency_matrix_utils.py:26: FutureWarning:adjacency_matrix will return a scipy.sparse array instead of a matrix in Networkx 3.0.\n"
     ]
    },
    {
     "name": "stdout",
     "output_type": "stream",
     "text": [
      "\n",
      "\t>>>DCBO\n",
      "\n"
     ]
    },
    {
     "name": "stderr",
     "output_type": "stream",
     "text": [
      " /mnt/c/Users/lucal/Desktop/Thesis/DCBO/DCBO/notebooks/../src/utils/dag_utils/adjacency_matrix_utils.py:26: FutureWarning:adjacency_matrix will return a scipy.sparse array instead of a matrix in Networkx 3.0.\n",
      " /home/luca/miniconda3/envs/MTL_DCBO_testing/lib/python3.10/site-packages/GPy/kern/src/stationary.py:168: RuntimeWarning:overflow encountered in divide\n",
      " /home/luca/miniconda3/envs/MTL_DCBO_testing/lib/python3.10/site-packages/GPy/kern/src/rbf.py:52: RuntimeWarning:overflow encountered in square\n",
      " /home/luca/miniconda3/envs/MTL_DCBO_testing/lib/python3.10/site-packages/GPy/kern/src/rbf.py:76: RuntimeWarning:invalid value encountered in multiply\n",
      "\n",
      "Time index:   0%|                                                          | 0/3 [00:00<?, ?it/s]\u001b[Areconstraining parameters GP_regression.rbf.variance\n",
      " /mnt/c/Users/lucal/Desktop/Thesis/DCBO/DCBO/notebooks/../src/utils/sem_utils/toy_sems.py:180: RuntimeWarning:invalid value encountered in double_scalars\n",
      "reconstraining parameters GP_regression.rbf.variance\n",
      "reconstraining parameters GP_regression.rbf.variance\n",
      "\n",
      "Time index:  33%|████████████████▋                                 | 1/3 [00:03<00:06,  3.40s/it]\u001b[Areconstraining parameters GP_regression.rbf.variance\n",
      "\n",
      "Time index:  67%|█████████████████████████████████▎                | 2/3 [00:09<00:04,  4.98s/it]\u001b[Areconstraining parameters GP_regression.rbf.variance\n",
      "reconstraining parameters GP_regression.rbf.variance\n",
      "reconstraining parameters GP_regression.rbf.variance\n",
      "\n",
      "Time index: 100%|██████████████████████████████████████████████████| 3/3 [00:17<00:00,  5.95s/it]\u001b[A\n"
     ]
    },
    {
     "name": "stdout",
     "output_type": "stream",
     "text": [
      "\n",
      "\t>>>PIBO\n",
      "\n"
     ]
    },
    {
     "name": "stderr",
     "output_type": "stream",
     "text": [
      "\n",
      "Time index:   0%|                                                          | 0/3 [00:00<?, ?it/s]\u001b[Areconstraining parameters GP_regression.rbf.variance\n",
      "\n",
      "Time index:  33%|████████████████▋                                 | 1/3 [00:00<00:00,  6.12it/s]\u001b[Areconstraining parameters GP_regression.rbf.variance\n",
      "\n",
      "Time index:  67%|█████████████████████████████████▎                | 2/3 [00:00<00:00,  5.70it/s]\u001b[Areconstraining parameters GP_regression.rbf.variance\n",
      "\n",
      "Time index: 100%|██████████████████████████████████████████████████| 3/3 [00:00<00:00,  5.53it/s]\u001b[A\n"
     ]
    },
    {
     "name": "stdout",
     "output_type": "stream",
     "text": [
      "\n",
      "\t>>>DCPIBO\n",
      "\n"
     ]
    },
    {
     "name": "stderr",
     "output_type": "stream",
     "text": [
      " /mnt/c/Users/lucal/Desktop/Thesis/DCBO/DCBO/notebooks/../src/utils/dag_utils/adjacency_matrix_utils.py:26: FutureWarning:adjacency_matrix will return a scipy.sparse array instead of a matrix in Networkx 3.0.\n",
      " /home/luca/miniconda3/envs/MTL_DCBO_testing/lib/python3.10/site-packages/GPy/kern/src/stationary.py:168: RuntimeWarning:overflow encountered in divide\n",
      " /home/luca/miniconda3/envs/MTL_DCBO_testing/lib/python3.10/site-packages/GPy/kern/src/rbf.py:52: RuntimeWarning:overflow encountered in square\n",
      " /home/luca/miniconda3/envs/MTL_DCBO_testing/lib/python3.10/site-packages/GPy/kern/src/rbf.py:76: RuntimeWarning:invalid value encountered in multiply\n",
      "\n",
      "Time index:   0%|                                                          | 0/3 [00:00<?, ?it/s]\u001b[Areconstraining parameters GP_regression.rbf.variance\n",
      " /mnt/c/Users/lucal/Desktop/Thesis/DCBO/DCBO/notebooks/../src/utils/sem_utils/toy_sems.py:180: RuntimeWarning:invalid value encountered in double_scalars\n",
      "reconstraining parameters GP_regression.rbf.variance\n",
      "reconstraining parameters GP_regression.rbf.variance\n",
      "\n",
      "Time index:  33%|████████████████▋                                 | 1/3 [00:03<00:06,  3.25s/it]\u001b[Areconstraining parameters GP_regression.rbf.variance\n",
      "\n",
      "Time index:  67%|█████████████████████████████████▎                | 2/3 [00:09<00:04,  4.93s/it]\u001b[Areconstraining parameters GP_regression.rbf.variance\n",
      "reconstraining parameters GP_regression.rbf.variance\n",
      "reconstraining parameters GP_regression.rbf.variance\n",
      "\n",
      "Time index: 100%|██████████████████████████████████████████████████| 3/3 [00:17<00:00,  5.89s/it]\u001b[A\n",
      "Experiment count: 100%|████████████████████████████████████████████| 1/1 [00:49<00:00, 49.94s/it]\n"
     ]
    }
   ],
   "source": [
    "change_points = T*[False]\n",
    "change_points[1] = True # We encode where the time-series changes stationary regime\n",
    "R = 1\n",
    "results = run_methods_replicates(G=G, \n",
    "                                sem=NonStatSEM, \n",
    "                                make_sem_estimator=build_sem_hat, \n",
    "                                base_target_variable='Y',\n",
    "                                intervention_domain = intervention_domain, \n",
    "                                methods_list = ['BO', 'DCBO', 'PIBO', 'DCPIBO'],\n",
    "                                obs_samples = None,\n",
    "                                exploration_sets = exploration_sets,\n",
    "                                priors_regret = predicted_optima_regret,\n",
    "                                total_timesteps = T,\n",
    "                                number_of_trials = N, \n",
    "                                reps = R, # Number of replicates (how many times we run each method)\n",
    "                                n_restart = 1,\n",
    "                                save_data = False,\n",
    "                                n_obs = 10, # The method samples 10 time-series for each replicate\n",
    "                                num_anchor_points = 100,\n",
    "                                sample_anchor_points = True,\n",
    "                                controlled_experiment=True,\n",
    "                                change_points=change_points)"
   ]
  },
  {
   "cell_type": "markdown",
   "id": "c305b141-007f-4a41-8f1e-c826947eb6c4",
   "metadata": {},
   "source": [
    "## Plotting"
   ]
  },
  {
   "cell_type": "code",
   "execution_count": 16,
   "id": "7615af60-a05b-4ed2-8102-dadfcba95870",
   "metadata": {},
   "outputs": [],
   "source": [
    "data = get_relevant_results(results=results,replicates=R)\n",
    "exp_optimal_outcome_values_during_trials, exp_per_trial_cost = elaborate(number_of_interventions=None, \n",
    "                                                                         n_replicates=R, \n",
    "                                                                         data=data, \n",
    "                                                                         best_objective_values=true_objective_values, \n",
    "                                                                         T=T)"
   ]
  },
  {
   "cell_type": "code",
   "execution_count": 17,
   "id": "0b491a11-b0dd-4588-b10d-fb1ec4d13976",
   "metadata": {},
   "outputs": [],
   "source": [
    "plot_params = {\n",
    "    \"linewidth\": 3,\n",
    "    \"linewidth_opt\": 4,\n",
    "    \"alpha\": 0.1,\n",
    "    \"xlim_max\": N,\n",
    "    \"ncols\": 5,\n",
    "    \"loc_legend\": \"lower right\",\n",
    "    \"size_ticks\": 20,\n",
    "    \"size_labels\": 20,\n",
    "    \"xlabel\": r'$\\texttt{cost}(\\mathbf{X}_{s,t}, \\mathbf{x}_{s,t})$',\n",
    "    \"labels\": {'DCPIBO': 'DCPIBO', 'PIBO': 'PIBO', 'DCBO': 'DCBO', 'BO': 'BO', 'True': r'$\\mathbb{E} \\left [Y_t \\mid \\textrm{do}(\\mathbf{X}_{s,t}^\\star = \\mathbf{x}_{s,t}^\\star) \\right]$'},\n",
    "    \"colors\": {'DCPIBO': 'blue', 'PIBO': 'green', 'DCBO': 'orange', 'BO': 'red', 'True': 'black'},\n",
    "    \"line_styles\": {'DCPIBO': 'dashdot', 'PIBO': '--', 'DCBO': '-', 'BO': '-', 'True': ':'},\n",
    "    \"width\":10\n",
    "}\n",
    "rc('text', usetex=True)\n",
    "rc('text.latex', preamble=r'\\usepackage{amssymb}')\n",
    "rc('font', family='serif')\n",
    "rc('font', size=20)"
   ]
  },
  {
   "cell_type": "code",
   "execution_count": 18,
   "id": "ec21e66b-bdcf-4d08-b324-4f1e40670b8f",
   "metadata": {
    "tags": []
   },
   "outputs": [
    {
     "data": {
      "image/png": "[encoded data removed]",
      "text/plain": [
       "<Figure size 1500x200 with 3 Axes>"
      ]
     },
     "metadata": {},
     "output_type": "display_data"
    }
   ],
   "source": [
    "# Each frame corresponds to one time-slice.\n",
    "plot_expected_opt_curve_paper(T,\n",
    "    true_objective_values,\n",
    "    exp_per_trial_cost,\n",
    "    exp_optimal_outcome_values_during_trials,\n",
    "    plot_params,  \n",
    "    fig_size = (15,2))"
   ]
  }
 ],
 "metadata": {
  "kernelspec": {
   "display_name": "Python 3 (ipykernel)",
   "language": "python",
   "name": "python3"
  },
  "language_info": {
   "codemirror_mode": {
    "name": "ipython",
    "version": 3
   },
   "file_extension": ".py",
   "mimetype": "text/x-python",
   "name": "python",
   "nbconvert_exporter": "python",
   "pygments_lexer": "ipython3",
   "version": "3.10.9"
  }
 },
 "nbformat": 4,
 "nbformat_minor": 5
}
