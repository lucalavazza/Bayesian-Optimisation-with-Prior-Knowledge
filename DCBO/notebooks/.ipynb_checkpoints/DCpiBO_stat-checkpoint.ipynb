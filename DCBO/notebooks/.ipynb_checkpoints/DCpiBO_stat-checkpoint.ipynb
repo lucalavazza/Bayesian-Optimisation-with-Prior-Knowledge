{
 "cells": [
  {
   "cell_type": "markdown",
   "id": "0e1986f6-8f38-411f-bb39-bb20817ed2a1",
   "metadata": {},
   "source": [
    "# DC-$\\pi$BO - Stationary DAG and SCM"
   ]
  },
  {
   "cell_type": "markdown",
   "id": "1f285edd-c0f3-4e50-89d4-03968cc247ae",
   "metadata": {},
   "source": [
    "## Imports"
   ]
  },
  {
   "cell_type": "code",
   "execution_count": 1,
   "id": "e4a8c825-30fa-4bf4-ba3e-54e87a044740",
   "metadata": {},
   "outputs": [],
   "source": [
    "%load_ext autoreload\n",
    "%autoreload 2\n",
    "\n",
    "import sys\n",
    "sys.path.append(\"../src/\")\n",
    "sys.path.append(\"..\")\n",
    "\n",
    "from src.examples.example_setups import setup_stat_scm\n",
    "from src.utils.sequential_sampling import sequentially_sample_model\n",
    "from src.utils.sem_utils.toy_sems import StationaryDependentSEM as StatSEM\n",
    "from src.utils.plotting import plot_outcome\n",
    "from src.utils.sem_utils.sem_estimate import build_sem_hat\n",
    "from src.utils.utilities import powerset, get_monte_carlo_expectation\n",
    "from src.utils.sequential_intervention_functions import make_sequential_intervention_dict\n",
    "\n",
    "from src.experimental.experiments import run_methods_replicates\n",
    "from src.experimental.analyse_results import get_relevant_results, elaborate\n",
    "from src.utils.plotting import plot_expected_opt_curve_paper\n",
    "\n",
    "from src.methods.bo import BO\n",
    "from src.methods.dcbo import DCBO\n",
    "from src.methods.pibo import PIBO\n",
    "from src.methods.dcpibo import DCPIBO\n",
    "\n",
    "from matplotlib.pyplot import rc\n",
    "import numpy as np\n",
    "from numpy import zeros\n",
    "import matplotlib.pyplot as plt\n",
    "from scipy import stats\n",
    "import random\n",
    "\n",
    "random.seed(42)"
   ]
  },
  {
   "cell_type": "markdown",
   "id": "6ed59a92-85f1-4b0b-8860-313203553861",
   "metadata": {},
   "source": [
    "## Constants and such"
   ]
  },
  {
   "cell_type": "code",
   "execution_count": 2,
   "id": "3d91f36b-e719-46ee-a01b-db8df481053c",
   "metadata": {},
   "outputs": [],
   "source": [
    "T = 3 # number of time-steps\n",
    "t_axis = np.linspace(1,T,T,dtype=int) # the actual time-steps\n",
    "N = 13 # number of trials\n",
    "std_strong = 0.1 # standard deviation of the prior 𝜋 in the strong case\n",
    "std_weak = 0.5 # standard deviation of the prior 𝜋 in the weak case\n",
    "beta = 1 # set as N/10"
   ]
  },
  {
   "cell_type": "markdown",
   "id": "aafe6bfd-4349-480a-9f49-ca6f522cb8e2",
   "metadata": {
    "tags": []
   },
   "source": [
    "## Optima location"
   ]
  },
  {
   "cell_type": "code",
   "execution_count": 3,
   "id": "f0d5ef32-8998-4c9c-8e7d-f0b444b078dc",
   "metadata": {},
   "outputs": [],
   "source": [
    "a_param_good = -2.15\n",
    "b_param_good = 1\n",
    "y_good = a_param_good*t_axis+b_param_good # the line on which I assume the optima would be\n",
    "\n",
    "a_param_bad = 1\n",
    "b_param_bad = 1.5\n",
    "y_bad = a_param_bad*t_axis+b_param_bad"
   ]
  },
  {
   "cell_type": "markdown",
   "id": "2465b79c-f7bf-46fd-87e4-4aa2bf659a4f",
   "metadata": {},
   "source": [
    "## Utility Functions"
   ]
  },
  {
   "cell_type": "code",
   "execution_count": 4,
   "id": "29fce447-d245-4c29-bfed-6df391833d6f",
   "metadata": {},
   "outputs": [],
   "source": [
    "def power_list(input_list, exponent):\n",
    "    '''Raises each element of the given input_list to the desired exponent'''\n",
    "    \n",
    "    return_list = []\n",
    "    \n",
    "    for element in input_list:\n",
    "        if element >= 0:\n",
    "            raised_element = element**exponent\n",
    "        else:\n",
    "            raised_element = -(abs(element)**exponent)\n",
    "        return_list.append(raised_element)\n",
    "        \n",
    "    return return_list"
   ]
  },
  {
   "cell_type": "code",
   "execution_count": 5,
   "id": "8c6ce5da-c7df-4dec-b8df-4c99866ac6dd",
   "metadata": {},
   "outputs": [],
   "source": [
    "def compute_statistics(y_function, standard_deviation):\n",
    "    '''Computes all the necessary lists associated to the Normal Distribution'''\n",
    "    \n",
    "    return_variates = []\n",
    "    return_amps = []\n",
    "    return_pdfs = []\n",
    "    \n",
    "    for mean in y_function:\n",
    "        return_variates.append(stats.norm.rvs(mean, standard_deviation, 10))\n",
    "        \n",
    "        amp = np.linspace(mean-5*standard_deviation, mean+5*standard_deviation, 10)\n",
    "        return_amps.append(amp)\n",
    "        \n",
    "        return_pdfs.append(stats.norm.pdf(amp, mean, standard_deviation))\n",
    "    \n",
    "    return return_variates, return_amps, return_pdfs"
   ]
  },
  {
   "cell_type": "code",
   "execution_count": 6,
   "id": "d52c7dc2-0e39-41eb-b2f1-9b7d671e27e5",
   "metadata": {},
   "outputs": [],
   "source": [
    "def normalise_pdfs(pdfs_list):\n",
    "    '''Normalises the PDFs between 0 and 1'''\n",
    "    \n",
    "    return_normalised_pdfs_list = []\n",
    "    \n",
    "    for pdf_list in pdfs_list:\n",
    "        temp_list = []\n",
    "        \n",
    "        pdf_min = min(pdf_list)\n",
    "        pdf_max = max(pdf_list)\n",
    "        \n",
    "        for pdf_value in pdf_list:\n",
    "            temp_list.append(round((pdf_value-pdf_min)/(pdf_max-pdf_min),2))\n",
    "        \n",
    "        return_normalised_pdfs_list.append(temp_list)\n",
    "        \n",
    "    return return_normalised_pdfs_list"
   ]
  },
  {
   "cell_type": "code",
   "execution_count": 7,
   "id": "9b6d381c-32f2-4c37-ae59-b15868dc7e71",
   "metadata": {},
   "outputs": [],
   "source": [
    "def regret_priors(start_prior):\n",
    "    '''Adds regret'''\n",
    "    \n",
    "    return_raised_priors = []\n",
    "    \n",
    "    for i in range(1,N+1):\n",
    "        temp = []\n",
    "        gamma = beta/i\n",
    "        \n",
    "        for p_list in start_prior:\n",
    "            temp.append(power_list(p_list, gamma))\n",
    "            \n",
    "        return_raised_priors.append(temp)\n",
    "    \n",
    "    return return_raised_priors"
   ]
  },
  {
   "cell_type": "code",
   "execution_count": 8,
   "id": "07adf6a1-7996-453b-a463-a2f978d30076",
   "metadata": {},
   "outputs": [],
   "source": [
    "def predict_optima(time_steps, variates, normalised_pdfs):\n",
    "    '''Predicts the optimum for each time-step'''\n",
    "    \n",
    "    return_prediction = []\n",
    "    \n",
    "    for time_step in range(time_steps):\n",
    "        if(min(variates[time_step])+max(variates[time_step]))<0:\n",
    "            optimum = min(variates[time_step]*normalised_pdfs[time_step])\n",
    "        else:\n",
    "            optimum = max(variates[time_step]*normalised_pdfs[time_step])\n",
    "        return_prediction.append(optimum)\n",
    "        \n",
    "    return return_prediction"
   ]
  },
  {
   "cell_type": "code",
   "execution_count": 9,
   "id": "041663b3-352d-4211-b111-70045b2b83ee",
   "metadata": {},
   "outputs": [],
   "source": [
    "def predict_optima_regret(iterations, time_steps, regret_priors, normalised_pdfs):\n",
    "    '''Computes the prediction for each time-step and each iteration, according to the effect of gamma (regret)'''\n",
    "    \n",
    "    return_predictions = []\n",
    "    \n",
    "    for iteration in range(iterations):\n",
    "        temp = []\n",
    "        \n",
    "        for time_step in range(time_steps):\n",
    "            if(min(regret_priors[iteration][time_step])+max(regret_priors[iteration][time_step]))<0:\n",
    "                optimum = min(np.multiply(regret_priors[iteration][time_step], normalised_pdfs[time_step]))\n",
    "            else:\n",
    "                optimum = max(np.multiply(regret_priors[iteration][time_step], normalised_pdfs[time_step]))\n",
    "                              \n",
    "            temp.append(optimum)\n",
    "                              \n",
    "        return_predictions.append(temp)\n",
    "                              \n",
    "    return return_predictions"
   ]
  },
  {
   "cell_type": "markdown",
   "id": "99fb2702-6559-48dd-8346-fe7700a147aa",
   "metadata": {},
   "source": [
    "## Setup"
   ]
  },
  {
   "cell_type": "markdown",
   "id": "d1c74a43-e78c-4451-b908-7eaf18e6923b",
   "metadata": {},
   "source": [
    "Concerning the prior:"
   ]
  },
  {
   "cell_type": "code",
   "execution_count": 10,
   "id": "7e94562c-0112-4e9e-8073-b5a1f59652af",
   "metadata": {},
   "outputs": [],
   "source": [
    "all_variates, all_amps, all_pdfs = compute_statistics(y_good, std_strong)\n",
    "all_variates_regret = regret_priors(all_variates)\n",
    "\n",
    "all_pdfs_normalised = normalise_pdfs(all_pdfs)\n",
    "\n",
    "predicted_optima = predict_optima(T, all_variates, all_pdfs_normalised)\n",
    "predicted_optima_regret = predict_optima_regret(N, T, all_variates_regret, all_pdfs_normalised) # this are all the 𝜋s"
   ]
  },
  {
   "cell_type": "code",
   "execution_count": 11,
   "id": "fa7a1060-3a6d-4337-b9f3-273da801f834",
   "metadata": {},
   "outputs": [],
   "source": [
    "all_bad_variates, all_bad_amps, all_bad_pdfs = compute_statistics(y_bad, std_strong)\n",
    "all_bad_variates_regret = regret_priors(all_bad_variates)\n",
    "\n",
    "all_bad_pdfs_normalised = normalise_pdfs(all_bad_pdfs)\n",
    "\n",
    "predicted_bad_optima = predict_optima(T, all_bad_variates, all_bad_pdfs_normalised)\n",
    "predicted_bad_optima_regret = predict_optima_regret(N, T, all_bad_variates_regret, all_bad_pdfs_normalised)"
   ]
  },
  {
   "cell_type": "markdown",
   "id": "83091d3b-4010-4342-a021-7dfb294832fe",
   "metadata": {},
   "source": [
    "Concerning the models:"
   ]
  },
  {
   "cell_type": "code",
   "execution_count": 12,
   "id": "56ce96d7-72ac-4fc7-9bd2-dd73b374ba27",
   "metadata": {},
   "outputs": [],
   "source": [
    "init_sem, sem, dag_view, G, exploration_sets, intervention_domain, true_objective_values, optimal_interventions, all_causal_effects  = setup_stat_scm(T=T)"
   ]
  },
  {
   "cell_type": "code",
   "execution_count": 13,
   "id": "7f29a460-508e-4fff-87f9-fb8af3a3aef0",
   "metadata": {},
   "outputs": [],
   "source": [
    "# Number of independent samples per time-index\n",
    "D_O = sequentially_sample_model(init_sem,\n",
    "                                sem,\n",
    "                                total_timesteps=T,\n",
    "                                sample_count=20, # How many samples we take per node in each time-slice\n",
    "                                epsilon=None) # If we employ a noise model or not"
   ]
  },
  {
   "cell_type": "code",
   "execution_count": 14,
   "id": "f35935f5-b4d4-4dbf-a336-ed7c2a077606",
   "metadata": {},
   "outputs": [],
   "source": [
    "# Simulate some interventional data\n",
    "D_I = {k: None for k in powerset([\"X\", \"Z\"])}\n",
    "'''do(Z_0)'''\n",
    "interv = make_sequential_intervention_dict(G,T)\n",
    "# Univariate intervention at time 0\n",
    "interv[\"Z\"][0] = 1.0\n",
    "static_noise_model = {k: zeros(T) for k in [\"X\", \"Z\", \"Y\"]}\n",
    "# Sample this model with one intervention, and no noise\n",
    "intervention_samples = sequentially_sample_model(\n",
    "    init_sem,\n",
    "    sem,\n",
    "    total_timesteps=T,\n",
    "    interventions=interv,\n",
    "    sample_count=1,\n",
    "    epsilon=static_noise_model\n",
    ")\n",
    "\n",
    "# Note: we obvs don't need to take MC samples if noise-model is zero\n",
    "D_I[(\"Z\",)] = get_monte_carlo_expectation(intervention_samples)"
   ]
  },
  {
   "cell_type": "markdown",
   "id": "f2a4d6dc-ef79-4e15-9555-bf7895de11bd",
   "metadata": {
    "tags": []
   },
   "source": [
    "## Models' executions"
   ]
  },
  {
   "cell_type": "markdown",
   "id": "25412293-9a24-47ce-aad9-30b1f64d2e6b",
   "metadata": {},
   "source": [
    "### BO"
   ]
  },
  {
   "cell_type": "code",
   "execution_count": 19,
   "id": "3c24d3d5-9f1c-4836-919b-33375131ff82",
   "metadata": {},
   "outputs": [],
   "source": [
    "# Setup the input parameters to be used with BO\n",
    "BO_input_params = {\n",
    "    \"G\":G,\n",
    "    \"sem\": StatSEM,\n",
    "    \"base_target_variable\": \"Y\",\n",
    "    \"observation_samples\": D_O, # Observational samples\n",
    "    \"intervention_domain\": intervention_domain,\n",
    "    \"intervention_samples\":None,   \n",
    "    \"number_of_trials\": N,\n",
    "    \"optimal_assigned_blankets\": None,\n",
    "    \"sample_anchor_points\": True,\n",
    "    \"seed_anchor_points\": 1,\n",
    "    \"change_points\": None\n",
    "}"
   ]
  },
  {
   "cell_type": "code",
   "execution_count": 20,
   "id": "21e077c9-f34b-4dc5-9185-a87b6ff35735",
   "metadata": {},
   "outputs": [
    {
     "name": "stderr",
     "output_type": "stream",
     "text": [
      "Time index:   0%|                                                          | 0/3 [00:00<?, ?it/s]reconstraining parameters GP_regression.rbf.variance\n",
      "Time index:  33%|████████████████▋                                 | 1/3 [00:00<00:00,  5.16it/s]reconstraining parameters GP_regression.rbf.variance\n",
      "Time index:  67%|█████████████████████████████████▎                | 2/3 [00:00<00:00,  4.66it/s]reconstraining parameters GP_regression.rbf.variance\n",
      "Time index: 100%|██████████████████████████████████████████████████| 3/3 [00:00<00:00,  4.65it/s]\n"
     ]
    }
   ],
   "source": [
    "# Run BO\n",
    "bo = BO(**BO_input_params)\n",
    "bo.run()"
   ]
  },
  {
   "cell_type": "code",
   "execution_count": 21,
   "id": "a1485127-aa5d-459b-8c65-d44274632441",
   "metadata": {},
   "outputs": [
    {
     "data": {
      "image/png": "[encoded data removed]",
      "text/plain": [
       "<Figure size 600x600 with 3 Axes>"
      ]
     },
     "metadata": {},
     "output_type": "display_data"
    }
   ],
   "source": [
    "plot_outcome(T,N,outcomes=[bo.optimal_outcome_values_during_trials],labels=['BO'],true_objective_values=true_objective_values)"
   ]
  },
  {
   "cell_type": "markdown",
   "id": "8cf972e9-4e99-4245-8c7a-518f900c7afd",
   "metadata": {},
   "source": [
    "### DCBO"
   ]
  },
  {
   "cell_type": "code",
   "execution_count": 22,
   "id": "206cadfa-43c0-42e8-832b-f2a6f0a88fb0",
   "metadata": {},
   "outputs": [],
   "source": [
    "# Setup the input parameters to be used with DCBO\n",
    "DCBO_input_params = {\n",
    "    \"G\": G,\n",
    "    \"sem\": StatSEM,\n",
    "    \"base_target_variable\": \"Y\",\n",
    "    \"make_sem_estimator\": build_sem_hat,\n",
    "    \"exploration_sets\":exploration_sets,\n",
    "    \"observation_samples\": D_O,\n",
    "    \"intervention_samples\":D_I, # Interventional data as well\n",
    "    \"intervention_domain\": intervention_domain,\n",
    "    \"intervention_samples\":None,\n",
    "    \"number_of_trials\": N,\n",
    "    \"sample_anchor_points\": True,\n",
    "    \"seed_anchor_points\": 1,\n",
    "    \"debug_mode\":False,\n",
    "    \"ground_truth\":all_causal_effects\n",
    "}"
   ]
  },
  {
   "cell_type": "code",
   "execution_count": 23,
   "id": "cd42f966-5cf8-422a-b282-1ea18370b1fd",
   "metadata": {},
   "outputs": [
    {
     "name": "stderr",
     "output_type": "stream",
     "text": [
      " /mnt/c/Users/lucal/Desktop/Thesis/DCBO/DCBO/notebooks/../src/utils/dag_utils/adjacency_matrix_utils.py:26: FutureWarning:adjacency_matrix will return a scipy.sparse array instead of a matrix in Networkx 3.0.\n",
      " /mnt/c/Users/lucal/Desktop/Thesis/DCBO/DCBO/notebooks/../src/utils/dag_utils/adjacency_matrix_utils.py:26: FutureWarning:adjacency_matrix will return a scipy.sparse array instead of a matrix in Networkx 3.0.\n",
      " /home/luca/miniconda3/envs/MTL_DCBO_testing/lib/python3.10/site-packages/GPy/kern/src/rbf.py:52: RuntimeWarning:overflow encountered in square\n",
      " /home/luca/miniconda3/envs/MTL_DCBO_testing/lib/python3.10/site-packages/GPy/kern/src/stationary.py:168: RuntimeWarning:overflow encountered in divide\n",
      " /home/luca/miniconda3/envs/MTL_DCBO_testing/lib/python3.10/site-packages/GPy/kern/src/rbf.py:76: RuntimeWarning:invalid value encountered in multiply\n",
      "Time index:   0%|                                                          | 0/3 [00:00<?, ?it/s]reconstraining parameters GP_regression.rbf.variance\n",
      "reconstraining parameters GP_regression.rbf.variance\n",
      "reconstraining parameters GP_regression.rbf.variance\n",
      "Time index:  33%|████████████████▋                                 | 1/3 [00:05<00:10,  5.03s/it]reconstraining parameters GP_regression.rbf.variance\n",
      "reconstraining parameters GP_regression.rbf.variance\n",
      "reconstraining parameters GP_regression.rbf.variance\n",
      "Time index:  67%|█████████████████████████████████▎                | 2/3 [00:13<00:06,  6.97s/it]reconstraining parameters GP_regression.rbf.variance\n",
      "reconstraining parameters GP_regression.rbf.variance\n",
      "reconstraining parameters GP_regression.rbf.variance\n",
      "Time index: 100%|██████████████████████████████████████████████████| 3/3 [00:20<00:00,  6.91s/it]\n"
     ]
    }
   ],
   "source": [
    "# Run DCBO\n",
    "dcbo = DCBO(**DCBO_input_params)\n",
    "dcbo.run()"
   ]
  },
  {
   "cell_type": "code",
   "execution_count": 24,
   "id": "57541ba8-5c2f-46e0-b077-928f22e772a1",
   "metadata": {},
   "outputs": [
    {
     "data": {
      "image/png": "[encoded data removed]",
      "text/plain": [
       "<Figure size 600x600 with 3 Axes>"
      ]
     },
     "metadata": {},
     "output_type": "display_data"
    }
   ],
   "source": [
    "plot_outcome(T,N,outcomes=[dcbo.optimal_outcome_values_during_trials],labels=['DCBO'],true_objective_values=true_objective_values)"
   ]
  },
  {
   "cell_type": "markdown",
   "id": "096532a0-3b5e-4449-92d0-77ab11990672",
   "metadata": {},
   "source": [
    "### $\\pi$BO"
   ]
  },
  {
   "cell_type": "code",
   "execution_count": 25,
   "id": "eb40d325-5e74-4a9d-b2bd-d61fa11f7e7e",
   "metadata": {},
   "outputs": [
    {
     "name": "stderr",
     "output_type": "stream",
     "text": [
      "Time index:   0%|                                                          | 0/3 [00:00<?, ?it/s]reconstraining parameters GP_regression.rbf.variance\n",
      "Time index:  33%|████████████████▋                                 | 1/3 [00:00<00:00,  5.26it/s]reconstraining parameters GP_regression.rbf.variance\n",
      "Time index:  67%|█████████████████████████████████▎                | 2/3 [00:00<00:00,  4.81it/s]reconstraining parameters GP_regression.rbf.variance\n",
      "Time index: 100%|██████████████████████████████████████████████████| 3/3 [00:00<00:00,  4.83it/s]\n"
     ]
    }
   ],
   "source": [
    "# Run PIBO\n",
    "pibo = PIBO(**BO_input_params)\n",
    "pibo.run(predicted_optima_regret)"
   ]
  },
  {
   "cell_type": "code",
   "execution_count": 26,
   "id": "ef968018-3c09-4d6a-a608-023463fa0e93",
   "metadata": {
    "tags": []
   },
   "outputs": [],
   "source": [
    "# print(pibo.optimal_outcome_values_during_trials)\n",
    "# print(np.shape(pibo.optimal_outcome_values_during_trials))\n",
    "# print('--------------------------------')\n",
    "# print(np.shape(pibo.optimal_outcome_values_during_trials))\n",
    "# print('--------------------------------')\n",
    "# print(pibo.optimal_outcome_values_during_trials[0][9])\n",
    "\n",
    "# print('--------------------------------')\n",
    "# print('--------------------------------')\n",
    "\n",
    "# pibo_count=np.linspace(0,19,20,dtype=int)\n",
    "# pibo_opts_def=[]\n",
    "\n",
    "# for i in pibo_count:\n",
    "#     pibo_opts_def.append(pibo.optimal_outcome_values_during_trials[i][9])\n",
    "    \n",
    "# print(pibo_opts_def)\n",
    "# print('--------------------------------')\n",
    "# print(len(pibo_opts_def))"
   ]
  },
  {
   "cell_type": "code",
   "execution_count": 27,
   "id": "4afc8ceb-1679-441d-b316-61a2fb5dfb40",
   "metadata": {
    "tags": []
   },
   "outputs": [
    {
     "data": {
      "text/plain": [
       "<Figure size 1500x1500 with 0 Axes>"
      ]
     },
     "metadata": {},
     "output_type": "display_data"
    },
    {
     "data": {
      "image/png": "[encoded data removed]",
      "text/plain": [
       "<Figure size 600x600 with 3 Axes>"
      ]
     },
     "metadata": {},
     "output_type": "display_data"
    }
   ],
   "source": [
    "plt.figure(figsize=(15,15))\n",
    "plot_outcome(T,N,outcomes=[pibo.optimal_outcome_values_during_trials],labels=['PIBO'],true_objective_values=true_objective_values)"
   ]
  },
  {
   "cell_type": "code",
   "execution_count": 28,
   "id": "4212275f-c03b-4b1d-8cb7-d6e6e3f2e5e5",
   "metadata": {
    "tags": []
   },
   "outputs": [],
   "source": [
    "# print(bad_pibo.optimal_outcome_values_during_trials)\n",
    "# print(np.shape(bad_pibo.optimal_outcome_values_during_trials))\n",
    "# print('--------------------------------')\n",
    "# print(np.shape(bad_pibo.optimal_outcome_values_during_trials))\n",
    "# print('--------------------------------')\n",
    "# print(bad_pibo.optimal_outcome_values_during_trials[0][9])\n",
    "\n",
    "# print('--------------------------------')\n",
    "# print('--------------------------------')\n",
    "\n",
    "# bad_pibo_count=np.linspace(0,19,20,dtype=int)\n",
    "# bad_pibo_opts_def=[]\n",
    "\n",
    "# for i in bad_pibo_count:\n",
    "#     bad_pibo_opts_def.append(bad_pibo.optimal_outcome_values_during_trials[i][9])\n",
    "    \n",
    "# print(bad_pibo_opts_def)\n",
    "# print('--------------------------------')\n",
    "# print(len(bad_pibo_opts_def))"
   ]
  },
  {
   "cell_type": "markdown",
   "id": "1629dbe6-1ef8-41d1-b251-51f8f0334678",
   "metadata": {},
   "source": [
    "### DC-$\\pi$BO"
   ]
  },
  {
   "cell_type": "code",
   "execution_count": 29,
   "id": "03d32656-f81b-49d3-a151-6742d73aff79",
   "metadata": {},
   "outputs": [],
   "source": [
    "# Setup the input parameters to be used with DCBO\n",
    "DCPIBO_input_params = {\n",
    "    \"G\": G,\n",
    "    \"sem\": StatSEM,\n",
    "    \"base_target_variable\": \"Y\",\n",
    "    \"make_sem_estimator\": build_sem_hat,\n",
    "    \"exploration_sets\":exploration_sets,\n",
    "    \"observation_samples\": D_O,\n",
    "    \"intervention_samples\":D_I, # Interventional data as well\n",
    "    \"intervention_domain\": intervention_domain,\n",
    "    \"intervention_samples\":None,\n",
    "    \"number_of_trials\": N,\n",
    "    \"sample_anchor_points\": True,\n",
    "    \"seed_anchor_points\": 1,\n",
    "    \"debug_mode\":False,\n",
    "    \"ground_truth\":all_causal_effects\n",
    "}"
   ]
  },
  {
   "cell_type": "code",
   "execution_count": 30,
   "id": "e92aa1a9-1f65-4fe6-b306-1bd1f9204df6",
   "metadata": {},
   "outputs": [
    {
     "name": "stderr",
     "output_type": "stream",
     "text": [
      " /mnt/c/Users/lucal/Desktop/Thesis/DCBO/DCBO/notebooks/../src/utils/dag_utils/adjacency_matrix_utils.py:26: FutureWarning:adjacency_matrix will return a scipy.sparse array instead of a matrix in Networkx 3.0.\n",
      " /mnt/c/Users/lucal/Desktop/Thesis/DCBO/DCBO/notebooks/../src/utils/dag_utils/adjacency_matrix_utils.py:26: FutureWarning:adjacency_matrix will return a scipy.sparse array instead of a matrix in Networkx 3.0.\n",
      " /home/luca/miniconda3/envs/MTL_DCBO_testing/lib/python3.10/site-packages/GPy/kern/src/rbf.py:52: RuntimeWarning:overflow encountered in square\n",
      " /home/luca/miniconda3/envs/MTL_DCBO_testing/lib/python3.10/site-packages/GPy/kern/src/stationary.py:168: RuntimeWarning:overflow encountered in divide\n",
      " /home/luca/miniconda3/envs/MTL_DCBO_testing/lib/python3.10/site-packages/GPy/kern/src/rbf.py:76: RuntimeWarning:invalid value encountered in multiply\n",
      "Time index:   0%|                                                          | 0/3 [00:00<?, ?it/s]reconstraining parameters GP_regression.rbf.variance\n",
      "reconstraining parameters GP_regression.rbf.variance\n",
      "reconstraining parameters GP_regression.rbf.variance\n",
      "Time index:  33%|████████████████▋                                 | 1/3 [00:05<00:10,  5.17s/it]reconstraining parameters GP_regression.rbf.variance\n",
      "reconstraining parameters GP_regression.rbf.variance\n",
      "reconstraining parameters GP_regression.rbf.variance\n",
      "Time index:  67%|█████████████████████████████████▎                | 2/3 [00:13<00:07,  7.05s/it]reconstraining parameters GP_regression.rbf.variance\n",
      "reconstraining parameters GP_regression.rbf.variance\n",
      "reconstraining parameters GP_regression.rbf.variance\n",
      "Time index: 100%|██████████████████████████████████████████████████| 3/3 [00:21<00:00,  7.03s/it]\n"
     ]
    }
   ],
   "source": [
    "# Run DCBO\n",
    "dcpibo = DCPIBO(**DCBO_input_params)\n",
    "dcpibo.run(predicted_optima_regret)"
   ]
  },
  {
   "cell_type": "code",
   "execution_count": 31,
   "id": "88806bc6-2bd1-407f-b626-8e73b0892d15",
   "metadata": {},
   "outputs": [
    {
     "data": {
      "image/png": "[encoded data removed]",
      "text/plain": [
       "<Figure size 600x600 with 3 Axes>"
      ]
     },
     "metadata": {},
     "output_type": "display_data"
    }
   ],
   "source": [
    "plot_outcome(T,N,outcomes=[dcpibo.optimal_outcome_values_during_trials],labels=['DCPIBO'],true_objective_values=true_objective_values)"
   ]
  }
 ],
 "metadata": {
  "kernelspec": {
   "display_name": "Python 3 (ipykernel)",
   "language": "python",
   "name": "python3"
  },
  "language_info": {
   "codemirror_mode": {
    "name": "ipython",
    "version": 3
   },
   "file_extension": ".py",
   "mimetype": "text/x-python",
   "name": "python",
   "nbconvert_exporter": "python",
   "pygments_lexer": "ipython3",
   "version": "3.10.9"
  }
 },
 "nbformat": 4,
 "nbformat_minor": 5
}
