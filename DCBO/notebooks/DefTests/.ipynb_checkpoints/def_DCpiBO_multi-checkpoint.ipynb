{
 "cells": [
  {
   "cell_type": "markdown",
   "id": "076dd81f-a9f2-43f2-8f1d-c0874756f337",
   "metadata": {},
   "source": [
    "# DC-$\\pi$BO - Stationary DAG and SCM but with node out-degree $\\geq 1$"
   ]
  },
  {
   "cell_type": "markdown",
   "id": "94e1774d-04c8-4563-8ca4-ece0fcf2a533",
   "metadata": {},
   "source": [
    "## Imports"
   ]
  },
  {
   "cell_type": "code",
   "execution_count": 1,
   "id": "390bda85-7b17-4136-8d41-85c402bf095d",
   "metadata": {},
   "outputs": [],
   "source": [
    "%load_ext autoreload\n",
    "%autoreload 2\n",
    "\n",
    "import sys\n",
    "sys.path.append(\"../../src/\")\n",
    "sys.path.append(\"../..\")\n",
    "\n",
    "from src.examples.example_setups import setup_stat_multiple_children_scm\n",
    "from src.utils.sem_utils.toy_sems import StationaryDependentMultipleChildrenSEM as TestSEM\n",
    "from src.utils.sem_utils.sem_estimate import build_sem_hat\n",
    "\n",
    "from src.experimental.experiments import run_methods_replicates\n",
    "from src.experimental.analyse_results import get_relevant_results, elaborate\n",
    "from src.utils.plotting import plot_expected_opt_curve_paper\n",
    "\n",
    "from src.methods.bo import BO\n",
    "from src.methods.dcbo import DCBO\n",
    "from src.methods.pibo import PIBO\n",
    "from src.methods.dcpibo import DCPIBO\n",
    "\n",
    "from matplotlib.pyplot import rc\n",
    "import numpy as np\n",
    "from scipy import stats\n",
    "import random\n",
    "\n",
    "random.seed(42)"
   ]
  },
  {
   "cell_type": "markdown",
   "id": "c9f9e942-7c0a-429b-b53f-3c7f1cbd6f69",
   "metadata": {},
   "source": [
    "## Constants and such"
   ]
  },
  {
   "cell_type": "code",
   "execution_count": 2,
   "id": "03a16d01-3040-4280-a5ca-5f3bf8e03d19",
   "metadata": {},
   "outputs": [],
   "source": [
    "T = 10 # number of time-steps\n",
    "t_axis = np.linspace(1,T,T,dtype=int) # the actual time-steps\n",
    "N = 10 # number of trials\n",
    "std_strong = 0.1 # standard deviation of the prior 𝜋 in the strong case\n",
    "std_weak = 0.5 # standard deviation of the prior 𝜋 in the weak case\n",
    "beta = 1 # set as N/10"
   ]
  },
  {
   "cell_type": "markdown",
   "id": "42851037-8a07-4e0e-8fb7-df6ff35442f1",
   "metadata": {},
   "source": [
    "## Optima location"
   ]
  },
  {
   "cell_type": "code",
   "execution_count": 3,
   "id": "581802f1-f000-4271-ac63-b3da118d2d5d",
   "metadata": {},
   "outputs": [],
   "source": [
    "a_param_good = -2\n",
    "b_param_good = 0\n",
    "y_good = a_param_good*t_axis+b_param_good # the line on which I assume the optima would be\n",
    "\n",
    "a_param_bad = 1\n",
    "b_param_bad = 1.5\n",
    "y_bad = a_param_bad*t_axis+b_param_bad"
   ]
  },
  {
   "cell_type": "markdown",
   "id": "6e543344-175d-4c85-9822-31c135fe6763",
   "metadata": {},
   "source": [
    "## Utility Functions"
   ]
  },
  {
   "cell_type": "code",
   "execution_count": 4,
   "id": "e110475e-465b-4db9-afb7-4bb1248dc35d",
   "metadata": {},
   "outputs": [],
   "source": [
    "def power_list(input_list, exponent):\n",
    "    '''Raises each element of the given input_list to the desired exponent'''\n",
    "    \n",
    "    return_list = []\n",
    "    \n",
    "    for element in input_list:\n",
    "        if element >= 0:\n",
    "            raised_element = element**exponent\n",
    "        else:\n",
    "            raised_element = -(abs(element)**exponent)\n",
    "        return_list.append(raised_element)\n",
    "        \n",
    "    return return_list"
   ]
  },
  {
   "cell_type": "code",
   "execution_count": 5,
   "id": "673c00a0-8401-43cb-ba38-4c8fbdb36a2c",
   "metadata": {},
   "outputs": [],
   "source": [
    "def compute_statistics(y_function, standard_deviation):\n",
    "    '''Computes all the necessary lists associated to the Normal Distribution'''\n",
    "    \n",
    "    return_variates = []\n",
    "    return_amps = []\n",
    "    return_pdfs = []\n",
    "    \n",
    "    for mean in y_function:\n",
    "        return_variates.append(stats.norm.rvs(mean, standard_deviation, 10))\n",
    "        \n",
    "        amp = np.linspace(mean-5*standard_deviation, mean+5*standard_deviation, 10)\n",
    "        return_amps.append(amp)\n",
    "        \n",
    "        return_pdfs.append(stats.norm.pdf(amp, mean, standard_deviation))\n",
    "    \n",
    "    return return_variates, return_amps, return_pdfs"
   ]
  },
  {
   "cell_type": "code",
   "execution_count": 6,
   "id": "986eb9b1-e662-4a4b-8d0e-77c32df3e8c1",
   "metadata": {},
   "outputs": [],
   "source": [
    "def normalise_pdfs(pdfs_list):\n",
    "    '''Normalises the PDFs between 0 and 1'''\n",
    "    \n",
    "    return_normalised_pdfs_list = []\n",
    "    \n",
    "    for pdf_list in pdfs_list:\n",
    "        temp_list = []\n",
    "        \n",
    "        pdf_min = min(pdf_list)\n",
    "        pdf_max = max(pdf_list)\n",
    "        \n",
    "        for pdf_value in pdf_list:\n",
    "            temp_list.append(round((pdf_value-pdf_min)/(pdf_max-pdf_min),2))\n",
    "        \n",
    "        return_normalised_pdfs_list.append(temp_list)\n",
    "        \n",
    "    return return_normalised_pdfs_list"
   ]
  },
  {
   "cell_type": "code",
   "execution_count": 7,
   "id": "ceadfad3-b727-47b6-a4c5-993989df4229",
   "metadata": {},
   "outputs": [],
   "source": [
    "def regret_priors(start_prior):\n",
    "    '''Adds regret'''\n",
    "    \n",
    "    return_raised_priors = []\n",
    "    \n",
    "    for i in range(1,N+1):\n",
    "        temp = []\n",
    "        gamma = beta/i\n",
    "        \n",
    "        for p_list in start_prior:\n",
    "            temp.append(power_list(p_list, gamma))\n",
    "            \n",
    "        return_raised_priors.append(temp)\n",
    "    \n",
    "    return return_raised_priors"
   ]
  },
  {
   "cell_type": "code",
   "execution_count": 8,
   "id": "328c5c51-31a4-4be8-b660-3dd58aa946de",
   "metadata": {},
   "outputs": [],
   "source": [
    "def predict_optima(time_steps, variates, normalised_pdfs):\n",
    "    '''Predicts the optimum for each time-step'''\n",
    "    \n",
    "    return_prediction = []\n",
    "    \n",
    "    for time_step in range(time_steps):\n",
    "        if(min(variates[time_step])+max(variates[time_step]))<0:\n",
    "            optimum = min(variates[time_step]*normalised_pdfs[time_step])\n",
    "        else:\n",
    "            optimum = max(variates[time_step]*normalised_pdfs[time_step])\n",
    "        return_prediction.append(optimum)\n",
    "        \n",
    "    return return_prediction"
   ]
  },
  {
   "cell_type": "code",
   "execution_count": 9,
   "id": "aa8d6233-cf6d-48d4-8eb5-ae38aa002694",
   "metadata": {},
   "outputs": [],
   "source": [
    "def predict_optima_regret(iterations, time_steps, regret_priors, normalised_pdfs):\n",
    "    '''Computes the prediction for each time-step and each iteration, according to the effect of gamma (regret)'''\n",
    "    \n",
    "    return_predictions = []\n",
    "    \n",
    "    for iteration in range(iterations):\n",
    "        temp = []\n",
    "        \n",
    "        for time_step in range(time_steps):\n",
    "            if(min(regret_priors[iteration][time_step])+max(regret_priors[iteration][time_step]))<0:\n",
    "                optimum = min(np.multiply(regret_priors[iteration][time_step], normalised_pdfs[time_step]))\n",
    "            else:\n",
    "                optimum = max(np.multiply(regret_priors[iteration][time_step], normalised_pdfs[time_step]))\n",
    "                              \n",
    "            temp.append(optimum)\n",
    "                              \n",
    "        return_predictions.append(temp)\n",
    "                              \n",
    "    return return_predictions"
   ]
  },
  {
   "cell_type": "markdown",
   "id": "7cd0a63b-29de-47cf-86d8-edf25c610ea2",
   "metadata": {},
   "source": [
    "## Setup"
   ]
  },
  {
   "cell_type": "markdown",
   "id": "46dce425-a394-42a0-af72-d37b61ad1152",
   "metadata": {},
   "source": [
    "Concerning the prior:"
   ]
  },
  {
   "cell_type": "code",
   "execution_count": 10,
   "id": "a6e7a1a6-1589-441d-b194-e89a9f12ce7d",
   "metadata": {},
   "outputs": [],
   "source": [
    "all_variates, all_amps, all_pdfs = compute_statistics(y_good, std_strong)\n",
    "all_variates_regret = regret_priors(all_variates)\n",
    "\n",
    "all_pdfs_normalised = normalise_pdfs(all_pdfs)\n",
    "\n",
    "predicted_optima = predict_optima(T, all_variates, all_pdfs_normalised)\n",
    "predicted_optima_regret = predict_optima_regret(N, T, all_variates_regret, all_pdfs_normalised) # this are all the 𝜋s"
   ]
  },
  {
   "cell_type": "code",
   "execution_count": 11,
   "id": "f937f00e-58c5-4536-9f8a-7e2ae268751e",
   "metadata": {},
   "outputs": [],
   "source": [
    "all_bad_variates, all_bad_amps, all_bad_pdfs = compute_statistics(y_bad, std_strong)\n",
    "all_bad_variates_regret = regret_priors(all_bad_variates)\n",
    "\n",
    "all_bad_pdfs_normalised = normalise_pdfs(all_bad_pdfs)\n",
    "\n",
    "predicted_bad_optima = predict_optima(T, all_bad_variates, all_bad_pdfs_normalised)\n",
    "predicted_bad_optima_regret = predict_optima_regret(N, T, all_bad_variates_regret, all_bad_pdfs_normalised)"
   ]
  },
  {
   "cell_type": "markdown",
   "id": "e8def4f2-24e4-44b0-9f95-17c49fa7ccfc",
   "metadata": {},
   "source": [
    "Concerning the models:"
   ]
  },
  {
   "cell_type": "code",
   "execution_count": 12,
   "id": "5c22a9e2-1e16-454d-8807-06f50c11c492",
   "metadata": {},
   "outputs": [],
   "source": [
    "init_sem, sem, dag_view, G, exploration_sets, intervention_domain, true_objective_values, optimal_interventions, all_causal_effects  = setup_stat_multiple_children_scm(T=T)"
   ]
  },
  {
   "cell_type": "markdown",
   "id": "e2579436-dfa4-46f6-97de-cffc4acefb0a",
   "metadata": {
    "tags": []
   },
   "source": [
    "## Models' executions"
   ]
  },
  {
   "cell_type": "code",
   "execution_count": 13,
   "id": "f60dd1f3-798f-4fad-a1bb-b5393a429cfe",
   "metadata": {},
   "outputs": [
    {
     "name": "stderr",
     "output_type": "stream",
     "text": [
      "Experiment count:   0%|                                                                                                                                                      | 0/3 [00:00<?, ?it/s]"
     ]
    },
    {
     "name": "stdout",
     "output_type": "stream",
     "text": [
      "10\n",
      "\n",
      "\t>>>BO\n",
      "\n"
     ]
    },
    {
     "name": "stderr",
     "output_type": "stream",
     "text": [
      "\n",
      "Time index:   0%|                                                                                                                                                           | 0/10 [00:00<?, ?it/s]\u001b[Areconstraining parameters GP_regression.rbf.variance\n",
      "\n",
      "Time index:  10%|██████████████▋                                                                                                                                    | 1/10 [00:00<00:01,  4.99it/s]\u001b[Areconstraining parameters GP_regression.rbf.variance\n",
      "\n",
      "Time index:  20%|█████████████████████████████▍                                                                                                                     | 2/10 [00:00<00:01,  5.34it/s]\u001b[Areconstraining parameters GP_regression.rbf.variance\n",
      "\n",
      "Time index:  30%|████████████████████████████████████████████                                                                                                       | 3/10 [00:00<00:01,  5.10it/s]\u001b[Areconstraining parameters GP_regression.rbf.variance\n",
      "\n",
      "Time index:  40%|██████████████████████████████████████████████████████████▊                                                                                        | 4/10 [00:00<00:01,  5.20it/s]\u001b[Areconstraining parameters GP_regression.rbf.variance\n",
      "\n",
      "Time index:  50%|█████████████████████████████████████████████████████████████████████████▌                                                                         | 5/10 [00:00<00:00,  5.07it/s]\u001b[Areconstraining parameters GP_regression.rbf.variance\n",
      "\n",
      "Time index:  60%|████████████████████████████████████████████████████████████████████████████████████████▏                                                          | 6/10 [00:01<00:00,  5.32it/s]\u001b[Areconstraining parameters GP_regression.rbf.variance\n",
      "\n",
      "Time index:  70%|██████████████████████████████████████████████████████████████████████████████████████████████████████▉                                            | 7/10 [00:01<00:00,  5.24it/s]\u001b[Areconstraining parameters GP_regression.rbf.variance\n",
      "\n",
      "Time index:  80%|█████████████████████████████████████████████████████████████████████████████████████████████████████████████████████▌                             | 8/10 [00:01<00:00,  5.41it/s]\u001b[Areconstraining parameters GP_regression.rbf.variance\n",
      "\n",
      "Time index:  90%|████████████████████████████████████████████████████████████████████████████████████████████████████████████████████████████████████▎              | 9/10 [00:01<00:00,  5.28it/s]\u001b[Areconstraining parameters GP_regression.rbf.variance\n",
      "\n",
      "Time index: 100%|██████████████████████████████████████████████████████████████████████████████████████████████████████████████████████████████████████████████████| 10/10 [00:01<00:00,  5.17it/s]\u001b[A\n",
      " /mnt/c/Users/lucal/Desktop/Thesis/DCBO/DCBO/notebooks/DefTests/../../src/utils/dag_utils/adjacency_matrix_utils.py:26: FutureWarning:adjacency_matrix will return a scipy.sparse array instead of a matrix in Networkx 3.0.\n"
     ]
    },
    {
     "name": "stdout",
     "output_type": "stream",
     "text": [
      "\n",
      "\t>>>DCBO\n",
      "\n"
     ]
    },
    {
     "name": "stderr",
     "output_type": "stream",
     "text": [
      " /home/luca/miniconda3/envs/MTL_DCBO_testing/lib/python3.10/site-packages/GPy/kern/src/stationary.py:168: RuntimeWarning:overflow encountered in divide\n",
      " /home/luca/miniconda3/envs/MTL_DCBO_testing/lib/python3.10/site-packages/GPy/kern/src/rbf.py:52: RuntimeWarning:overflow encountered in square\n",
      " /home/luca/miniconda3/envs/MTL_DCBO_testing/lib/python3.10/site-packages/GPy/kern/src/rbf.py:76: RuntimeWarning:invalid value encountered in multiply\n"
     ]
    },
    {
     "name": "stdout",
     "output_type": "stream",
     "text": [
      "Warning - optimization restart 2/10 failed\n",
      "Warning - optimization restart 3/10 failed\n",
      "Warning - optimization restart 4/10 failed\n",
      "Warning - optimization restart 6/10 failed\n",
      "Warning - optimization restart 9/10 failed\n",
      "Warning - optimization restart 3/10 failed\n",
      "Warning - optimization restart 4/10 failed\n",
      "Warning - optimization restart 6/10 failed\n",
      "Warning - optimization restart 7/10 failed\n",
      "Warning - optimization restart 9/10 failed\n",
      "Warning - optimization restart 1/10 failed\n",
      "Warning - optimization restart 2/10 failed\n",
      "Warning - optimization restart 5/10 failed\n",
      "Warning - optimization restart 7/10 failed\n",
      "Warning - optimization restart 1/10 failed\n",
      "Warning - optimization restart 2/10 failed\n",
      "Warning - optimization restart 3/10 failed\n",
      "Warning - optimization restart 5/10 failed\n",
      "Warning - optimization restart 7/10 failed\n"
     ]
    },
    {
     "name": "stderr",
     "output_type": "stream",
     "text": [
      " /mnt/c/Users/lucal/Desktop/Thesis/DCBO/DCBO/notebooks/DefTests/../../src/utils/dag_utils/adjacency_matrix_utils.py:26: FutureWarning:adjacency_matrix will return a scipy.sparse array instead of a matrix in Networkx 3.0.\n",
      " /home/luca/miniconda3/envs/MTL_DCBO_testing/lib/python3.10/site-packages/GPy/kern/src/stationary.py:168: RuntimeWarning:overflow encountered in divide\n",
      " /home/luca/miniconda3/envs/MTL_DCBO_testing/lib/python3.10/site-packages/GPy/kern/src/rbf.py:52: RuntimeWarning:overflow encountered in square\n",
      " /home/luca/miniconda3/envs/MTL_DCBO_testing/lib/python3.10/site-packages/GPy/kern/src/rbf.py:76: RuntimeWarning:invalid value encountered in multiply\n"
     ]
    },
    {
     "name": "stdout",
     "output_type": "stream",
     "text": [
      "Warning - optimization restart 3/10 failed\n",
      "Warning - optimization restart 4/10 failed\n",
      "Warning - optimization restart 7/10 failed\n",
      "Warning - optimization restart 9/10 failed\n",
      "Warning - optimization restart 1/10 failed\n",
      "Warning - optimization restart 2/10 failed\n",
      "Warning - optimization restart 3/10 failed\n",
      "Warning - optimization restart 5/10 failed\n",
      "Warning - optimization restart 6/10 failed\n",
      "Warning - optimization restart 9/10 failed\n",
      "Warning - optimization restart 1/10 failed\n",
      "Warning - optimization restart 3/10 failed\n",
      "Warning - optimization restart 5/10 failed\n",
      "Warning - optimization restart 6/10 failed\n",
      "Warning - optimization restart 7/10 failed\n",
      "Warning - optimization restart 8/10 failed\n",
      "Warning - optimization restart 9/10 failed\n",
      "Warning - optimization restart 10/10 failed\n",
      "Warning - optimization restart 1/10 failed\n",
      "Warning - optimization restart 2/10 failed\n",
      "Warning - optimization restart 3/10 failed\n",
      "Warning - optimization restart 5/10 failed\n",
      "Warning - optimization restart 7/10 failed\n",
      "Warning - optimization restart 8/10 failed\n",
      "Warning - optimization restart 9/10 failed\n"
     ]
    },
    {
     "name": "stderr",
     "output_type": "stream",
     "text": [
      "\n",
      "Time index:   0%|                                                                                                                                                           | 0/10 [00:00<?, ?it/s]\u001b[Areconstraining parameters GP_regression.rbf.variance\n",
      "reconstraining parameters GP_regression.rbf.variance\n",
      "reconstraining parameters GP_regression.rbf.variance\n",
      "\n",
      "Time index:  10%|██████████████▋                                                                                                                                    | 1/10 [00:05<00:46,  5.15s/it]\u001b[Areconstraining parameters GP_regression.rbf.variance\n",
      "reconstraining parameters GP_regression.rbf.variance\n",
      "reconstraining parameters GP_regression.rbf.variance\n",
      "\n",
      "Time index:  20%|█████████████████████████████▍                                                                                                                     | 2/10 [00:11<00:49,  6.15s/it]\u001b[Areconstraining parameters GP_regression.rbf.variance\n",
      "reconstraining parameters GP_regression.rbf.variance\n",
      "reconstraining parameters GP_regression.rbf.variance\n",
      "\n",
      "Time index:  30%|████████████████████████████████████████████                                                                                                       | 3/10 [00:21<00:54,  7.74s/it]\u001b[Areconstraining parameters GP_regression.rbf.variance\n",
      "reconstraining parameters GP_regression.rbf.variance\n",
      "reconstraining parameters GP_regression.rbf.variance\n",
      "\n",
      "Time index:  40%|██████████████████████████████████████████████████████████▊                                                                                        | 4/10 [00:32<00:53,  8.83s/it]\u001b[Areconstraining parameters GP_regression.rbf.variance\n",
      "reconstraining parameters GP_regression.rbf.variance\n",
      "reconstraining parameters GP_regression.rbf.variance\n",
      "\n",
      "Time index:  50%|█████████████████████████████████████████████████████████████████████████▌                                                                         | 5/10 [00:43<00:49,  9.90s/it]\u001b[Areconstraining parameters GP_regression.rbf.variance\n",
      "reconstraining parameters GP_regression.rbf.variance\n",
      "reconstraining parameters GP_regression.rbf.variance\n",
      "\n",
      "Time index:  60%|████████████████████████████████████████████████████████████████████████████████████████▏                                                          | 6/10 [00:56<00:43, 10.88s/it]\u001b[Areconstraining parameters GP_regression.rbf.variance\n",
      "reconstraining parameters GP_regression.rbf.variance\n",
      "reconstraining parameters GP_regression.rbf.variance\n",
      "\n",
      "Time index:  70%|██████████████████████████████████████████████████████████████████████████████████████████████████████▉                                            | 7/10 [01:11<00:36, 12.11s/it]\u001b[Areconstraining parameters GP_regression.rbf.variance\n",
      "reconstraining parameters GP_regression.rbf.variance\n",
      "reconstraining parameters GP_regression.rbf.variance\n",
      "\n",
      "Time index:  80%|█████████████████████████████████████████████████████████████████████████████████████████████████████████████████████▌                             | 8/10 [01:27<00:26, 13.36s/it]\u001b[Areconstraining parameters GP_regression.rbf.variance\n",
      "reconstraining parameters GP_regression.rbf.variance\n",
      "reconstraining parameters GP_regression.rbf.variance\n",
      "\n",
      "Time index:  90%|████████████████████████████████████████████████████████████████████████████████████████████████████████████████████████████████████▎              | 9/10 [01:43<00:14, 14.33s/it]\u001b[Areconstraining parameters GP_regression.rbf.variance\n",
      "reconstraining parameters GP_regression.rbf.variance\n",
      "reconstraining parameters GP_regression.rbf.variance\n",
      "\n",
      "Time index: 100%|██████████████████████████████████████████████████████████████████████████████████████████████████████████████████████████████████████████████████| 10/10 [02:02<00:00, 12.29s/it]\u001b[A\n"
     ]
    },
    {
     "name": "stdout",
     "output_type": "stream",
     "text": [
      "10\n",
      "\n",
      "\t>>>PIBO\n",
      "\n"
     ]
    },
    {
     "name": "stderr",
     "output_type": "stream",
     "text": [
      "\n",
      "Time index:   0%|                                                                                                                                                           | 0/10 [00:00<?, ?it/s]\u001b[Areconstraining parameters GP_regression.rbf.variance\n",
      "\n",
      "Time index:  10%|██████████████▋                                                                                                                                    | 1/10 [00:00<00:01,  5.26it/s]\u001b[Areconstraining parameters GP_regression.rbf.variance\n",
      "\n",
      "Time index:  20%|█████████████████████████████▍                                                                                                                     | 2/10 [00:00<00:01,  4.80it/s]\u001b[Areconstraining parameters GP_regression.rbf.variance\n",
      "\n",
      "Time index:  30%|████████████████████████████████████████████                                                                                                       | 3/10 [00:00<00:01,  5.01it/s]\u001b[Areconstraining parameters GP_regression.rbf.variance\n",
      "\n",
      "Time index:  40%|██████████████████████████████████████████████████████████▊                                                                                        | 4/10 [00:00<00:01,  4.92it/s]\u001b[Areconstraining parameters GP_regression.rbf.variance\n",
      "\n",
      "Time index:  50%|█████████████████████████████████████████████████████████████████████████▌                                                                         | 5/10 [00:01<00:01,  4.74it/s]\u001b[Areconstraining parameters GP_regression.rbf.variance\n",
      "\n",
      "Time index:  60%|████████████████████████████████████████████████████████████████████████████████████████▏                                                          | 6/10 [00:01<00:00,  4.61it/s]\u001b[Areconstraining parameters GP_regression.rbf.variance\n",
      "\n",
      "Time index:  70%|██████████████████████████████████████████████████████████████████████████████████████████████████████▉                                            | 7/10 [00:01<00:00,  4.81it/s]\u001b[Areconstraining parameters GP_regression.rbf.variance\n",
      "\n",
      "Time index:  80%|█████████████████████████████████████████████████████████████████████████████████████████████████████████████████████▌                             | 8/10 [00:01<00:00,  5.09it/s]\u001b[Areconstraining parameters GP_regression.rbf.variance\n",
      "\n",
      "Time index:  90%|████████████████████████████████████████████████████████████████████████████████████████████████████████████████████████████████████▎              | 9/10 [00:01<00:00,  4.91it/s]\u001b[Areconstraining parameters GP_regression.rbf.variance\n",
      "\n",
      "Time index: 100%|██████████████████████████████████████████████████████████████████████████████████████████████████████████████████████████████████████████████████| 10/10 [00:02<00:00,  4.86it/s]\u001b[A\n"
     ]
    },
    {
     "name": "stdout",
     "output_type": "stream",
     "text": [
      "\n",
      "\t>>>DCPIBO\n",
      "\n",
      "Warning - optimization restart 2/10 failed\n",
      "Warning - optimization restart 3/10 failed\n",
      "Warning - optimization restart 4/10 failed\n",
      "Warning - optimization restart 6/10 failed\n",
      "Warning - optimization restart 9/10 failed\n",
      "Warning - optimization restart 3/10 failed\n",
      "Warning - optimization restart 4/10 failed\n",
      "Warning - optimization restart 6/10 failed\n",
      "Warning - optimization restart 7/10 failed\n",
      "Warning - optimization restart 9/10 failed\n",
      "Warning - optimization restart 1/10 failed\n",
      "Warning - optimization restart 2/10 failed\n",
      "Warning - optimization restart 5/10 failed\n",
      "Warning - optimization restart 7/10 failed\n",
      "Warning - optimization restart 1/10 failed\n",
      "Warning - optimization restart 2/10 failed\n",
      "Warning - optimization restart 3/10 failed\n",
      "Warning - optimization restart 5/10 failed\n",
      "Warning - optimization restart 7/10 failed\n"
     ]
    },
    {
     "name": "stderr",
     "output_type": "stream",
     "text": [
      " /mnt/c/Users/lucal/Desktop/Thesis/DCBO/DCBO/notebooks/DefTests/../../src/utils/dag_utils/adjacency_matrix_utils.py:26: FutureWarning:adjacency_matrix will return a scipy.sparse array instead of a matrix in Networkx 3.0.\n",
      " /home/luca/miniconda3/envs/MTL_DCBO_testing/lib/python3.10/site-packages/GPy/kern/src/stationary.py:168: RuntimeWarning:overflow encountered in divide\n",
      " /home/luca/miniconda3/envs/MTL_DCBO_testing/lib/python3.10/site-packages/GPy/kern/src/rbf.py:52: RuntimeWarning:overflow encountered in square\n",
      " /home/luca/miniconda3/envs/MTL_DCBO_testing/lib/python3.10/site-packages/GPy/kern/src/rbf.py:76: RuntimeWarning:invalid value encountered in multiply\n"
     ]
    },
    {
     "name": "stdout",
     "output_type": "stream",
     "text": [
      "Warning - optimization restart 3/10 failed\n",
      "Warning - optimization restart 4/10 failed\n",
      "Warning - optimization restart 7/10 failed\n",
      "Warning - optimization restart 9/10 failed\n",
      "Warning - optimization restart 1/10 failed\n",
      "Warning - optimization restart 2/10 failed\n",
      "Warning - optimization restart 3/10 failed\n",
      "Warning - optimization restart 5/10 failed\n",
      "Warning - optimization restart 6/10 failed\n",
      "Warning - optimization restart 9/10 failed\n",
      "Warning - optimization restart 1/10 failed\n",
      "Warning - optimization restart 3/10 failed\n",
      "Warning - optimization restart 5/10 failed\n",
      "Warning - optimization restart 6/10 failed\n",
      "Warning - optimization restart 7/10 failed\n",
      "Warning - optimization restart 8/10 failed\n",
      "Warning - optimization restart 9/10 failed\n",
      "Warning - optimization restart 10/10 failed\n",
      "Warning - optimization restart 1/10 failed\n",
      "Warning - optimization restart 2/10 failed\n",
      "Warning - optimization restart 3/10 failed\n",
      "Warning - optimization restart 5/10 failed\n",
      "Warning - optimization restart 7/10 failed\n",
      "Warning - optimization restart 8/10 failed\n",
      "Warning - optimization restart 9/10 failed\n"
     ]
    },
    {
     "name": "stderr",
     "output_type": "stream",
     "text": [
      "\n",
      "Time index:   0%|                                                                                                                                                           | 0/10 [00:00<?, ?it/s]\u001b[Areconstraining parameters GP_regression.rbf.variance\n",
      "reconstraining parameters GP_regression.rbf.variance\n",
      "reconstraining parameters GP_regression.rbf.variance\n",
      "\n",
      "Time index:  10%|██████████████▋                                                                                                                                    | 1/10 [00:04<00:44,  4.95s/it]\u001b[Areconstraining parameters GP_regression.rbf.variance\n",
      "reconstraining parameters GP_regression.rbf.variance\n",
      "reconstraining parameters GP_regression.rbf.variance\n",
      "\n",
      "Time index:  20%|█████████████████████████████▍                                                                                                                     | 2/10 [00:11<00:46,  5.76s/it]\u001b[Areconstraining parameters GP_regression.rbf.variance\n",
      "reconstraining parameters GP_regression.rbf.variance\n",
      "reconstraining parameters GP_regression.rbf.variance\n",
      "\n",
      "Time index:  30%|████████████████████████████████████████████                                                                                                       | 3/10 [00:21<00:53,  7.59s/it]\u001b[Areconstraining parameters GP_regression.rbf.variance\n",
      "reconstraining parameters GP_regression.rbf.variance\n",
      "reconstraining parameters GP_regression.rbf.variance\n",
      "\n",
      "Time index:  40%|██████████████████████████████████████████████████████████▊                                                                                        | 4/10 [00:31<00:52,  8.72s/it]\u001b[Areconstraining parameters GP_regression.rbf.variance\n",
      "reconstraining parameters GP_regression.rbf.variance\n",
      "reconstraining parameters GP_regression.rbf.variance\n",
      "\n",
      "Time index:  50%|█████████████████████████████████████████████████████████████████████████▌                                                                         | 5/10 [00:43<00:48,  9.79s/it]\u001b[Areconstraining parameters GP_regression.rbf.variance\n",
      "reconstraining parameters GP_regression.rbf.variance\n",
      "reconstraining parameters GP_regression.rbf.variance\n",
      "\n",
      "Time index:  60%|████████████████████████████████████████████████████████████████████████████████████████▏                                                          | 6/10 [00:55<00:42, 10.69s/it]\u001b[Areconstraining parameters GP_regression.rbf.variance\n",
      "reconstraining parameters GP_regression.rbf.variance\n",
      "reconstraining parameters GP_regression.rbf.variance\n",
      "\n",
      "Time index:  70%|██████████████████████████████████████████████████████████████████████████████████████████████████████▉                                            | 7/10 [01:10<00:36, 12.01s/it]\u001b[Areconstraining parameters GP_regression.rbf.variance\n",
      "reconstraining parameters GP_regression.rbf.variance\n",
      "reconstraining parameters GP_regression.rbf.variance\n",
      "\n",
      "Time index:  80%|█████████████████████████████████████████████████████████████████████████████████████████████████████████████████████▌                             | 8/10 [01:26<00:26, 13.26s/it]\u001b[Areconstraining parameters GP_regression.rbf.variance\n",
      "reconstraining parameters GP_regression.rbf.variance\n",
      "reconstraining parameters GP_regression.rbf.variance\n",
      "\n",
      "Time index:  90%|████████████████████████████████████████████████████████████████████████████████████████████████████████████████████████████████████▎              | 9/10 [01:44<00:14, 14.66s/it]\u001b[Areconstraining parameters GP_regression.rbf.variance\n",
      "reconstraining parameters GP_regression.rbf.variance\n",
      "reconstraining parameters GP_regression.rbf.variance\n",
      "\n",
      "Time index: 100%|██████████████████████████████████████████████████████████████████████████████████████████████████████████████████████████████████████████████████| 10/10 [02:02<00:00, 12.30s/it]\u001b[A\n",
      "Experiment count:  33%|███████████████████████████████████████████████                                                                                              | 1/3 [05:10<10:20, 310.33s/it]"
     ]
    },
    {
     "name": "stdout",
     "output_type": "stream",
     "text": [
      "10\n",
      "\n",
      "\t>>>BO\n",
      "\n"
     ]
    },
    {
     "name": "stderr",
     "output_type": "stream",
     "text": [
      "\n",
      "Time index:   0%|                                                                                                                                                           | 0/10 [00:00<?, ?it/s]\u001b[Areconstraining parameters GP_regression.rbf.variance\n",
      "\n",
      "Time index:  10%|██████████████▋                                                                                                                                    | 1/10 [00:00<00:01,  5.56it/s]\u001b[Areconstraining parameters GP_regression.rbf.variance\n",
      "\n",
      "Time index:  20%|█████████████████████████████▍                                                                                                                     | 2/10 [00:00<00:01,  5.35it/s]\u001b[Areconstraining parameters GP_regression.rbf.variance\n",
      "\n",
      "Time index:  30%|████████████████████████████████████████████                                                                                                       | 3/10 [00:00<00:01,  4.96it/s]\u001b[Areconstraining parameters GP_regression.rbf.variance\n",
      "\n",
      "Time index:  40%|██████████████████████████████████████████████████████████▊                                                                                        | 4/10 [00:00<00:01,  5.03it/s]\u001b[Areconstraining parameters GP_regression.rbf.variance\n",
      "\n",
      "Time index:  50%|█████████████████████████████████████████████████████████████████████████▌                                                                         | 5/10 [00:01<00:01,  4.75it/s]\u001b[Areconstraining parameters GP_regression.rbf.variance\n",
      "\n",
      "Time index:  60%|████████████████████████████████████████████████████████████████████████████████████████▏                                                          | 6/10 [00:01<00:00,  5.03it/s]\u001b[Areconstraining parameters GP_regression.rbf.variance\n",
      "\n",
      "Time index:  70%|██████████████████████████████████████████████████████████████████████████████████████████████████████▉                                            | 7/10 [00:01<00:00,  4.65it/s]\u001b[Areconstraining parameters GP_regression.rbf.variance\n",
      "\n",
      "Time index:  80%|█████████████████████████████████████████████████████████████████████████████████████████████████████████████████████▌                             | 8/10 [00:01<00:00,  4.70it/s]\u001b[Areconstraining parameters GP_regression.rbf.variance\n",
      "\n",
      "Time index:  90%|████████████████████████████████████████████████████████████████████████████████████████████████████████████████████████████████████▎              | 9/10 [00:01<00:00,  4.64it/s]\u001b[Areconstraining parameters GP_regression.rbf.variance\n",
      "\n",
      "Time index: 100%|██████████████████████████████████████████████████████████████████████████████████████████████████████████████████████████████████████████████████| 10/10 [00:02<00:00,  4.82it/s]\u001b[A\n"
     ]
    },
    {
     "name": "stdout",
     "output_type": "stream",
     "text": [
      "\n",
      "\t>>>DCBO\n",
      "\n",
      "Warning - optimization restart 2/10 failed\n",
      "Warning - optimization restart 3/10 failed\n",
      "Warning - optimization restart 4/10 failed\n",
      "Warning - optimization restart 6/10 failed\n",
      "Warning - optimization restart 9/10 failed\n",
      "Warning - optimization restart 3/10 failed\n",
      "Warning - optimization restart 4/10 failed\n",
      "Warning - optimization restart 6/10 failed\n",
      "Warning - optimization restart 7/10 failed\n",
      "Warning - optimization restart 9/10 failed\n",
      "Warning - optimization restart 1/10 failed\n",
      "Warning - optimization restart 2/10 failed\n",
      "Warning - optimization restart 5/10 failed\n",
      "Warning - optimization restart 7/10 failed\n",
      "Warning - optimization restart 1/10 failed\n",
      "Warning - optimization restart 2/10 failed\n",
      "Warning - optimization restart 3/10 failed\n",
      "Warning - optimization restart 5/10 failed\n",
      "Warning - optimization restart 7/10 failed\n"
     ]
    },
    {
     "name": "stderr",
     "output_type": "stream",
     "text": [
      " /mnt/c/Users/lucal/Desktop/Thesis/DCBO/DCBO/notebooks/DefTests/../../src/utils/dag_utils/adjacency_matrix_utils.py:26: FutureWarning:adjacency_matrix will return a scipy.sparse array instead of a matrix in Networkx 3.0.\n",
      " /home/luca/miniconda3/envs/MTL_DCBO_testing/lib/python3.10/site-packages/GPy/kern/src/stationary.py:168: RuntimeWarning:overflow encountered in divide\n",
      " /home/luca/miniconda3/envs/MTL_DCBO_testing/lib/python3.10/site-packages/GPy/kern/src/rbf.py:52: RuntimeWarning:overflow encountered in square\n",
      " /home/luca/miniconda3/envs/MTL_DCBO_testing/lib/python3.10/site-packages/GPy/kern/src/rbf.py:76: RuntimeWarning:invalid value encountered in multiply\n"
     ]
    },
    {
     "name": "stdout",
     "output_type": "stream",
     "text": [
      "Warning - optimization restart 3/10 failed\n",
      "Warning - optimization restart 4/10 failed\n",
      "Warning - optimization restart 7/10 failed\n",
      "Warning - optimization restart 9/10 failed\n",
      "Warning - optimization restart 1/10 failed\n",
      "Warning - optimization restart 2/10 failed\n",
      "Warning - optimization restart 3/10 failed\n",
      "Warning - optimization restart 5/10 failed\n",
      "Warning - optimization restart 6/10 failed\n",
      "Warning - optimization restart 9/10 failed\n",
      "Warning - optimization restart 1/10 failed\n",
      "Warning - optimization restart 3/10 failed\n",
      "Warning - optimization restart 5/10 failed\n",
      "Warning - optimization restart 6/10 failed\n",
      "Warning - optimization restart 7/10 failed\n",
      "Warning - optimization restart 8/10 failed\n",
      "Warning - optimization restart 9/10 failed\n",
      "Warning - optimization restart 10/10 failed\n",
      "Warning - optimization restart 1/10 failed\n",
      "Warning - optimization restart 2/10 failed\n",
      "Warning - optimization restart 3/10 failed\n",
      "Warning - optimization restart 5/10 failed\n",
      "Warning - optimization restart 7/10 failed\n",
      "Warning - optimization restart 8/10 failed\n",
      "Warning - optimization restart 9/10 failed\n"
     ]
    },
    {
     "name": "stderr",
     "output_type": "stream",
     "text": [
      "\n",
      "Time index:   0%|                                                                                                                                                           | 0/10 [00:00<?, ?it/s]\u001b[Areconstraining parameters GP_regression.rbf.variance\n",
      "reconstraining parameters GP_regression.rbf.variance\n",
      "reconstraining parameters GP_regression.rbf.variance\n",
      "\n",
      "Time index:  10%|██████████████▋                                                                                                                                    | 1/10 [00:04<00:36,  4.03s/it]\u001b[Areconstraining parameters GP_regression.rbf.variance\n",
      "reconstraining parameters GP_regression.rbf.variance\n",
      "reconstraining parameters GP_regression.rbf.variance\n",
      "\n",
      "Time index:  20%|█████████████████████████████▍                                                                                                                     | 2/10 [00:10<00:44,  5.58s/it]\u001b[Areconstraining parameters GP_regression.rbf.variance\n",
      "reconstraining parameters GP_regression.rbf.variance\n",
      "reconstraining parameters GP_regression.rbf.variance\n",
      "\n",
      "Time index:  30%|████████████████████████████████████████████                                                                                                       | 3/10 [00:17<00:44,  6.34s/it]\u001b[Areconstraining parameters GP_regression.rbf.variance\n",
      "reconstraining parameters GP_regression.rbf.variance\n",
      "reconstraining parameters GP_regression.rbf.variance\n",
      "\n",
      "Time index:  40%|██████████████████████████████████████████████████████████▊                                                                                        | 4/10 [00:27<00:46,  7.75s/it]\u001b[Areconstraining parameters GP_regression.rbf.variance\n",
      "reconstraining parameters GP_regression.rbf.variance\n",
      "reconstraining parameters GP_regression.rbf.variance\n",
      "\n",
      "Time index:  50%|█████████████████████████████████████████████████████████████████████████▌                                                                         | 5/10 [00:39<00:45,  9.18s/it]\u001b[Areconstraining parameters GP_regression.rbf.variance\n",
      "reconstraining parameters GP_regression.rbf.variance\n",
      "reconstraining parameters GP_regression.rbf.variance\n",
      "\n",
      "Time index:  60%|████████████████████████████████████████████████████████████████████████████████████████▏                                                          | 6/10 [00:52<00:41, 10.45s/it]\u001b[Areconstraining parameters GP_regression.rbf.variance\n",
      "reconstraining parameters GP_regression.rbf.variance\n",
      "reconstraining parameters GP_regression.rbf.variance\n",
      "\n",
      "Time index:  70%|██████████████████████████████████████████████████████████████████████████████████████████████████████▉                                            | 7/10 [01:06<00:35, 11.75s/it]\u001b[Areconstraining parameters GP_regression.rbf.variance\n",
      "reconstraining parameters GP_regression.rbf.variance\n",
      "reconstraining parameters GP_regression.rbf.variance\n",
      "\n",
      "Time index:  80%|█████████████████████████████████████████████████████████████████████████████████████████████████████████████████████▌                             | 8/10 [01:23<00:26, 13.30s/it]\u001b[Areconstraining parameters GP_regression.rbf.variance\n",
      "reconstraining parameters GP_regression.rbf.variance\n",
      "reconstraining parameters GP_regression.rbf.variance\n",
      "\n",
      "Time index:  90%|████████████████████████████████████████████████████████████████████████████████████████████████████████████████████████████████████▎              | 9/10 [01:40<00:14, 14.45s/it]\u001b[Areconstraining parameters GP_regression.rbf.variance\n",
      "reconstraining parameters GP_regression.rbf.variance\n",
      "reconstraining parameters GP_regression.rbf.variance\n",
      "\n",
      "Time index: 100%|██████████████████████████████████████████████████████████████████████████████████████████████████████████████████████████████████████████████████| 10/10 [01:58<00:00, 11.87s/it]\u001b[A\n"
     ]
    },
    {
     "name": "stdout",
     "output_type": "stream",
     "text": [
      "10\n",
      "\n",
      "\t>>>PIBO\n",
      "\n"
     ]
    },
    {
     "name": "stderr",
     "output_type": "stream",
     "text": [
      "\n",
      "Time index:   0%|                                                                                                                                                           | 0/10 [00:00<?, ?it/s]\u001b[Areconstraining parameters GP_regression.rbf.variance\n",
      "\n",
      "Time index:  10%|██████████████▋                                                                                                                                    | 1/10 [00:00<00:01,  5.95it/s]\u001b[Areconstraining parameters GP_regression.rbf.variance\n",
      "\n",
      "Time index:  20%|█████████████████████████████▍                                                                                                                     | 2/10 [00:00<00:01,  5.54it/s]\u001b[Areconstraining parameters GP_regression.rbf.variance\n",
      "\n",
      "Time index:  30%|████████████████████████████████████████████                                                                                                       | 3/10 [00:00<00:01,  5.28it/s]\u001b[Areconstraining parameters GP_regression.rbf.variance\n",
      "\n",
      "Time index:  40%|██████████████████████████████████████████████████████████▊                                                                                        | 4/10 [00:00<00:01,  5.44it/s]\u001b[Areconstraining parameters GP_regression.rbf.variance\n",
      "\n",
      "Time index:  50%|█████████████████████████████████████████████████████████████████████████▌                                                                         | 5/10 [00:00<00:00,  5.15it/s]\u001b[Areconstraining parameters GP_regression.rbf.variance\n",
      "\n",
      "Time index:  60%|████████████████████████████████████████████████████████████████████████████████████████▏                                                          | 6/10 [00:01<00:00,  5.13it/s]\u001b[Areconstraining parameters GP_regression.rbf.variance\n",
      "\n",
      "Time index:  70%|██████████████████████████████████████████████████████████████████████████████████████████████████████▉                                            | 7/10 [00:01<00:00,  4.92it/s]\u001b[Areconstraining parameters GP_regression.rbf.variance\n",
      "\n",
      "Time index:  80%|█████████████████████████████████████████████████████████████████████████████████████████████████████████████████████▌                             | 8/10 [00:01<00:00,  5.07it/s]\u001b[Areconstraining parameters GP_regression.rbf.variance\n",
      "\n",
      "Time index:  90%|████████████████████████████████████████████████████████████████████████████████████████████████████████████████████████████████████▎              | 9/10 [00:01<00:00,  4.78it/s]\u001b[Areconstraining parameters GP_regression.rbf.variance\n",
      "\n",
      "Time index: 100%|██████████████████████████████████████████████████████████████████████████████████████████████████████████████████████████████████████████████████| 10/10 [00:01<00:00,  5.03it/s]\u001b[A\n"
     ]
    },
    {
     "name": "stdout",
     "output_type": "stream",
     "text": [
      "\n",
      "\t>>>DCPIBO\n",
      "\n",
      "Warning - optimization restart 2/10 failed\n",
      "Warning - optimization restart 3/10 failed\n",
      "Warning - optimization restart 4/10 failed\n",
      "Warning - optimization restart 6/10 failed\n",
      "Warning - optimization restart 9/10 failed\n",
      "Warning - optimization restart 3/10 failed\n",
      "Warning - optimization restart 4/10 failed\n",
      "Warning - optimization restart 6/10 failed\n",
      "Warning - optimization restart 7/10 failed\n",
      "Warning - optimization restart 9/10 failed\n",
      "Warning - optimization restart 1/10 failed\n",
      "Warning - optimization restart 2/10 failed\n",
      "Warning - optimization restart 5/10 failed\n",
      "Warning - optimization restart 7/10 failed\n",
      "Warning - optimization restart 1/10 failed\n",
      "Warning - optimization restart 2/10 failed\n",
      "Warning - optimization restart 3/10 failed\n",
      "Warning - optimization restart 5/10 failed\n",
      "Warning - optimization restart 7/10 failed\n"
     ]
    },
    {
     "name": "stderr",
     "output_type": "stream",
     "text": [
      " /mnt/c/Users/lucal/Desktop/Thesis/DCBO/DCBO/notebooks/DefTests/../../src/utils/dag_utils/adjacency_matrix_utils.py:26: FutureWarning:adjacency_matrix will return a scipy.sparse array instead of a matrix in Networkx 3.0.\n",
      " /home/luca/miniconda3/envs/MTL_DCBO_testing/lib/python3.10/site-packages/GPy/kern/src/stationary.py:168: RuntimeWarning:overflow encountered in divide\n",
      " /home/luca/miniconda3/envs/MTL_DCBO_testing/lib/python3.10/site-packages/GPy/kern/src/rbf.py:52: RuntimeWarning:overflow encountered in square\n",
      " /home/luca/miniconda3/envs/MTL_DCBO_testing/lib/python3.10/site-packages/GPy/kern/src/rbf.py:76: RuntimeWarning:invalid value encountered in multiply\n"
     ]
    },
    {
     "name": "stdout",
     "output_type": "stream",
     "text": [
      "Warning - optimization restart 3/10 failed\n",
      "Warning - optimization restart 4/10 failed\n",
      "Warning - optimization restart 7/10 failed\n",
      "Warning - optimization restart 9/10 failed\n",
      "Warning - optimization restart 1/10 failed\n",
      "Warning - optimization restart 2/10 failed\n",
      "Warning - optimization restart 3/10 failed\n",
      "Warning - optimization restart 5/10 failed\n",
      "Warning - optimization restart 6/10 failed\n",
      "Warning - optimization restart 9/10 failed\n",
      "Warning - optimization restart 1/10 failed\n",
      "Warning - optimization restart 3/10 failed\n",
      "Warning - optimization restart 5/10 failed\n",
      "Warning - optimization restart 6/10 failed\n",
      "Warning - optimization restart 7/10 failed\n",
      "Warning - optimization restart 8/10 failed\n",
      "Warning - optimization restart 9/10 failed\n",
      "Warning - optimization restart 10/10 failed\n",
      "Warning - optimization restart 1/10 failed\n",
      "Warning - optimization restart 2/10 failed\n",
      "Warning - optimization restart 3/10 failed\n",
      "Warning - optimization restart 5/10 failed\n",
      "Warning - optimization restart 7/10 failed\n",
      "Warning - optimization restart 8/10 failed\n",
      "Warning - optimization restart 9/10 failed\n"
     ]
    },
    {
     "name": "stderr",
     "output_type": "stream",
     "text": [
      "\n",
      "Time index:   0%|                                                                                                                                                           | 0/10 [00:00<?, ?it/s]\u001b[Areconstraining parameters GP_regression.rbf.variance\n",
      "reconstraining parameters GP_regression.rbf.variance\n",
      "reconstraining parameters GP_regression.rbf.variance\n",
      "\n",
      "Time index:  10%|██████████████▋                                                                                                                                    | 1/10 [00:04<00:38,  4.27s/it]\u001b[Areconstraining parameters GP_regression.rbf.variance\n",
      "reconstraining parameters GP_regression.rbf.variance\n",
      "reconstraining parameters GP_regression.rbf.variance\n",
      "\n",
      "Time index:  20%|█████████████████████████████▍                                                                                                                     | 2/10 [00:11<00:46,  5.87s/it]\u001b[Areconstraining parameters GP_regression.rbf.variance\n",
      "reconstraining parameters GP_regression.rbf.variance\n",
      "reconstraining parameters GP_regression.rbf.variance\n",
      "\n",
      "Time index:  30%|████████████████████████████████████████████                                                                                                       | 3/10 [00:19<00:47,  6.75s/it]\u001b[Areconstraining parameters GP_regression.rbf.variance\n",
      "reconstraining parameters GP_regression.rbf.variance\n",
      "reconstraining parameters GP_regression.rbf.variance\n",
      "\n",
      "Time index:  40%|██████████████████████████████████████████████████████████▊                                                                                        | 4/10 [00:28<00:47,  7.95s/it]\u001b[Areconstraining parameters GP_regression.rbf.variance\n",
      "reconstraining parameters GP_regression.rbf.variance\n",
      "reconstraining parameters GP_regression.rbf.variance\n",
      "\n",
      "Time index:  50%|█████████████████████████████████████████████████████████████████████████▌                                                                         | 5/10 [00:39<00:44,  8.92s/it]\u001b[Areconstraining parameters GP_regression.rbf.variance\n",
      "reconstraining parameters GP_regression.rbf.variance\n",
      "reconstraining parameters GP_regression.rbf.variance\n",
      "\n",
      "Time index:  60%|████████████████████████████████████████████████████████████████████████████████████████▏                                                          | 6/10 [00:51<00:40, 10.11s/it]\u001b[Areconstraining parameters GP_regression.rbf.variance\n",
      "reconstraining parameters GP_regression.rbf.variance\n",
      "reconstraining parameters GP_regression.rbf.variance\n",
      "\n",
      "Time index:  70%|██████████████████████████████████████████████████████████████████████████████████████████████████████▉                                            | 7/10 [01:06<00:35, 11.71s/it]\u001b[Areconstraining parameters GP_regression.rbf.variance\n",
      "reconstraining parameters GP_regression.rbf.variance\n",
      "reconstraining parameters GP_regression.rbf.variance\n",
      "\n",
      "Time index:  80%|█████████████████████████████████████████████████████████████████████████████████████████████████████████████████████▌                             | 8/10 [01:23<00:26, 13.28s/it]\u001b[Areconstraining parameters GP_regression.rbf.variance\n",
      "reconstraining parameters GP_regression.rbf.variance\n",
      "reconstraining parameters GP_regression.rbf.variance\n",
      "\n",
      "Time index:  90%|████████████████████████████████████████████████████████████████████████████████████████████████████████████████████████████████████▎              | 9/10 [01:40<00:14, 14.27s/it]\u001b[Areconstraining parameters GP_regression.rbf.variance\n",
      "reconstraining parameters GP_regression.rbf.variance\n",
      "reconstraining parameters GP_regression.rbf.variance\n",
      "\n",
      "Time index: 100%|██████████████████████████████████████████████████████████████████████████████████████████████████████████████████████████████████████████████████| 10/10 [01:57<00:00, 11.76s/it]\u001b[A\n",
      "Experiment count:  67%|██████████████████████████████████████████████████████████████████████████████████████████████                                               | 2/3 [10:10<05:04, 304.37s/it]"
     ]
    },
    {
     "name": "stdout",
     "output_type": "stream",
     "text": [
      "10\n",
      "\n",
      "\t>>>BO\n",
      "\n"
     ]
    },
    {
     "name": "stderr",
     "output_type": "stream",
     "text": [
      "\n",
      "Time index:   0%|                                                                                                                                                           | 0/10 [00:00<?, ?it/s]\u001b[Areconstraining parameters GP_regression.rbf.variance\n",
      "\n",
      "Time index:  10%|██████████████▋                                                                                                                                    | 1/10 [00:00<00:01,  6.28it/s]\u001b[Areconstraining parameters GP_regression.rbf.variance\n",
      "\n",
      "Time index:  20%|█████████████████████████████▍                                                                                                                     | 2/10 [00:00<00:01,  6.09it/s]\u001b[Areconstraining parameters GP_regression.rbf.variance\n",
      "\n",
      "Time index:  30%|████████████████████████████████████████████                                                                                                       | 3/10 [00:00<00:01,  5.65it/s]\u001b[Areconstraining parameters GP_regression.rbf.variance\n",
      "\n",
      "Time index:  40%|██████████████████████████████████████████████████████████▊                                                                                        | 4/10 [00:00<00:01,  5.17it/s]\u001b[Areconstraining parameters GP_regression.rbf.variance\n",
      "\n",
      "Time index:  50%|█████████████████████████████████████████████████████████████████████████▌                                                                         | 5/10 [00:00<00:00,  5.40it/s]\u001b[Areconstraining parameters GP_regression.rbf.variance\n",
      "\n",
      "Time index:  60%|████████████████████████████████████████████████████████████████████████████████████████▏                                                          | 6/10 [00:01<00:00,  4.98it/s]\u001b[Areconstraining parameters GP_regression.rbf.variance\n",
      "\n",
      "Time index:  70%|██████████████████████████████████████████████████████████████████████████████████████████████████████▉                                            | 7/10 [00:01<00:00,  4.78it/s]\u001b[Areconstraining parameters GP_regression.rbf.variance\n",
      "\n",
      "Time index:  80%|█████████████████████████████████████████████████████████████████████████████████████████████████████████████████████▌                             | 8/10 [00:01<00:00,  4.56it/s]\u001b[Areconstraining parameters GP_regression.rbf.variance\n",
      "\n",
      "Time index:  90%|████████████████████████████████████████████████████████████████████████████████████████████████████████████████████████████████████▎              | 9/10 [00:01<00:00,  4.46it/s]\u001b[Areconstraining parameters GP_regression.rbf.variance\n",
      "\n",
      "Time index: 100%|██████████████████████████████████████████████████████████████████████████████████████████████████████████████████████████████████████████████████| 10/10 [00:02<00:00,  4.82it/s]\u001b[A\n"
     ]
    },
    {
     "name": "stdout",
     "output_type": "stream",
     "text": [
      "\n",
      "\t>>>DCBO\n",
      "\n",
      "Warning - optimization restart 2/10 failed\n",
      "Warning - optimization restart 3/10 failed\n",
      "Warning - optimization restart 4/10 failed\n",
      "Warning - optimization restart 6/10 failed\n",
      "Warning - optimization restart 9/10 failed\n",
      "Warning - optimization restart 3/10 failed\n",
      "Warning - optimization restart 4/10 failed\n",
      "Warning - optimization restart 6/10 failed\n",
      "Warning - optimization restart 7/10 failed\n",
      "Warning - optimization restart 9/10 failed\n",
      "Warning - optimization restart 1/10 failed\n",
      "Warning - optimization restart 2/10 failed\n",
      "Warning - optimization restart 5/10 failed\n",
      "Warning - optimization restart 7/10 failed\n",
      "Warning - optimization restart 1/10 failed\n",
      "Warning - optimization restart 2/10 failed\n",
      "Warning - optimization restart 3/10 failed\n",
      "Warning - optimization restart 5/10 failed\n",
      "Warning - optimization restart 7/10 failed\n"
     ]
    },
    {
     "name": "stderr",
     "output_type": "stream",
     "text": [
      " /mnt/c/Users/lucal/Desktop/Thesis/DCBO/DCBO/notebooks/DefTests/../../src/utils/dag_utils/adjacency_matrix_utils.py:26: FutureWarning:adjacency_matrix will return a scipy.sparse array instead of a matrix in Networkx 3.0.\n",
      " /home/luca/miniconda3/envs/MTL_DCBO_testing/lib/python3.10/site-packages/GPy/kern/src/stationary.py:168: RuntimeWarning:overflow encountered in divide\n",
      " /home/luca/miniconda3/envs/MTL_DCBO_testing/lib/python3.10/site-packages/GPy/kern/src/rbf.py:52: RuntimeWarning:overflow encountered in square\n",
      " /home/luca/miniconda3/envs/MTL_DCBO_testing/lib/python3.10/site-packages/GPy/kern/src/rbf.py:76: RuntimeWarning:invalid value encountered in multiply\n"
     ]
    },
    {
     "name": "stdout",
     "output_type": "stream",
     "text": [
      "Warning - optimization restart 3/10 failed\n",
      "Warning - optimization restart 4/10 failed\n",
      "Warning - optimization restart 7/10 failed\n",
      "Warning - optimization restart 9/10 failed\n",
      "Warning - optimization restart 1/10 failed\n",
      "Warning - optimization restart 2/10 failed\n",
      "Warning - optimization restart 3/10 failed\n",
      "Warning - optimization restart 5/10 failed\n",
      "Warning - optimization restart 6/10 failed\n",
      "Warning - optimization restart 9/10 failed\n",
      "Warning - optimization restart 1/10 failed\n",
      "Warning - optimization restart 3/10 failed\n",
      "Warning - optimization restart 5/10 failed\n",
      "Warning - optimization restart 6/10 failed\n",
      "Warning - optimization restart 7/10 failed\n",
      "Warning - optimization restart 8/10 failed\n",
      "Warning - optimization restart 9/10 failed\n",
      "Warning - optimization restart 10/10 failed\n",
      "Warning - optimization restart 1/10 failed\n",
      "Warning - optimization restart 2/10 failed\n",
      "Warning - optimization restart 3/10 failed\n",
      "Warning - optimization restart 5/10 failed\n",
      "Warning - optimization restart 7/10 failed\n",
      "Warning - optimization restart 8/10 failed\n",
      "Warning - optimization restart 9/10 failed\n"
     ]
    },
    {
     "name": "stderr",
     "output_type": "stream",
     "text": [
      "\n",
      "Time index:   0%|                                                                                                                                                           | 0/10 [00:00<?, ?it/s]\u001b[Areconstraining parameters GP_regression.rbf.variance\n",
      "reconstraining parameters GP_regression.rbf.variance\n",
      "reconstraining parameters GP_regression.rbf.variance\n",
      "\n",
      "Time index:  10%|██████████████▋                                                                                                                                    | 1/10 [00:03<00:34,  3.83s/it]\u001b[Areconstraining parameters GP_regression.rbf.variance\n",
      "reconstraining parameters GP_regression.rbf.variance\n",
      "reconstraining parameters GP_regression.rbf.variance\n",
      "\n",
      "Time index:  20%|█████████████████████████████▍                                                                                                                     | 2/10 [00:10<00:42,  5.33s/it]\u001b[Areconstraining parameters GP_regression.rbf.variance\n",
      "reconstraining parameters GP_regression.rbf.variance\n",
      "reconstraining parameters GP_regression.rbf.variance\n",
      "\n",
      "Time index:  30%|████████████████████████████████████████████                                                                                                       | 3/10 [00:19<00:48,  6.91s/it]\u001b[Areconstraining parameters GP_regression.rbf.variance\n",
      "reconstraining parameters GP_regression.rbf.variance\n",
      "reconstraining parameters GP_regression.rbf.variance\n",
      "\n",
      "Time index:  40%|██████████████████████████████████████████████████████████▊                                                                                        | 4/10 [00:29<00:49,  8.21s/it]\u001b[Areconstraining parameters GP_regression.rbf.variance\n",
      "reconstraining parameters GP_regression.rbf.variance\n",
      "reconstraining parameters GP_regression.rbf.variance\n",
      "\n",
      "Time index:  50%|█████████████████████████████████████████████████████████████████████████▌                                                                         | 5/10 [00:40<00:46,  9.39s/it]\u001b[Areconstraining parameters GP_regression.rbf.variance\n",
      "reconstraining parameters GP_regression.rbf.variance\n",
      "reconstraining parameters GP_regression.rbf.variance\n",
      "\n",
      "Time index:  60%|████████████████████████████████████████████████████████████████████████████████████████▏                                                          | 6/10 [00:53<00:42, 10.65s/it]\u001b[Areconstraining parameters GP_regression.rbf.variance\n",
      "reconstraining parameters GP_regression.rbf.variance\n",
      "reconstraining parameters GP_regression.rbf.variance\n",
      "\n",
      "Time index:  70%|██████████████████████████████████████████████████████████████████████████████████████████████████████▉                                            | 7/10 [01:08<00:36, 12.00s/it]\u001b[Areconstraining parameters GP_regression.rbf.variance\n",
      "reconstraining parameters GP_regression.rbf.variance\n",
      "reconstraining parameters GP_regression.rbf.variance\n",
      "\n",
      "Time index:  80%|█████████████████████████████████████████████████████████████████████████████████████████████████████████████████████▌                             | 8/10 [01:23<00:26, 13.04s/it]\u001b[Areconstraining parameters GP_regression.rbf.variance\n",
      "reconstraining parameters GP_regression.rbf.variance\n",
      "reconstraining parameters GP_regression.rbf.variance\n",
      "\n",
      "Time index:  90%|████████████████████████████████████████████████████████████████████████████████████████████████████████████████████████████████████▎              | 9/10 [01:40<00:14, 14.03s/it]\u001b[Areconstraining parameters GP_regression.rbf.variance\n",
      "reconstraining parameters GP_regression.rbf.variance\n",
      "reconstraining parameters GP_regression.rbf.variance\n",
      "\n",
      "Time index: 100%|██████████████████████████████████████████████████████████████████████████████████████████████████████████████████████████████████████████████████| 10/10 [01:58<00:00, 11.82s/it]\u001b[A\n"
     ]
    },
    {
     "name": "stdout",
     "output_type": "stream",
     "text": [
      "10\n",
      "\n",
      "\t>>>PIBO\n",
      "\n"
     ]
    },
    {
     "name": "stderr",
     "output_type": "stream",
     "text": [
      "\n",
      "Time index:   0%|                                                                                                                                                           | 0/10 [00:00<?, ?it/s]\u001b[Areconstraining parameters GP_regression.rbf.variance\n",
      "\n",
      "Time index:  10%|██████████████▋                                                                                                                                    | 1/10 [00:00<00:01,  6.01it/s]\u001b[Areconstraining parameters GP_regression.rbf.variance\n",
      "\n",
      "Time index:  20%|█████████████████████████████▍                                                                                                                     | 2/10 [00:00<00:01,  6.16it/s]\u001b[Areconstraining parameters GP_regression.rbf.variance\n",
      "\n",
      "Time index:  30%|████████████████████████████████████████████                                                                                                       | 3/10 [00:00<00:01,  6.23it/s]\u001b[Areconstraining parameters GP_regression.rbf.variance\n",
      "\n",
      "Time index:  40%|██████████████████████████████████████████████████████████▊                                                                                        | 4/10 [00:00<00:00,  6.44it/s]\u001b[Areconstraining parameters GP_regression.rbf.variance\n",
      "\n",
      "Time index:  50%|█████████████████████████████████████████████████████████████████████████▌                                                                         | 5/10 [00:00<00:00,  6.30it/s]\u001b[Areconstraining parameters GP_regression.rbf.variance\n",
      "\n",
      "Time index:  60%|████████████████████████████████████████████████████████████████████████████████████████▏                                                          | 6/10 [00:01<00:00,  5.69it/s]\u001b[Areconstraining parameters GP_regression.rbf.variance\n",
      "\n",
      "Time index:  70%|██████████████████████████████████████████████████████████████████████████████████████████████████████▉                                            | 7/10 [00:01<00:00,  5.85it/s]\u001b[Areconstraining parameters GP_regression.rbf.variance\n",
      "\n",
      "Time index:  80%|█████████████████████████████████████████████████████████████████████████████████████████████████████████████████████▌                             | 8/10 [00:01<00:00,  5.47it/s]\u001b[Areconstraining parameters GP_regression.rbf.variance\n",
      "\n",
      "Time index:  90%|████████████████████████████████████████████████████████████████████████████████████████████████████████████████████████████████████▎              | 9/10 [00:01<00:00,  5.40it/s]\u001b[Areconstraining parameters GP_regression.rbf.variance\n",
      "\n",
      "Time index: 100%|██████████████████████████████████████████████████████████████████████████████████████████████████████████████████████████████████████████████████| 10/10 [00:01<00:00,  5.62it/s]\u001b[A\n"
     ]
    },
    {
     "name": "stdout",
     "output_type": "stream",
     "text": [
      "\n",
      "\t>>>DCPIBO\n",
      "\n",
      "Warning - optimization restart 2/10 failed\n",
      "Warning - optimization restart 3/10 failed\n",
      "Warning - optimization restart 4/10 failed\n",
      "Warning - optimization restart 6/10 failed\n",
      "Warning - optimization restart 9/10 failed\n",
      "Warning - optimization restart 3/10 failed\n",
      "Warning - optimization restart 4/10 failed\n",
      "Warning - optimization restart 6/10 failed\n",
      "Warning - optimization restart 7/10 failed\n",
      "Warning - optimization restart 9/10 failed\n",
      "Warning - optimization restart 1/10 failed\n",
      "Warning - optimization restart 2/10 failed\n",
      "Warning - optimization restart 5/10 failed\n",
      "Warning - optimization restart 7/10 failed\n",
      "Warning - optimization restart 1/10 failed\n",
      "Warning - optimization restart 2/10 failed\n",
      "Warning - optimization restart 3/10 failed\n",
      "Warning - optimization restart 5/10 failed\n",
      "Warning - optimization restart 7/10 failed\n"
     ]
    },
    {
     "name": "stderr",
     "output_type": "stream",
     "text": [
      " /mnt/c/Users/lucal/Desktop/Thesis/DCBO/DCBO/notebooks/DefTests/../../src/utils/dag_utils/adjacency_matrix_utils.py:26: FutureWarning:adjacency_matrix will return a scipy.sparse array instead of a matrix in Networkx 3.0.\n",
      " /home/luca/miniconda3/envs/MTL_DCBO_testing/lib/python3.10/site-packages/GPy/kern/src/stationary.py:168: RuntimeWarning:overflow encountered in divide\n",
      " /home/luca/miniconda3/envs/MTL_DCBO_testing/lib/python3.10/site-packages/GPy/kern/src/rbf.py:52: RuntimeWarning:overflow encountered in square\n",
      " /home/luca/miniconda3/envs/MTL_DCBO_testing/lib/python3.10/site-packages/GPy/kern/src/rbf.py:76: RuntimeWarning:invalid value encountered in multiply\n"
     ]
    },
    {
     "name": "stdout",
     "output_type": "stream",
     "text": [
      "Warning - optimization restart 3/10 failed\n",
      "Warning - optimization restart 4/10 failed\n",
      "Warning - optimization restart 7/10 failed\n",
      "Warning - optimization restart 9/10 failed\n",
      "Warning - optimization restart 1/10 failed\n",
      "Warning - optimization restart 2/10 failed\n",
      "Warning - optimization restart 3/10 failed\n",
      "Warning - optimization restart 5/10 failed\n",
      "Warning - optimization restart 6/10 failed\n",
      "Warning - optimization restart 9/10 failed\n",
      "Warning - optimization restart 1/10 failed\n",
      "Warning - optimization restart 3/10 failed\n",
      "Warning - optimization restart 5/10 failed\n",
      "Warning - optimization restart 6/10 failed\n",
      "Warning - optimization restart 7/10 failed\n",
      "Warning - optimization restart 8/10 failed\n",
      "Warning - optimization restart 9/10 failed\n",
      "Warning - optimization restart 10/10 failed\n",
      "Warning - optimization restart 1/10 failed\n",
      "Warning - optimization restart 2/10 failed\n",
      "Warning - optimization restart 3/10 failed\n",
      "Warning - optimization restart 5/10 failed\n",
      "Warning - optimization restart 7/10 failed\n",
      "Warning - optimization restart 8/10 failed\n",
      "Warning - optimization restart 9/10 failed\n"
     ]
    },
    {
     "name": "stderr",
     "output_type": "stream",
     "text": [
      "\n",
      "Time index:   0%|                                                                                                                                                           | 0/10 [00:00<?, ?it/s]\u001b[Areconstraining parameters GP_regression.rbf.variance\n",
      "reconstraining parameters GP_regression.rbf.variance\n",
      "reconstraining parameters GP_regression.rbf.variance\n",
      "\n",
      "Time index:  10%|██████████████▋                                                                                                                                    | 1/10 [00:03<00:29,  3.30s/it]\u001b[Areconstraining parameters GP_regression.rbf.variance\n",
      "reconstraining parameters GP_regression.rbf.variance\n",
      "reconstraining parameters GP_regression.rbf.variance\n",
      "\n",
      "Time index:  20%|█████████████████████████████▍                                                                                                                     | 2/10 [00:08<00:36,  4.60s/it]\u001b[Areconstraining parameters GP_regression.rbf.variance\n",
      "reconstraining parameters GP_regression.rbf.variance\n",
      "reconstraining parameters GP_regression.rbf.variance\n",
      "\n",
      "Time index:  30%|████████████████████████████████████████████                                                                                                       | 3/10 [00:16<00:42,  6.04s/it]\u001b[Areconstraining parameters GP_regression.rbf.variance\n",
      "reconstraining parameters GP_regression.rbf.variance\n",
      "reconstraining parameters GP_regression.rbf.variance\n",
      "\n",
      "Time index:  40%|██████████████████████████████████████████████████████████▊                                                                                        | 4/10 [00:25<00:43,  7.22s/it]\u001b[Areconstraining parameters GP_regression.rbf.variance\n",
      "reconstraining parameters GP_regression.rbf.variance\n",
      "reconstraining parameters GP_regression.rbf.variance\n",
      "\n",
      "Time index:  50%|█████████████████████████████████████████████████████████████████████████▌                                                                         | 5/10 [00:35<00:40,  8.19s/it]\u001b[Areconstraining parameters GP_regression.rbf.variance\n",
      "reconstraining parameters GP_regression.rbf.variance\n",
      "reconstraining parameters GP_regression.rbf.variance\n",
      "\n",
      "Time index:  60%|████████████████████████████████████████████████████████████████████████████████████████▏                                                          | 6/10 [00:46<00:36,  9.12s/it]\u001b[Areconstraining parameters GP_regression.rbf.variance\n",
      "reconstraining parameters GP_regression.rbf.variance\n",
      "reconstraining parameters GP_regression.rbf.variance\n",
      "\n",
      "Time index:  70%|██████████████████████████████████████████████████████████████████████████████████████████████████████▉                                            | 7/10 [00:59<00:31, 10.36s/it]\u001b[Areconstraining parameters GP_regression.rbf.variance\n",
      "reconstraining parameters GP_regression.rbf.variance\n",
      "reconstraining parameters GP_regression.rbf.variance\n",
      "\n",
      "Time index:  80%|█████████████████████████████████████████████████████████████████████████████████████████████████████████████████████▌                             | 8/10 [01:13<00:23, 11.64s/it]\u001b[Areconstraining parameters GP_regression.rbf.variance\n",
      "reconstraining parameters GP_regression.rbf.variance\n",
      "reconstraining parameters GP_regression.rbf.variance\n",
      "\n",
      "Time index:  90%|████████████████████████████████████████████████████████████████████████████████████████████████████████████████████████████████████▎              | 9/10 [01:28<00:12, 12.72s/it]\u001b[Areconstraining parameters GP_regression.rbf.variance\n",
      "reconstraining parameters GP_regression.rbf.variance\n",
      "reconstraining parameters GP_regression.rbf.variance\n",
      "\n",
      "Time index: 100%|██████████████████████████████████████████████████████████████████████████████████████████████████████████████████████████████████████████████████| 10/10 [01:45<00:00, 10.58s/it]\u001b[A\n",
      "Experiment count: 100%|█████████████████████████████████████████████████████████████████████████████████████████████████████████████████████████████████████████████| 3/3 [14:55<00:00, 298.63s/it]\n"
     ]
    }
   ],
   "source": [
    "R = 3\n",
    "results = run_methods_replicates(G=G, \n",
    "                                sem=TestSEM, \n",
    "                                make_sem_estimator=build_sem_hat, \n",
    "                                base_target_variable='Y',\n",
    "                                intervention_domain = intervention_domain, \n",
    "                                methods_list = ['BO', 'DCBO', 'PIBO', 'DCPIBO'],\n",
    "                                obs_samples = None,\n",
    "                                exploration_sets = exploration_sets,\n",
    "                                priors_regret = predicted_optima_regret,\n",
    "                                total_timesteps = T,\n",
    "                                number_of_trials = N, \n",
    "                                reps = R, # Number of replicates (how many times we run each method)\n",
    "                                n_restart = 1,\n",
    "                                save_data = False,\n",
    "                                n_obs = 5, # The method samples 5 time-series for each replicate\n",
    "                                num_anchor_points = 100,\n",
    "                                sample_anchor_points = True,\n",
    "                                controlled_experiment=True)"
   ]
  },
  {
   "cell_type": "code",
   "execution_count": 14,
   "id": "6aa7e03c-974f-4a50-82f7-f329c185ba5b",
   "metadata": {},
   "outputs": [],
   "source": [
    "data = get_relevant_results(results=results,replicates=R)\n",
    "exp_optimal_outcome_values_during_trials, exp_per_trial_cost = elaborate(number_of_interventions=None, \n",
    "                                                                         n_replicates=R, \n",
    "                                                                         data=data, \n",
    "                                                                         best_objective_values=true_objective_values, \n",
    "                                                                         T=T)"
   ]
  },
  {
   "cell_type": "code",
   "execution_count": 15,
   "id": "f6e72f46-189e-46ce-9ecd-647600142bfc",
   "metadata": {},
   "outputs": [],
   "source": [
    "plot_params = {\n",
    "    \"linewidth\": 3,\n",
    "    \"linewidth_opt\": 4,\n",
    "    \"alpha\": 0.1,\n",
    "    \"xlim_max\": N,\n",
    "    \"ncols\": 5,\n",
    "    \"loc_legend\": \"lower right\",\n",
    "    \"size_ticks\": 20,\n",
    "    \"size_labels\": 20,\n",
    "    \"xlabel\": r'$\\texttt{cost}(\\mathbf{X}_{s,t}, \\mathbf{x}_{s,t})$',\n",
    "    \"labels\": {'DCPIBO': 'DCPIBO', 'PIBO': 'PIBO', 'DCBO': 'DCBO', 'BO': 'BO', 'True': r'$\\mathbb{E} \\left [Y_t \\mid \\textrm{do}(\\mathbf{X}_{s,t}^\\star = \\mathbf{x}_{s,t}^\\star) \\right]$'},\n",
    "    \"colors\": {'DCPIBO': 'blue', 'PIBO': 'green', 'DCBO': 'orange', 'BO': 'red', 'True': 'black'},\n",
    "    \"line_styles\": {'DCPIBO': 'dashdot', 'PIBO': '--', 'DCBO': '-', 'BO': '-', 'True': ':'},\n",
    "    \"width\":10\n",
    "}\n",
    "rc('text', usetex=True)\n",
    "rc('text.latex', preamble=r'\\usepackage{amssymb}')\n",
    "rc('font', family='serif')\n",
    "rc('font', size=20)"
   ]
  },
  {
   "cell_type": "code",
   "execution_count": 16,
   "id": "71ff77e3-f4be-47f7-96c1-d06bdeb122e5",
   "metadata": {
    "tags": []
   },
   "outputs": [
    {
     "data": {
      "image/png": "[encoded data removed]",
      "text/plain": [
       "<Figure size 1500x600 with 10 Axes>"
      ]
     },
     "metadata": {},
     "output_type": "display_data"
    }
   ],
   "source": [
    "# Each frame corresponds to one time-slice.\n",
    "plot_expected_opt_curve_paper(T,\n",
    "    true_objective_values,\n",
    "    exp_per_trial_cost,\n",
    "    exp_optimal_outcome_values_during_trials,\n",
    "    plot_params,  \n",
    "    fig_size = (15,5))"
   ]
  }
 ],
 "metadata": {
  "kernelspec": {
   "display_name": "Python 3 (ipykernel)",
   "language": "python",
   "name": "python3"
  },
  "language_info": {
   "codemirror_mode": {
    "name": "ipython",
    "version": 3
   },
   "file_extension": ".py",
   "mimetype": "text/x-python",
   "name": "python",
   "nbconvert_exporter": "python",
   "pygments_lexer": "ipython3",
   "version": "3.10.9"
  }
 },
 "nbformat": 4,
 "nbformat_minor": 5
}
