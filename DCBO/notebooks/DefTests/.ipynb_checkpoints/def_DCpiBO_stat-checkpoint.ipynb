{
 "cells": [
  {
   "cell_type": "markdown",
   "id": "0e1986f6-8f38-411f-bb39-bb20817ed2a1",
   "metadata": {},
   "source": [
    "# DC-$\\pi$BO - Stationary DAG and SCM"
   ]
  },
  {
   "cell_type": "markdown",
   "id": "1f285edd-c0f3-4e50-89d4-03968cc247ae",
   "metadata": {},
   "source": [
    "## Imports"
   ]
  },
  {
   "cell_type": "code",
   "execution_count": 1,
   "id": "e4a8c825-30fa-4bf4-ba3e-54e87a044740",
   "metadata": {},
   "outputs": [],
   "source": [
    "%load_ext autoreload\n",
    "%autoreload 2\n",
    "\n",
    "import sys\n",
    "sys.path.append(\"../../src/\")\n",
    "sys.path.append(\"../..\")\n",
    "\n",
    "from src.examples.example_setups import setup_stat_scm\n",
    "from src.utils.sem_utils.toy_sems import StationaryDependentSEM as StatSEM\n",
    "from src.utils.sem_utils.sem_estimate import build_sem_hat\n",
    "\n",
    "from src.experimental.experiments import run_methods_replicates\n",
    "from src.experimental.analyse_results import get_relevant_results, elaborate\n",
    "from src.utils.plotting import plot_expected_opt_curve_paper\n",
    "\n",
    "from src.methods.bo import BO\n",
    "from src.methods.dcbo import DCBO\n",
    "from src.methods.pibo import PIBO\n",
    "from src.methods.dcpibo import DCPIBO\n",
    "\n",
    "from matplotlib.pyplot import rc\n",
    "import numpy as np\n",
    "from scipy import stats\n",
    "import random\n",
    "\n",
    "random.seed(42)"
   ]
  },
  {
   "cell_type": "markdown",
   "id": "6ed59a92-85f1-4b0b-8860-313203553861",
   "metadata": {},
   "source": [
    "## Constants and such"
   ]
  },
  {
   "cell_type": "code",
   "execution_count": 2,
   "id": "3d91f36b-e719-46ee-a01b-db8df481053c",
   "metadata": {},
   "outputs": [],
   "source": [
    "T = 10 # number of time-steps\n",
    "t_axis = np.linspace(1,T,T,dtype=int) # the actual time-steps\n",
    "N = 10 # number of trials\n",
    "std_strong = 0.1 # standard deviation of the prior 𝜋 in the strong case\n",
    "std_weak = 0.5 # standard deviation of the prior 𝜋 in the weak case\n",
    "beta = 1 # set as N/10"
   ]
  },
  {
   "cell_type": "markdown",
   "id": "aafe6bfd-4349-480a-9f49-ca6f522cb8e2",
   "metadata": {
    "tags": []
   },
   "source": [
    "## Optima location"
   ]
  },
  {
   "cell_type": "code",
   "execution_count": 3,
   "id": "f0d5ef32-8998-4c9c-8e7d-f0b444b078dc",
   "metadata": {},
   "outputs": [],
   "source": [
    "a_param_good = -2.15\n",
    "b_param_good = 1\n",
    "y_good = a_param_good*t_axis+b_param_good # the line on which I assume the optima would be\n",
    "\n",
    "a_param_bad = 1\n",
    "b_param_bad = 1.5\n",
    "y_bad = a_param_bad*t_axis+b_param_bad"
   ]
  },
  {
   "cell_type": "markdown",
   "id": "2465b79c-f7bf-46fd-87e4-4aa2bf659a4f",
   "metadata": {},
   "source": [
    "## Utility Functions"
   ]
  },
  {
   "cell_type": "code",
   "execution_count": 4,
   "id": "29fce447-d245-4c29-bfed-6df391833d6f",
   "metadata": {},
   "outputs": [],
   "source": [
    "def power_list(input_list, exponent):\n",
    "    '''Raises each element of the given input_list to the desired exponent'''\n",
    "    \n",
    "    return_list = []\n",
    "    \n",
    "    for element in input_list:\n",
    "        if element >= 0:\n",
    "            raised_element = element**exponent\n",
    "        else:\n",
    "            raised_element = -(abs(element)**exponent)\n",
    "        return_list.append(raised_element)\n",
    "        \n",
    "    return return_list"
   ]
  },
  {
   "cell_type": "code",
   "execution_count": 5,
   "id": "8c6ce5da-c7df-4dec-b8df-4c99866ac6dd",
   "metadata": {},
   "outputs": [],
   "source": [
    "def compute_statistics(y_function, standard_deviation):\n",
    "    '''Computes all the necessary lists associated to the Normal Distribution'''\n",
    "    \n",
    "    return_variates = []\n",
    "    return_amps = []\n",
    "    return_pdfs = []\n",
    "    \n",
    "    for mean in y_function:\n",
    "        return_variates.append(stats.norm.rvs(mean, standard_deviation, 10))\n",
    "        \n",
    "        amp = np.linspace(mean-5*standard_deviation, mean+5*standard_deviation, 10)\n",
    "        return_amps.append(amp)\n",
    "        \n",
    "        return_pdfs.append(stats.norm.pdf(amp, mean, standard_deviation))\n",
    "    \n",
    "    return return_variates, return_amps, return_pdfs"
   ]
  },
  {
   "cell_type": "code",
   "execution_count": 6,
   "id": "d52c7dc2-0e39-41eb-b2f1-9b7d671e27e5",
   "metadata": {},
   "outputs": [],
   "source": [
    "def normalise_pdfs(pdfs_list):\n",
    "    '''Normalises the PDFs between 0 and 1'''\n",
    "    \n",
    "    return_normalised_pdfs_list = []\n",
    "    \n",
    "    for pdf_list in pdfs_list:\n",
    "        temp_list = []\n",
    "        \n",
    "        pdf_min = min(pdf_list)\n",
    "        pdf_max = max(pdf_list)\n",
    "        \n",
    "        for pdf_value in pdf_list:\n",
    "            temp_list.append(round((pdf_value-pdf_min)/(pdf_max-pdf_min),2))\n",
    "        \n",
    "        return_normalised_pdfs_list.append(temp_list)\n",
    "        \n",
    "    return return_normalised_pdfs_list"
   ]
  },
  {
   "cell_type": "code",
   "execution_count": 7,
   "id": "9b6d381c-32f2-4c37-ae59-b15868dc7e71",
   "metadata": {},
   "outputs": [],
   "source": [
    "def regret_priors(start_prior):\n",
    "    '''Adds regret'''\n",
    "    \n",
    "    return_raised_priors = []\n",
    "    \n",
    "    for i in range(1,N+1):\n",
    "        temp = []\n",
    "        gamma = beta/i\n",
    "        \n",
    "        for p_list in start_prior:\n",
    "            temp.append(power_list(p_list, gamma))\n",
    "            \n",
    "        return_raised_priors.append(temp)\n",
    "    \n",
    "    return return_raised_priors"
   ]
  },
  {
   "cell_type": "code",
   "execution_count": 8,
   "id": "07adf6a1-7996-453b-a463-a2f978d30076",
   "metadata": {},
   "outputs": [],
   "source": [
    "def predict_optima(time_steps, variates, normalised_pdfs):\n",
    "    '''Predicts the optimum for each time-step'''\n",
    "    \n",
    "    return_prediction = []\n",
    "    \n",
    "    for time_step in range(time_steps):\n",
    "        if(min(variates[time_step])+max(variates[time_step]))<0:\n",
    "            optimum = min(variates[time_step]*normalised_pdfs[time_step])\n",
    "        else:\n",
    "            optimum = max(variates[time_step]*normalised_pdfs[time_step])\n",
    "        return_prediction.append(optimum)\n",
    "        \n",
    "    return return_prediction"
   ]
  },
  {
   "cell_type": "code",
   "execution_count": 9,
   "id": "041663b3-352d-4211-b111-70045b2b83ee",
   "metadata": {},
   "outputs": [],
   "source": [
    "def predict_optima_regret(iterations, time_steps, regret_priors, normalised_pdfs):\n",
    "    '''Computes the prediction for each time-step and each iteration, according to the effect of gamma (regret)'''\n",
    "    \n",
    "    return_predictions = []\n",
    "    \n",
    "    for iteration in range(iterations):\n",
    "        temp = []\n",
    "        \n",
    "        for time_step in range(time_steps):\n",
    "            if(min(regret_priors[iteration][time_step])+max(regret_priors[iteration][time_step]))<0:\n",
    "                optimum = min(np.multiply(regret_priors[iteration][time_step], normalised_pdfs[time_step]))\n",
    "            else:\n",
    "                optimum = max(np.multiply(regret_priors[iteration][time_step], normalised_pdfs[time_step]))\n",
    "                              \n",
    "            temp.append(optimum)\n",
    "                              \n",
    "        return_predictions.append(temp)\n",
    "                              \n",
    "    return return_predictions"
   ]
  },
  {
   "cell_type": "markdown",
   "id": "99fb2702-6559-48dd-8346-fe7700a147aa",
   "metadata": {},
   "source": [
    "## Setup"
   ]
  },
  {
   "cell_type": "markdown",
   "id": "d1c74a43-e78c-4451-b908-7eaf18e6923b",
   "metadata": {},
   "source": [
    "Concerning the prior:"
   ]
  },
  {
   "cell_type": "code",
   "execution_count": 10,
   "id": "7e94562c-0112-4e9e-8073-b5a1f59652af",
   "metadata": {},
   "outputs": [],
   "source": [
    "all_variates, all_amps, all_pdfs = compute_statistics(y_good, std_strong)\n",
    "all_variates_regret = regret_priors(all_variates)\n",
    "\n",
    "all_pdfs_normalised = normalise_pdfs(all_pdfs)\n",
    "\n",
    "predicted_optima = predict_optima(T, all_variates, all_pdfs_normalised)\n",
    "predicted_optima_regret = predict_optima_regret(N, T, all_variates_regret, all_pdfs_normalised) # this are all the 𝜋s"
   ]
  },
  {
   "cell_type": "code",
   "execution_count": 11,
   "id": "5c6bdc0d-6daf-4e73-8b4a-597d38f58245",
   "metadata": {},
   "outputs": [
    {
     "data": {
      "text/plain": [
       "(10, 10)"
      ]
     },
     "execution_count": 11,
     "metadata": {},
     "output_type": "execute_result"
    }
   ],
   "source": [
    "np.shape(predicted_optima_regret)"
   ]
  },
  {
   "cell_type": "code",
   "execution_count": 12,
   "id": "fa7a1060-3a6d-4337-b9f3-273da801f834",
   "metadata": {},
   "outputs": [],
   "source": [
    "all_bad_variates, all_bad_amps, all_bad_pdfs = compute_statistics(y_bad, std_strong)\n",
    "all_bad_variates_regret = regret_priors(all_bad_variates)\n",
    "\n",
    "all_bad_pdfs_normalised = normalise_pdfs(all_bad_pdfs)\n",
    "\n",
    "predicted_bad_optima = predict_optima(T, all_bad_variates, all_bad_pdfs_normalised)\n",
    "predicted_bad_optima_regret = predict_optima_regret(N, T, all_bad_variates_regret, all_bad_pdfs_normalised)"
   ]
  },
  {
   "cell_type": "markdown",
   "id": "83091d3b-4010-4342-a021-7dfb294832fe",
   "metadata": {},
   "source": [
    "Concerning the models:"
   ]
  },
  {
   "cell_type": "code",
   "execution_count": 13,
   "id": "56ce96d7-72ac-4fc7-9bd2-dd73b374ba27",
   "metadata": {},
   "outputs": [],
   "source": [
    "init_sem, sem, dag_view, G, exploration_sets, intervention_domain, true_objective_values, optimal_interventions, all_causal_effects  = setup_stat_scm(T=T)"
   ]
  },
  {
   "cell_type": "markdown",
   "id": "f2a4d6dc-ef79-4e15-9555-bf7895de11bd",
   "metadata": {
    "tags": []
   },
   "source": [
    "## Models' executions"
   ]
  },
  {
   "cell_type": "code",
   "execution_count": 14,
   "id": "003bfa2d-c64c-4a64-8239-5040fc708d8c",
   "metadata": {},
   "outputs": [
    {
     "name": "stderr",
     "output_type": "stream",
     "text": [
      "Experiment count:   0%|                                                                                                                                                      | 0/3 [00:00<?, ?it/s]"
     ]
    },
    {
     "name": "stdout",
     "output_type": "stream",
     "text": [
      "10\n",
      "\n",
      "\t>>>BO\n",
      "\n"
     ]
    },
    {
     "name": "stderr",
     "output_type": "stream",
     "text": [
      "\n",
      "Time index:   0%|                                                                                                                                                           | 0/10 [00:00<?, ?it/s]\u001b[Areconstraining parameters GP_regression.rbf.variance\n",
      "\n",
      "Time index:  10%|██████████████▋                                                                                                                                    | 1/10 [00:00<00:01,  5.81it/s]\u001b[Areconstraining parameters GP_regression.rbf.variance\n",
      "\n",
      "Time index:  20%|█████████████████████████████▍                                                                                                                     | 2/10 [00:00<00:01,  5.42it/s]\u001b[Areconstraining parameters GP_regression.rbf.variance\n",
      "\n",
      "Time index:  30%|████████████████████████████████████████████                                                                                                       | 3/10 [00:00<00:01,  5.52it/s]\u001b[Areconstraining parameters GP_regression.rbf.variance\n",
      "\n",
      "Time index:  40%|██████████████████████████████████████████████████████████▊                                                                                        | 4/10 [00:00<00:01,  5.46it/s]\u001b[Areconstraining parameters GP_regression.rbf.variance\n",
      "\n",
      "Time index:  50%|█████████████████████████████████████████████████████████████████████████▌                                                                         | 5/10 [00:00<00:00,  5.72it/s]\u001b[Areconstraining parameters GP_regression.rbf.variance\n",
      "\n",
      "Time index:  60%|████████████████████████████████████████████████████████████████████████████████████████▏                                                          | 6/10 [00:01<00:00,  5.79it/s]\u001b[Areconstraining parameters GP_regression.rbf.variance\n",
      "\n",
      "Time index:  70%|██████████████████████████████████████████████████████████████████████████████████████████████████████▉                                            | 7/10 [00:01<00:00,  5.72it/s]\u001b[Areconstraining parameters GP_regression.rbf.variance\n",
      "\n",
      "Time index:  80%|█████████████████████████████████████████████████████████████████████████████████████████████████████████████████████▌                             | 8/10 [00:01<00:00,  5.52it/s]\u001b[Areconstraining parameters GP_regression.rbf.variance\n",
      "\n",
      "Time index:  90%|████████████████████████████████████████████████████████████████████████████████████████████████████████████████████████████████████▎              | 9/10 [00:01<00:00,  5.65it/s]\u001b[Areconstraining parameters GP_regression.rbf.variance\n",
      "\n",
      "Time index: 100%|██████████████████████████████████████████████████████████████████████████████████████████████████████████████████████████████████████████████████| 10/10 [00:01<00:00,  5.60it/s]\u001b[A\n",
      " /mnt/c/Users/lucal/Desktop/Thesis/DCBO/DCBO/notebooks/DefTests/../../src/utils/dag_utils/adjacency_matrix_utils.py:26: FutureWarning:adjacency_matrix will return a scipy.sparse array instead of a matrix in Networkx 3.0.\n"
     ]
    },
    {
     "name": "stdout",
     "output_type": "stream",
     "text": [
      "\n",
      "\t>>>DCBO\n",
      "\n"
     ]
    },
    {
     "name": "stderr",
     "output_type": "stream",
     "text": [
      " /home/luca/miniconda3/envs/MTL_DCBO_testing/lib/python3.10/site-packages/GPy/kern/src/stationary.py:168: RuntimeWarning:overflow encountered in divide\n",
      " /home/luca/miniconda3/envs/MTL_DCBO_testing/lib/python3.10/site-packages/GPy/kern/src/rbf.py:52: RuntimeWarning:overflow encountered in square\n",
      " /home/luca/miniconda3/envs/MTL_DCBO_testing/lib/python3.10/site-packages/GPy/kern/src/rbf.py:76: RuntimeWarning:invalid value encountered in multiply\n"
     ]
    },
    {
     "name": "stdout",
     "output_type": "stream",
     "text": [
      "Warning - optimization restart 2/10 failed\n",
      "Warning - optimization restart 3/10 failed\n",
      "Warning - optimization restart 4/10 failed\n",
      "Warning - optimization restart 6/10 failed\n",
      "Warning - optimization restart 9/10 failed\n",
      "Warning - optimization restart 3/10 failed\n",
      "Warning - optimization restart 4/10 failed\n",
      "Warning - optimization restart 6/10 failed\n",
      "Warning - optimization restart 7/10 failed\n",
      "Warning - optimization restart 9/10 failed\n",
      "Warning - optimization restart 1/10 failed\n",
      "Warning - optimization restart 2/10 failed\n",
      "Warning - optimization restart 5/10 failed\n",
      "Warning - optimization restart 7/10 failed\n",
      "Warning - optimization restart 1/10 failed\n",
      "Warning - optimization restart 2/10 failed\n",
      "Warning - optimization restart 3/10 failed\n",
      "Warning - optimization restart 5/10 failed\n",
      "Warning - optimization restart 7/10 failed\n"
     ]
    },
    {
     "name": "stderr",
     "output_type": "stream",
     "text": [
      " /mnt/c/Users/lucal/Desktop/Thesis/DCBO/DCBO/notebooks/DefTests/../../src/utils/dag_utils/adjacency_matrix_utils.py:26: FutureWarning:adjacency_matrix will return a scipy.sparse array instead of a matrix in Networkx 3.0.\n"
     ]
    },
    {
     "name": "stdout",
     "output_type": "stream",
     "text": [
      "Warning - optimization restart 3/10 failed\n",
      "Warning - optimization restart 4/10 failed\n",
      "Warning - optimization restart 7/10 failed\n",
      "Warning - optimization restart 9/10 failed\n",
      "Warning - optimization restart 1/10 failed\n",
      "Warning - optimization restart 2/10 failed\n",
      "Warning - optimization restart 3/10 failed\n",
      "Warning - optimization restart 5/10 failed\n",
      "Warning - optimization restart 6/10 failed\n",
      "Warning - optimization restart 9/10 failed\n",
      "Warning - optimization restart 1/10 failed\n",
      "Warning - optimization restart 3/10 failed\n",
      "Warning - optimization restart 5/10 failed\n",
      "Warning - optimization restart 6/10 failed\n",
      "Warning - optimization restart 7/10 failed\n",
      "Warning - optimization restart 8/10 failed\n",
      "Warning - optimization restart 9/10 failed\n",
      "Warning - optimization restart 10/10 failed\n",
      "Warning - optimization restart 1/10 failed\n",
      "Warning - optimization restart 2/10 failed\n",
      "Warning - optimization restart 3/10 failed\n",
      "Warning - optimization restart 5/10 failed\n",
      "Warning - optimization restart 7/10 failed\n",
      "Warning - optimization restart 8/10 failed\n",
      "Warning - optimization restart 9/10 failed\n"
     ]
    },
    {
     "name": "stderr",
     "output_type": "stream",
     "text": [
      "\n",
      "Time index:   0%|                                                                                                                                                           | 0/10 [00:00<?, ?it/s]\u001b[Areconstraining parameters GP_regression.rbf.variance\n",
      "reconstraining parameters GP_regression.rbf.variance\n",
      "reconstraining parameters GP_regression.rbf.variance\n",
      "\n",
      "Time index:  10%|██████████████▋                                                                                                                                    | 1/10 [00:03<00:34,  3.83s/it]\u001b[Areconstraining parameters GP_regression.rbf.variance\n",
      "reconstraining parameters GP_regression.rbf.variance\n",
      "reconstraining parameters GP_regression.rbf.variance\n",
      "\n",
      "Time index:  20%|█████████████████████████████▍                                                                                                                     | 2/10 [00:11<00:47,  5.89s/it]\u001b[Areconstraining parameters GP_regression.rbf.variance\n",
      "reconstraining parameters GP_regression.rbf.variance\n",
      "reconstraining parameters GP_regression.rbf.variance\n",
      "\n",
      "Time index:  30%|████████████████████████████████████████████                                                                                                       | 3/10 [00:18<00:46,  6.59s/it]\u001b[Areconstraining parameters GP_regression.rbf.variance\n",
      "reconstraining parameters GP_regression.rbf.variance\n",
      "reconstraining parameters GP_regression.rbf.variance\n",
      "\n",
      "Time index:  40%|██████████████████████████████████████████████████████████▊                                                                                        | 4/10 [00:27<00:44,  7.41s/it]\u001b[Areconstraining parameters GP_regression.rbf.variance\n",
      "reconstraining parameters GP_regression.rbf.variance\n",
      "reconstraining parameters GP_regression.rbf.variance\n",
      "\n",
      "Time index:  50%|█████████████████████████████████████████████████████████████████████████▌                                                                         | 5/10 [00:36<00:40,  8.14s/it]\u001b[Areconstraining parameters GP_regression.rbf.variance\n",
      "reconstraining parameters GP_regression.rbf.variance\n",
      "reconstraining parameters GP_regression.rbf.variance\n",
      "\n",
      "Time index:  60%|████████████████████████████████████████████████████████████████████████████████████████▏                                                          | 6/10 [00:46<00:35,  8.84s/it]\u001b[Areconstraining parameters GP_regression.rbf.variance\n",
      "reconstraining parameters GP_regression.rbf.variance\n",
      "reconstraining parameters GP_regression.rbf.variance\n",
      "\n",
      "Time index:  70%|██████████████████████████████████████████████████████████████████████████████████████████████████████▉                                            | 7/10 [00:59<00:30, 10.15s/it]\u001b[Areconstraining parameters GP_regression.rbf.variance\n",
      "reconstraining parameters GP_regression.rbf.variance\n",
      "reconstraining parameters GP_regression.rbf.variance\n",
      "\n",
      "Time index:  80%|█████████████████████████████████████████████████████████████████████████████████████████████████████████████████████▌                             | 8/10 [01:13<00:22, 11.29s/it]\u001b[Areconstraining parameters GP_regression.rbf.variance\n",
      "reconstraining parameters GP_regression.rbf.variance\n",
      "reconstraining parameters GP_regression.rbf.variance\n",
      "\n",
      "Time index:  90%|████████████████████████████████████████████████████████████████████████████████████████████████████████████████████████████████████▎              | 9/10 [01:28<00:12, 12.44s/it]\u001b[Areconstraining parameters GP_regression.rbf.variance\n",
      "reconstraining parameters GP_regression.rbf.variance\n",
      "reconstraining parameters GP_regression.rbf.variance\n",
      "\n",
      "Time index: 100%|██████████████████████████████████████████████████████████████████████████████████████████████████████████████████████████████████████████████████| 10/10 [01:44<00:00, 10.49s/it]\u001b[A\n"
     ]
    },
    {
     "name": "stdout",
     "output_type": "stream",
     "text": [
      "10\n",
      "\n",
      "\t>>>PIBO\n",
      "\n"
     ]
    },
    {
     "name": "stderr",
     "output_type": "stream",
     "text": [
      "\n",
      "Time index:   0%|                                                                                                                                                           | 0/10 [00:00<?, ?it/s]\u001b[Areconstraining parameters GP_regression.rbf.variance\n",
      "\n",
      "Time index:  10%|██████████████▋                                                                                                                                    | 1/10 [00:00<00:01,  6.89it/s]\u001b[Areconstraining parameters GP_regression.rbf.variance\n",
      "\n",
      "Time index:  20%|█████████████████████████████▍                                                                                                                     | 2/10 [00:00<00:01,  5.55it/s]\u001b[Areconstraining parameters GP_regression.rbf.variance\n",
      "\n",
      "Time index:  30%|████████████████████████████████████████████                                                                                                       | 3/10 [00:00<00:01,  5.64it/s]\u001b[Areconstraining parameters GP_regression.rbf.variance\n",
      "\n",
      "Time index:  40%|██████████████████████████████████████████████████████████▊                                                                                        | 4/10 [00:00<00:01,  5.67it/s]\u001b[Areconstraining parameters GP_regression.rbf.variance\n",
      "\n",
      "Time index:  50%|█████████████████████████████████████████████████████████████████████████▌                                                                         | 5/10 [00:00<00:00,  5.60it/s]\u001b[Areconstraining parameters GP_regression.rbf.variance\n",
      "\n",
      "Time index:  60%|████████████████████████████████████████████████████████████████████████████████████████▏                                                          | 6/10 [00:01<00:00,  5.14it/s]\u001b[Areconstraining parameters GP_regression.rbf.variance\n",
      "\n",
      "Time index:  70%|██████████████████████████████████████████████████████████████████████████████████████████████████████▉                                            | 7/10 [00:01<00:00,  5.09it/s]\u001b[Areconstraining parameters GP_regression.rbf.variance\n",
      "\n",
      "Time index:  80%|█████████████████████████████████████████████████████████████████████████████████████████████████████████████████████▌                             | 8/10 [00:01<00:00,  5.12it/s]\u001b[Areconstraining parameters GP_regression.rbf.variance\n",
      "\n",
      "Time index:  90%|████████████████████████████████████████████████████████████████████████████████████████████████████████████████████████████████████▎              | 9/10 [00:01<00:00,  5.39it/s]\u001b[Areconstraining parameters GP_regression.rbf.variance\n",
      "\n",
      "Time index: 100%|██████████████████████████████████████████████████████████████████████████████████████████████████████████████████████████████████████████████████| 10/10 [00:01<00:00,  5.32it/s]\u001b[A\n"
     ]
    },
    {
     "name": "stdout",
     "output_type": "stream",
     "text": [
      "\n",
      "\t>>>DCPIBO\n",
      "\n"
     ]
    },
    {
     "name": "stderr",
     "output_type": "stream",
     "text": [
      " /home/luca/miniconda3/envs/MTL_DCBO_testing/lib/python3.10/site-packages/GPy/kern/src/stationary.py:168: RuntimeWarning:overflow encountered in divide\n",
      " /home/luca/miniconda3/envs/MTL_DCBO_testing/lib/python3.10/site-packages/GPy/kern/src/rbf.py:52: RuntimeWarning:overflow encountered in square\n",
      " /home/luca/miniconda3/envs/MTL_DCBO_testing/lib/python3.10/site-packages/GPy/kern/src/rbf.py:76: RuntimeWarning:invalid value encountered in multiply\n"
     ]
    },
    {
     "name": "stdout",
     "output_type": "stream",
     "text": [
      "Warning - optimization restart 2/10 failed\n",
      "Warning - optimization restart 3/10 failed\n",
      "Warning - optimization restart 4/10 failed\n",
      "Warning - optimization restart 6/10 failed\n",
      "Warning - optimization restart 9/10 failed\n",
      "Warning - optimization restart 3/10 failed\n",
      "Warning - optimization restart 4/10 failed\n",
      "Warning - optimization restart 6/10 failed\n",
      "Warning - optimization restart 7/10 failed\n",
      "Warning - optimization restart 9/10 failed\n",
      "Warning - optimization restart 1/10 failed\n",
      "Warning - optimization restart 2/10 failed\n",
      "Warning - optimization restart 5/10 failed\n",
      "Warning - optimization restart 7/10 failed\n",
      "Warning - optimization restart 1/10 failed\n",
      "Warning - optimization restart 2/10 failed\n",
      "Warning - optimization restart 3/10 failed\n",
      "Warning - optimization restart 5/10 failed\n",
      "Warning - optimization restart 7/10 failed\n"
     ]
    },
    {
     "name": "stderr",
     "output_type": "stream",
     "text": [
      " /mnt/c/Users/lucal/Desktop/Thesis/DCBO/DCBO/notebooks/DefTests/../../src/utils/dag_utils/adjacency_matrix_utils.py:26: FutureWarning:adjacency_matrix will return a scipy.sparse array instead of a matrix in Networkx 3.0.\n"
     ]
    },
    {
     "name": "stdout",
     "output_type": "stream",
     "text": [
      "Warning - optimization restart 3/10 failed\n",
      "Warning - optimization restart 4/10 failed\n",
      "Warning - optimization restart 7/10 failed\n",
      "Warning - optimization restart 9/10 failed\n",
      "Warning - optimization restart 1/10 failed\n",
      "Warning - optimization restart 2/10 failed\n",
      "Warning - optimization restart 3/10 failed\n",
      "Warning - optimization restart 5/10 failed\n",
      "Warning - optimization restart 6/10 failed\n",
      "Warning - optimization restart 9/10 failed\n",
      "Warning - optimization restart 1/10 failed\n",
      "Warning - optimization restart 3/10 failed\n",
      "Warning - optimization restart 5/10 failed\n",
      "Warning - optimization restart 6/10 failed\n",
      "Warning - optimization restart 7/10 failed\n",
      "Warning - optimization restart 8/10 failed\n",
      "Warning - optimization restart 9/10 failed\n",
      "Warning - optimization restart 10/10 failed\n",
      "Warning - optimization restart 1/10 failed\n",
      "Warning - optimization restart 2/10 failed\n",
      "Warning - optimization restart 3/10 failed\n",
      "Warning - optimization restart 5/10 failed\n",
      "Warning - optimization restart 7/10 failed\n",
      "Warning - optimization restart 8/10 failed\n",
      "Warning - optimization restart 9/10 failed\n"
     ]
    },
    {
     "name": "stderr",
     "output_type": "stream",
     "text": [
      "\n",
      "Time index:   0%|                                                                                                                                                           | 0/10 [00:00<?, ?it/s]\u001b[Areconstraining parameters GP_regression.rbf.variance\n",
      "reconstraining parameters GP_regression.rbf.variance\n",
      "reconstraining parameters GP_regression.rbf.variance\n",
      "\n",
      "Time index:  10%|██████████████▋                                                                                                                                    | 1/10 [00:04<00:38,  4.22s/it]\u001b[Areconstraining parameters GP_regression.rbf.variance\n",
      "reconstraining parameters GP_regression.rbf.variance\n",
      "reconstraining parameters GP_regression.rbf.variance\n",
      "\n",
      "Time index:  20%|█████████████████████████████▍                                                                                                                     | 2/10 [00:11<00:48,  6.07s/it]\u001b[Areconstraining parameters GP_regression.rbf.variance\n",
      "reconstraining parameters GP_regression.rbf.variance\n",
      "reconstraining parameters GP_regression.rbf.variance\n",
      "\n",
      "Time index:  30%|████████████████████████████████████████████                                                                                                       | 3/10 [00:18<00:44,  6.34s/it]\u001b[Areconstraining parameters GP_regression.rbf.variance\n",
      "reconstraining parameters GP_regression.rbf.variance\n",
      "reconstraining parameters GP_regression.rbf.variance\n",
      "\n",
      "Time index:  40%|██████████████████████████████████████████████████████████▊                                                                                        | 4/10 [00:25<00:41,  6.88s/it]\u001b[Areconstraining parameters GP_regression.rbf.variance\n",
      "reconstraining parameters GP_regression.rbf.variance\n",
      "reconstraining parameters GP_regression.rbf.variance\n",
      "\n",
      "Time index:  50%|█████████████████████████████████████████████████████████████████████████▌                                                                         | 5/10 [00:34<00:37,  7.59s/it]\u001b[Areconstraining parameters GP_regression.rbf.variance\n",
      "reconstraining parameters GP_regression.rbf.variance\n",
      "reconstraining parameters GP_regression.rbf.variance\n",
      "\n",
      "Time index:  60%|████████████████████████████████████████████████████████████████████████████████████████▏                                                          | 6/10 [00:44<00:33,  8.43s/it]\u001b[Areconstraining parameters GP_regression.rbf.variance\n",
      "reconstraining parameters GP_regression.rbf.variance\n",
      "reconstraining parameters GP_regression.rbf.variance\n",
      "\n",
      "Time index:  70%|██████████████████████████████████████████████████████████████████████████████████████████████████████▉                                            | 7/10 [00:57<00:29,  9.85s/it]\u001b[Areconstraining parameters GP_regression.rbf.variance\n",
      "reconstraining parameters GP_regression.rbf.variance\n",
      "reconstraining parameters GP_regression.rbf.variance\n",
      "\n",
      "Time index:  80%|█████████████████████████████████████████████████████████████████████████████████████████████████████████████████████▌                             | 8/10 [01:11<00:22, 11.13s/it]\u001b[Areconstraining parameters GP_regression.rbf.variance\n",
      "reconstraining parameters GP_regression.rbf.variance\n",
      "reconstraining parameters GP_regression.rbf.variance\n",
      "\n",
      "Time index:  90%|████████████████████████████████████████████████████████████████████████████████████████████████████████████████████████████████████▎              | 9/10 [01:25<00:12, 12.15s/it]\u001b[Areconstraining parameters GP_regression.rbf.variance\n",
      "reconstraining parameters GP_regression.rbf.variance\n",
      "reconstraining parameters GP_regression.rbf.variance\n",
      "\n",
      "Time index: 100%|██████████████████████████████████████████████████████████████████████████████████████████████████████████████████████████████████████████████████| 10/10 [01:41<00:00, 10.18s/it]\u001b[A\n",
      "Experiment count:  33%|███████████████████████████████████████████████                                                                                              | 1/3 [04:18<08:36, 258.40s/it]"
     ]
    },
    {
     "name": "stdout",
     "output_type": "stream",
     "text": [
      "10\n",
      "\n",
      "\t>>>BO\n",
      "\n"
     ]
    },
    {
     "name": "stderr",
     "output_type": "stream",
     "text": [
      "\n",
      "Time index:   0%|                                                                                                                                                           | 0/10 [00:00<?, ?it/s]\u001b[Areconstraining parameters GP_regression.rbf.variance\n",
      "\n",
      "Time index:  10%|██████████████▋                                                                                                                                    | 1/10 [00:00<00:01,  5.06it/s]\u001b[Areconstraining parameters GP_regression.rbf.variance\n",
      "\n",
      "Time index:  20%|█████████████████████████████▍                                                                                                                     | 2/10 [00:00<00:01,  5.14it/s]\u001b[Areconstraining parameters GP_regression.rbf.variance\n",
      "\n",
      "Time index:  30%|████████████████████████████████████████████                                                                                                       | 3/10 [00:00<00:01,  4.99it/s]\u001b[Areconstraining parameters GP_regression.rbf.variance\n",
      "\n",
      "Time index:  40%|██████████████████████████████████████████████████████████▊                                                                                        | 4/10 [00:00<00:01,  4.80it/s]\u001b[Areconstraining parameters GP_regression.rbf.variance\n",
      "\n",
      "Time index:  50%|█████████████████████████████████████████████████████████████████████████▌                                                                         | 5/10 [00:01<00:01,  4.94it/s]\u001b[Areconstraining parameters GP_regression.rbf.variance\n",
      "\n",
      "Time index:  60%|████████████████████████████████████████████████████████████████████████████████████████▏                                                          | 6/10 [00:01<00:00,  4.58it/s]\u001b[Areconstraining parameters GP_regression.rbf.variance\n",
      "\n",
      "Time index:  70%|██████████████████████████████████████████████████████████████████████████████████████████████████████▉                                            | 7/10 [00:01<00:00,  4.59it/s]\u001b[Areconstraining parameters GP_regression.rbf.variance\n",
      "\n",
      "Time index:  80%|█████████████████████████████████████████████████████████████████████████████████████████████████████████████████████▌                             | 8/10 [00:01<00:00,  4.62it/s]\u001b[Areconstraining parameters GP_regression.rbf.variance\n",
      "\n",
      "Time index:  90%|████████████████████████████████████████████████████████████████████████████████████████████████████████████████████████████████████▎              | 9/10 [00:01<00:00,  4.53it/s]\u001b[Areconstraining parameters GP_regression.rbf.variance\n",
      "\n",
      "Time index: 100%|██████████████████████████████████████████████████████████████████████████████████████████████████████████████████████████████████████████████████| 10/10 [00:02<00:00,  4.66it/s]\u001b[A\n"
     ]
    },
    {
     "name": "stdout",
     "output_type": "stream",
     "text": [
      "\n",
      "\t>>>DCBO\n",
      "\n"
     ]
    },
    {
     "name": "stderr",
     "output_type": "stream",
     "text": [
      " /home/luca/miniconda3/envs/MTL_DCBO_testing/lib/python3.10/site-packages/GPy/kern/src/stationary.py:168: RuntimeWarning:overflow encountered in divide\n",
      " /home/luca/miniconda3/envs/MTL_DCBO_testing/lib/python3.10/site-packages/GPy/kern/src/rbf.py:52: RuntimeWarning:overflow encountered in square\n",
      " /home/luca/miniconda3/envs/MTL_DCBO_testing/lib/python3.10/site-packages/GPy/kern/src/rbf.py:76: RuntimeWarning:invalid value encountered in multiply\n"
     ]
    },
    {
     "name": "stdout",
     "output_type": "stream",
     "text": [
      "Warning - optimization restart 2/10 failed\n",
      "Warning - optimization restart 3/10 failed\n",
      "Warning - optimization restart 4/10 failed\n",
      "Warning - optimization restart 6/10 failed\n",
      "Warning - optimization restart 9/10 failed\n",
      "Warning - optimization restart 3/10 failed\n",
      "Warning - optimization restart 4/10 failed\n",
      "Warning - optimization restart 6/10 failed\n",
      "Warning - optimization restart 7/10 failed\n",
      "Warning - optimization restart 9/10 failed\n",
      "Warning - optimization restart 1/10 failed\n",
      "Warning - optimization restart 2/10 failed\n",
      "Warning - optimization restart 5/10 failed\n",
      "Warning - optimization restart 7/10 failed\n",
      "Warning - optimization restart 1/10 failed\n",
      "Warning - optimization restart 2/10 failed\n",
      "Warning - optimization restart 3/10 failed\n",
      "Warning - optimization restart 5/10 failed\n",
      "Warning - optimization restart 7/10 failed\n"
     ]
    },
    {
     "name": "stderr",
     "output_type": "stream",
     "text": [
      " /mnt/c/Users/lucal/Desktop/Thesis/DCBO/DCBO/notebooks/DefTests/../../src/utils/dag_utils/adjacency_matrix_utils.py:26: FutureWarning:adjacency_matrix will return a scipy.sparse array instead of a matrix in Networkx 3.0.\n"
     ]
    },
    {
     "name": "stdout",
     "output_type": "stream",
     "text": [
      "Warning - optimization restart 3/10 failed\n",
      "Warning - optimization restart 4/10 failed\n",
      "Warning - optimization restart 7/10 failed\n",
      "Warning - optimization restart 9/10 failed\n",
      "Warning - optimization restart 1/10 failed\n",
      "Warning - optimization restart 2/10 failed\n",
      "Warning - optimization restart 3/10 failed\n",
      "Warning - optimization restart 5/10 failed\n",
      "Warning - optimization restart 6/10 failed\n",
      "Warning - optimization restart 9/10 failed\n",
      "Warning - optimization restart 1/10 failed\n",
      "Warning - optimization restart 3/10 failed\n",
      "Warning - optimization restart 5/10 failed\n",
      "Warning - optimization restart 6/10 failed\n",
      "Warning - optimization restart 7/10 failed\n",
      "Warning - optimization restart 8/10 failed\n",
      "Warning - optimization restart 9/10 failed\n",
      "Warning - optimization restart 10/10 failed\n",
      "Warning - optimization restart 1/10 failed\n",
      "Warning - optimization restart 2/10 failed\n",
      "Warning - optimization restart 3/10 failed\n",
      "Warning - optimization restart 5/10 failed\n",
      "Warning - optimization restart 7/10 failed\n",
      "Warning - optimization restart 8/10 failed\n",
      "Warning - optimization restart 9/10 failed\n"
     ]
    },
    {
     "name": "stderr",
     "output_type": "stream",
     "text": [
      "\n",
      "Time index:   0%|                                                                                                                                                           | 0/10 [00:00<?, ?it/s]\u001b[Areconstraining parameters GP_regression.rbf.variance\n",
      "reconstraining parameters GP_regression.rbf.variance\n",
      "reconstraining parameters GP_regression.rbf.variance\n",
      "\n",
      "Time index:  10%|██████████████▋                                                                                                                                    | 1/10 [00:04<00:38,  4.27s/it]\u001b[Areconstraining parameters GP_regression.rbf.variance\n",
      "reconstraining parameters GP_regression.rbf.variance\n",
      "reconstraining parameters GP_regression.rbf.variance\n",
      "\n",
      "Time index:  20%|█████████████████████████████▍                                                                                                                     | 2/10 [00:10<00:43,  5.41s/it]\u001b[Areconstraining parameters GP_regression.rbf.variance\n",
      "reconstraining parameters GP_regression.rbf.variance\n",
      "reconstraining parameters GP_regression.rbf.variance\n",
      "\n",
      "Time index:  30%|████████████████████████████████████████████                                                                                                       | 3/10 [00:17<00:44,  6.35s/it]\u001b[Areconstraining parameters GP_regression.rbf.variance\n",
      "reconstraining parameters GP_regression.rbf.variance\n",
      "reconstraining parameters GP_regression.rbf.variance\n",
      "\n",
      "Time index:  40%|██████████████████████████████████████████████████████████▊                                                                                        | 4/10 [00:26<00:43,  7.22s/it]\u001b[Areconstraining parameters GP_regression.rbf.variance\n",
      "reconstraining parameters GP_regression.rbf.variance\n",
      "reconstraining parameters GP_regression.rbf.variance\n",
      "\n",
      "Time index:  50%|█████████████████████████████████████████████████████████████████████████▌                                                                         | 5/10 [00:36<00:40,  8.11s/it]\u001b[Areconstraining parameters GP_regression.rbf.variance\n",
      "reconstraining parameters GP_regression.rbf.variance\n",
      "reconstraining parameters GP_regression.rbf.variance\n",
      "\n",
      "Time index:  60%|████████████████████████████████████████████████████████████████████████████████████████▏                                                          | 6/10 [00:47<00:36,  9.11s/it]\u001b[Areconstraining parameters GP_regression.rbf.variance\n",
      "reconstraining parameters GP_regression.rbf.variance\n",
      "reconstraining parameters GP_regression.rbf.variance\n",
      "\n",
      "Time index:  70%|██████████████████████████████████████████████████████████████████████████████████████████████████████▉                                            | 7/10 [01:00<00:31, 10.55s/it]\u001b[Areconstraining parameters GP_regression.rbf.variance\n",
      "reconstraining parameters GP_regression.rbf.variance\n",
      "reconstraining parameters GP_regression.rbf.variance\n",
      "\n",
      "Time index:  80%|█████████████████████████████████████████████████████████████████████████████████████████████████████████████████████▌                             | 8/10 [01:15<00:23, 11.81s/it]\u001b[Areconstraining parameters GP_regression.rbf.variance\n",
      "reconstraining parameters GP_regression.rbf.variance\n",
      "reconstraining parameters GP_regression.rbf.variance\n",
      "\n",
      "Time index:  90%|████████████████████████████████████████████████████████████████████████████████████████████████████████████████████████████████████▎              | 9/10 [01:30<00:13, 13.04s/it]\u001b[Areconstraining parameters GP_regression.rbf.variance\n",
      "reconstraining parameters GP_regression.rbf.variance\n",
      "reconstraining parameters GP_regression.rbf.variance\n",
      "\n",
      "Time index: 100%|██████████████████████████████████████████████████████████████████████████████████████████████████████████████████████████████████████████████████| 10/10 [01:49<00:00, 10.92s/it]\u001b[A\n"
     ]
    },
    {
     "name": "stdout",
     "output_type": "stream",
     "text": [
      "10\n",
      "\n",
      "\t>>>PIBO\n",
      "\n"
     ]
    },
    {
     "name": "stderr",
     "output_type": "stream",
     "text": [
      "\n",
      "Time index:   0%|                                                                                                                                                           | 0/10 [00:00<?, ?it/s]\u001b[Areconstraining parameters GP_regression.rbf.variance\n",
      "\n",
      "Time index:  10%|██████████████▋                                                                                                                                    | 1/10 [00:00<00:01,  5.07it/s]\u001b[Areconstraining parameters GP_regression.rbf.variance\n",
      "\n",
      "Time index:  20%|█████████████████████████████▍                                                                                                                     | 2/10 [00:00<00:01,  4.83it/s]\u001b[Areconstraining parameters GP_regression.rbf.variance\n",
      "\n",
      "Time index:  30%|████████████████████████████████████████████                                                                                                       | 3/10 [00:00<00:01,  5.29it/s]\u001b[Areconstraining parameters GP_regression.rbf.variance\n",
      "\n",
      "Time index:  40%|██████████████████████████████████████████████████████████▊                                                                                        | 4/10 [00:00<00:01,  5.43it/s]\u001b[Areconstraining parameters GP_regression.rbf.variance\n",
      "\n",
      "Time index:  50%|█████████████████████████████████████████████████████████████████████████▌                                                                         | 5/10 [00:00<00:00,  5.37it/s]\u001b[Areconstraining parameters GP_regression.rbf.variance\n",
      "\n",
      "Time index:  60%|████████████████████████████████████████████████████████████████████████████████████████▏                                                          | 6/10 [00:01<00:00,  5.01it/s]\u001b[Areconstraining parameters GP_regression.rbf.variance\n",
      "\n",
      "Time index:  70%|██████████████████████████████████████████████████████████████████████████████████████████████████████▉                                            | 7/10 [00:01<00:00,  4.82it/s]\u001b[Areconstraining parameters GP_regression.rbf.variance\n",
      "\n",
      "Time index:  80%|█████████████████████████████████████████████████████████████████████████████████████████████████████████████████████▌                             | 8/10 [00:01<00:00,  4.66it/s]\u001b[Areconstraining parameters GP_regression.rbf.variance\n",
      "\n",
      "Time index:  90%|████████████████████████████████████████████████████████████████████████████████████████████████████████████████████████████████████▎              | 9/10 [00:01<00:00,  4.69it/s]\u001b[Areconstraining parameters GP_regression.rbf.variance\n",
      "\n",
      "Time index: 100%|██████████████████████████████████████████████████████████████████████████████████████████████████████████████████████████████████████████████████| 10/10 [00:02<00:00,  4.87it/s]\u001b[A\n"
     ]
    },
    {
     "name": "stdout",
     "output_type": "stream",
     "text": [
      "\n",
      "\t>>>DCPIBO\n",
      "\n"
     ]
    },
    {
     "name": "stderr",
     "output_type": "stream",
     "text": [
      " /home/luca/miniconda3/envs/MTL_DCBO_testing/lib/python3.10/site-packages/GPy/kern/src/stationary.py:168: RuntimeWarning:overflow encountered in divide\n",
      " /home/luca/miniconda3/envs/MTL_DCBO_testing/lib/python3.10/site-packages/GPy/kern/src/rbf.py:52: RuntimeWarning:overflow encountered in square\n",
      " /home/luca/miniconda3/envs/MTL_DCBO_testing/lib/python3.10/site-packages/GPy/kern/src/rbf.py:76: RuntimeWarning:invalid value encountered in multiply\n"
     ]
    },
    {
     "name": "stdout",
     "output_type": "stream",
     "text": [
      "Warning - optimization restart 2/10 failed\n",
      "Warning - optimization restart 3/10 failed\n",
      "Warning - optimization restart 4/10 failed\n",
      "Warning - optimization restart 6/10 failed\n",
      "Warning - optimization restart 9/10 failed\n",
      "Warning - optimization restart 3/10 failed\n",
      "Warning - optimization restart 4/10 failed\n",
      "Warning - optimization restart 6/10 failed\n",
      "Warning - optimization restart 7/10 failed\n",
      "Warning - optimization restart 9/10 failed\n",
      "Warning - optimization restart 1/10 failed\n",
      "Warning - optimization restart 2/10 failed\n",
      "Warning - optimization restart 5/10 failed\n",
      "Warning - optimization restart 7/10 failed\n",
      "Warning - optimization restart 1/10 failed\n",
      "Warning - optimization restart 2/10 failed\n",
      "Warning - optimization restart 3/10 failed\n",
      "Warning - optimization restart 5/10 failed\n",
      "Warning - optimization restart 7/10 failed\n"
     ]
    },
    {
     "name": "stderr",
     "output_type": "stream",
     "text": [
      " /mnt/c/Users/lucal/Desktop/Thesis/DCBO/DCBO/notebooks/DefTests/../../src/utils/dag_utils/adjacency_matrix_utils.py:26: FutureWarning:adjacency_matrix will return a scipy.sparse array instead of a matrix in Networkx 3.0.\n"
     ]
    },
    {
     "name": "stdout",
     "output_type": "stream",
     "text": [
      "Warning - optimization restart 3/10 failed\n",
      "Warning - optimization restart 4/10 failed\n",
      "Warning - optimization restart 7/10 failed\n",
      "Warning - optimization restart 9/10 failed\n",
      "Warning - optimization restart 1/10 failed\n",
      "Warning - optimization restart 2/10 failed\n",
      "Warning - optimization restart 3/10 failed\n",
      "Warning - optimization restart 5/10 failed\n",
      "Warning - optimization restart 6/10 failed\n",
      "Warning - optimization restart 9/10 failed\n",
      "Warning - optimization restart 1/10 failed\n",
      "Warning - optimization restart 3/10 failed\n",
      "Warning - optimization restart 5/10 failed\n",
      "Warning - optimization restart 6/10 failed\n",
      "Warning - optimization restart 7/10 failed\n",
      "Warning - optimization restart 8/10 failed\n",
      "Warning - optimization restart 9/10 failed\n",
      "Warning - optimization restart 10/10 failed\n",
      "Warning - optimization restart 1/10 failed\n",
      "Warning - optimization restart 2/10 failed\n",
      "Warning - optimization restart 3/10 failed\n",
      "Warning - optimization restart 5/10 failed\n",
      "Warning - optimization restart 7/10 failed\n",
      "Warning - optimization restart 8/10 failed\n",
      "Warning - optimization restart 9/10 failed\n"
     ]
    },
    {
     "name": "stderr",
     "output_type": "stream",
     "text": [
      "\n",
      "Time index:   0%|                                                                                                                                                           | 0/10 [00:00<?, ?it/s]\u001b[Areconstraining parameters GP_regression.rbf.variance\n",
      "reconstraining parameters GP_regression.rbf.variance\n",
      "reconstraining parameters GP_regression.rbf.variance\n",
      "\n",
      "Time index:  10%|██████████████▋                                                                                                                                    | 1/10 [00:04<00:38,  4.25s/it]\u001b[Areconstraining parameters GP_regression.rbf.variance\n",
      "reconstraining parameters GP_regression.rbf.variance\n",
      "reconstraining parameters GP_regression.rbf.variance\n",
      "\n",
      "Time index:  20%|█████████████████████████████▍                                                                                                                     | 2/10 [00:10<00:43,  5.40s/it]\u001b[Areconstraining parameters GP_regression.rbf.variance\n",
      "reconstraining parameters GP_regression.rbf.variance\n",
      "reconstraining parameters GP_regression.rbf.variance\n",
      "\n",
      "Time index:  30%|████████████████████████████████████████████                                                                                                       | 3/10 [00:17<00:43,  6.26s/it]\u001b[Areconstraining parameters GP_regression.rbf.variance\n",
      "reconstraining parameters GP_regression.rbf.variance\n",
      "reconstraining parameters GP_regression.rbf.variance\n",
      "\n",
      "Time index:  40%|██████████████████████████████████████████████████████████▊                                                                                        | 4/10 [00:26<00:43,  7.20s/it]\u001b[Areconstraining parameters GP_regression.rbf.variance\n",
      "reconstraining parameters GP_regression.rbf.variance\n",
      "reconstraining parameters GP_regression.rbf.variance\n",
      "\n",
      "Time index:  50%|█████████████████████████████████████████████████████████████████████████▌                                                                         | 5/10 [00:36<00:40,  8.19s/it]\u001b[Areconstraining parameters GP_regression.rbf.variance\n",
      "reconstraining parameters GP_regression.rbf.variance\n",
      "reconstraining parameters GP_regression.rbf.variance\n",
      "\n",
      "Time index:  60%|████████████████████████████████████████████████████████████████████████████████████████▏                                                          | 6/10 [00:47<00:36,  9.17s/it]\u001b[Areconstraining parameters GP_regression.rbf.variance\n",
      "reconstraining parameters GP_regression.rbf.variance\n",
      "reconstraining parameters GP_regression.rbf.variance\n",
      "\n",
      "Time index:  70%|██████████████████████████████████████████████████████████████████████████████████████████████████████▉                                            | 7/10 [01:00<00:31, 10.37s/it]\u001b[Areconstraining parameters GP_regression.rbf.variance\n",
      "reconstraining parameters GP_regression.rbf.variance\n",
      "reconstraining parameters GP_regression.rbf.variance\n",
      "\n",
      "Time index:  80%|█████████████████████████████████████████████████████████████████████████████████████████████████████████████████████▌                             | 8/10 [01:14<00:22, 11.45s/it]\u001b[Areconstraining parameters GP_regression.rbf.variance\n",
      "reconstraining parameters GP_regression.rbf.variance\n",
      "reconstraining parameters GP_regression.rbf.variance\n",
      "\n",
      "Time index:  90%|████████████████████████████████████████████████████████████████████████████████████████████████████████████████████████████████████▎              | 9/10 [01:30<00:13, 13.03s/it]\u001b[Areconstraining parameters GP_regression.rbf.variance\n",
      "reconstraining parameters GP_regression.rbf.variance\n",
      "reconstraining parameters GP_regression.rbf.variance\n",
      "\n",
      "Time index: 100%|██████████████████████████████████████████████████████████████████████████████████████████████████████████████████████████████████████████████████| 10/10 [01:48<00:00, 10.82s/it]\u001b[A\n",
      "Experiment count:  67%|██████████████████████████████████████████████████████████████████████████████████████████████                                               | 2/3 [08:51<04:26, 266.96s/it]"
     ]
    },
    {
     "name": "stdout",
     "output_type": "stream",
     "text": [
      "10\n",
      "\n",
      "\t>>>BO\n",
      "\n"
     ]
    },
    {
     "name": "stderr",
     "output_type": "stream",
     "text": [
      "\n",
      "Time index:   0%|                                                                                                                                                           | 0/10 [00:00<?, ?it/s]\u001b[Areconstraining parameters GP_regression.rbf.variance\n",
      "\n",
      "Time index:  10%|██████████████▋                                                                                                                                    | 1/10 [00:00<00:01,  5.74it/s]\u001b[Areconstraining parameters GP_regression.rbf.variance\n",
      "\n",
      "Time index:  20%|█████████████████████████████▍                                                                                                                     | 2/10 [00:00<00:01,  5.80it/s]\u001b[Areconstraining parameters GP_regression.rbf.variance\n",
      "\n",
      "Time index:  30%|████████████████████████████████████████████                                                                                                       | 3/10 [00:00<00:01,  5.82it/s]\u001b[Areconstraining parameters GP_regression.rbf.variance\n",
      "\n",
      "Time index:  40%|██████████████████████████████████████████████████████████▊                                                                                        | 4/10 [00:00<00:01,  5.45it/s]\u001b[Areconstraining parameters GP_regression.rbf.variance\n",
      "\n",
      "Time index:  50%|█████████████████████████████████████████████████████████████████████████▌                                                                         | 5/10 [00:00<00:00,  5.27it/s]\u001b[Areconstraining parameters GP_regression.rbf.variance\n",
      "\n",
      "Time index:  60%|████████████████████████████████████████████████████████████████████████████████████████▏                                                          | 6/10 [00:01<00:00,  4.95it/s]\u001b[Areconstraining parameters GP_regression.rbf.variance\n",
      "\n",
      "Time index:  70%|██████████████████████████████████████████████████████████████████████████████████████████████████████▉                                            | 7/10 [00:01<00:00,  5.01it/s]\u001b[Areconstraining parameters GP_regression.rbf.variance\n",
      "\n",
      "Time index:  80%|█████████████████████████████████████████████████████████████████████████████████████████████████████████████████████▌                             | 8/10 [00:01<00:00,  4.98it/s]\u001b[Areconstraining parameters GP_regression.rbf.variance\n",
      "\n",
      "Time index:  90%|████████████████████████████████████████████████████████████████████████████████████████████████████████████████████████████████████▎              | 9/10 [00:01<00:00,  5.14it/s]\u001b[Areconstraining parameters GP_regression.rbf.variance\n",
      "\n",
      "Time index: 100%|██████████████████████████████████████████████████████████████████████████████████████████████████████████████████████████████████████████████████| 10/10 [00:01<00:00,  5.01it/s]\u001b[A\n"
     ]
    },
    {
     "name": "stdout",
     "output_type": "stream",
     "text": [
      "\n",
      "\t>>>DCBO\n",
      "\n"
     ]
    },
    {
     "name": "stderr",
     "output_type": "stream",
     "text": [
      " /home/luca/miniconda3/envs/MTL_DCBO_testing/lib/python3.10/site-packages/GPy/kern/src/stationary.py:168: RuntimeWarning:overflow encountered in divide\n",
      " /home/luca/miniconda3/envs/MTL_DCBO_testing/lib/python3.10/site-packages/GPy/kern/src/rbf.py:52: RuntimeWarning:overflow encountered in square\n",
      " /home/luca/miniconda3/envs/MTL_DCBO_testing/lib/python3.10/site-packages/GPy/kern/src/rbf.py:76: RuntimeWarning:invalid value encountered in multiply\n"
     ]
    },
    {
     "name": "stdout",
     "output_type": "stream",
     "text": [
      "Warning - optimization restart 2/10 failed\n",
      "Warning - optimization restart 3/10 failed\n",
      "Warning - optimization restart 4/10 failed\n",
      "Warning - optimization restart 6/10 failed\n",
      "Warning - optimization restart 9/10 failed\n",
      "Warning - optimization restart 3/10 failed\n",
      "Warning - optimization restart 4/10 failed\n",
      "Warning - optimization restart 6/10 failed\n",
      "Warning - optimization restart 7/10 failed\n",
      "Warning - optimization restart 9/10 failed\n",
      "Warning - optimization restart 1/10 failed\n",
      "Warning - optimization restart 2/10 failed\n",
      "Warning - optimization restart 5/10 failed\n",
      "Warning - optimization restart 7/10 failed\n",
      "Warning - optimization restart 1/10 failed\n",
      "Warning - optimization restart 2/10 failed\n",
      "Warning - optimization restart 3/10 failed\n",
      "Warning - optimization restart 5/10 failed\n",
      "Warning - optimization restart 7/10 failed\n"
     ]
    },
    {
     "name": "stderr",
     "output_type": "stream",
     "text": [
      " /mnt/c/Users/lucal/Desktop/Thesis/DCBO/DCBO/notebooks/DefTests/../../src/utils/dag_utils/adjacency_matrix_utils.py:26: FutureWarning:adjacency_matrix will return a scipy.sparse array instead of a matrix in Networkx 3.0.\n"
     ]
    },
    {
     "name": "stdout",
     "output_type": "stream",
     "text": [
      "Warning - optimization restart 3/10 failed\n",
      "Warning - optimization restart 4/10 failed\n",
      "Warning - optimization restart 7/10 failed\n",
      "Warning - optimization restart 9/10 failed\n",
      "Warning - optimization restart 1/10 failed\n",
      "Warning - optimization restart 2/10 failed\n",
      "Warning - optimization restart 3/10 failed\n",
      "Warning - optimization restart 5/10 failed\n",
      "Warning - optimization restart 6/10 failed\n",
      "Warning - optimization restart 9/10 failed\n",
      "Warning - optimization restart 1/10 failed\n",
      "Warning - optimization restart 3/10 failed\n",
      "Warning - optimization restart 5/10 failed\n",
      "Warning - optimization restart 6/10 failed\n",
      "Warning - optimization restart 7/10 failed\n",
      "Warning - optimization restart 8/10 failed\n",
      "Warning - optimization restart 9/10 failed\n",
      "Warning - optimization restart 10/10 failed\n",
      "Warning - optimization restart 1/10 failed\n",
      "Warning - optimization restart 2/10 failed\n",
      "Warning - optimization restart 3/10 failed\n",
      "Warning - optimization restart 5/10 failed\n",
      "Warning - optimization restart 7/10 failed\n",
      "Warning - optimization restart 8/10 failed\n",
      "Warning - optimization restart 9/10 failed\n"
     ]
    },
    {
     "name": "stderr",
     "output_type": "stream",
     "text": [
      "\n",
      "Time index:   0%|                                                                                                                                                           | 0/10 [00:00<?, ?it/s]\u001b[Areconstraining parameters GP_regression.rbf.variance\n",
      "reconstraining parameters GP_regression.rbf.variance\n",
      "reconstraining parameters GP_regression.rbf.variance\n",
      "\n",
      "Time index:  10%|██████████████▋                                                                                                                                    | 1/10 [00:04<00:38,  4.29s/it]\u001b[Areconstraining parameters GP_regression.rbf.variance\n",
      "reconstraining parameters GP_regression.rbf.variance\n",
      "reconstraining parameters GP_regression.rbf.variance\n",
      "\n",
      "Time index:  20%|█████████████████████████████▍                                                                                                                     | 2/10 [00:10<00:45,  5.64s/it]\u001b[Areconstraining parameters GP_regression.rbf.variance\n",
      "reconstraining parameters GP_regression.rbf.variance\n",
      "reconstraining parameters GP_regression.rbf.variance\n",
      "\n",
      "Time index:  30%|████████████████████████████████████████████                                                                                                       | 3/10 [00:18<00:46,  6.60s/it]\u001b[Areconstraining parameters GP_regression.rbf.variance\n",
      "reconstraining parameters GP_regression.rbf.variance\n",
      "reconstraining parameters GP_regression.rbf.variance\n",
      "\n",
      "Time index:  40%|██████████████████████████████████████████████████████████▊                                                                                        | 4/10 [00:26<00:42,  7.14s/it]\u001b[Areconstraining parameters GP_regression.rbf.variance\n",
      "reconstraining parameters GP_regression.rbf.variance\n",
      "reconstraining parameters GP_regression.rbf.variance\n",
      "\n",
      "Time index:  50%|█████████████████████████████████████████████████████████████████████████▌                                                                         | 5/10 [00:35<00:38,  7.79s/it]\u001b[Areconstraining parameters GP_regression.rbf.variance\n",
      "reconstraining parameters GP_regression.rbf.variance\n",
      "reconstraining parameters GP_regression.rbf.variance\n",
      "\n",
      "Time index:  60%|████████████████████████████████████████████████████████████████████████████████████████▏                                                          | 6/10 [00:45<00:33,  8.49s/it]\u001b[Areconstraining parameters GP_regression.rbf.variance\n",
      "reconstraining parameters GP_regression.rbf.variance\n",
      "reconstraining parameters GP_regression.rbf.variance\n",
      "\n",
      "Time index:  70%|██████████████████████████████████████████████████████████████████████████████████████████████████████▉                                            | 7/10 [00:57<00:29,  9.80s/it]\u001b[Areconstraining parameters GP_regression.rbf.variance\n",
      "reconstraining parameters GP_regression.rbf.variance\n",
      "reconstraining parameters GP_regression.rbf.variance\n",
      "\n",
      "Time index:  80%|█████████████████████████████████████████████████████████████████████████████████████████████████████████████████████▌                             | 8/10 [01:10<00:21, 10.84s/it]\u001b[Areconstraining parameters GP_regression.rbf.variance\n",
      "reconstraining parameters GP_regression.rbf.variance\n",
      "reconstraining parameters GP_regression.rbf.variance\n",
      "\n",
      "Time index:  90%|████████████████████████████████████████████████████████████████████████████████████████████████████████████████████████████████████▎              | 9/10 [01:24<00:11, 11.75s/it]\u001b[Areconstraining parameters GP_regression.rbf.variance\n",
      "reconstraining parameters GP_regression.rbf.variance\n",
      "reconstraining parameters GP_regression.rbf.variance\n",
      "\n",
      "Time index: 100%|██████████████████████████████████████████████████████████████████████████████████████████████████████████████████████████████████████████████████| 10/10 [01:40<00:00, 10.03s/it]\u001b[A\n"
     ]
    },
    {
     "name": "stdout",
     "output_type": "stream",
     "text": [
      "10\n",
      "\n",
      "\t>>>PIBO\n",
      "\n"
     ]
    },
    {
     "name": "stderr",
     "output_type": "stream",
     "text": [
      "\n",
      "Time index:   0%|                                                                                                                                                           | 0/10 [00:00<?, ?it/s]\u001b[Areconstraining parameters GP_regression.rbf.variance\n",
      "\n",
      "Time index:  10%|██████████████▋                                                                                                                                    | 1/10 [00:00<00:01,  5.64it/s]\u001b[Areconstraining parameters GP_regression.rbf.variance\n",
      "\n",
      "Time index:  20%|█████████████████████████████▍                                                                                                                     | 2/10 [00:00<00:01,  5.33it/s]\u001b[Areconstraining parameters GP_regression.rbf.variance\n",
      "\n",
      "Time index:  30%|████████████████████████████████████████████                                                                                                       | 3/10 [00:00<00:01,  5.04it/s]\u001b[Areconstraining parameters GP_regression.rbf.variance\n",
      "\n",
      "Time index:  40%|██████████████████████████████████████████████████████████▊                                                                                        | 4/10 [00:00<00:01,  5.08it/s]\u001b[Areconstraining parameters GP_regression.rbf.variance\n",
      "\n",
      "Time index:  50%|█████████████████████████████████████████████████████████████████████████▌                                                                         | 5/10 [00:01<00:01,  4.59it/s]\u001b[Areconstraining parameters GP_regression.rbf.variance\n",
      "\n",
      "Time index:  60%|████████████████████████████████████████████████████████████████████████████████████████▏                                                          | 6/10 [00:01<00:00,  4.42it/s]\u001b[Areconstraining parameters GP_regression.rbf.variance\n",
      "\n",
      "Time index:  70%|██████████████████████████████████████████████████████████████████████████████████████████████████████▉                                            | 7/10 [00:01<00:00,  4.80it/s]\u001b[Areconstraining parameters GP_regression.rbf.variance\n",
      "\n",
      "Time index:  80%|█████████████████████████████████████████████████████████████████████████████████████████████████████████████████████▌                             | 8/10 [00:01<00:00,  4.56it/s]\u001b[Areconstraining parameters GP_regression.rbf.variance\n",
      "\n",
      "Time index:  90%|████████████████████████████████████████████████████████████████████████████████████████████████████████████████████████████████████▎              | 9/10 [00:01<00:00,  4.60it/s]\u001b[Areconstraining parameters GP_regression.rbf.variance\n",
      "\n",
      "Time index: 100%|██████████████████████████████████████████████████████████████████████████████████████████████████████████████████████████████████████████████████| 10/10 [00:02<00:00,  4.78it/s]\u001b[A\n"
     ]
    },
    {
     "name": "stdout",
     "output_type": "stream",
     "text": [
      "\n",
      "\t>>>DCPIBO\n",
      "\n"
     ]
    },
    {
     "name": "stderr",
     "output_type": "stream",
     "text": [
      " /home/luca/miniconda3/envs/MTL_DCBO_testing/lib/python3.10/site-packages/GPy/kern/src/stationary.py:168: RuntimeWarning:overflow encountered in divide\n",
      " /home/luca/miniconda3/envs/MTL_DCBO_testing/lib/python3.10/site-packages/GPy/kern/src/rbf.py:52: RuntimeWarning:overflow encountered in square\n",
      " /home/luca/miniconda3/envs/MTL_DCBO_testing/lib/python3.10/site-packages/GPy/kern/src/rbf.py:76: RuntimeWarning:invalid value encountered in multiply\n"
     ]
    },
    {
     "name": "stdout",
     "output_type": "stream",
     "text": [
      "Warning - optimization restart 2/10 failed\n",
      "Warning - optimization restart 3/10 failed\n",
      "Warning - optimization restart 4/10 failed\n",
      "Warning - optimization restart 6/10 failed\n",
      "Warning - optimization restart 9/10 failed\n",
      "Warning - optimization restart 3/10 failed\n",
      "Warning - optimization restart 4/10 failed\n",
      "Warning - optimization restart 6/10 failed\n",
      "Warning - optimization restart 7/10 failed\n",
      "Warning - optimization restart 9/10 failed\n",
      "Warning - optimization restart 1/10 failed\n",
      "Warning - optimization restart 2/10 failed\n",
      "Warning - optimization restart 5/10 failed\n",
      "Warning - optimization restart 7/10 failed\n",
      "Warning - optimization restart 1/10 failed\n",
      "Warning - optimization restart 2/10 failed\n",
      "Warning - optimization restart 3/10 failed\n",
      "Warning - optimization restart 5/10 failed\n",
      "Warning - optimization restart 7/10 failed\n"
     ]
    },
    {
     "name": "stderr",
     "output_type": "stream",
     "text": [
      " /mnt/c/Users/lucal/Desktop/Thesis/DCBO/DCBO/notebooks/DefTests/../../src/utils/dag_utils/adjacency_matrix_utils.py:26: FutureWarning:adjacency_matrix will return a scipy.sparse array instead of a matrix in Networkx 3.0.\n"
     ]
    },
    {
     "name": "stdout",
     "output_type": "stream",
     "text": [
      "Warning - optimization restart 3/10 failed\n",
      "Warning - optimization restart 4/10 failed\n",
      "Warning - optimization restart 7/10 failed\n",
      "Warning - optimization restart 9/10 failed\n",
      "Warning - optimization restart 1/10 failed\n",
      "Warning - optimization restart 2/10 failed\n",
      "Warning - optimization restart 3/10 failed\n",
      "Warning - optimization restart 5/10 failed\n",
      "Warning - optimization restart 6/10 failed\n",
      "Warning - optimization restart 9/10 failed\n",
      "Warning - optimization restart 1/10 failed\n",
      "Warning - optimization restart 3/10 failed\n",
      "Warning - optimization restart 5/10 failed\n",
      "Warning - optimization restart 6/10 failed\n",
      "Warning - optimization restart 7/10 failed\n",
      "Warning - optimization restart 8/10 failed\n",
      "Warning - optimization restart 9/10 failed\n",
      "Warning - optimization restart 10/10 failed\n",
      "Warning - optimization restart 1/10 failed\n",
      "Warning - optimization restart 2/10 failed\n",
      "Warning - optimization restart 3/10 failed\n",
      "Warning - optimization restart 5/10 failed\n",
      "Warning - optimization restart 7/10 failed\n",
      "Warning - optimization restart 8/10 failed\n",
      "Warning - optimization restart 9/10 failed\n"
     ]
    },
    {
     "name": "stderr",
     "output_type": "stream",
     "text": [
      "\n",
      "Time index:   0%|                                                                                                                                                           | 0/10 [00:00<?, ?it/s]\u001b[Areconstraining parameters GP_regression.rbf.variance\n",
      "reconstraining parameters GP_regression.rbf.variance\n",
      "reconstraining parameters GP_regression.rbf.variance\n",
      "\n",
      "Time index:  10%|██████████████▋                                                                                                                                    | 1/10 [00:04<00:37,  4.21s/it]\u001b[Areconstraining parameters GP_regression.rbf.variance\n",
      "reconstraining parameters GP_regression.rbf.variance\n",
      "reconstraining parameters GP_regression.rbf.variance\n",
      "\n",
      "Time index:  20%|█████████████████████████████▍                                                                                                                     | 2/10 [00:10<00:44,  5.52s/it]\u001b[Areconstraining parameters GP_regression.rbf.variance\n",
      "reconstraining parameters GP_regression.rbf.variance\n",
      "reconstraining parameters GP_regression.rbf.variance\n",
      "\n",
      "Time index:  30%|████████████████████████████████████████████                                                                                                       | 3/10 [00:18<00:46,  6.61s/it]\u001b[Areconstraining parameters GP_regression.rbf.variance\n",
      "reconstraining parameters GP_regression.rbf.variance\n",
      "reconstraining parameters GP_regression.rbf.variance\n",
      "\n",
      "Time index:  40%|██████████████████████████████████████████████████████████▊                                                                                        | 4/10 [00:26<00:42,  7.14s/it]\u001b[Areconstraining parameters GP_regression.rbf.variance\n",
      "reconstraining parameters GP_regression.rbf.variance\n",
      "reconstraining parameters GP_regression.rbf.variance\n",
      "\n",
      "Time index:  50%|█████████████████████████████████████████████████████████████████████████▌                                                                         | 5/10 [00:35<00:39,  7.81s/it]\u001b[Areconstraining parameters GP_regression.rbf.variance\n",
      "reconstraining parameters GP_regression.rbf.variance\n",
      "reconstraining parameters GP_regression.rbf.variance\n",
      "\n",
      "Time index:  60%|████████████████████████████████████████████████████████████████████████████████████████▏                                                          | 6/10 [00:45<00:33,  8.44s/it]\u001b[Areconstraining parameters GP_regression.rbf.variance\n",
      "reconstraining parameters GP_regression.rbf.variance\n",
      "reconstraining parameters GP_regression.rbf.variance\n",
      "\n",
      "Time index:  70%|██████████████████████████████████████████████████████████████████████████████████████████████████████▉                                            | 7/10 [00:56<00:28,  9.53s/it]\u001b[Areconstraining parameters GP_regression.rbf.variance\n",
      "reconstraining parameters GP_regression.rbf.variance\n",
      "reconstraining parameters GP_regression.rbf.variance\n",
      "\n",
      "Time index:  80%|█████████████████████████████████████████████████████████████████████████████████████████████████████████████████████▌                             | 8/10 [01:08<00:20, 10.30s/it]\u001b[Areconstraining parameters GP_regression.rbf.variance\n",
      "reconstraining parameters GP_regression.rbf.variance\n",
      "reconstraining parameters GP_regression.rbf.variance\n",
      "\n",
      "Time index:  90%|████████████████████████████████████████████████████████████████████████████████████████████████████████████████████████████████████▎              | 9/10 [01:21<00:11, 11.16s/it]\u001b[Areconstraining parameters GP_regression.rbf.variance\n",
      "reconstraining parameters GP_regression.rbf.variance\n",
      "reconstraining parameters GP_regression.rbf.variance\n",
      "\n",
      "Time index: 100%|██████████████████████████████████████████████████████████████████████████████████████████████████████████████████████████████████████████████████| 10/10 [01:36<00:00,  9.61s/it]\u001b[A\n",
      "Experiment count: 100%|█████████████████████████████████████████████████████████████████████████████████████████████████████████████████████████████████████████████| 3/3 [13:02<00:00, 261.00s/it]\n"
     ]
    }
   ],
   "source": [
    "R = 3\n",
    "results = run_methods_replicates(G=G, \n",
    "                                sem=StatSEM, \n",
    "                                make_sem_estimator=build_sem_hat, \n",
    "                                base_target_variable='Y',\n",
    "                                intervention_domain = intervention_domain, \n",
    "                                methods_list = ['BO', 'DCBO', 'PIBO', 'DCPIBO'],\n",
    "                                obs_samples = None,\n",
    "                                exploration_sets = exploration_sets,\n",
    "                                priors_regret = predicted_optima_regret,\n",
    "                                total_timesteps = T,\n",
    "                                number_of_trials = N, \n",
    "                                reps = R, # Number of replicates (how many times we run each method)\n",
    "                                n_restart = 1,\n",
    "                                save_data = False,\n",
    "                                n_obs = 5, # The method samples 5 time-series for each replicate\n",
    "                                num_anchor_points = 100,\n",
    "                                sample_anchor_points = True,\n",
    "                                controlled_experiment=True)"
   ]
  },
  {
   "cell_type": "code",
   "execution_count": 15,
   "id": "60db13c8-620c-478e-b6b7-ab21ff341c75",
   "metadata": {},
   "outputs": [],
   "source": [
    "data = get_relevant_results(results=results,replicates=R)\n",
    "exp_optimal_outcome_values_during_trials, exp_per_trial_cost = elaborate(number_of_interventions=None, \n",
    "                                                                         n_replicates=R, \n",
    "                                                                         data=data, \n",
    "                                                                         best_objective_values=true_objective_values, \n",
    "                                                                         T=T)"
   ]
  },
  {
   "cell_type": "code",
   "execution_count": 16,
   "id": "24ee70aa-7613-4c32-a71a-244aba167a61",
   "metadata": {},
   "outputs": [],
   "source": [
    "plot_params = {\n",
    "    \"linewidth\": 3,\n",
    "    \"linewidth_opt\": 4,\n",
    "    \"alpha\": 0.1,\n",
    "    \"xlim_max\": N,\n",
    "    \"ncols\": 5,\n",
    "    \"loc_legend\": \"lower right\",\n",
    "    \"size_ticks\": 20,\n",
    "    \"size_labels\": 20,\n",
    "    \"xlabel\": r'$\\texttt{cost}(\\mathbf{X}_{s,t}, \\mathbf{x}_{s,t})$',\n",
    "    \"labels\": {'DCPIBO': 'DCPIBO', 'PIBO': 'PIBO', 'DCBO': 'DCBO', 'BO': 'BO', 'True': r'$\\mathbb{E} \\left [Y_t \\mid \\textrm{do}(\\mathbf{X}_{s,t}^\\star = \\mathbf{x}_{s,t}^\\star) \\right]$'},\n",
    "    \"colors\": {'DCPIBO': 'blue', 'PIBO': 'green', 'DCBO': 'orange', 'BO': 'red', 'True': 'black'},\n",
    "    \"line_styles\": {'DCPIBO': 'dashdot', 'PIBO': '--', 'DCBO': '-', 'BO': '-', 'True': ':'},\n",
    "    \"width\":10\n",
    "}\n",
    "rc('text', usetex=True)\n",
    "rc('text.latex', preamble=r'\\usepackage{amssymb}')\n",
    "rc('font', family='serif')\n",
    "rc('font', size=20)"
   ]
  },
  {
   "cell_type": "code",
   "execution_count": 19,
   "id": "ccd4e5bd-b261-4256-8a60-984f87ddf46b",
   "metadata": {
    "tags": []
   },
   "outputs": [
    {
     "data": {
      "image/png": "[encoded data removed]",
      "text/plain": [
       "<Figure size 1500x600 with 10 Axes>"
      ]
     },
     "metadata": {},
     "output_type": "display_data"
    }
   ],
   "source": [
    "# Each frame corresponds to one time-slice.\n",
    "plot_expected_opt_curve_paper(T,\n",
    "    true_objective_values,\n",
    "    exp_per_trial_cost,\n",
    "    exp_optimal_outcome_values_during_trials,\n",
    "    plot_params,  \n",
    "    fig_size = (15,5))"
   ]
  },
  {
   "cell_type": "code",
   "execution_count": null,
   "id": "b7642937-e8e8-4245-afef-6cfcfea24691",
   "metadata": {},
   "outputs": [],
   "source": []
  }
 ],
 "metadata": {
  "kernelspec": {
   "display_name": "Python 3 (ipykernel)",
   "language": "python",
   "name": "python3"
  },
  "language_info": {
   "codemirror_mode": {
    "name": "ipython",
    "version": 3
   },
   "file_extension": ".py",
   "mimetype": "text/x-python",
   "name": "python",
   "nbconvert_exporter": "python",
   "pygments_lexer": "ipython3",
   "version": "3.10.9"
  }
 },
 "nbformat": 4,
 "nbformat_minor": 5
}
