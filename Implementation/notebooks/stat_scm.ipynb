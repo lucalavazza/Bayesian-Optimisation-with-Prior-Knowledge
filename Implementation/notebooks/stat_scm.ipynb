{
 "cells": [
  {
   "cell_type": "markdown",
   "metadata": {},
   "source": [
    "# Stationary SCM and DAG (STAT.) from figure 1 in paper"
   ]
  },
  {
   "cell_type": "code",
   "execution_count": 1,
   "metadata": {
    "tags": []
   },
   "outputs": [],
   "source": [
    "%load_ext autoreload\n",
    "%autoreload 2\n",
    "\n",
    "import sys\n",
    "sys.path.append(\"../src/\")\n",
    "sys.path.append(\"..\")\n",
    "\n",
    "from src.examples.example_setups import setup_stat_scm\n",
    "from src.utils.sequential_sampling import sequentially_sample_model\n",
    "from src.utils.sem_utils.toy_sems import StationaryDependentSEM as StatSEM\n",
    "from src.utils.plotting import plot_outcome\n",
    "from src.utils.sem_utils.sem_estimate import build_sem_hat\n",
    "from src.utils.utilities import powerset, get_monte_carlo_expectation\n",
    "from src.utils.sequential_intervention_functions import make_sequential_intervention_dict\n",
    "\n",
    "from numpy.random import seed\n",
    "from numpy import zeros\n",
    "\n",
    "# Models\n",
    "from src.methods.bo import BO\n",
    "from src.methods.cbo import CBO\n",
    "from src.methods.abo import ABO\n",
    "from src.methods.dcbo import DCBO\n",
    "\n",
    "seed(seed=0)"
   ]
  },
  {
   "cell_type": "markdown",
   "metadata": {
    "tags": []
   },
   "source": [
    "## Sample SEM to get observational samples"
   ]
  },
  {
   "cell_type": "code",
   "execution_count": 2,
   "metadata": {
    "tags": []
   },
   "outputs": [],
   "source": [
    "T = 3"
   ]
  },
  {
   "cell_type": "code",
   "execution_count": 3,
   "metadata": {},
   "outputs": [],
   "source": [
    "init_sem, sem, dag_view, G, exploration_sets, intervention_domain, true_objective_values, optimal_interventions, all_causal_effects  = setup_stat_scm(T=T)"
   ]
  },
  {
   "cell_type": "markdown",
   "metadata": {},
   "source": [
    "Notice that we make use of two types of structural equations models: `init_sem` and `sem`. The former concerns interactions with the first time-slice in the DBN, which has no incoming edges from the previous time-slices, and is only active at $t=0$. For all other time-slices i.e. when $t>0$ the `sem` model is used."
   ]
  },
  {
   "cell_type": "code",
   "execution_count": null,
   "metadata": {},
   "outputs": [],
   "source": [
    "dag_view"
   ]
  },
  {
   "cell_type": "markdown",
   "metadata": {},
   "source": [
    "The above DAG is the graphical structure we will be working with and is faithful to the one used in figure one in the paper. `dag` is a networkx object i.e."
   ]
  },
  {
   "cell_type": "code",
   "execution_count": null,
   "metadata": {},
   "outputs": [],
   "source": [
    "# Contains the exploration sets we will be investigating\n",
    "print(\"Exploration sets:\", exploration_sets)\n",
    "# The intervention domains for the manipulative variables\n",
    "print(\"Intervention domains:\", intervention_domain) \n",
    "# The true outcome values of Y given an optimal intervention on the three time-slices\n",
    "print(\"True optimal outcome values:\", [r\"y^*_{} = {}\".format(t,val.round(3)) for t,val in enumerate(true_objective_values)])\n",
    "# Number of trials\n",
    "N = 10"
   ]
  },
  {
   "cell_type": "code",
   "execution_count": null,
   "metadata": {},
   "outputs": [],
   "source": [
    "# Number of independent samples (samples here are the time-series on the horizontal) per time-index\n",
    "# È \\mathcal{D}^O, i.e. l'observational dataset\n",
    "D_O = sequentially_sample_model(init_sem,\n",
    "                                sem,\n",
    "                                total_timesteps=T,\n",
    "                                sample_count=20, # How many samples we take per node in each time-slice\n",
    "                                epsilon=None) # If we employ a noise model or not\n",
    "# print(D_O)"
   ]
  },
  {
   "cell_type": "code",
   "execution_count": null,
   "metadata": {},
   "outputs": [],
   "source": [
    "# Simulate some interventional data\n",
    "\n",
    "# È \\mathcal{D}^I, i.e. l'interventional dataset\n",
    "\n",
    "D_I = {k: None for k in powerset([\"X\", \"Z\"])}\n",
    "\"\"\"\n",
    "do(Z_0)\n",
    "\"\"\"\n",
    "interv = make_sequential_intervention_dict(G,T)\n",
    "# Univariate intervention at time 0\n",
    "interv[\"Z\"][0] = 1.0\n",
    "static_noise_model = {k: zeros(T) for k in [\"X\", \"Z\", \"Y\"]}\n",
    "# Sample this model with one intervention, and no noise\n",
    "intervention_samples = sequentially_sample_model(\n",
    "    init_sem,\n",
    "    sem,\n",
    "    total_timesteps=T,\n",
    "    interventions=interv,\n",
    "    sample_count=1,\n",
    "    epsilon=static_noise_model\n",
    ")\n",
    "\n",
    "# Note: we obvs don't need to take MC samples if noise-model is zero\n",
    "D_I[(\"Z\",)] = get_monte_carlo_expectation(intervention_samples)"
   ]
  },
  {
   "cell_type": "markdown",
   "metadata": {},
   "source": [
    "The above observation samples contained in `D_obs` are sequential in the sense that the sample function generates each column per variable, conditional on the column samples at $t-1$."
   ]
  },
  {
   "cell_type": "markdown",
   "metadata": {},
   "source": [
    "## Explore optimization methods"
   ]
  },
  {
   "cell_type": "markdown",
   "metadata": {},
   "source": [
    "In all these examples we do not employ any interventional data, just observational."
   ]
  },
  {
   "cell_type": "markdown",
   "metadata": {
    "tags": []
   },
   "source": [
    "### Vanilla Bayesian Optimization "
   ]
  },
  {
   "cell_type": "code",
   "execution_count": null,
   "metadata": {
    "tags": []
   },
   "outputs": [],
   "source": [
    "# Setup the input parameters to be used with the Bayesian optimization\n",
    "BO_input_params = {\n",
    "    \"G\":G,\n",
    "    \"sem\": StatSEM,\n",
    "    \"base_target_variable\": \"Y\",\n",
    "    \"observation_samples\": D_O, # Observational samples\n",
    "    \"intervention_domain\": intervention_domain,\n",
    "    \"intervention_samples\":None,   \n",
    "    \"number_of_trials\": N,\n",
    "    \"optimal_assigned_blankets\": None,\n",
    "    \"sample_anchor_points\": True,\n",
    "    \"seed_anchor_points\": 1,\n",
    "    \"change_points\": None\n",
    "}\n",
    "# Run Bayesian optimization\n",
    "bo = BO(**BO_input_params)\n",
    "bo.run()"
   ]
  },
  {
   "cell_type": "code",
   "execution_count": null,
   "metadata": {},
   "outputs": [],
   "source": [
    "# bo.assigned_blanket"
   ]
  },
  {
   "cell_type": "code",
   "execution_count": null,
   "metadata": {},
   "outputs": [],
   "source": [
    "plot_outcome(T,N,outcomes=[bo.optimal_outcome_values_during_trials],labels=['BO'],true_objective_values=true_objective_values)"
   ]
  },
  {
   "cell_type": "code",
   "execution_count": null,
   "metadata": {},
   "outputs": [],
   "source": [
    "# print(true_objective_values)"
   ]
  },
  {
   "cell_type": "code",
   "execution_count": null,
   "metadata": {},
   "outputs": [],
   "source": [
    "# import numpy as np\n",
    "# print(bo.optimal_outcome_values_during_trials)\n",
    "# print('--------------------------------')\n",
    "# print(np.shape(bo.optimal_outcome_values_during_trials))\n",
    "# print('--------------------------------')\n",
    "# print(bo.optimal_outcome_values_during_trials[0][9])\n",
    "\n",
    "# print('--------------------------------')\n",
    "# print('--------------------------------')\n",
    "\n",
    "# bo_count=np.linspace(0,19,20,dtype=int)\n",
    "# bo_opts_def=[]\n",
    "\n",
    "# for i in bo_count:\n",
    "#     bo_opts_def.append(bo.optimal_outcome_values_during_trials[i][9])\n",
    "    \n",
    "# print(bo_opts_def)\n",
    "# print('--------------------------------')\n",
    "# print(len(bo_opts_def))"
   ]
  },
  {
   "cell_type": "markdown",
   "metadata": {
    "tags": []
   },
   "source": [
    "### Causal Bayesian Optimization\n",
    "CBO has one extra parameter (though there are many others which we are not demonstrating in this demo) which is the SEM estimator method `build_sem_hat`. It estimates a SEM model from the observational data."
   ]
  },
  {
   "cell_type": "code",
   "execution_count": null,
   "metadata": {},
   "outputs": [],
   "source": [
    "\n",
    "CBO_input_params = {\n",
    "    \"G\": G,\n",
    "    \"sem\": StatSEM,\n",
    "    \"base_target_variable\": \"Y\",\n",
    "    \"make_sem_estimator\": build_sem_hat,\n",
    "    \"exploration_sets\":exploration_sets,\n",
    "    \"observation_samples\": D_O,\n",
    "    \"intervention_samples\":D_I, # Interventional data as well\n",
    "    \"intervention_domain\": intervention_domain,\n",
    "    \"intervention_samples\":None,\n",
    "    \"number_of_trials\": N,\n",
    "    \"sample_anchor_points\": True,\n",
    "    \"seed_anchor_points\": 1,\n",
    "    \"debug_mode\":False,\n",
    "    \"ground_truth\":all_causal_effects\n",
    "}"
   ]
  },
  {
   "cell_type": "code",
   "execution_count": null,
   "metadata": {},
   "outputs": [],
   "source": [
    "cbo = CBO(**CBO_input_params)\n",
    "cbo.run()"
   ]
  },
  {
   "cell_type": "code",
   "execution_count": null,
   "metadata": {},
   "outputs": [],
   "source": [
    "plot_outcome(T,N,outcomes=[bo.optimal_outcome_values_during_trials, cbo.optimal_outcome_values_during_trials],labels=['BO', 'CBO'],true_objective_values=true_objective_values)"
   ]
  },
  {
   "cell_type": "markdown",
   "metadata": {},
   "source": [
    "### Dynamic Causal Bayesian Optimization"
   ]
  },
  {
   "cell_type": "markdown",
   "metadata": {},
   "source": [
    "DCBO has the same input parameters as CBO. But they work very differently under the hood. DCBO takes 'horizontal' information into account i.e. is able to transfer information between time-slices. CBO has no notion of time."
   ]
  },
  {
   "cell_type": "code",
   "execution_count": null,
   "metadata": {},
   "outputs": [],
   "source": [
    "dcbo = DCBO(**CBO_input_params)\n",
    "dcbo.run()"
   ]
  },
  {
   "cell_type": "code",
   "execution_count": null,
   "metadata": {},
   "outputs": [],
   "source": [
    "plot_outcome(T,N,outcomes=[bo.optimal_outcome_values_during_trials, cbo.optimal_outcome_values_during_trials, dcbo.optimal_outcome_values_during_trials],labels=['BO', 'CBO', 'DCBO'],true_objective_values=true_objective_values)"
   ]
  },
  {
   "cell_type": "markdown",
   "metadata": {},
   "source": [
    "Only print DCBO"
   ]
  },
  {
   "cell_type": "code",
   "execution_count": null,
   "metadata": {},
   "outputs": [],
   "source": [
    "plot_outcome(T,N,outcomes=[dcbo.optimal_outcome_values_during_trials],labels=['DCBO'],true_objective_values=true_objective_values)"
   ]
  },
  {
   "cell_type": "code",
   "execution_count": null,
   "metadata": {},
   "outputs": [],
   "source": [
    "# import numpy as np\n",
    "# print(dcbo.optimal_outcome_values_during_trials)\n",
    "# print('--------------------------------')\n",
    "# print(np.shape(dcbo.optimal_outcome_values_during_trials))\n",
    "# print('--------------------------------')\n",
    "# print(dcbo.optimal_outcome_values_during_trials[0][9])\n",
    "\n",
    "# print('--------------------------------')\n",
    "# print('--------------------------------')\n",
    "\n",
    "# count=np.linspace(0,19,20,dtype=int)\n",
    "# opts_def=[]\n",
    "\n",
    "# for i in count:\n",
    "#     opts_def.append(dcbo.optimal_outcome_values_during_trials[i][9])\n",
    "    \n",
    "# print(opts_def)\n",
    "# print('--------------------------------')\n",
    "# print(len(opts_def))"
   ]
  }
 ],
 "metadata": {
  "interpreter": {
   "hash": "aaa96eb265c32c2b50eaffc5e0bc3c80016276efa552bb99d04c94d0e8842f70"
  },
  "kernelspec": {
   "display_name": "Python 3 (ipykernel)",
   "language": "python",
   "name": "python3"
  },
  "language_info": {
   "codemirror_mode": {
    "name": "ipython",
    "version": 3
   },
   "file_extension": ".py",
   "mimetype": "text/x-python",
   "name": "python",
   "nbconvert_exporter": "python",
   "pygments_lexer": "ipython3",
   "version": "3.10.9"
  }
 },
 "nbformat": 4,
 "nbformat_minor": 4
}
