{
 "cells": [
  {
   "cell_type": "markdown",
   "id": "e12c9b21-e4b9-4b32-9e4f-6350179a2c7e",
   "metadata": {},
   "source": [
    "# DC$\\pi$BO - Stationary DAG and SCM (IND, i.e. X acts directly on Y, and not on Z)"
   ]
  },
  {
   "cell_type": "markdown",
   "id": "eb687c48-f12b-4524-ba01-ec10ae4b9f1c",
   "metadata": {
    "tags": []
   },
   "source": [
    "## Imports"
   ]
  },
  {
   "cell_type": "code",
   "execution_count": 1,
   "id": "1acda27c-5be7-40e8-a533-0da91d28bf47",
   "metadata": {},
   "outputs": [],
   "source": [
    "%load_ext autoreload\n",
    "%autoreload 2\n",
    "\n",
    "import sys\n",
    "sys.path.append(\"../../src/\")\n",
    "sys.path.append(\"../..\")\n",
    "\n",
    "from src.examples.example_setups import setup_ind_scm\n",
    "from src.utils.sem_utils.toy_sems import StationaryIndependentSEM as IndSEM\n",
    "from src.utils.sem_utils.sem_estimate import build_sem_hat\n",
    "\n",
    "from src.experimental.experiments import run_methods_replicates\n",
    "from src.experimental.analyse_results import get_relevant_results, elaborate, gap_metric_standard, get_common_initial_values, get_converge_trial\n",
    "from src.utils.plotting import plot_expected_opt_curve_paper\n",
    "\n",
    "from src.methods.bo import BO\n",
    "from src.methods.dcbo import DCBO\n",
    "from src.methods.pibo import PIBO\n",
    "from src.methods.dcpibo import DCPIBO\n",
    "\n",
    "from matplotlib.pyplot import rc\n",
    "import numpy as np\n",
    "from scipy import stats\n",
    "import random\n",
    "\n",
    "random.seed(42)"
   ]
  },
  {
   "cell_type": "markdown",
   "id": "e3715668-59b7-48bc-a248-f4f4defe259a",
   "metadata": {
    "tags": []
   },
   "source": [
    "## Utility Functions"
   ]
  },
  {
   "cell_type": "code",
   "execution_count": 2,
   "id": "268e357e-207f-4c11-b51c-08c9e4c1719f",
   "metadata": {},
   "outputs": [],
   "source": [
    "def power_list(input_list, exponent):\n",
    "    '''Raises each element of the given input_list to the desired exponent'''\n",
    "    \n",
    "    return_list = []\n",
    "    \n",
    "    for element in input_list:\n",
    "        if element >= 0:\n",
    "            raised_element = element**exponent\n",
    "        else:\n",
    "            raised_element = -(abs(element)**exponent)\n",
    "        return_list.append(raised_element)\n",
    "        \n",
    "    return return_list"
   ]
  },
  {
   "cell_type": "code",
   "execution_count": 3,
   "id": "71894563-1b11-4c1e-8371-dff8d129d0ec",
   "metadata": {},
   "outputs": [],
   "source": [
    "def compute_statistics(y_function, standard_deviation):\n",
    "    '''Computes all the necessary lists associated to the Normal Distribution'''\n",
    "    \n",
    "    return_variates = []\n",
    "    return_amps = []\n",
    "    return_pdfs = []\n",
    "    \n",
    "    for mean in y_function:\n",
    "        return_variates.append(stats.norm.rvs(mean, standard_deviation, 10))\n",
    "        \n",
    "        amp = np.linspace(mean-5*standard_deviation, mean+5*standard_deviation, 10)\n",
    "        return_amps.append(amp)\n",
    "        \n",
    "        return_pdfs.append(stats.norm.pdf(amp, mean, standard_deviation))\n",
    "    \n",
    "    return return_variates, return_amps, return_pdfs"
   ]
  },
  {
   "cell_type": "code",
   "execution_count": 4,
   "id": "7abbeea7-637e-4281-ac6a-ef096c0eca1a",
   "metadata": {},
   "outputs": [],
   "source": [
    "def normalise_pdfs(pdfs_list):\n",
    "    '''Normalises the PDFs between 0 and 1'''\n",
    "    \n",
    "    return_normalised_pdfs_list = []\n",
    "    \n",
    "    for pdf_list in pdfs_list:\n",
    "        temp_list = []\n",
    "        \n",
    "        pdf_min = min(pdf_list)\n",
    "        pdf_max = max(pdf_list)\n",
    "        \n",
    "        for pdf_value in pdf_list:\n",
    "            temp_list.append(round((pdf_value-pdf_min)/(pdf_max-pdf_min),2))\n",
    "        \n",
    "        return_normalised_pdfs_list.append(temp_list)\n",
    "        \n",
    "    return return_normalised_pdfs_list"
   ]
  },
  {
   "cell_type": "code",
   "execution_count": 5,
   "id": "601384fc-052a-4d67-ba2e-cfa05c43449d",
   "metadata": {},
   "outputs": [],
   "source": [
    "def regret_priors(start_prior):\n",
    "    '''Adds regret'''\n",
    "    \n",
    "    return_raised_priors = []\n",
    "    \n",
    "    for i in range(1,N+1):\n",
    "        temp = []\n",
    "        gamma = beta/i\n",
    "        \n",
    "        for p_list in start_prior:\n",
    "            temp.append(power_list(p_list, gamma))\n",
    "            \n",
    "        return_raised_priors.append(temp)\n",
    "    \n",
    "    return return_raised_priors"
   ]
  },
  {
   "cell_type": "code",
   "execution_count": 6,
   "id": "948793c6-a4de-4fce-9a65-4608cbc1fde1",
   "metadata": {},
   "outputs": [],
   "source": [
    "def predict_optima_regret(iterations, time_steps, regret_priors, normalised_pdfs):\n",
    "    '''Computes the prediction for each time-step and each iteration, according to the effect of gamma (regret)'''\n",
    "    \n",
    "    return_predictions = []\n",
    "    \n",
    "    for iteration in range(iterations):\n",
    "        temp = []\n",
    "        \n",
    "        for time_step in range(time_steps):\n",
    "            if(min(regret_priors[iteration][time_step])+max(regret_priors[iteration][time_step]))<0:\n",
    "                optimum = min(np.multiply(regret_priors[iteration][time_step], normalised_pdfs[time_step]))\n",
    "            else:\n",
    "                optimum = max(np.multiply(regret_priors[iteration][time_step], normalised_pdfs[time_step]))\n",
    "                              \n",
    "            temp.append(optimum)\n",
    "                              \n",
    "        return_predictions.append(temp)\n",
    "                              \n",
    "    return return_predictions"
   ]
  },
  {
   "cell_type": "markdown",
   "id": "d2e41ab1-93be-4608-afcc-b8c122e35102",
   "metadata": {},
   "source": [
    "## Constants and such"
   ]
  },
  {
   "cell_type": "code",
   "execution_count": 7,
   "id": "57430867-22c9-41eb-b759-a81886717ec4",
   "metadata": {},
   "outputs": [],
   "source": [
    "T = 3\n",
    "t_axis = np.linspace(1,T,T,dtype=int)\n",
    "N = 10\n",
    "std = 0.1\n",
    "beta = 1"
   ]
  },
  {
   "cell_type": "markdown",
   "id": "ab406db9-d186-456a-b52e-44a3ad39cc9b",
   "metadata": {
    "tags": []
   },
   "source": [
    "## Optima location"
   ]
  },
  {
   "cell_type": "markdown",
   "id": "64c6c0ca-2bfb-4cd1-bd4d-d327f14fb132",
   "metadata": {},
   "source": [
    "### Good prior"
   ]
  },
  {
   "cell_type": "code",
   "execution_count": 8,
   "id": "d5d7f83b-6cdf-4563-b820-2454f1dbf1b5",
   "metadata": {},
   "outputs": [],
   "source": [
    "a_param = -2\n",
    "b_param = 0\n",
    "y = a_param*t_axis+b_param # the line on which I assume the optima would be"
   ]
  },
  {
   "cell_type": "markdown",
   "id": "38f4770f-7e6a-4284-ad07-89501770b4d0",
   "metadata": {
    "tags": []
   },
   "source": [
    "### Bad prior"
   ]
  },
  {
   "cell_type": "code",
   "execution_count": 9,
   "id": "2c007e83-fdaa-489a-b213-abcf3c123bd9",
   "metadata": {},
   "outputs": [],
   "source": [
    "bad_a_param = 0\n",
    "bad_y_param = 0\n",
    "bad_y = bad_a_param*t_axis+bad_y_param"
   ]
  },
  {
   "cell_type": "markdown",
   "id": "8c5a8e42-8834-4d31-bdc2-f1afcacaeab4",
   "metadata": {},
   "source": [
    "## Setup"
   ]
  },
  {
   "cell_type": "markdown",
   "id": "24e61e85-a39f-4f3f-8f2a-e6dc503d0960",
   "metadata": {},
   "source": [
    "### Good prior:"
   ]
  },
  {
   "cell_type": "code",
   "execution_count": 10,
   "id": "54c21d3f-215b-44b7-a044-92fad065b1b3",
   "metadata": {},
   "outputs": [],
   "source": [
    "all_variates, all_amps, all_pdfs = compute_statistics(y, std)\n",
    "all_variates_regret = regret_priors(all_variates)\n",
    "\n",
    "all_pdfs_normalised = normalise_pdfs(all_pdfs)\n",
    "\n",
    "predicted_optima_regret = predict_optima_regret(N, T, all_variates_regret, all_pdfs_normalised) # this are all the 𝜋s"
   ]
  },
  {
   "cell_type": "markdown",
   "id": "7bd409c0-674b-4d4b-b188-576e6b9be122",
   "metadata": {
    "tags": []
   },
   "source": [
    "### Bad prior"
   ]
  },
  {
   "cell_type": "code",
   "execution_count": 11,
   "id": "b91ec2b0-115c-4717-97e3-a870d8199009",
   "metadata": {},
   "outputs": [],
   "source": [
    "bad_all_variates, bad_all_amps, bad_all_pdfs = compute_statistics(bad_y, std)\n",
    "bad_all_variates_regret = regret_priors(bad_all_variates)\n",
    "\n",
    "bad_all_pdfs_normalised = normalise_pdfs(bad_all_pdfs)\n",
    "\n",
    "bad_predicted_optima_regret = predict_optima_regret(N, T, bad_all_variates_regret, bad_all_pdfs_normalised) # this are all the 𝜋s"
   ]
  },
  {
   "cell_type": "markdown",
   "id": "3600bd70-9fb2-4266-bcee-8eba941ac6a9",
   "metadata": {},
   "source": [
    "### Model:"
   ]
  },
  {
   "cell_type": "code",
   "execution_count": 12,
   "id": "2b508b59-2aa1-45e7-9528-0aadcbaf5fc6",
   "metadata": {},
   "outputs": [],
   "source": [
    "init_sem, sem, dag_view, G, exploration_sets, intervention_domain, true_objective_values  = setup_ind_scm(T=T)"
   ]
  },
  {
   "cell_type": "markdown",
   "id": "aab9dcf4-a9b2-4673-9fb0-591e463b1b2f",
   "metadata": {
    "tags": []
   },
   "source": [
    "## Models' executions"
   ]
  },
  {
   "cell_type": "code",
   "execution_count": 13,
   "id": "f288d8c5-a251-4b2d-9371-7c54fe144963",
   "metadata": {},
   "outputs": [],
   "source": [
    "R = 1"
   ]
  },
  {
   "cell_type": "markdown",
   "id": "5e5a66b8-3899-40f1-a229-882d4eefac6e",
   "metadata": {},
   "source": [
    "### Good prior"
   ]
  },
  {
   "cell_type": "code",
   "execution_count": 14,
   "id": "a60bf5a3-12c7-45ff-aa05-9d796523e2a9",
   "metadata": {},
   "outputs": [
    {
     "name": "stderr",
     "output_type": "stream",
     "text": [
      "Experiment count:   0%|                                                                                                                | 0/1 [00:00<?, ?it/s]"
     ]
    },
    {
     "name": "stdout",
     "output_type": "stream",
     "text": [
      "\n",
      "\t>>>BO\n",
      "\n"
     ]
    },
    {
     "name": "stderr",
     "output_type": "stream",
     "text": [
      "\n",
      "Time index:   0%|                                                                                                                      | 0/3 [00:00<?, ?it/s]\u001b[Areconstraining parameters GP_regression.rbf.variance\n",
      "\n",
      "Time index:  33%|████████████████████████████████████▋                                                                         | 1/3 [00:00<00:00,  3.40it/s]\u001b[Areconstraining parameters GP_regression.rbf.variance\n",
      "\n",
      "Time index:  67%|█████████████████████████████████████████████████████████████████████████▎                                    | 2/3 [00:00<00:00,  4.25it/s]\u001b[Areconstraining parameters GP_regression.rbf.variance\n",
      "\n",
      "Time index: 100%|██████████████████████████████████████████████████████████████████████████████████████████████████████████████| 3/3 [00:00<00:00,  4.41it/s]\u001b[A\n",
      " /mnt/c/Users/lucal/Desktop/Thesis/notebooks/MyTests/../../src/utils/dag_utils/adjacency_matrix_utils.py:26: FutureWarning:adjacency_matrix will return a scipy.sparse array instead of a matrix in Networkx 3.0.\n"
     ]
    },
    {
     "name": "stdout",
     "output_type": "stream",
     "text": [
      "\n",
      "\t>>>DCBO\n",
      "\n"
     ]
    },
    {
     "name": "stderr",
     "output_type": "stream",
     "text": [
      " /mnt/c/Users/lucal/Desktop/Thesis/notebooks/MyTests/../../src/utils/dag_utils/adjacency_matrix_utils.py:26: FutureWarning:adjacency_matrix will return a scipy.sparse array instead of a matrix in Networkx 3.0.\n",
      " /home/luca/miniconda3/envs/MTL_DCBO_testing/lib/python3.10/site-packages/GPy/kern/src/stationary.py:168: RuntimeWarning:overflow encountered in divide\n",
      " /home/luca/miniconda3/envs/MTL_DCBO_testing/lib/python3.10/site-packages/GPy/kern/src/rbf.py:52: RuntimeWarning:overflow encountered in square\n",
      " /home/luca/miniconda3/envs/MTL_DCBO_testing/lib/python3.10/site-packages/GPy/kern/src/rbf.py:76: RuntimeWarning:invalid value encountered in multiply\n",
      "\n",
      "Time index:   0%|                                                                                                                      | 0/3 [00:00<?, ?it/s]\u001b[Areconstraining parameters GP_regression.rbf.variance\n",
      "reconstraining parameters GP_regression.rbf.variance\n",
      "reconstraining parameters GP_regression.rbf.variance\n",
      "\n",
      "Time index:  33%|████████████████████████████████████▋                                                                         | 1/3 [00:04<00:08,  4.25s/it]\u001b[Areconstraining parameters GP_regression.rbf.variance\n",
      "reconstraining parameters GP_regression.rbf.variance\n",
      "reconstraining parameters GP_regression.rbf.variance\n",
      "\n",
      "Time index:  67%|█████████████████████████████████████████████████████████████████████████▎                                    | 2/3 [00:10<00:05,  5.56s/it]\u001b[Areconstraining parameters GP_regression.rbf.variance\n",
      "reconstraining parameters GP_regression.rbf.variance\n",
      "reconstraining parameters GP_regression.rbf.variance\n",
      "\n",
      "Time index: 100%|██████████████████████████████████████████████████████████████████████████████████████████████████████████████| 3/3 [00:19<00:00,  6.35s/it]\u001b[A\n"
     ]
    },
    {
     "name": "stdout",
     "output_type": "stream",
     "text": [
      "10\n",
      "\n",
      "\t>>>PIBO\n",
      "\n"
     ]
    },
    {
     "name": "stderr",
     "output_type": "stream",
     "text": [
      "\n",
      "Time index:   0%|                                                                                                                      | 0/3 [00:00<?, ?it/s]\u001b[Areconstraining parameters GP_regression.rbf.variance\n",
      "\n",
      "Time index:  33%|████████████████████████████████████▋                                                                         | 1/3 [00:00<00:00,  4.84it/s]\u001b[Areconstraining parameters GP_regression.rbf.variance\n",
      "\n",
      "Time index:  67%|█████████████████████████████████████████████████████████████████████████▎                                    | 2/3 [00:00<00:00,  4.97it/s]\u001b[Areconstraining parameters GP_regression.rbf.variance\n",
      "\n",
      "Time index: 100%|██████████████████████████████████████████████████████████████████████████████████████████████████████████████| 3/3 [00:00<00:00,  4.85it/s]\u001b[A\n"
     ]
    },
    {
     "name": "stdout",
     "output_type": "stream",
     "text": [
      "\n",
      "\t>>>DCPIBO\n",
      "\n"
     ]
    },
    {
     "name": "stderr",
     "output_type": "stream",
     "text": [
      " /mnt/c/Users/lucal/Desktop/Thesis/notebooks/MyTests/../../src/utils/dag_utils/adjacency_matrix_utils.py:26: FutureWarning:adjacency_matrix will return a scipy.sparse array instead of a matrix in Networkx 3.0.\n",
      " /home/luca/miniconda3/envs/MTL_DCBO_testing/lib/python3.10/site-packages/GPy/kern/src/stationary.py:168: RuntimeWarning:overflow encountered in divide\n",
      " /home/luca/miniconda3/envs/MTL_DCBO_testing/lib/python3.10/site-packages/GPy/kern/src/rbf.py:52: RuntimeWarning:overflow encountered in square\n",
      " /home/luca/miniconda3/envs/MTL_DCBO_testing/lib/python3.10/site-packages/GPy/kern/src/rbf.py:76: RuntimeWarning:invalid value encountered in multiply\n",
      "\n",
      "Time index:   0%|                                                                                                                      | 0/3 [00:00<?, ?it/s]\u001b[Areconstraining parameters GP_regression.rbf.variance\n",
      "reconstraining parameters GP_regression.rbf.variance\n",
      "reconstraining parameters GP_regression.rbf.variance\n",
      "\n",
      "Time index:  33%|████████████████████████████████████▋                                                                         | 1/3 [00:04<00:09,  4.72s/it]\u001b[Areconstraining parameters GP_regression.rbf.variance\n",
      "reconstraining parameters GP_regression.rbf.variance\n",
      "reconstraining parameters GP_regression.rbf.variance\n",
      " /home/luca/miniconda3/envs/MTL_DCBO_testing/lib/python3.10/site-packages/paramz/transformations.py:119: RuntimeWarning:overflow encountered in expm1\n",
      " /home/luca/miniconda3/envs/MTL_DCBO_testing/lib/python3.10/site-packages/paramz/transformations.py:121: RuntimeWarning:overflow encountered in expm1\n",
      "\n",
      "Time index:  67%|█████████████████████████████████████████████████████████████████████████▎                                    | 2/3 [00:11<00:06,  6.01s/it]\u001b[Areconstraining parameters GP_regression.rbf.variance\n",
      "reconstraining parameters GP_regression.rbf.variance\n",
      "reconstraining parameters GP_regression.rbf.variance\n",
      "\n",
      "Time index: 100%|██████████████████████████████████████████████████████████████████████████████████████████████████████████████| 3/3 [00:19<00:00,  6.58s/it]\u001b[A\n",
      "Experiment count: 100%|████████████████████████████████████████████████████████████████████████████████████████████████████████| 1/1 [00:54<00:00, 54.29s/it]\n"
     ]
    }
   ],
   "source": [
    "results = run_methods_replicates(G=G, \n",
    "                                sem=IndSEM, \n",
    "                                make_sem_estimator=build_sem_hat, \n",
    "                                base_target_variable='Y',\n",
    "                                intervention_domain = intervention_domain, \n",
    "                                methods_list = ['BO', 'DCBO', 'PIBO', 'DCPIBO'],\n",
    "                                obs_samples = None,\n",
    "                                exploration_sets = exploration_sets,\n",
    "                                priors_regret = predicted_optima_regret,\n",
    "                                total_timesteps = T,\n",
    "                                number_of_trials = N, \n",
    "                                reps = R, # Number of replicates (how many times we run each method)\n",
    "                                n_restart = 1,\n",
    "                                save_data = False,\n",
    "                                n_obs = 5, # The method samples 5 time-series for each replicate\n",
    "                                num_anchor_points = 100,\n",
    "                                sample_anchor_points = True,\n",
    "                                controlled_experiment=False)"
   ]
  },
  {
   "cell_type": "markdown",
   "id": "2f6ca5d5-e637-4942-813d-c3cce2e3f25c",
   "metadata": {},
   "source": [
    "### Bad prior"
   ]
  },
  {
   "cell_type": "code",
   "execution_count": 15,
   "id": "5ccd2e77-8ced-407b-a840-a5c38c714b56",
   "metadata": {},
   "outputs": [
    {
     "name": "stderr",
     "output_type": "stream",
     "text": [
      "Experiment count:   0%|                                                                                                                | 0/1 [00:00<?, ?it/s]"
     ]
    },
    {
     "name": "stdout",
     "output_type": "stream",
     "text": [
      "\n",
      "\t>>>BO\n",
      "\n"
     ]
    },
    {
     "name": "stderr",
     "output_type": "stream",
     "text": [
      "\n",
      "Time index:   0%|                                                                                                                      | 0/3 [00:00<?, ?it/s]\u001b[Areconstraining parameters GP_regression.rbf.variance\n",
      "\n",
      "Time index:  33%|████████████████████████████████████▋                                                                         | 1/3 [00:00<00:00,  4.96it/s]\u001b[Areconstraining parameters GP_regression.rbf.variance\n",
      "\n",
      "Time index:  67%|█████████████████████████████████████████████████████████████████████████▎                                    | 2/3 [00:00<00:00,  4.44it/s]\u001b[Areconstraining parameters GP_regression.rbf.variance\n",
      "\n",
      "Time index: 100%|██████████████████████████████████████████████████████████████████████████████████████████████████████████████| 3/3 [00:00<00:00,  4.35it/s]\u001b[A\n"
     ]
    },
    {
     "name": "stdout",
     "output_type": "stream",
     "text": [
      "\n",
      "\t>>>DCBO\n",
      "\n"
     ]
    },
    {
     "name": "stderr",
     "output_type": "stream",
     "text": [
      " /mnt/c/Users/lucal/Desktop/Thesis/notebooks/MyTests/../../src/utils/dag_utils/adjacency_matrix_utils.py:26: FutureWarning:adjacency_matrix will return a scipy.sparse array instead of a matrix in Networkx 3.0.\n",
      " /home/luca/miniconda3/envs/MTL_DCBO_testing/lib/python3.10/site-packages/GPy/kern/src/stationary.py:168: RuntimeWarning:overflow encountered in divide\n",
      " /home/luca/miniconda3/envs/MTL_DCBO_testing/lib/python3.10/site-packages/GPy/kern/src/rbf.py:52: RuntimeWarning:overflow encountered in square\n",
      " /home/luca/miniconda3/envs/MTL_DCBO_testing/lib/python3.10/site-packages/GPy/kern/src/rbf.py:76: RuntimeWarning:invalid value encountered in multiply\n",
      "\n",
      "Time index:   0%|                                                                                                                      | 0/3 [00:00<?, ?it/s]\u001b[Areconstraining parameters GP_regression.rbf.variance\n",
      "reconstraining parameters GP_regression.rbf.variance\n",
      "reconstraining parameters GP_regression.rbf.variance\n",
      "\n",
      "Time index:  33%|████████████████████████████████████▋                                                                         | 1/3 [00:04<00:08,  4.26s/it]\u001b[Areconstraining parameters GP_regression.rbf.variance\n",
      "reconstraining parameters GP_regression.rbf.variance\n",
      "reconstraining parameters GP_regression.rbf.variance\n",
      "\n",
      "Time index:  67%|█████████████████████████████████████████████████████████████████████████▎                                    | 2/3 [00:11<00:05,  5.77s/it]\u001b[Areconstraining parameters GP_regression.rbf.variance\n",
      "reconstraining parameters GP_regression.rbf.variance\n",
      "reconstraining parameters GP_regression.rbf.variance\n",
      "\n",
      "Time index: 100%|██████████████████████████████████████████████████████████████████████████████████████████████████████████████| 3/3 [00:17<00:00,  5.86s/it]\u001b[A\n"
     ]
    },
    {
     "name": "stdout",
     "output_type": "stream",
     "text": [
      "10\n",
      "\n",
      "\t>>>PIBO\n",
      "\n"
     ]
    },
    {
     "name": "stderr",
     "output_type": "stream",
     "text": [
      "\n",
      "Time index:   0%|                                                                                                                      | 0/3 [00:00<?, ?it/s]\u001b[Areconstraining parameters GP_regression.rbf.variance\n",
      "\n",
      "Time index:  33%|████████████████████████████████████▋                                                                         | 1/3 [00:00<00:00,  5.24it/s]\u001b[Areconstraining parameters GP_regression.rbf.variance\n",
      " /home/luca/miniconda3/envs/MTL_DCBO_testing/lib/python3.10/site-packages/paramz/transformations.py:111: RuntimeWarning:overflow encountered in expm1\n",
      " /home/luca/miniconda3/envs/MTL_DCBO_testing/lib/python3.10/site-packages/paramz/transformations.py:119: RuntimeWarning:overflow encountered in expm1\n",
      " /home/luca/miniconda3/envs/MTL_DCBO_testing/lib/python3.10/site-packages/paramz/transformations.py:121: RuntimeWarning:overflow encountered in expm1\n",
      " /home/luca/miniconda3/envs/MTL_DCBO_testing/lib/python3.10/site-packages/GPy/core/parameterization/priorizable.py:81: RuntimeWarning:overflow encountered in double_scalars\n",
      "\n",
      "Time index:  67%|█████████████████████████████████████████████████████████████████████████▎                                    | 2/3 [00:00<00:00,  4.45it/s]\u001b[Areconstraining parameters GP_regression.rbf.variance\n"
     ]
    },
    {
     "name": "stdout",
     "output_type": "stream",
     "text": [
      "Warning - optimization restart 1/1 failed\n",
      "Warning - optimization restart 1/1 failed\n",
      "Warning - optimization restart 1/1 failed\n",
      "Warning - optimization restart 1/1 failed\n"
     ]
    },
    {
     "name": "stderr",
     "output_type": "stream",
     "text": [
      "\n",
      "Time index: 100%|██████████████████████████████████████████████████████████████████████████████████████████████████████████████| 3/3 [00:00<00:00,  4.29it/s]\u001b[A"
     ]
    },
    {
     "name": "stdout",
     "output_type": "stream",
     "text": [
      "Warning - optimization restart 1/1 failed\n",
      "Warning - optimization restart 1/1 failed\n",
      "Warning - optimization restart 1/1 failed\n",
      "Warning - optimization restart 1/1 failed\n",
      "Warning - optimization restart 1/1 failed\n",
      "\n",
      "\t>>>DCPIBO\n",
      "\n"
     ]
    },
    {
     "name": "stderr",
     "output_type": "stream",
     "text": [
      "\n",
      " /mnt/c/Users/lucal/Desktop/Thesis/notebooks/MyTests/../../src/utils/dag_utils/adjacency_matrix_utils.py:26: FutureWarning:adjacency_matrix will return a scipy.sparse array instead of a matrix in Networkx 3.0.\n",
      " /home/luca/miniconda3/envs/MTL_DCBO_testing/lib/python3.10/site-packages/GPy/kern/src/stationary.py:168: RuntimeWarning:overflow encountered in divide\n",
      " /home/luca/miniconda3/envs/MTL_DCBO_testing/lib/python3.10/site-packages/GPy/kern/src/rbf.py:52: RuntimeWarning:overflow encountered in square\n",
      " /home/luca/miniconda3/envs/MTL_DCBO_testing/lib/python3.10/site-packages/GPy/kern/src/rbf.py:76: RuntimeWarning:invalid value encountered in multiply\n",
      "\n",
      "Time index:   0%|                                                                                                                      | 0/3 [00:00<?, ?it/s]\u001b[Areconstraining parameters GP_regression.rbf.variance\n",
      "reconstraining parameters GP_regression.rbf.variance\n",
      "reconstraining parameters GP_regression.rbf.variance\n",
      "\n",
      "Time index:  33%|████████████████████████████████████▋                                                                         | 1/3 [00:04<00:08,  4.18s/it]\u001b[Areconstraining parameters GP_regression.rbf.variance\n",
      "reconstraining parameters GP_regression.rbf.variance\n",
      "reconstraining parameters GP_regression.rbf.variance\n",
      "\n",
      "Time index:  67%|█████████████████████████████████████████████████████████████████████████▎                                    | 2/3 [00:10<00:05,  5.65s/it]\u001b[Areconstraining parameters GP_regression.rbf.variance\n",
      "reconstraining parameters GP_regression.rbf.variance\n",
      "reconstraining parameters GP_regression.rbf.variance\n",
      "\n",
      "Time index: 100%|██████████████████████████████████████████████████████████████████████████████████████████████████████████████| 3/3 [00:17<00:00,  5.85s/it]\u001b[A\n",
      "Experiment count: 100%|████████████████████████████████████████████████████████████████████████████████████████████████████████| 1/1 [00:50<00:00, 50.18s/it]\n"
     ]
    }
   ],
   "source": [
    "bad_results = run_methods_replicates(G=G, \n",
    "                                sem=IndSEM, \n",
    "                                make_sem_estimator=build_sem_hat, \n",
    "                                base_target_variable='Y',\n",
    "                                intervention_domain = intervention_domain, \n",
    "                                methods_list = ['BO', 'DCBO', 'PIBO', 'DCPIBO'],\n",
    "                                obs_samples = None,\n",
    "                                exploration_sets = exploration_sets,\n",
    "                                priors_regret = bad_predicted_optima_regret,\n",
    "                                total_timesteps = T,\n",
    "                                number_of_trials = N, \n",
    "                                reps = R, # Number of replicates (how many times we run each method)\n",
    "                                n_restart = 1,\n",
    "                                save_data = False,\n",
    "                                n_obs = 5, # The method samples 5 time-series for each replicate\n",
    "                                num_anchor_points = 100,\n",
    "                                sample_anchor_points = True,\n",
    "                                controlled_experiment=False)"
   ]
  },
  {
   "cell_type": "markdown",
   "id": "a6f29b5f-8418-4249-b633-1e12fcd39e9f",
   "metadata": {},
   "source": [
    "## Plotting"
   ]
  },
  {
   "cell_type": "code",
   "execution_count": 16,
   "id": "8742a631-7f98-48b3-b9d0-fcdee7f4799e",
   "metadata": {},
   "outputs": [],
   "source": [
    "plot_params = {\n",
    "    \"linewidth\": 3,\n",
    "    \"linewidth_opt\": 4,\n",
    "    \"alpha\": 0.1,\n",
    "    \"xlim_max\": N,\n",
    "    \"ncols\": 5,\n",
    "    \"loc_legend\": \"lower right\",\n",
    "    \"size_ticks\": 20,\n",
    "    \"size_labels\": 20,\n",
    "    \"xlabel\": r'$\\texttt{cost}(\\mathbf{X}_{s,t}, \\mathbf{x}_{s,t})$',\n",
    "    \"labels\": {'DCPIBO': 'DCPIBO', 'PIBO': 'PIBO', 'DCBO': 'DCBO', 'BO': 'BO', 'True': r'$\\mathbb{E} \\left [Y_t \\mid \\textrm{do}(\\mathbf{X}_{s,t}^\\star = \\mathbf{x}_{s,t}^\\star) \\right]$'},\n",
    "    \"colors\": {'DCPIBO': 'blue', 'PIBO': 'green', 'DCBO': 'orange', 'BO': 'red', 'True': 'black'},\n",
    "    \"line_styles\": {'DCPIBO': 'dashdot', 'PIBO': '--', 'DCBO': '-', 'BO': '-', 'True': ':'},\n",
    "    \"width\":10\n",
    "}\n",
    "rc('text', usetex=True)\n",
    "rc('text.latex', preamble=r'\\usepackage{amssymb}')\n",
    "rc('font', family='serif')\n",
    "rc('font', size=20)"
   ]
  },
  {
   "cell_type": "markdown",
   "id": "2d4ba35c-6efd-47b7-aaf3-1d42d053303b",
   "metadata": {},
   "source": [
    "### Good prior"
   ]
  },
  {
   "cell_type": "code",
   "execution_count": 17,
   "id": "923146fc-81c6-433b-85c7-2217c67355d0",
   "metadata": {},
   "outputs": [],
   "source": [
    "data = get_relevant_results(results=results,replicates=R)\n",
    "exp_optimal_outcome_values_during_trials, exp_per_trial_cost = elaborate(number_of_interventions=None, \n",
    "                                                                         n_replicates=R, \n",
    "                                                                         data=data, \n",
    "                                                                         best_objective_values=true_objective_values, \n",
    "                                                                         T=T)"
   ]
  },
  {
   "cell_type": "code",
   "execution_count": 18,
   "id": "c764c5ff-57c7-4550-91f6-9d2f12648fb6",
   "metadata": {
    "tags": []
   },
   "outputs": [
    {
     "data": {
      "image/png": "[encoded data removed]",
      "text/plain": [
       "<Figure size 1500x500 with 3 Axes>"
      ]
     },
     "metadata": {},
     "output_type": "display_data"
    }
   ],
   "source": [
    "# Each frame corresponds to one time-slice.\n",
    "plot_expected_opt_curve_paper(T,\n",
    "    true_objective_values,\n",
    "    exp_per_trial_cost,\n",
    "    exp_optimal_outcome_values_during_trials,\n",
    "    plot_params,  \n",
    "    fig_size = (15,5))"
   ]
  },
  {
   "cell_type": "markdown",
   "id": "a228d798-5be4-4e8b-b68f-c10b037d9e8a",
   "metadata": {},
   "source": [
    "### Bad prior"
   ]
  },
  {
   "cell_type": "code",
   "execution_count": 19,
   "id": "7f9e216a-a9b8-4b58-b907-9e9672a0e1b3",
   "metadata": {},
   "outputs": [],
   "source": [
    "bad_data = get_relevant_results(results=bad_results,replicates=R)\n",
    "bad_exp_optimal_outcome_values_during_trials, bad_exp_per_trial_cost = elaborate(number_of_interventions=None, \n",
    "                                                                         n_replicates=R, \n",
    "                                                                         data=bad_data, \n",
    "                                                                         best_objective_values=true_objective_values, \n",
    "                                                                         T=T)"
   ]
  },
  {
   "cell_type": "code",
   "execution_count": 20,
   "id": "938e6de1-8ef7-49b6-a655-826b77954a16",
   "metadata": {},
   "outputs": [
    {
     "data": {
      "image/png": "[encoded data removed]",
      "text/plain": [
       "<Figure size 1500x500 with 3 Axes>"
      ]
     },
     "metadata": {},
     "output_type": "display_data"
    }
   ],
   "source": [
    "# Each frame corresponds to one time-slice.\n",
    "plot_expected_opt_curve_paper(T,\n",
    "    true_objective_values,\n",
    "    bad_exp_per_trial_cost,\n",
    "    bad_exp_optimal_outcome_values_during_trials,\n",
    "    plot_params,  \n",
    "    fig_size = (15,5))"
   ]
  },
  {
   "cell_type": "markdown",
   "id": "ff0677d1-a4c3-46ab-a9bc-c47bf5899181",
   "metadata": {},
   "source": [
    "# Gap Metric"
   ]
  },
  {
   "cell_type": "code",
   "execution_count": 21,
   "id": "a4a5976a-33df-4586-98ef-8e259a2cdc65",
   "metadata": {},
   "outputs": [
    {
     "data": {
      "text/plain": [
       "{'BO': [[0.34052106578790914, 0.0],\n",
       "  [0.3693631044652368, 0.0],\n",
       "  [0.3221028937799708, 0.0]],\n",
       " 'DCBO': [[0.4318268213854515, 0.0],\n",
       "  [0.2376435262556685, 0.0],\n",
       "  [0.19557170242612967, 0.0]],\n",
       " 'PIBO': [[0.21292655501709795, 0.0],\n",
       "  [0.2274727586331521, 0.0],\n",
       "  [0.3033667847305161, 0.0]],\n",
       " 'DCPIBO': [[0.23263514699552254, 0.0],\n",
       "  [0.12424965552769178, 0.0],\n",
       "  [0.09222744419621315, 0.0]]}"
      ]
     },
     "execution_count": 21,
     "metadata": {},
     "output_type": "execute_result"
    }
   ],
   "source": [
    "t_i_l = get_common_initial_values(T=T,\n",
    "                                  data=data,\n",
    "                                  n_replicates=R)\n",
    "\n",
    "w_c_d = get_converge_trial(best_objective_values=true_objective_values,\n",
    "                          exp_optimal_outcome_values_during_trials=exp_optimal_outcome_values_during_trials,\n",
    "                          n_trials=N,\n",
    "                          T=T,\n",
    "                          n_decimal=1)\n",
    "\n",
    "summary = gap_metric_standard(T=T,\n",
    "                             data=data,\n",
    "                             best_objective_values=true_objective_values,\n",
    "                             total_initial_list = t_i_l,\n",
    "                             n_replicates=R,\n",
    "                             n_trials=N,\n",
    "                             where_converge_dict=w_c_d)\n",
    "\n",
    "summary"
   ]
  }
 ],
 "metadata": {
  "kernelspec": {
   "display_name": "Python 3 (ipykernel)",
   "language": "python",
   "name": "python3"
  },
  "language_info": {
   "codemirror_mode": {
    "name": "ipython",
    "version": 3
   },
   "file_extension": ".py",
   "mimetype": "text/x-python",
   "name": "python",
   "nbconvert_exporter": "python",
   "pygments_lexer": "ipython3",
   "version": "3.10.9"
  }
 },
 "nbformat": 4,
 "nbformat_minor": 5
}
