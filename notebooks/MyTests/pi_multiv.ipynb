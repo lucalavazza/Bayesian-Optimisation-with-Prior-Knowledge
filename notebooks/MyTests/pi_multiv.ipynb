{
 "cells": [
  {
   "cell_type": "markdown",
   "id": "076dd81f-a9f2-43f2-8f1d-c0874756f337",
   "metadata": {},
   "source": [
    "# DC$\\pi$BO - Stationary DAG and SCM but with node out-degree $\\geq 1$ (MULTIV, i.e. X acts bots on Z and Y)"
   ]
  },
  {
   "cell_type": "markdown",
   "id": "94e1774d-04c8-4563-8ca4-ece0fcf2a533",
   "metadata": {
    "tags": []
   },
   "source": [
    "## Imports"
   ]
  },
  {
   "cell_type": "code",
   "execution_count": 1,
   "id": "390bda85-7b17-4136-8d41-85c402bf095d",
   "metadata": {},
   "outputs": [],
   "source": [
    "%load_ext autoreload\n",
    "%autoreload 2\n",
    "\n",
    "import sys\n",
    "sys.path.append(\"../../src/\")\n",
    "sys.path.append(\"../..\")\n",
    "\n",
    "from src.examples.example_setups import setup_stat_multiple_children_scm\n",
    "\n",
    "from src.utils.sem_utils.toy_sems import StationaryDependentMultipleChildrenSEM as TestSEM\n",
    "from src.utils.sem_utils.sem_estimate import build_sem_hat\n",
    "from src.utils.plotting import plot_expected_opt_curve_paper\n",
    "from src.utils.utility_functions import *\n",
    "\n",
    "from src.experimental.experiments import run_methods_replicates\n",
    "from src.experimental.analyse_results import get_relevant_results, elaborate, gap_metric_standard, get_common_initial_values, get_converge_trial\n",
    "\n",
    "from src.methods.bo import BO\n",
    "from src.methods.dcbo import DCBO\n",
    "from src.methods.pibo import PIBO\n",
    "from src.methods.dcpibo import DCPIBO\n",
    "\n",
    "from matplotlib.pyplot import rc\n",
    "import numpy as np\n",
    "from scipy import stats\n",
    "import random\n",
    "\n",
    "random.seed(42)"
   ]
  },
  {
   "cell_type": "markdown",
   "id": "c9f9e942-7c0a-429b-b53f-3c7f1cbd6f69",
   "metadata": {},
   "source": [
    "## Constants and such"
   ]
  },
  {
   "cell_type": "code",
   "execution_count": 2,
   "id": "03a16d01-3040-4280-a5ca-5f3bf8e03d19",
   "metadata": {},
   "outputs": [],
   "source": [
    "T = 3\n",
    "t_axis = np.linspace(1,T,T,dtype=int)\n",
    "N = 10\n",
    "std = 0.1\n",
    "beta = 1"
   ]
  },
  {
   "cell_type": "markdown",
   "id": "7cd0a63b-29de-47cf-86d8-edf25c610ea2",
   "metadata": {},
   "source": [
    "## Setup"
   ]
  },
  {
   "cell_type": "markdown",
   "id": "5da2ed2d-8b7d-4f12-932b-9dbe08aae69d",
   "metadata": {},
   "source": [
    "### Model:"
   ]
  },
  {
   "cell_type": "code",
   "execution_count": 3,
   "id": "5c22a9e2-1e16-454d-8807-06f50c11c492",
   "metadata": {},
   "outputs": [],
   "source": [
    "init_sem, sem, dag_view, G, exploration_sets, intervention_domain, true_objective_values, optimal_interventions, all_causal_effects  = setup_stat_multiple_children_scm(T=T)"
   ]
  },
  {
   "cell_type": "markdown",
   "id": "61f68318-8d3e-484b-b747-812440e5f844",
   "metadata": {},
   "source": [
    "### Good prior:"
   ]
  },
  {
   "cell_type": "code",
   "execution_count": 4,
   "id": "9eb10de9-0d0e-457c-ae48-d314b0edfc20",
   "metadata": {},
   "outputs": [],
   "source": [
    "a_param = (true_objective_values[0]-true_objective_values[1])/(t_axis[0]-t_axis[1])\n",
    "b_param = (true_objective_values[0]*t_axis[1]-true_objective_values[1]*t_axis[0])/(t_axis[0]-t_axis[1])\n",
    "\n",
    "y = a_param*t_axis+b_param # the line on which I assume the optima would be"
   ]
  },
  {
   "cell_type": "code",
   "execution_count": 5,
   "id": "a6e7a1a6-1589-441d-b194-e89a9f12ce7d",
   "metadata": {},
   "outputs": [],
   "source": [
    "all_variates, all_amps, all_pdfs = compute_statistics(y, std)\n",
    "all_variates_regret = regret_priors(all_variates, N, beta)\n",
    "\n",
    "all_pdfs_normalised = normalise_pdfs(all_pdfs)\n",
    "\n",
    "good_predicted_optima_regret = predict_optima_regret(N, T, all_variates_regret, all_pdfs_normalised) # this are all the 𝜋s"
   ]
  },
  {
   "cell_type": "markdown",
   "id": "81289790-e9ba-4b65-bdb1-8be76fb7c36e",
   "metadata": {},
   "source": [
    "### Bad prior"
   ]
  },
  {
   "cell_type": "code",
   "execution_count": 6,
   "id": "208e9eaa-a274-4e6c-8902-64bd29ecfb33",
   "metadata": {},
   "outputs": [],
   "source": [
    "bad_y = np.random.randint(-abs(max(true_objective_values)), abs(max(true_objective_values)), T)"
   ]
  },
  {
   "cell_type": "code",
   "execution_count": 7,
   "id": "ec632c57-d0e7-4f95-92bf-adec14347dc5",
   "metadata": {},
   "outputs": [],
   "source": [
    "bad_all_variates, bad_all_amps, bad_all_pdfs = compute_statistics(bad_y, std)\n",
    "bad_all_variates_regret = regret_priors(bad_all_variates, N, beta)\n",
    "\n",
    "bad_all_pdfs_normalised = normalise_pdfs(bad_all_pdfs)\n",
    "\n",
    "bad_predicted_optima_regret = predict_optima_regret(N, T, bad_all_variates_regret, bad_all_pdfs_normalised) # this are all the 𝜋s"
   ]
  },
  {
   "cell_type": "markdown",
   "id": "e2579436-dfa4-46f6-97de-cffc4acefb0a",
   "metadata": {
    "tags": []
   },
   "source": [
    "## Models' executions"
   ]
  },
  {
   "cell_type": "code",
   "execution_count": 8,
   "id": "bff0f6d8-4d80-4d73-85f3-3e5cdc89f3c0",
   "metadata": {},
   "outputs": [],
   "source": [
    "R = 3"
   ]
  },
  {
   "cell_type": "markdown",
   "id": "beeced19-278c-48e8-93ef-2f2f90e7011f",
   "metadata": {
    "tags": []
   },
   "source": [
    "### Good prior"
   ]
  },
  {
   "cell_type": "code",
   "execution_count": 35,
   "id": "f60dd1f3-798f-4fad-a1bb-b5393a429cfe",
   "metadata": {},
   "outputs": [
    {
     "name": "stderr",
     "output_type": "stream",
     "text": [
      "Experiment count:   0%|                                                                           | 0/3 [00:00<?, ?it/s]"
     ]
    },
    {
     "name": "stdout",
     "output_type": "stream",
     "text": [
      "\n",
      "\t>>>BO\n",
      "\n"
     ]
    },
    {
     "name": "stderr",
     "output_type": "stream",
     "text": [
      "\n",
      "Time index:   0%|                                                                                 | 0/3 [00:00<?, ?it/s]\u001b[Areconstraining parameters GP_regression.rbf.variance\n",
      "\n",
      "Time index:  33%|████████████████████████▎                                                | 1/3 [00:00<00:00,  7.10it/s]\u001b[Areconstraining parameters GP_regression.rbf.variance\n",
      "\n",
      "Time index:  67%|████████████████████████████████████████████████▋                        | 2/3 [00:00<00:00,  6.49it/s]\u001b[Areconstraining parameters GP_regression.rbf.variance\n",
      "\n",
      "Time index: 100%|█████████████████████████████████████████████████████████████████████████| 3/3 [00:00<00:00,  6.50it/s]\u001b[A\n"
     ]
    },
    {
     "name": "stdout",
     "output_type": "stream",
     "text": [
      "10\n",
      "\n",
      "\t>>>PIBO\n",
      "\n"
     ]
    },
    {
     "name": "stderr",
     "output_type": "stream",
     "text": [
      "\n",
      "Time index:   0%|                                                                                 | 0/3 [00:00<?, ?it/s]\u001b[Areconstraining parameters GP_regression.rbf.variance\n",
      "\n",
      "Time index:  33%|████████████████████████▎                                                | 1/3 [00:00<00:00,  6.63it/s]\u001b[Areconstraining parameters GP_regression.rbf.variance\n",
      "\n",
      "Time index:  67%|████████████████████████████████████████████████▋                        | 2/3 [00:00<00:00,  6.62it/s]\u001b[Areconstraining parameters GP_regression.rbf.variance\n",
      "\n",
      "Time index: 100%|█████████████████████████████████████████████████████████████████████████| 3/3 [00:00<00:00,  6.50it/s]\u001b[A\n"
     ]
    },
    {
     "name": "stdout",
     "output_type": "stream",
     "text": [
      "\n",
      "\t>>>DCBO\n",
      "\n"
     ]
    },
    {
     "name": "stderr",
     "output_type": "stream",
     "text": [
      " /mnt/c/Users/lucal/Desktop/Thesis/notebooks/MyTests/../../src/utils/dag_utils/adjacency_matrix_utils.py:26: FutureWarning:adjacency_matrix will return a scipy.sparse array instead of a matrix in Networkx 3.0.\n",
      " /home/luca/miniconda3/envs/MTL_DCBO_testing/lib/python3.10/site-packages/GPy/kern/src/rbf.py:52: RuntimeWarning:overflow encountered in square\n",
      " /home/luca/miniconda3/envs/MTL_DCBO_testing/lib/python3.10/site-packages/GPy/kern/src/stationary.py:168: RuntimeWarning:overflow encountered in divide\n",
      " /home/luca/miniconda3/envs/MTL_DCBO_testing/lib/python3.10/site-packages/GPy/kern/src/rbf.py:76: RuntimeWarning:invalid value encountered in multiply\n",
      "\n",
      "Time index:   0%|                                                                                 | 0/3 [00:00<?, ?it/s]\u001b[Areconstraining parameters GP_regression.rbf.variance\n",
      "reconstraining parameters GP_regression.rbf.variance\n",
      "reconstraining parameters GP_regression.rbf.variance\n",
      "\n",
      "Time index:  33%|████████████████████████▎                                                | 1/3 [00:03<00:06,  3.35s/it]\u001b[Areconstraining parameters GP_regression.rbf.variance\n",
      "reconstraining parameters GP_regression.rbf.variance\n",
      "reconstraining parameters GP_regression.rbf.variance\n",
      "\n",
      "Time index:  67%|████████████████████████████████████████████████▋                        | 2/3 [00:09<00:04,  4.79s/it]\u001b[Areconstraining parameters GP_regression.rbf.variance\n",
      "reconstraining parameters GP_regression.rbf.variance\n",
      "reconstraining parameters GP_regression.rbf.variance\n",
      "\n",
      "Time index: 100%|█████████████████████████████████████████████████████████████████████████| 3/3 [00:17<00:00,  5.78s/it]\u001b[A\n"
     ]
    },
    {
     "name": "stdout",
     "output_type": "stream",
     "text": [
      "\n",
      "\t>>>DCPIBO\n",
      "\n"
     ]
    },
    {
     "name": "stderr",
     "output_type": "stream",
     "text": [
      " /mnt/c/Users/lucal/Desktop/Thesis/notebooks/MyTests/../../src/utils/dag_utils/adjacency_matrix_utils.py:26: FutureWarning:adjacency_matrix will return a scipy.sparse array instead of a matrix in Networkx 3.0.\n",
      " /home/luca/miniconda3/envs/MTL_DCBO_testing/lib/python3.10/site-packages/GPy/kern/src/rbf.py:52: RuntimeWarning:overflow encountered in square\n",
      " /home/luca/miniconda3/envs/MTL_DCBO_testing/lib/python3.10/site-packages/GPy/kern/src/stationary.py:168: RuntimeWarning:overflow encountered in divide\n",
      " /home/luca/miniconda3/envs/MTL_DCBO_testing/lib/python3.10/site-packages/GPy/kern/src/rbf.py:76: RuntimeWarning:invalid value encountered in multiply\n",
      "\n",
      "Time index:   0%|                                                                                 | 0/3 [00:00<?, ?it/s]\u001b[Areconstraining parameters GP_regression.rbf.variance\n",
      "reconstraining parameters GP_regression.rbf.variance\n",
      "reconstraining parameters GP_regression.rbf.variance\n",
      "\n",
      "Time index:  33%|████████████████████████▎                                                | 1/3 [00:03<00:07,  3.88s/it]\u001b[Areconstraining parameters GP_regression.rbf.variance\n",
      "reconstraining parameters GP_regression.rbf.variance\n",
      "reconstraining parameters GP_regression.rbf.variance\n",
      "\n",
      "Time index:  67%|████████████████████████████████████████████████▋                        | 2/3 [00:09<00:05,  5.18s/it]\u001b[Areconstraining parameters GP_regression.rbf.variance\n",
      "reconstraining parameters GP_regression.rbf.variance\n",
      "reconstraining parameters GP_regression.rbf.variance\n",
      "\n",
      "Time index: 100%|█████████████████████████████████████████████████████████████████████████| 3/3 [00:18<00:00,  6.22s/it]\u001b[A\n",
      "Experiment count:  33%|██████████████████████▎                                            | 1/3 [00:52<01:44, 52.19s/it]"
     ]
    },
    {
     "name": "stdout",
     "output_type": "stream",
     "text": [
      "\n",
      "\t>>>BO\n",
      "\n"
     ]
    },
    {
     "name": "stderr",
     "output_type": "stream",
     "text": [
      "\n",
      "Time index:   0%|                                                                                 | 0/3 [00:00<?, ?it/s]\u001b[Areconstraining parameters GP_regression.rbf.variance\n",
      "\n",
      "Time index:  33%|████████████████████████▎                                                | 1/3 [00:00<00:00,  5.71it/s]\u001b[Areconstraining parameters GP_regression.rbf.variance\n",
      "\n",
      "Time index:  67%|████████████████████████████████████████████████▋                        | 2/3 [00:00<00:00,  5.97it/s]\u001b[Areconstraining parameters GP_regression.rbf.variance\n",
      "\n",
      "Time index: 100%|█████████████████████████████████████████████████████████████████████████| 3/3 [00:00<00:00,  5.71it/s]\u001b[A\n"
     ]
    },
    {
     "name": "stdout",
     "output_type": "stream",
     "text": [
      "10\n",
      "\n",
      "\t>>>PIBO\n",
      "\n"
     ]
    },
    {
     "name": "stderr",
     "output_type": "stream",
     "text": [
      "\n",
      "Time index:   0%|                                                                                 | 0/3 [00:00<?, ?it/s]\u001b[Areconstraining parameters GP_regression.rbf.variance\n",
      "\n",
      "Time index:  33%|████████████████████████▎                                                | 1/3 [00:00<00:00,  5.82it/s]\u001b[Areconstraining parameters GP_regression.rbf.variance\n",
      "\n",
      "Time index:  67%|████████████████████████████████████████████████▋                        | 2/3 [00:00<00:00,  6.05it/s]\u001b[Areconstraining parameters GP_regression.rbf.variance\n",
      "\n",
      "Time index: 100%|█████████████████████████████████████████████████████████████████████████| 3/3 [00:00<00:00,  5.88it/s]\u001b[A\n"
     ]
    },
    {
     "name": "stdout",
     "output_type": "stream",
     "text": [
      "\n",
      "\t>>>DCBO\n",
      "\n"
     ]
    },
    {
     "name": "stderr",
     "output_type": "stream",
     "text": [
      " /mnt/c/Users/lucal/Desktop/Thesis/notebooks/MyTests/../../src/utils/dag_utils/adjacency_matrix_utils.py:26: FutureWarning:adjacency_matrix will return a scipy.sparse array instead of a matrix in Networkx 3.0.\n",
      " /home/luca/miniconda3/envs/MTL_DCBO_testing/lib/python3.10/site-packages/GPy/kern/src/rbf.py:52: RuntimeWarning:overflow encountered in square\n",
      " /home/luca/miniconda3/envs/MTL_DCBO_testing/lib/python3.10/site-packages/GPy/kern/src/stationary.py:168: RuntimeWarning:overflow encountered in divide\n",
      " /home/luca/miniconda3/envs/MTL_DCBO_testing/lib/python3.10/site-packages/GPy/kern/src/rbf.py:76: RuntimeWarning:invalid value encountered in multiply\n",
      "\n",
      "Time index:   0%|                                                                                 | 0/3 [00:00<?, ?it/s]\u001b[Areconstraining parameters GP_regression.rbf.variance\n",
      "reconstraining parameters GP_regression.rbf.variance\n",
      "reconstraining parameters GP_regression.rbf.variance\n",
      "\n",
      "Time index:  33%|████████████████████████▎                                                | 1/3 [00:03<00:07,  3.74s/it]\u001b[Areconstraining parameters GP_regression.rbf.variance\n",
      "reconstraining parameters GP_regression.rbf.variance\n",
      "reconstraining parameters GP_regression.rbf.variance\n",
      "\n",
      "Time index:  67%|████████████████████████████████████████████████▋                        | 2/3 [00:10<00:05,  5.34s/it]\u001b[Areconstraining parameters GP_regression.rbf.variance\n",
      "reconstraining parameters GP_regression.rbf.variance\n",
      "reconstraining parameters GP_regression.rbf.variance\n",
      "\n",
      "Time index: 100%|█████████████████████████████████████████████████████████████████████████| 3/3 [00:18<00:00,  6.30s/it]\u001b[A\n"
     ]
    },
    {
     "name": "stdout",
     "output_type": "stream",
     "text": [
      "\n",
      "\t>>>DCPIBO\n",
      "\n"
     ]
    },
    {
     "name": "stderr",
     "output_type": "stream",
     "text": [
      " /mnt/c/Users/lucal/Desktop/Thesis/notebooks/MyTests/../../src/utils/dag_utils/adjacency_matrix_utils.py:26: FutureWarning:adjacency_matrix will return a scipy.sparse array instead of a matrix in Networkx 3.0.\n",
      " /home/luca/miniconda3/envs/MTL_DCBO_testing/lib/python3.10/site-packages/GPy/kern/src/rbf.py:52: RuntimeWarning:overflow encountered in square\n",
      " /home/luca/miniconda3/envs/MTL_DCBO_testing/lib/python3.10/site-packages/GPy/kern/src/stationary.py:168: RuntimeWarning:overflow encountered in divide\n",
      " /home/luca/miniconda3/envs/MTL_DCBO_testing/lib/python3.10/site-packages/GPy/kern/src/rbf.py:76: RuntimeWarning:invalid value encountered in multiply\n",
      "\n",
      "Time index:   0%|                                                                                 | 0/3 [00:00<?, ?it/s]\u001b[Areconstraining parameters GP_regression.rbf.variance\n",
      "reconstraining parameters GP_regression.rbf.variance\n",
      "reconstraining parameters GP_regression.rbf.variance\n",
      "\n",
      "Time index:  33%|████████████████████████▎                                                | 1/3 [00:04<00:08,  4.03s/it]\u001b[Areconstraining parameters GP_regression.rbf.variance\n",
      "reconstraining parameters GP_regression.rbf.variance\n",
      "reconstraining parameters GP_regression.rbf.variance\n",
      "\n",
      "Time index:  67%|████████████████████████████████████████████████▋                        | 2/3 [00:10<00:05,  5.32s/it]\u001b[Areconstraining parameters GP_regression.rbf.variance\n",
      "reconstraining parameters GP_regression.rbf.variance\n",
      "reconstraining parameters GP_regression.rbf.variance\n",
      "\n",
      "Time index: 100%|█████████████████████████████████████████████████████████████████████████| 3/3 [00:18<00:00,  6.17s/it]\u001b[A\n",
      "Experiment count:  67%|████████████████████████████████████████████▋                      | 2/3 [01:46<00:53, 53.40s/it]"
     ]
    },
    {
     "name": "stdout",
     "output_type": "stream",
     "text": [
      "\n",
      "\t>>>BO\n",
      "\n"
     ]
    },
    {
     "name": "stderr",
     "output_type": "stream",
     "text": [
      "\n",
      "Time index:   0%|                                                                                 | 0/3 [00:00<?, ?it/s]\u001b[Areconstraining parameters GP_regression.rbf.variance\n",
      "\n",
      "Time index:  33%|████████████████████████▎                                                | 1/3 [00:00<00:00,  5.72it/s]\u001b[Areconstraining parameters GP_regression.rbf.variance\n",
      "\n",
      "Time index:  67%|████████████████████████████████████████████████▋                        | 2/3 [00:00<00:00,  5.94it/s]\u001b[Areconstraining parameters GP_regression.rbf.variance\n",
      "\n",
      "Time index: 100%|█████████████████████████████████████████████████████████████████████████| 3/3 [00:00<00:00,  5.62it/s]\u001b[A\n"
     ]
    },
    {
     "name": "stdout",
     "output_type": "stream",
     "text": [
      "10\n",
      "\n",
      "\t>>>PIBO\n",
      "\n"
     ]
    },
    {
     "name": "stderr",
     "output_type": "stream",
     "text": [
      "\n",
      "Time index:   0%|                                                                                 | 0/3 [00:00<?, ?it/s]\u001b[Areconstraining parameters GP_regression.rbf.variance\n",
      "\n",
      "Time index:  33%|████████████████████████▎                                                | 1/3 [00:00<00:00,  6.91it/s]\u001b[Areconstraining parameters GP_regression.rbf.variance\n",
      "\n",
      "Time index:  67%|████████████████████████████████████████████████▋                        | 2/3 [00:00<00:00,  5.85it/s]\u001b[Areconstraining parameters GP_regression.rbf.variance\n",
      "\n",
      "Time index: 100%|█████████████████████████████████████████████████████████████████████████| 3/3 [00:00<00:00,  5.70it/s]\u001b[A\n"
     ]
    },
    {
     "name": "stdout",
     "output_type": "stream",
     "text": [
      "\n",
      "\t>>>DCBO\n",
      "\n"
     ]
    },
    {
     "name": "stderr",
     "output_type": "stream",
     "text": [
      " /mnt/c/Users/lucal/Desktop/Thesis/notebooks/MyTests/../../src/utils/dag_utils/adjacency_matrix_utils.py:26: FutureWarning:adjacency_matrix will return a scipy.sparse array instead of a matrix in Networkx 3.0.\n",
      " /home/luca/miniconda3/envs/MTL_DCBO_testing/lib/python3.10/site-packages/GPy/kern/src/rbf.py:52: RuntimeWarning:overflow encountered in square\n",
      " /home/luca/miniconda3/envs/MTL_DCBO_testing/lib/python3.10/site-packages/GPy/kern/src/stationary.py:168: RuntimeWarning:overflow encountered in divide\n",
      " /home/luca/miniconda3/envs/MTL_DCBO_testing/lib/python3.10/site-packages/GPy/kern/src/rbf.py:76: RuntimeWarning:invalid value encountered in multiply\n",
      "\n",
      "Time index:   0%|                                                                                 | 0/3 [00:00<?, ?it/s]\u001b[Areconstraining parameters GP_regression.rbf.variance\n",
      "reconstraining parameters GP_regression.rbf.variance\n",
      "reconstraining parameters GP_regression.rbf.variance\n",
      "\n",
      "Time index:  33%|████████████████████████▎                                                | 1/3 [00:04<00:08,  4.46s/it]\u001b[Areconstraining parameters GP_regression.rbf.variance\n",
      "reconstraining parameters GP_regression.rbf.variance\n",
      "reconstraining parameters GP_regression.rbf.variance\n",
      "\n",
      "Time index:  67%|████████████████████████████████████████████████▋                        | 2/3 [00:10<00:05,  5.33s/it]\u001b[Areconstraining parameters GP_regression.rbf.variance\n",
      "reconstraining parameters GP_regression.rbf.variance\n",
      "reconstraining parameters GP_regression.rbf.variance\n",
      "\n",
      "Time index: 100%|█████████████████████████████████████████████████████████████████████████| 3/3 [00:19<00:00,  6.41s/it]\u001b[A\n"
     ]
    },
    {
     "name": "stdout",
     "output_type": "stream",
     "text": [
      "\n",
      "\t>>>DCPIBO\n",
      "\n"
     ]
    },
    {
     "name": "stderr",
     "output_type": "stream",
     "text": [
      " /mnt/c/Users/lucal/Desktop/Thesis/notebooks/MyTests/../../src/utils/dag_utils/adjacency_matrix_utils.py:26: FutureWarning:adjacency_matrix will return a scipy.sparse array instead of a matrix in Networkx 3.0.\n",
      " /home/luca/miniconda3/envs/MTL_DCBO_testing/lib/python3.10/site-packages/GPy/kern/src/rbf.py:52: RuntimeWarning:overflow encountered in square\n",
      " /home/luca/miniconda3/envs/MTL_DCBO_testing/lib/python3.10/site-packages/GPy/kern/src/stationary.py:168: RuntimeWarning:overflow encountered in divide\n",
      " /home/luca/miniconda3/envs/MTL_DCBO_testing/lib/python3.10/site-packages/GPy/kern/src/rbf.py:76: RuntimeWarning:invalid value encountered in multiply\n",
      "\n",
      "Time index:   0%|                                                                                 | 0/3 [00:00<?, ?it/s]\u001b[Areconstraining parameters GP_regression.rbf.variance\n",
      "reconstraining parameters GP_regression.rbf.variance\n",
      "reconstraining parameters GP_regression.rbf.variance\n",
      "\n",
      "Time index:  33%|████████████████████████▎                                                | 1/3 [00:03<00:07,  3.67s/it]\u001b[Areconstraining parameters GP_regression.rbf.variance\n",
      "reconstraining parameters GP_regression.rbf.variance\n",
      "reconstraining parameters GP_regression.rbf.variance\n",
      "\n",
      "Time index:  67%|████████████████████████████████████████████████▋                        | 2/3 [00:08<00:04,  4.52s/it]\u001b[Areconstraining parameters GP_regression.rbf.variance\n",
      "reconstraining parameters GP_regression.rbf.variance\n",
      "reconstraining parameters GP_regression.rbf.variance\n",
      "\n",
      "Time index: 100%|█████████████████████████████████████████████████████████████████████████| 3/3 [00:16<00:00,  5.37s/it]\u001b[A\n",
      "Experiment count: 100%|███████████████████████████████████████████████████████████████████| 3/3 [02:39<00:00, 53.02s/it]\n"
     ]
    }
   ],
   "source": [
    "good_results = run_methods_replicates(G=G, \n",
    "                                sem=TestSEM, \n",
    "                                make_sem_estimator=build_sem_hat, \n",
    "                                base_target_variable='Y',\n",
    "                                intervention_domain = intervention_domain, \n",
    "                                methods_list = ['BO', 'PIBO', 'DCBO', 'DCPIBO'],\n",
    "                                obs_samples = None,\n",
    "                                exploration_sets = exploration_sets,\n",
    "                                priors_regret = good_predicted_optima_regret,\n",
    "                                total_timesteps = T,\n",
    "                                number_of_trials = N, \n",
    "                                reps = R, # Number of replicates (how many times we run each method)\n",
    "                                n_restart = 1,\n",
    "                                save_data = False,\n",
    "                                n_obs = 5, # The method samples 5 time-series for each replicate\n",
    "                                num_anchor_points = 100,\n",
    "                                sample_anchor_points = True,\n",
    "                                controlled_experiment=False)"
   ]
  },
  {
   "cell_type": "markdown",
   "id": "fc951391-8f20-4322-9c24-58ef9ebed2e3",
   "metadata": {
    "jp-MarkdownHeadingCollapsed": true,
    "tags": []
   },
   "source": [
    "### Bad prior"
   ]
  },
  {
   "cell_type": "code",
   "execution_count": 10,
   "id": "0b760282-9748-4812-9878-9618fd0cc40b",
   "metadata": {},
   "outputs": [
    {
     "name": "stderr",
     "output_type": "stream",
     "text": [
      "Experiment count:   0%|                                                                           | 0/3 [00:00<?, ?it/s]"
     ]
    },
    {
     "name": "stdout",
     "output_type": "stream",
     "text": [
      "\n",
      "\t>>>BO\n",
      "\n"
     ]
    },
    {
     "name": "stderr",
     "output_type": "stream",
     "text": [
      "\n",
      "Time index:   0%|                                                                                 | 0/3 [00:00<?, ?it/s]\u001b[Areconstraining parameters GP_regression.rbf.variance\n",
      "\n",
      "Time index:  33%|████████████████████████▎                                                | 1/3 [00:00<00:00,  5.41it/s]\u001b[Areconstraining parameters GP_regression.rbf.variance\n",
      "\n",
      "Time index:  67%|████████████████████████████████████████████████▋                        | 2/3 [00:00<00:00,  5.76it/s]\u001b[Areconstraining parameters GP_regression.rbf.variance\n",
      "\n",
      "Time index: 100%|█████████████████████████████████████████████████████████████████████████| 3/3 [00:00<00:00,  5.73it/s]\u001b[A\n"
     ]
    },
    {
     "name": "stdout",
     "output_type": "stream",
     "text": [
      "10\n",
      "\n",
      "\t>>>PIBO\n",
      "\n"
     ]
    },
    {
     "name": "stderr",
     "output_type": "stream",
     "text": [
      "\n",
      "Time index:   0%|                                                                                 | 0/3 [00:00<?, ?it/s]\u001b[Areconstraining parameters GP_regression.rbf.variance\n",
      "\n",
      "Time index:  33%|████████████████████████▎                                                | 1/3 [00:00<00:00,  4.01it/s]\u001b[Areconstraining parameters GP_regression.rbf.variance\n",
      "\n",
      "Time index:  67%|████████████████████████████████████████████████▋                        | 2/3 [00:00<00:00,  4.66it/s]\u001b[Areconstraining parameters GP_regression.rbf.variance\n",
      "\n",
      "Time index: 100%|█████████████████████████████████████████████████████████████████████████| 3/3 [00:00<00:00,  4.96it/s]\u001b[A\n"
     ]
    },
    {
     "name": "stdout",
     "output_type": "stream",
     "text": [
      "\n",
      "\t>>>DCBO\n",
      "\n"
     ]
    },
    {
     "name": "stderr",
     "output_type": "stream",
     "text": [
      " /mnt/c/Users/lucal/Desktop/Thesis/notebooks/MyTests/../../src/utils/dag_utils/adjacency_matrix_utils.py:26: FutureWarning:adjacency_matrix will return a scipy.sparse array instead of a matrix in Networkx 3.0.\n",
      " /home/luca/miniconda3/envs/MTL_DCBO_testing/lib/python3.10/site-packages/GPy/kern/src/rbf.py:52: RuntimeWarning:overflow encountered in square\n",
      " /home/luca/miniconda3/envs/MTL_DCBO_testing/lib/python3.10/site-packages/GPy/kern/src/stationary.py:168: RuntimeWarning:overflow encountered in divide\n",
      " /home/luca/miniconda3/envs/MTL_DCBO_testing/lib/python3.10/site-packages/GPy/kern/src/rbf.py:76: RuntimeWarning:invalid value encountered in multiply\n",
      "\n",
      "Time index:   0%|                                                                                 | 0/3 [00:00<?, ?it/s]\u001b[Areconstraining parameters GP_regression.rbf.variance\n",
      "reconstraining parameters GP_regression.rbf.variance\n",
      "reconstraining parameters GP_regression.rbf.variance\n",
      "\n",
      "Time index:  33%|████████████████████████▎                                                | 1/3 [00:03<00:07,  3.98s/it]\u001b[Areconstraining parameters GP_regression.rbf.variance\n",
      "reconstraining parameters GP_regression.rbf.variance\n",
      "reconstraining parameters GP_regression.rbf.variance\n",
      "\n",
      "Time index:  67%|████████████████████████████████████████████████▋                        | 2/3 [00:10<00:05,  5.54s/it]\u001b[Areconstraining parameters GP_regression.rbf.variance\n",
      "reconstraining parameters GP_regression.rbf.variance\n",
      "reconstraining parameters GP_regression.rbf.variance\n",
      "\n",
      "Time index: 100%|█████████████████████████████████████████████████████████████████████████| 3/3 [00:19<00:00,  6.46s/it]\u001b[A\n"
     ]
    },
    {
     "name": "stdout",
     "output_type": "stream",
     "text": [
      "\n",
      "\t>>>DCPIBO\n",
      "\n"
     ]
    },
    {
     "name": "stderr",
     "output_type": "stream",
     "text": [
      " /mnt/c/Users/lucal/Desktop/Thesis/notebooks/MyTests/../../src/utils/dag_utils/adjacency_matrix_utils.py:26: FutureWarning:adjacency_matrix will return a scipy.sparse array instead of a matrix in Networkx 3.0.\n",
      " /home/luca/miniconda3/envs/MTL_DCBO_testing/lib/python3.10/site-packages/GPy/kern/src/rbf.py:52: RuntimeWarning:overflow encountered in square\n",
      " /home/luca/miniconda3/envs/MTL_DCBO_testing/lib/python3.10/site-packages/GPy/kern/src/stationary.py:168: RuntimeWarning:overflow encountered in divide\n",
      " /home/luca/miniconda3/envs/MTL_DCBO_testing/lib/python3.10/site-packages/GPy/kern/src/rbf.py:76: RuntimeWarning:invalid value encountered in multiply\n",
      "\n",
      "Time index:   0%|                                                                                 | 0/3 [00:00<?, ?it/s]\u001b[Areconstraining parameters GP_regression.rbf.variance\n",
      "reconstraining parameters GP_regression.rbf.variance\n",
      "reconstraining parameters GP_regression.rbf.variance\n",
      "\n",
      "Time index:  33%|████████████████████████▎                                                | 1/3 [00:04<00:08,  4.39s/it]\u001b[Areconstraining parameters GP_regression.rbf.variance\n",
      "reconstraining parameters GP_regression.rbf.variance\n",
      "reconstraining parameters GP_regression.rbf.variance\n",
      "\n",
      "Time index:  67%|████████████████████████████████████████████████▋                        | 2/3 [00:11<00:05,  5.73s/it]\u001b[Areconstraining parameters GP_regression.rbf.variance\n",
      "reconstraining parameters GP_regression.rbf.variance\n",
      "reconstraining parameters GP_regression.rbf.variance\n",
      "\n",
      "Time index: 100%|█████████████████████████████████████████████████████████████████████████| 3/3 [00:20<00:00,  6.81s/it]\u001b[A\n",
      "Experiment count:  33%|██████████████████████▎                                            | 1/3 [00:58<01:57, 58.83s/it]"
     ]
    },
    {
     "name": "stdout",
     "output_type": "stream",
     "text": [
      "\n",
      "\t>>>BO\n",
      "\n"
     ]
    },
    {
     "name": "stderr",
     "output_type": "stream",
     "text": [
      "\n",
      "Time index:   0%|                                                                                 | 0/3 [00:00<?, ?it/s]\u001b[Areconstraining parameters GP_regression.rbf.variance\n",
      "\n",
      "Time index:  33%|████████████████████████▎                                                | 1/3 [00:00<00:00,  5.25it/s]\u001b[Areconstraining parameters GP_regression.rbf.variance\n",
      "\n",
      "Time index:  67%|████████████████████████████████████████████████▋                        | 2/3 [00:00<00:00,  5.09it/s]\u001b[Areconstraining parameters GP_regression.rbf.variance\n",
      "\n",
      "Time index: 100%|█████████████████████████████████████████████████████████████████████████| 3/3 [00:00<00:00,  5.10it/s]\u001b[A\n"
     ]
    },
    {
     "name": "stdout",
     "output_type": "stream",
     "text": [
      "10\n",
      "\n",
      "\t>>>PIBO\n",
      "\n"
     ]
    },
    {
     "name": "stderr",
     "output_type": "stream",
     "text": [
      "\n",
      "Time index:   0%|                                                                                 | 0/3 [00:00<?, ?it/s]\u001b[Areconstraining parameters GP_regression.rbf.variance\n",
      "\n",
      "Time index:  33%|████████████████████████▎                                                | 1/3 [00:00<00:00,  6.91it/s]\u001b[Areconstraining parameters GP_regression.rbf.variance\n",
      "\n",
      "Time index:  67%|████████████████████████████████████████████████▋                        | 2/3 [00:00<00:00,  6.04it/s]\u001b[Areconstraining parameters GP_regression.rbf.variance\n",
      "\n",
      "Time index: 100%|█████████████████████████████████████████████████████████████████████████| 3/3 [00:00<00:00,  6.07it/s]\u001b[A\n"
     ]
    },
    {
     "name": "stdout",
     "output_type": "stream",
     "text": [
      "\n",
      "\t>>>DCBO\n",
      "\n"
     ]
    },
    {
     "name": "stderr",
     "output_type": "stream",
     "text": [
      " /mnt/c/Users/lucal/Desktop/Thesis/notebooks/MyTests/../../src/utils/dag_utils/adjacency_matrix_utils.py:26: FutureWarning:adjacency_matrix will return a scipy.sparse array instead of a matrix in Networkx 3.0.\n",
      " /home/luca/miniconda3/envs/MTL_DCBO_testing/lib/python3.10/site-packages/GPy/kern/src/rbf.py:52: RuntimeWarning:overflow encountered in square\n",
      " /home/luca/miniconda3/envs/MTL_DCBO_testing/lib/python3.10/site-packages/GPy/kern/src/stationary.py:168: RuntimeWarning:overflow encountered in divide\n",
      " /home/luca/miniconda3/envs/MTL_DCBO_testing/lib/python3.10/site-packages/GPy/kern/src/rbf.py:76: RuntimeWarning:invalid value encountered in multiply\n",
      "\n",
      "Time index:   0%|                                                                                 | 0/3 [00:00<?, ?it/s]\u001b[Areconstraining parameters GP_regression.rbf.variance\n",
      "reconstraining parameters GP_regression.rbf.variance\n",
      "reconstraining parameters GP_regression.rbf.variance\n",
      "\n",
      "Time index:  33%|████████████████████████▎                                                | 1/3 [00:04<00:08,  4.18s/it]\u001b[Areconstraining parameters GP_regression.rbf.variance\n",
      "reconstraining parameters GP_regression.rbf.variance\n",
      "reconstraining parameters GP_regression.rbf.variance\n",
      "\n",
      "Time index:  67%|████████████████████████████████████████████████▋                        | 2/3 [00:10<00:05,  5.64s/it]\u001b[Areconstraining parameters GP_regression.rbf.variance\n",
      "reconstraining parameters GP_regression.rbf.variance\n",
      "reconstraining parameters GP_regression.rbf.variance\n",
      "\n",
      "Time index: 100%|█████████████████████████████████████████████████████████████████████████| 3/3 [00:19<00:00,  6.64s/it]\u001b[A\n"
     ]
    },
    {
     "name": "stdout",
     "output_type": "stream",
     "text": [
      "\n",
      "\t>>>DCPIBO\n",
      "\n"
     ]
    },
    {
     "name": "stderr",
     "output_type": "stream",
     "text": [
      " /mnt/c/Users/lucal/Desktop/Thesis/notebooks/MyTests/../../src/utils/dag_utils/adjacency_matrix_utils.py:26: FutureWarning:adjacency_matrix will return a scipy.sparse array instead of a matrix in Networkx 3.0.\n",
      " /home/luca/miniconda3/envs/MTL_DCBO_testing/lib/python3.10/site-packages/GPy/kern/src/rbf.py:52: RuntimeWarning:overflow encountered in square\n",
      " /home/luca/miniconda3/envs/MTL_DCBO_testing/lib/python3.10/site-packages/GPy/kern/src/stationary.py:168: RuntimeWarning:overflow encountered in divide\n",
      " /home/luca/miniconda3/envs/MTL_DCBO_testing/lib/python3.10/site-packages/GPy/kern/src/rbf.py:76: RuntimeWarning:invalid value encountered in multiply\n",
      "\n",
      "Time index:   0%|                                                                                 | 0/3 [00:00<?, ?it/s]\u001b[Areconstraining parameters GP_regression.rbf.variance\n",
      "reconstraining parameters GP_regression.rbf.variance\n",
      "reconstraining parameters GP_regression.rbf.variance\n",
      "\n",
      "Time index:  33%|████████████████████████▎                                                | 1/3 [00:04<00:09,  4.65s/it]\u001b[Areconstraining parameters GP_regression.rbf.variance\n",
      "reconstraining parameters GP_regression.rbf.variance\n",
      "reconstraining parameters GP_regression.rbf.variance\n",
      "\n",
      "Time index:  67%|████████████████████████████████████████████████▋                        | 2/3 [00:11<00:05,  5.93s/it]\u001b[Areconstraining parameters GP_regression.rbf.variance\n",
      "reconstraining parameters GP_regression.rbf.variance\n",
      "reconstraining parameters GP_regression.rbf.variance\n",
      "\n",
      "Time index: 100%|█████████████████████████████████████████████████████████████████████████| 3/3 [00:19<00:00,  6.65s/it]\u001b[A\n",
      "Experiment count:  67%|████████████████████████████████████████████▋                      | 2/3 [01:57<00:58, 58.56s/it]"
     ]
    },
    {
     "name": "stdout",
     "output_type": "stream",
     "text": [
      "\n",
      "\t>>>BO\n",
      "\n"
     ]
    },
    {
     "name": "stderr",
     "output_type": "stream",
     "text": [
      "\n",
      "Time index:   0%|                                                                                 | 0/3 [00:00<?, ?it/s]\u001b[Areconstraining parameters GP_regression.rbf.variance\n",
      "\n",
      "Time index:  33%|████████████████████████▎                                                | 1/3 [00:00<00:00,  5.81it/s]\u001b[Areconstraining parameters GP_regression.rbf.variance\n",
      "\n",
      "Time index:  67%|████████████████████████████████████████████████▋                        | 2/3 [00:00<00:00,  5.76it/s]\u001b[Areconstraining parameters GP_regression.rbf.variance\n",
      "\n",
      "Time index: 100%|█████████████████████████████████████████████████████████████████████████| 3/3 [00:00<00:00,  5.50it/s]\u001b[A\n"
     ]
    },
    {
     "name": "stdout",
     "output_type": "stream",
     "text": [
      "10\n",
      "\n",
      "\t>>>PIBO\n",
      "\n"
     ]
    },
    {
     "name": "stderr",
     "output_type": "stream",
     "text": [
      "\n",
      "Time index:   0%|                                                                                 | 0/3 [00:00<?, ?it/s]\u001b[Areconstraining parameters GP_regression.rbf.variance\n",
      "\n",
      "Time index:  33%|████████████████████████▎                                                | 1/3 [00:00<00:00,  6.34it/s]\u001b[Areconstraining parameters GP_regression.rbf.variance\n",
      "\n",
      "Time index:  67%|████████████████████████████████████████████████▋                        | 2/3 [00:00<00:00,  6.40it/s]\u001b[Areconstraining parameters GP_regression.rbf.variance\n",
      "\n",
      "Time index: 100%|█████████████████████████████████████████████████████████████████████████| 3/3 [00:00<00:00,  6.00it/s]\u001b[A\n"
     ]
    },
    {
     "name": "stdout",
     "output_type": "stream",
     "text": [
      "\n",
      "\t>>>DCBO\n",
      "\n"
     ]
    },
    {
     "name": "stderr",
     "output_type": "stream",
     "text": [
      " /mnt/c/Users/lucal/Desktop/Thesis/notebooks/MyTests/../../src/utils/dag_utils/adjacency_matrix_utils.py:26: FutureWarning:adjacency_matrix will return a scipy.sparse array instead of a matrix in Networkx 3.0.\n",
      " /home/luca/miniconda3/envs/MTL_DCBO_testing/lib/python3.10/site-packages/GPy/kern/src/rbf.py:52: RuntimeWarning:overflow encountered in square\n",
      " /home/luca/miniconda3/envs/MTL_DCBO_testing/lib/python3.10/site-packages/GPy/kern/src/stationary.py:168: RuntimeWarning:overflow encountered in divide\n",
      " /home/luca/miniconda3/envs/MTL_DCBO_testing/lib/python3.10/site-packages/GPy/kern/src/rbf.py:76: RuntimeWarning:invalid value encountered in multiply\n",
      "\n",
      "Time index:   0%|                                                                                 | 0/3 [00:00<?, ?it/s]\u001b[Areconstraining parameters GP_regression.rbf.variance\n",
      "reconstraining parameters GP_regression.rbf.variance\n",
      "reconstraining parameters GP_regression.rbf.variance\n",
      "\n",
      "Time index:  33%|████████████████████████▎                                                | 1/3 [00:04<00:09,  4.64s/it]\u001b[Areconstraining parameters GP_regression.rbf.variance\n",
      "reconstraining parameters GP_regression.rbf.variance\n",
      "reconstraining parameters GP_regression.rbf.variance\n",
      "\n",
      "Time index:  67%|████████████████████████████████████████████████▋                        | 2/3 [00:11<00:05,  5.94s/it]\u001b[Areconstraining parameters GP_regression.rbf.variance\n",
      "reconstraining parameters GP_regression.rbf.variance\n",
      "reconstraining parameters GP_regression.rbf.variance\n",
      "\n",
      "Time index: 100%|█████████████████████████████████████████████████████████████████████████| 3/3 [00:19<00:00,  6.61s/it]\u001b[A\n"
     ]
    },
    {
     "name": "stdout",
     "output_type": "stream",
     "text": [
      "\n",
      "\t>>>DCPIBO\n",
      "\n"
     ]
    },
    {
     "name": "stderr",
     "output_type": "stream",
     "text": [
      " /mnt/c/Users/lucal/Desktop/Thesis/notebooks/MyTests/../../src/utils/dag_utils/adjacency_matrix_utils.py:26: FutureWarning:adjacency_matrix will return a scipy.sparse array instead of a matrix in Networkx 3.0.\n",
      " /home/luca/miniconda3/envs/MTL_DCBO_testing/lib/python3.10/site-packages/GPy/kern/src/rbf.py:52: RuntimeWarning:overflow encountered in square\n",
      " /home/luca/miniconda3/envs/MTL_DCBO_testing/lib/python3.10/site-packages/GPy/kern/src/stationary.py:168: RuntimeWarning:overflow encountered in divide\n",
      " /home/luca/miniconda3/envs/MTL_DCBO_testing/lib/python3.10/site-packages/GPy/kern/src/rbf.py:76: RuntimeWarning:invalid value encountered in multiply\n",
      "\n",
      "Time index:   0%|                                                                                 | 0/3 [00:00<?, ?it/s]\u001b[Areconstraining parameters GP_regression.rbf.variance\n",
      "reconstraining parameters GP_regression.rbf.variance\n",
      "reconstraining parameters GP_regression.rbf.variance\n",
      "\n",
      "Time index:  33%|████████████████████████▎                                                | 1/3 [00:03<00:07,  3.87s/it]\u001b[Areconstraining parameters GP_regression.rbf.variance\n",
      "reconstraining parameters GP_regression.rbf.variance\n",
      "reconstraining parameters GP_regression.rbf.variance\n",
      "\n",
      "Time index:  67%|████████████████████████████████████████████████▋                        | 2/3 [00:09<00:05,  5.20s/it]\u001b[Areconstraining parameters GP_regression.rbf.variance\n",
      "reconstraining parameters GP_regression.rbf.variance\n",
      "reconstraining parameters GP_regression.rbf.variance\n",
      "\n",
      "Time index: 100%|█████████████████████████████████████████████████████████████████████████| 3/3 [00:18<00:00,  6.08s/it]\u001b[A\n",
      "Experiment count: 100%|███████████████████████████████████████████████████████████████████| 3/3 [02:52<00:00, 57.58s/it]\n"
     ]
    }
   ],
   "source": [
    "bad_results = run_methods_replicates(G=G, \n",
    "                                sem=TestSEM, \n",
    "                                make_sem_estimator=build_sem_hat, \n",
    "                                base_target_variable='Y',\n",
    "                                intervention_domain = intervention_domain, \n",
    "                                methods_list = ['BO', 'PIBO', 'DCBO', 'DCPIBO'],\n",
    "                                obs_samples = None,\n",
    "                                exploration_sets = exploration_sets,\n",
    "                                priors_regret = bad_predicted_optima_regret,\n",
    "                                total_timesteps = T,\n",
    "                                number_of_trials = N, \n",
    "                                reps = R, # Number of replicates (how many times we run each method)\n",
    "                                n_restart = 1,\n",
    "                                save_data = False,\n",
    "                                n_obs = 5, # The method samples 5 time-series for each replicate\n",
    "                                num_anchor_points = 100,\n",
    "                                sample_anchor_points = True,\n",
    "                                controlled_experiment=False)"
   ]
  },
  {
   "cell_type": "markdown",
   "id": "58b2f600-8ce9-4e71-ad3d-2e32371afac7",
   "metadata": {},
   "source": [
    "## Plotting"
   ]
  },
  {
   "cell_type": "code",
   "execution_count": 11,
   "id": "f6e72f46-189e-46ce-9ecd-647600142bfc",
   "metadata": {},
   "outputs": [],
   "source": [
    "plot_params = {\n",
    "    \"linewidth\": 3,\n",
    "    \"linewidth_opt\": 4,\n",
    "    \"alpha\": 0.1,\n",
    "    \"xlim_max\": N,\n",
    "    \"ncols\": 5,\n",
    "    \"loc_legend\": \"lower right\",\n",
    "    \"size_ticks\": 20,\n",
    "    \"size_labels\": 20,\n",
    "    \"xlabel\": r'$\\texttt{cost}(\\mathbf{X}_{s,t}, \\mathbf{x}_{s,t})$',\n",
    "    \"labels\": {'DCPIBO': 'DCPIBO', 'PIBO': 'PIBO', 'DCBO': 'DCBO', 'BO': 'BO', 'True': r'$\\mathbb{E} \\left [Y_t \\mid \\textrm{do}(\\mathbf{X}_{s,t}^\\star = \\mathbf{x}_{s,t}^\\star) \\right]$'},\n",
    "    \"colors\": {'DCPIBO': 'blue', 'PIBO': 'green', 'DCBO': 'orange', 'BO': 'red', 'True': 'black'},\n",
    "    \"line_styles\": {'DCPIBO': 'dashdot', 'PIBO': '--', 'DCBO': '-', 'BO': '-', 'True': ':'},\n",
    "    \"width\":10\n",
    "}\n",
    "rc('text', usetex=True)\n",
    "rc('text.latex', preamble=r'\\usepackage{amssymb}')\n",
    "rc('font', family='serif')\n",
    "rc('font', size=20)"
   ]
  },
  {
   "cell_type": "markdown",
   "id": "f0393f12-eddc-4f93-b89b-1b2f8659bc6b",
   "metadata": {
    "tags": []
   },
   "source": [
    "### Good prior"
   ]
  },
  {
   "cell_type": "code",
   "execution_count": 36,
   "id": "6aa7e03c-974f-4a50-82f7-f329c185ba5b",
   "metadata": {},
   "outputs": [],
   "source": [
    "good_data = get_relevant_results(results=good_results, replicates=R)\n",
    "good_exp_optimal_outcome_values_during_trials, good_exp_per_trial_cost = elaborate(number_of_interventions=None, \n",
    "                                                                         n_replicates=R, \n",
    "                                                                         data=good_data, \n",
    "                                                                         best_objective_values=true_objective_values, \n",
    "                                                                         T=T)"
   ]
  },
  {
   "cell_type": "code",
   "execution_count": 37,
   "id": "71ff77e3-f4be-47f7-96c1-d06bdeb122e5",
   "metadata": {
    "tags": []
   },
   "outputs": [
    {
     "data": {
      "image/png": "[encoded data removed]",
      "text/plain": [
       "<Figure size 1500x500 with 3 Axes>"
      ]
     },
     "metadata": {},
     "output_type": "display_data"
    }
   ],
   "source": [
    "# Each frame corresponds to one time-slice.\n",
    "plot_expected_opt_curve_paper(T,\n",
    "    true_objective_values,\n",
    "    good_exp_per_trial_cost,\n",
    "    good_exp_optimal_outcome_values_during_trials,\n",
    "    plot_params,  \n",
    "    fig_size = (15,5))"
   ]
  },
  {
   "cell_type": "markdown",
   "id": "6a8f34fd-a148-432a-8dd5-6783b76afc20",
   "metadata": {
    "jp-MarkdownHeadingCollapsed": true,
    "tags": []
   },
   "source": [
    "### Bad prior"
   ]
  },
  {
   "cell_type": "code",
   "execution_count": 14,
   "id": "0acbb923-f58c-4e51-80ce-3223bdad5419",
   "metadata": {},
   "outputs": [],
   "source": [
    "bad_data = get_relevant_results(results=bad_results,replicates=R)\n",
    "bad_exp_optimal_outcome_values_during_trials, bad_exp_per_trial_cost = elaborate(number_of_interventions=None, \n",
    "                                                                         n_replicates=R, \n",
    "                                                                         data=bad_data, \n",
    "                                                                         best_objective_values=true_objective_values, \n",
    "                                                                         T=T)"
   ]
  },
  {
   "cell_type": "code",
   "execution_count": 15,
   "id": "2a9e4b11-7a12-45a1-b422-44f7e2d69e3c",
   "metadata": {},
   "outputs": [
    {
     "data": {
      "image/png": "[encoded data removed]",
      "text/plain": [
       "<Figure size 1500x500 with 3 Axes>"
      ]
     },
     "metadata": {},
     "output_type": "display_data"
    }
   ],
   "source": [
    "# Each frame corresponds to one time-slice.\n",
    "plot_expected_opt_curve_paper(T,\n",
    "    true_objective_values,\n",
    "    bad_exp_per_trial_cost,\n",
    "    bad_exp_optimal_outcome_values_during_trials,\n",
    "    plot_params,  \n",
    "    fig_size = (15,5))"
   ]
  },
  {
   "cell_type": "markdown",
   "id": "f0aee766-c696-4649-8987-c90912fa4550",
   "metadata": {
    "tags": []
   },
   "source": [
    "## Gap Metric"
   ]
  },
  {
   "cell_type": "code",
   "execution_count": 16,
   "id": "735030e0-a0ce-443e-b98a-e5931229c6b9",
   "metadata": {
    "tags": []
   },
   "outputs": [],
   "source": [
    "def compute_gap_values(T, summary):\n",
    "    G_BO=0\n",
    "    G_PIBO=0\n",
    "    G_DCBO=0\n",
    "    G_DCPIBO=0\n",
    "    list_gaps=[]\n",
    "    summary_list = list(summary.values())\n",
    "    for i in range(len(summary_list)):\n",
    "        for t in range(T):\n",
    "            # print(summary_list[i][t][0])\n",
    "            if i==0:\n",
    "                G_BO=G_BO+summary_list[i][t][0]\n",
    "                if t==2:\n",
    "                    list_gaps.append(G_BO/T)\n",
    "            elif i==1:\n",
    "                G_PIBO=G_PIBO+summary_list[i][t][0]\n",
    "                if t==2:\n",
    "                    list_gaps.append(G_PIBO/T)\n",
    "            elif i==2:\n",
    "                G_DCBO=G_DCBO+summary_list[i][t][0]\n",
    "                if t==2:\n",
    "                    list_gaps.append(G_DCBO/T)\n",
    "            elif i==3:\n",
    "                G_DCPIBO=G_DCPIBO+summary_list[i][t][0]\n",
    "                if t==2:\n",
    "                    list_gaps.append(G_DCPIBO/T)\n",
    "    return list_gaps"
   ]
  },
  {
   "cell_type": "markdown",
   "id": "8f4a3e66-54ad-42fd-a0de-362fc8d05cdb",
   "metadata": {
    "tags": []
   },
   "source": [
    "### Good Gap Metric"
   ]
  },
  {
   "cell_type": "code",
   "execution_count": 38,
   "id": "4e302494-1f44-474b-885a-21c7c5a407ce",
   "metadata": {},
   "outputs": [],
   "source": [
    "good_t_i_l = get_common_initial_values(T=T,\n",
    "                                  data=good_data,\n",
    "                                  n_replicates=R)\n",
    "\n",
    "good_w_c_d = get_converge_trial(best_objective_values=true_objective_values,\n",
    "                           exp_optimal_outcome_values_during_trials=good_exp_optimal_outcome_values_during_trials,\n",
    "                           n_trials=N,\n",
    "                           T=T,\n",
    "                           n_decimal=1)\n",
    "\n",
    "good_summary = gap_metric_standard(T=T,\n",
    "                             data=good_data,\n",
    "                             best_objective_values=true_objective_values,\n",
    "                             total_initial_list = good_t_i_l,\n",
    "                             n_replicates=R,\n",
    "                             n_trials=N,\n",
    "                             where_converge_dict=good_w_c_d)\n",
    "\n",
    "good_list = compute_gap_values(T, good_summary)"
   ]
  },
  {
   "cell_type": "code",
   "execution_count": 39,
   "id": "46340960-fbf7-447b-b698-c99a1100be1f",
   "metadata": {},
   "outputs": [
    {
     "data": {
      "text/plain": [
       "{'BO': [[0.42649113145332335, 0.04259129819330276],\n",
       "  [0.335640137422919, 0.09118928750359429],\n",
       "  [0.32869605259179197, 0.12336221471896254]],\n",
       " 'PIBO': [[0.4408856989837784, 0.022235133544189597],\n",
       "  [0.3435910968483244, 0.08815439945612553],\n",
       "  [0.3359230415407228, 0.0397397968948818]],\n",
       " 'DCBO': [[0.3570510644896767, 0.022650106333434627],\n",
       "  [0.3414524240189873, 0.03016947346049495],\n",
       "  [0.38147379973249834, 0.023892510459406838]],\n",
       " 'DCPIBO': [[0.3816970383824103, 0.0275944202671308],\n",
       "  [0.3485913723424314, 0.05650212817866163],\n",
       "  [0.39024841301821106, 0.015272352233226254]]}"
      ]
     },
     "execution_count": 39,
     "metadata": {},
     "output_type": "execute_result"
    }
   ],
   "source": [
    "good_summary"
   ]
  },
  {
   "cell_type": "code",
   "execution_count": 40,
   "id": "ba65e558-643d-4e54-900d-75c4d608d037",
   "metadata": {},
   "outputs": [
    {
     "data": {
      "text/plain": [
       "[0.3636091071560114,\n",
       " 0.37346661245760854,\n",
       " 0.35999242941372084,\n",
       " 0.3735122745810176]"
      ]
     },
     "execution_count": 40,
     "metadata": {},
     "output_type": "execute_result"
    }
   ],
   "source": [
    "good_list"
   ]
  },
  {
   "cell_type": "markdown",
   "id": "be077784-7f26-4174-a6c1-03b957224bb8",
   "metadata": {
    "jp-MarkdownHeadingCollapsed": true,
    "tags": []
   },
   "source": [
    "### Bad Gap Metric"
   ]
  },
  {
   "cell_type": "code",
   "execution_count": 20,
   "id": "387b3881-a30d-42ab-acbc-f0a59fbc8926",
   "metadata": {},
   "outputs": [],
   "source": [
    "bad_t_i_l = get_common_initial_values(T=T,\n",
    "                                  data=bad_data,\n",
    "                                  n_replicates=R)\n",
    "\n",
    "bad_w_c_d = get_converge_trial(best_objective_values=true_objective_values,\n",
    "                          exp_optimal_outcome_values_during_trials=bad_exp_optimal_outcome_values_during_trials,\n",
    "                          n_trials=N,\n",
    "                          T=T,\n",
    "                          n_decimal=1)\n",
    "\n",
    "bad_summary = gap_metric_standard(T=T,\n",
    "                             data=bad_data,\n",
    "                             best_objective_values=true_objective_values,\n",
    "                             total_initial_list = bad_t_i_l,\n",
    "                             n_replicates=R,\n",
    "                             n_trials=N,\n",
    "                             where_converge_dict=bad_w_c_d)\n",
    "\n",
    "bad_list = compute_gap_values(T, bad_summary)"
   ]
  },
  {
   "cell_type": "code",
   "execution_count": 21,
   "id": "998774f9-196c-4762-bc31-4647a95c660d",
   "metadata": {},
   "outputs": [
    {
     "data": {
      "text/plain": [
       "{'BO': [[0.46687333273954784, 0.045086060600956816],\n",
       "  [0.4103213550360583, 0.046059647139904306],\n",
       "  [0.34720384802684595, 0.04699941959674605]],\n",
       " 'PIBO': [[0.4732840183587408, 0.029360894915281394],\n",
       "  [0.3961900508750103, 0.019897140160321142],\n",
       "  [0.35816200681132254, 0.00525955236201194]],\n",
       " 'DCBO': [[0.39100907192869716, 0.01172570761818431],\n",
       "  [0.3506436312152707, 0.06280872827267386],\n",
       "  [0.36742519609043495, 0.029351882128254923]],\n",
       " 'DCPIBO': [[0.3906886949714756, 0.012793766880191609],\n",
       "  [0.34874977044925354, 0.06281213962009799],\n",
       "  [0.36707592522303173, 0.02823153118772537]]}"
      ]
     },
     "execution_count": 21,
     "metadata": {},
     "output_type": "execute_result"
    }
   ],
   "source": [
    "bad_summary"
   ]
  },
  {
   "cell_type": "code",
   "execution_count": 22,
   "id": "b9e2107d-c966-4566-9940-c110326c58a5",
   "metadata": {},
   "outputs": [
    {
     "data": {
      "text/plain": [
       "[0.408132845267484,\n",
       " 0.4092120253483578,\n",
       " 0.36969263307813427,\n",
       " 0.36883813021458695]"
      ]
     },
     "execution_count": 22,
     "metadata": {},
     "output_type": "execute_result"
    }
   ],
   "source": [
    "bad_list"
   ]
  }
 ],
 "metadata": {
  "kernelspec": {
   "display_name": "Python 3 (ipykernel)",
   "language": "python",
   "name": "python3"
  },
  "language_info": {
   "codemirror_mode": {
    "name": "ipython",
    "version": 3
   },
   "file_extension": ".py",
   "mimetype": "text/x-python",
   "name": "python",
   "nbconvert_exporter": "python",
   "pygments_lexer": "ipython3",
   "version": "3.10.9"
  }
 },
 "nbformat": 4,
 "nbformat_minor": 5
}
