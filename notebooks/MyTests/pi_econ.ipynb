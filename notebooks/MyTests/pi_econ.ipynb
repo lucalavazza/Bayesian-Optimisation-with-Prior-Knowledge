{
 "cells": [
  {
   "cell_type": "markdown",
   "id": "04876c9f-e2a3-47fa-b7de-6f194e931dd7",
   "metadata": {},
   "source": [
    "# DC$\\pi$BO - ECON"
   ]
  },
  {
   "cell_type": "code",
   "execution_count": 869,
   "id": "1a81bade-3c9f-42ea-a31f-2708970130e3",
   "metadata": {},
   "outputs": [
    {
     "name": "stdout",
     "output_type": "stream",
     "text": [
      "The autoreload extension is already loaded. To reload it, use:\n",
      "  %reload_ext autoreload\n"
     ]
    }
   ],
   "source": [
    "%load_ext autoreload\n",
    "%autoreload 2\n",
    "\n",
    "import sys\n",
    "sys.path.append(\"../../src/\")\n",
    "sys.path.append(\"../..\")\n",
    "\n",
    "from src.examples.example_setups import setup_econ_SEM\n",
    "\n",
    "from src.utils.sem_utils.real_sems import EconSEM\n",
    "from src.utils.sem_utils.sem_estimate import build_sem_hat\n",
    "from src.utils.gp_utils import fit_gp\n",
    "from src.utils.utility_functions import *\n",
    "from src.utils.plotting import plot_expected_opt_curve_paper\n",
    "\n",
    "from src.experimental.experiments import run_methods_replicates\n",
    "from src.experimental.analyse_results import get_relevant_results, elaborate, gap_metric_standard, get_common_initial_values, get_converge_trial\n",
    "\n",
    "from src.methods.bo import BO\n",
    "from src.methods.dcbo import DCBO\n",
    "from src.methods.pibo import PIBO\n",
    "from src.methods.dcpibo import DCPIBO\n",
    "\n",
    "from matplotlib.pyplot import rc\n",
    "import random\n",
    "import pandas as pd\n",
    "from copy import deepcopy\n",
    "import numpy as np\n",
    "\n",
    "random.seed(42)"
   ]
  },
  {
   "cell_type": "markdown",
   "id": "63c35ef9-2287-4513-b401-df12855c33c9",
   "metadata": {
    "tags": []
   },
   "source": [
    "## Constants and such"
   ]
  },
  {
   "cell_type": "code",
   "execution_count": 870,
   "id": "2d003c3c-5ccd-48d2-a78b-1cb3da1ee9e7",
   "metadata": {},
   "outputs": [],
   "source": [
    "T = 3\n",
    "t_axis = np.linspace(1,T,T,dtype=int)\n",
    "N = 10\n",
    "std = 0.1\n",
    "beta = 1"
   ]
  },
  {
   "cell_type": "markdown",
   "id": "d057ce18-d658-4944-a135-516a96d8a86c",
   "metadata": {
    "tags": []
   },
   "source": [
    "## Setup"
   ]
  },
  {
   "cell_type": "markdown",
   "id": "53a28f35-5124-42b3-aca4-3061140b68cb",
   "metadata": {
    "tags": []
   },
   "source": [
    "### Import and Clean Data"
   ]
  },
  {
   "cell_type": "code",
   "execution_count": 871,
   "id": "5c9252e7-d872-42de-934b-2f62d941da90",
   "metadata": {},
   "outputs": [],
   "source": [
    "GDP = pd.read_csv('../../data/economic_data/GDP.csv')\n",
    "INF = pd.read_csv('../../data/economic_data/INF.csv')\n",
    "TAX = pd.read_csv('../../data/economic_data/TAX.csv')\n",
    "UN = pd.read_csv('../../data/economic_data/UN.csv')"
   ]
  },
  {
   "cell_type": "code",
   "execution_count": 872,
   "id": "d4a89387-0d6d-42de-a854-b86c3daacb49",
   "metadata": {},
   "outputs": [],
   "source": [
    "GDP = GDP[[\"LOCATION\", \"TIME\", \"Value\"]]\n",
    "INF = INF[[\"LOCATION\", \"TIME\", \"Value\"]]\n",
    "TAX = TAX[[\"LOCATION\", \"TIME\", \"Value\"]]\n",
    "UN = UN[[\"LOCATION\", \"TIME\", \"Value\"]]"
   ]
  },
  {
   "cell_type": "code",
   "execution_count": 873,
   "id": "00cf2ca9-b060-4641-8aa3-9c581e336a6c",
   "metadata": {},
   "outputs": [
    {
     "name": "stderr",
     "output_type": "stream",
     "text": [
      " /tmp/ipykernel_470/2333906969.py:3: FutureWarning:Passing 'suffixes' which cause duplicate columns {'Value_x'} in the result is deprecated and will raise a MergeError in a future version.\n"
     ]
    }
   ],
   "source": [
    "new_df1 = pd.merge(GDP, INF, how='left', on=['LOCATION','TIME'])\n",
    "new_df2 = pd.merge(new_df1, TAX,  how='left', on=['LOCATION','TIME'])\n",
    "new_df3 = pd.merge(new_df2, UN,  how='left', on=['LOCATION','TIME'])\n",
    "new_df3.columns = ['LOC', 'TIME', 'GDP', 'INF', 'TAX', 'UN']\n",
    "\n",
    "data = new_df3[new_df3['TIME'] > 2017]\n",
    "data = data[data['TIME'] < 2023]\n",
    "data = data.dropna()\n",
    "data = data.reset_index(drop=True)"
   ]
  },
  {
   "cell_type": "code",
   "execution_count": 874,
   "id": "ecec5b91-609b-4fa7-a150-e2d528d1ae62",
   "metadata": {},
   "outputs": [],
   "source": [
    "country_list = []\n",
    "for i in range(10):\n",
    "    time = 2018 + i\n",
    "    country_list.append(list(data[data['TIME'] == time]['LOC']))"
   ]
  },
  {
   "cell_type": "code",
   "execution_count": 875,
   "id": "40d00279-3014-4e42-88e8-de3ef5fdecb9",
   "metadata": {},
   "outputs": [
    {
     "name": "stderr",
     "output_type": "stream",
     "text": [
      " /tmp/ipykernel_470/3032838381.py:22: UserWarning:Boolean Series key will be reindexed to match DataFrame index.\n"
     ]
    }
   ],
   "source": [
    "np.unique(data['LOC'])\n",
    "data['GDP%'] = np.nan\n",
    "data['log_U'] = np.nan\n",
    "data['TAX%'] = np.nan\n",
    "\n",
    "for i, row in data.iterrows():\n",
    "    if i > 0:\n",
    "        perc_change_GDP = ((list(data['GDP'])[i] \n",
    "                           - list(data['GDP'])[i-1])/list(data['GDP'])[i-1])*100\n",
    "\n",
    "        perc_change_tax = ((list(data['TAX'])[i]*list(data['GDP'])[i] \n",
    "                           - list(data['TAX'])[i-1]*\n",
    "                            list(data['GDP'])[i-1])/(list(data['TAX'])[i-1]*list(data['GDP'])[i-1]))*100\n",
    "        \n",
    "        log_U = list(data['UN'])[i]\n",
    "        \n",
    "        data.at[i,'GDP%'] = perc_change_GDP\n",
    "        data.at[i,'log_U'] = log_U\n",
    "        data.at[i,'TAX%'] = perc_change_tax\n",
    "\n",
    "extracted_data = data[['LOC', 'TIME', 'GDP%', 'log_U', 'TAX%', 'INF']]\n",
    "extracted_data = extracted_data.dropna()[extracted_data['TIME'] != 2018]"
   ]
  },
  {
   "cell_type": "code",
   "execution_count": 876,
   "id": "3346a544-08f8-44a5-bca7-1931567677ca",
   "metadata": {},
   "outputs": [],
   "source": [
    "# Legend fo the graph in the paper\n",
    "# Z=G\n",
    "# Y=U\n",
    "# X=R\n",
    "# F=T\n",
    "\n",
    "Z = np.asarray(extracted_data[['GDP%', 'TIME', 'LOC']].pivot(index = 'LOC', columns='TIME'))\n",
    "Y = np.asarray(extracted_data[['log_U', 'TIME', 'LOC']].pivot(index = 'LOC', columns='TIME'))\n",
    "X = np.asarray(extracted_data[['INF', 'TIME', 'LOC']].pivot(index = 'LOC', columns='TIME'))\n",
    "F = np.asarray(extracted_data[['TAX%', 'TIME', 'LOC']].pivot(index = 'LOC', columns='TIME'))\n",
    "\n",
    "date = np.asarray(list(extracted_data['TIME']))\n",
    "observational_samples = {'Z':Z, 'Y':Y, 'X':X, 'F':F}"
   ]
  },
  {
   "cell_type": "code",
   "execution_count": 877,
   "id": "c97e9c9c-1cc6-4fb4-ab28-3f07032bfab7",
   "metadata": {},
   "outputs": [],
   "source": [
    "Z = replace_nan(Z)\n",
    "Y = replace_nan(Y)\n",
    "X = replace_nan(X)\n",
    "F = replace_nan(F)"
   ]
  },
  {
   "cell_type": "markdown",
   "id": "e599d823-76d7-4458-9cca-c1ef703bb612",
   "metadata": {
    "tags": []
   },
   "source": [
    "### Model:"
   ]
  },
  {
   "cell_type": "code",
   "execution_count": 878,
   "id": "582217f4-ccba-4de0-b0df-0dcf025b00a2",
   "metadata": {},
   "outputs": [],
   "source": [
    "parametric = False\n",
    "liner_type = True"
   ]
  },
  {
   "cell_type": "code",
   "execution_count": 879,
   "id": "548e6989-c1ad-4b85-add4-b88083f45c5d",
   "metadata": {},
   "outputs": [],
   "source": [
    "time_vector = np.tile(np.linspace(0, len(Z)-1, len(Z)), T)[:,np.newaxis]\n",
    "\n",
    "if parametric is False:\n",
    "    model_F = fit_gp(time_vector, np.hstack(observational_samples['F'])[:,np.newaxis])\n",
    "\n",
    "    model_X = fit_gp(time_vector, np.hstack(observational_samples['X'])[:,np.newaxis])\n",
    "\n",
    "    model_Z = fit_gp(np.hstack((np.hstack(observational_samples['X'])[:,np.newaxis], \n",
    "                             np.hstack(observational_samples['F'])[:,np.newaxis])),  \n",
    "                             np.hstack(observational_samples['Z'])[:,np.newaxis])\n",
    "    \n",
    "    model_Y = fit_gp(np.hstack((observational_samples['X'][:,0][:,np.newaxis], \n",
    "                             observational_samples['Z'][:,0][:,np.newaxis])),  \n",
    "                             observational_samples['Y'][:,0][:,np.newaxis])\n",
    "elif liner_type:\n",
    "    model_F = LinearRegression().fit(time_vector, np.hstack(observational_samples['F'])[:,np.newaxis])\n",
    "    model_X = LinearRegression().fit(np.hstack(observational_samples['M'])[:,np.newaxis],  \n",
    "                  np.hstack(observational_samples['X'])[:,np.newaxis])\n",
    "\n",
    "    model_Z = LinearRegression().fit(np.hstack((np.hstack(observational_samples['X'])[:,np.newaxis], \n",
    "                             np.hstack(observational_samples['F'])[:,np.newaxis])),  \n",
    "                             np.hstack(observational_samples['Z'])[:,np.newaxis])\n",
    "\n",
    "    model_Y = LinearRegression().fit(np.hstack((np.hstack(observational_samples['X'])[:,np.newaxis], \n",
    "                             np.hstack(observational_samples['Z'])[:,np.newaxis])),  \n",
    "                             np.hstack(observational_samples['Y'])[:,np.newaxis])    \n",
    "else:\n",
    "    numpy.polyfit(numpy.log(x), y, 1)\n",
    "    \n",
    "functions_0 = {'Z': model_Z, 'Y': model_Y, 'X':model_X, 'F': model_F}"
   ]
  },
  {
   "cell_type": "code",
   "execution_count": 880,
   "id": "19f08c3c-49c5-4237-9358-010d252ca3b0",
   "metadata": {},
   "outputs": [],
   "source": [
    "X_AR = []\n",
    "Z_AR = []\n",
    "Y_AR = []\n",
    "\n",
    "for i in range(observational_samples['X'].shape[0]):\n",
    "    X_AR.append(np.transpose(np.vstack((observational_samples['X'][i][:-1],\n",
    "                                        observational_samples['X'][i][1:]))))\n",
    "        \n",
    "    \n",
    "    Z_AR.append(np.transpose(np.vstack((observational_samples['Z'][i][:-1],\n",
    "                                        observational_samples['X'][i][1:],\n",
    "                                        observational_samples['F'][i][1:],\n",
    "                                        observational_samples['Z'][i][1:]))))\n",
    "    \n",
    "    \n",
    "    Y_AR.append(np.transpose(np.vstack((observational_samples['Y'][i][:-1],\n",
    "                                        observational_samples['Z'][i][1:],\n",
    "                                        observational_samples['X'][i][1:],\n",
    "                                        observational_samples['Y'][i][1:]))))\n",
    "\n",
    "X_AR = np.vstack(X_AR)\n",
    "Z_AR = np.vstack(Z_AR)\n",
    "Y_AR = np.vstack(Y_AR)\n",
    "\n",
    "if parametric is False:\n",
    "    model_X_t = fit_gp(X_AR[:, :-1], X_AR[:, -1][:,np.newaxis])\n",
    "    model_Z_t = fit_gp(Z_AR[:, :-1], Z_AR[:, -1][:,np.newaxis])\n",
    "    model_Y_t = fit_gp(Y_AR[:, :-1], Y_AR[:, -1][:,np.newaxis])\n",
    "else:\n",
    "    model_X_t = LinearRegression().fit(X_AR[:, :-1], X_AR[:, -1][:,np.newaxis])\n",
    "    model_Z_t = LinearRegression().fit(Z_AR[:, :-1], Z_AR[:, -1][:,np.newaxis])\n",
    "    model_Y_t = LinearRegression().fit(Y_AR[:, :-1], Y_AR[:, -1][:,np.newaxis])\n",
    "    \n",
    "functions_t = {'Z': model_Z_t, 'Y': model_Y_t, 'X': model_X_t, 'F': model_F}"
   ]
  },
  {
   "cell_type": "code",
   "execution_count": 881,
   "id": "a27d1d13-bbf9-475e-8f59-3b339f3a7513",
   "metadata": {},
   "outputs": [],
   "source": [
    "# It's not stuck, it just takes a long time to complete. \n",
    "# It eventually successfully reaches the end.\n",
    "init_sem, sem, dag_view, G, exploration_sets, intervention_domain, true_objective_values, optimal_interventions, all_causal_effects = setup_econ_SEM(T=T, functions_0=functions_0, functions_t=functions_t)"
   ]
  },
  {
   "cell_type": "markdown",
   "id": "6e0c280b-8d56-4531-b993-0daea938b114",
   "metadata": {
    "tags": []
   },
   "source": [
    "### Good Prior"
   ]
  },
  {
   "cell_type": "code",
   "execution_count": 882,
   "id": "898ec825-cbd0-4c61-918e-2094157cc123",
   "metadata": {},
   "outputs": [],
   "source": [
    "a_param = (true_objective_values[0]-true_objective_values[1])/(t_axis[0]-t_axis[1])\n",
    "b_param = (true_objective_values[0]*t_axis[1]-true_objective_values[1]*t_axis[0])/(t_axis[0]-t_axis[1])\n",
    "\n",
    "y = a_param*t_axis+b_param # the line on which I assume the optima would be\n",
    "y = [int(item) for item in y]"
   ]
  },
  {
   "cell_type": "code",
   "execution_count": 883,
   "id": "9d60f78a-e2f1-48e3-ada2-5eae0710e299",
   "metadata": {},
   "outputs": [],
   "source": [
    "all_variates, all_amps, all_pdfs = compute_statistics(y, std)\n",
    "all_variates_regret = regret_priors(all_variates, N, beta)\n",
    "\n",
    "all_pdfs_normalised = normalise_pdfs(all_pdfs)\n",
    "\n",
    "predicted_optima_regret = predict_optima_regret(N, T, all_variates_regret, all_pdfs_normalised) # this are all the 𝜋s"
   ]
  },
  {
   "cell_type": "markdown",
   "id": "3583c476-870e-46f8-90a1-b1a1e1da4e0a",
   "metadata": {
    "tags": []
   },
   "source": [
    "### Bad Prior"
   ]
  },
  {
   "cell_type": "code",
   "execution_count": 884,
   "id": "1ca58bbe-37c0-4434-8d54-4cb98bc5c708",
   "metadata": {},
   "outputs": [],
   "source": [
    "bad_y = np.random.randint(-3*abs(max(true_objective_values)), 3*abs(max(true_objective_values)), T)\n",
    "random_f = random.random()\n",
    "bad_y = [item+random_f for item in bad_y]"
   ]
  },
  {
   "cell_type": "code",
   "execution_count": 885,
   "id": "86188a1f-07bf-457d-a233-e81e23e4ed7c",
   "metadata": {},
   "outputs": [],
   "source": [
    "bad_all_variates, bad_all_amps, bad_all_pdfs = compute_statistics(bad_y, std)\n",
    "bad_all_variates_regret = regret_priors(bad_all_variates, N, beta)\n",
    "\n",
    "bad_all_pdfs_normalised = normalise_pdfs(bad_all_pdfs)\n",
    "\n",
    "bad_predicted_optima_regret = predict_optima_regret(N, T, bad_all_variates_regret, bad_all_pdfs_normalised) # this are all the 𝜋s"
   ]
  },
  {
   "cell_type": "markdown",
   "id": "146636ad-0b99-4f51-9657-fc29287e551c",
   "metadata": {
    "tags": []
   },
   "source": [
    "## Models' executions"
   ]
  },
  {
   "cell_type": "code",
   "execution_count": 886,
   "id": "3fba6045-8557-40f6-8ce0-24a76421c709",
   "metadata": {},
   "outputs": [],
   "source": [
    "R=10\n",
    "\n",
    "E_SEM = EconSEM(functions_0=functions_0, functions_t=functions_t)\n",
    "\n",
    "manipulative_vars = list(intervention_domain.keys())\n",
    "subset_obs_data = deepcopy(observational_samples)\n",
    "for var in subset_obs_data.keys():\n",
    "    subset_obs_data[var] = subset_obs_data[var][:,:3]"
   ]
  },
  {
   "cell_type": "markdown",
   "id": "80f3a27e-1298-4477-9a5d-b449b28ad7a0",
   "metadata": {},
   "source": [
    "### Good Prior"
   ]
  },
  {
   "cell_type": "code",
   "execution_count": 887,
   "id": "a60c4f5a-9243-4ff8-9c72-51418d083928",
   "metadata": {},
   "outputs": [
    {
     "name": "stderr",
     "output_type": "stream",
     "text": [
      "Experiment count:   0%|                                                                           | 0/1 [00:00<?, ?it/s]"
     ]
    },
    {
     "name": "stdout",
     "output_type": "stream",
     "text": [
      "\n",
      "\t>>>BO\n",
      "\n"
     ]
    },
    {
     "name": "stderr",
     "output_type": "stream",
     "text": [
      "\n",
      "Time index:   0%|                                                                                 | 0/3 [00:00<?, ?it/s]\u001b[Areconstraining parameters GP_regression.rbf.variance\n",
      "\n",
      "Time index:  33%|████████████████████████▎                                                | 1/3 [00:00<00:00,  4.52it/s]\u001b[Areconstraining parameters GP_regression.rbf.variance\n",
      " /home/luca/miniconda3/envs/MTL_DCBO_testing/lib/python3.10/site-packages/GPy/core/parameterization/priorizable.py:81: RuntimeWarning:overflow encountered in double_scalars\n",
      "\n",
      "Time index:  67%|████████████████████████████████████████████████▋                        | 2/3 [00:00<00:00,  5.41it/s]\u001b[Areconstraining parameters GP_regression.rbf.variance\n",
      "\n",
      "Time index: 100%|█████████████████████████████████████████████████████████████████████████| 3/3 [00:00<00:00,  5.58it/s]\u001b[A\n"
     ]
    },
    {
     "name": "stdout",
     "output_type": "stream",
     "text": [
      "10\n",
      "\n",
      "\t>>>PIBO\n",
      "\n"
     ]
    },
    {
     "name": "stderr",
     "output_type": "stream",
     "text": [
      "\n",
      "Time index:   0%|                                                                                 | 0/3 [00:00<?, ?it/s]\u001b[Areconstraining parameters GP_regression.rbf.variance\n",
      "\n",
      "Time index:  33%|████████████████████████▎                                                | 1/3 [00:00<00:00,  5.00it/s]\u001b[Areconstraining parameters GP_regression.rbf.variance\n",
      "\n",
      "Time index:  67%|████████████████████████████████████████████████▋                        | 2/3 [00:00<00:00,  5.62it/s]\u001b[Areconstraining parameters GP_regression.rbf.variance\n",
      "\n",
      "Time index: 100%|█████████████████████████████████████████████████████████████████████████| 3/3 [00:00<00:00,  5.68it/s]\u001b[A\n",
      " /mnt/c/Users/lucal/Desktop/Thesis/notebooks/MyTests/../../src/utils/dag_utils/adjacency_matrix_utils.py:26: FutureWarning:adjacency_matrix will return a scipy.sparse array instead of a matrix in Networkx 3.0.\n"
     ]
    },
    {
     "name": "stdout",
     "output_type": "stream",
     "text": [
      "\n",
      "\t>>>DCBO\n",
      "\n"
     ]
    },
    {
     "name": "stderr",
     "output_type": "stream",
     "text": [
      " /home/luca/miniconda3/envs/MTL_DCBO_testing/lib/python3.10/site-packages/GPy/kern/src/stationary.py:168: RuntimeWarning:overflow encountered in divide\n",
      " /home/luca/miniconda3/envs/MTL_DCBO_testing/lib/python3.10/site-packages/GPy/kern/src/rbf.py:52: RuntimeWarning:overflow encountered in square\n",
      " /home/luca/miniconda3/envs/MTL_DCBO_testing/lib/python3.10/site-packages/GPy/kern/src/rbf.py:76: RuntimeWarning:invalid value encountered in multiply\n",
      " /mnt/c/Users/lucal/Desktop/Thesis/notebooks/MyTests/../../src/utils/dag_utils/adjacency_matrix_utils.py:26: FutureWarning:adjacency_matrix will return a scipy.sparse array instead of a matrix in Networkx 3.0.\n",
      "\n",
      "Time index:   0%|                                                                                 | 0/3 [00:00<?, ?it/s]\u001b[Areconstraining parameters GP_regression.rbf.variance\n",
      "reconstraining parameters GP_regression.rbf.variance\n",
      "reconstraining parameters GP_regression.rbf.variance\n",
      "\n",
      "Time index:  33%|████████████████████████▎                                                | 1/3 [00:04<00:08,  4.15s/it]\u001b[Areconstraining parameters GP_regression.rbf.variance\n",
      "reconstraining parameters GP_regression.rbf.variance\n",
      "reconstraining parameters GP_regression.rbf.variance\n",
      "\n",
      "Time index:  67%|████████████████████████████████████████████████▋                        | 2/3 [00:12<00:06,  6.53s/it]\u001b[Areconstraining parameters GP_regression.rbf.variance\n",
      "reconstraining parameters GP_regression.rbf.variance\n",
      "reconstraining parameters GP_regression.rbf.variance\n",
      "\n",
      "Time index: 100%|█████████████████████████████████████████████████████████████████████████| 3/3 [00:23<00:00,  7.72s/it]\u001b[A\n"
     ]
    },
    {
     "name": "stdout",
     "output_type": "stream",
     "text": [
      "\n",
      "\t>>>DCPIBO\n",
      "\n"
     ]
    },
    {
     "name": "stderr",
     "output_type": "stream",
     "text": [
      " /home/luca/miniconda3/envs/MTL_DCBO_testing/lib/python3.10/site-packages/GPy/kern/src/stationary.py:168: RuntimeWarning:overflow encountered in divide\n",
      " /home/luca/miniconda3/envs/MTL_DCBO_testing/lib/python3.10/site-packages/GPy/kern/src/rbf.py:52: RuntimeWarning:overflow encountered in square\n",
      " /home/luca/miniconda3/envs/MTL_DCBO_testing/lib/python3.10/site-packages/GPy/kern/src/rbf.py:76: RuntimeWarning:invalid value encountered in multiply\n",
      " /mnt/c/Users/lucal/Desktop/Thesis/notebooks/MyTests/../../src/utils/dag_utils/adjacency_matrix_utils.py:26: FutureWarning:adjacency_matrix will return a scipy.sparse array instead of a matrix in Networkx 3.0.\n",
      "\n",
      "Time index:   0%|                                                                                 | 0/3 [00:00<?, ?it/s]\u001b[Areconstraining parameters GP_regression.rbf.variance\n",
      "reconstraining parameters GP_regression.rbf.variance\n",
      "reconstraining parameters GP_regression.rbf.variance\n",
      "\n",
      "Time index:  33%|████████████████████████▎                                                | 1/3 [00:03<00:07,  3.94s/it]\u001b[Areconstraining parameters GP_regression.rbf.variance\n",
      "reconstraining parameters GP_regression.rbf.variance\n",
      "reconstraining parameters GP_regression.rbf.variance\n",
      "\n",
      "Time index:  67%|████████████████████████████████████████████████▋                        | 2/3 [00:11<00:06,  6.03s/it]\u001b[Areconstraining parameters GP_regression.rbf.variance\n",
      "reconstraining parameters GP_regression.rbf.variance\n",
      "reconstraining parameters GP_regression.rbf.variance\n",
      "\n",
      "Time index: 100%|█████████████████████████████████████████████████████████████████████████| 3/3 [00:21<00:00,  7.33s/it]\u001b[A\n",
      "Experiment count: 100%|███████████████████████████████████████████████████████████████████| 1/1 [01:12<00:00, 72.98s/it]\n"
     ]
    }
   ],
   "source": [
    "good_results = run_methods_replicates(G=G, \n",
    "                                sem=EconSEM, \n",
    "                                make_sem_estimator=build_sem_hat, \n",
    "                                base_target_variable='Y',\n",
    "                                intervention_domain = intervention_domain, \n",
    "                                methods_list = ['BO','PIBO', 'DCBO', 'DCPIBO'],\n",
    "                                obs_samples = subset_obs_data,\n",
    "                                exploration_sets = exploration_sets,\n",
    "                                priors_regret = predicted_optima_regret,\n",
    "                                total_timesteps = T,\n",
    "                                number_of_trials = N, \n",
    "                                reps = R, # Number of replicates (how many times we run each method)\n",
    "                                n_restart = 1,\n",
    "                                save_data = False,\n",
    "                                n_obs = 5, # The method samples 5 time-series for each replicate\n",
    "                                num_anchor_points = 100,\n",
    "                                sample_anchor_points = True,\n",
    "                                controlled_experiment=False,\n",
    "                                args_sem = [functions_0, functions_t],\n",
    "                                manipulative_variables=manipulative_vars)"
   ]
  },
  {
   "cell_type": "markdown",
   "id": "c29c41cf-64aa-4284-a4c5-14b9a9ba2683",
   "metadata": {},
   "source": [
    "### Bad Prior"
   ]
  },
  {
   "cell_type": "code",
   "execution_count": 888,
   "id": "6fd88679-e2d0-4339-84ad-25d44227ef69",
   "metadata": {},
   "outputs": [
    {
     "name": "stderr",
     "output_type": "stream",
     "text": [
      "Experiment count:   0%|                                                                           | 0/1 [00:00<?, ?it/s]"
     ]
    },
    {
     "name": "stdout",
     "output_type": "stream",
     "text": [
      "\n",
      "\t>>>BO\n",
      "\n"
     ]
    },
    {
     "name": "stderr",
     "output_type": "stream",
     "text": [
      "\n",
      "Time index:   0%|                                                                                 | 0/3 [00:00<?, ?it/s]\u001b[Areconstraining parameters GP_regression.rbf.variance\n",
      "\n",
      "Time index:  33%|████████████████████████▎                                                | 1/3 [00:00<00:00,  4.72it/s]\u001b[Areconstraining parameters GP_regression.rbf.variance\n",
      "\n",
      "Time index:  67%|████████████████████████████████████████████████▋                        | 2/3 [00:00<00:00,  5.51it/s]\u001b[Areconstraining parameters GP_regression.rbf.variance\n",
      "\n",
      "Time index: 100%|█████████████████████████████████████████████████████████████████████████| 3/3 [00:00<00:00,  5.71it/s]\u001b[A\n"
     ]
    },
    {
     "name": "stdout",
     "output_type": "stream",
     "text": [
      "10\n",
      "\n",
      "\t>>>PIBO\n",
      "\n"
     ]
    },
    {
     "name": "stderr",
     "output_type": "stream",
     "text": [
      "\n",
      "Time index:   0%|                                                                                 | 0/3 [00:00<?, ?it/s]\u001b[Areconstraining parameters GP_regression.rbf.variance\n",
      "\n",
      "Time index:  33%|████████████████████████▎                                                | 1/3 [00:00<00:00,  5.15it/s]\u001b[Areconstraining parameters GP_regression.rbf.variance\n",
      "\n",
      "Time index:  67%|████████████████████████████████████████████████▋                        | 2/3 [00:00<00:00,  5.88it/s]\u001b[Areconstraining parameters GP_regression.rbf.variance\n",
      "\n",
      "Time index: 100%|█████████████████████████████████████████████████████████████████████████| 3/3 [00:00<00:00,  5.91it/s]\u001b[A\n"
     ]
    },
    {
     "name": "stdout",
     "output_type": "stream",
     "text": [
      "\n",
      "\t>>>DCBO\n",
      "\n"
     ]
    },
    {
     "name": "stderr",
     "output_type": "stream",
     "text": [
      " /home/luca/miniconda3/envs/MTL_DCBO_testing/lib/python3.10/site-packages/GPy/kern/src/stationary.py:168: RuntimeWarning:overflow encountered in divide\n",
      " /home/luca/miniconda3/envs/MTL_DCBO_testing/lib/python3.10/site-packages/GPy/kern/src/rbf.py:52: RuntimeWarning:overflow encountered in square\n",
      " /home/luca/miniconda3/envs/MTL_DCBO_testing/lib/python3.10/site-packages/GPy/kern/src/rbf.py:76: RuntimeWarning:invalid value encountered in multiply\n",
      " /mnt/c/Users/lucal/Desktop/Thesis/notebooks/MyTests/../../src/utils/dag_utils/adjacency_matrix_utils.py:26: FutureWarning:adjacency_matrix will return a scipy.sparse array instead of a matrix in Networkx 3.0.\n",
      "\n",
      "Time index:   0%|                                                                                 | 0/3 [00:00<?, ?it/s]\u001b[Areconstraining parameters GP_regression.rbf.variance\n",
      "reconstraining parameters GP_regression.rbf.variance\n",
      "reconstraining parameters GP_regression.rbf.variance\n",
      "\n",
      "Time index:  33%|████████████████████████▎                                                | 1/3 [00:04<00:08,  4.17s/it]\u001b[Areconstraining parameters GP_regression.rbf.variance\n",
      "reconstraining parameters GP_regression.rbf.variance\n",
      "reconstraining parameters GP_regression.rbf.variance\n",
      "\n",
      "Time index:  67%|████████████████████████████████████████████████▋                        | 2/3 [00:12<00:06,  6.47s/it]\u001b[Areconstraining parameters GP_regression.rbf.variance\n",
      "reconstraining parameters GP_regression.rbf.variance\n",
      "reconstraining parameters GP_regression.rbf.variance\n",
      "\n",
      "Time index: 100%|█████████████████████████████████████████████████████████████████████████| 3/3 [00:22<00:00,  7.36s/it]\u001b[A\n"
     ]
    },
    {
     "name": "stdout",
     "output_type": "stream",
     "text": [
      "\n",
      "\t>>>DCPIBO\n",
      "\n"
     ]
    },
    {
     "name": "stderr",
     "output_type": "stream",
     "text": [
      " /home/luca/miniconda3/envs/MTL_DCBO_testing/lib/python3.10/site-packages/GPy/kern/src/stationary.py:168: RuntimeWarning:overflow encountered in divide\n",
      " /home/luca/miniconda3/envs/MTL_DCBO_testing/lib/python3.10/site-packages/GPy/kern/src/rbf.py:52: RuntimeWarning:overflow encountered in square\n",
      " /home/luca/miniconda3/envs/MTL_DCBO_testing/lib/python3.10/site-packages/GPy/kern/src/rbf.py:76: RuntimeWarning:invalid value encountered in multiply\n",
      " /mnt/c/Users/lucal/Desktop/Thesis/notebooks/MyTests/../../src/utils/dag_utils/adjacency_matrix_utils.py:26: FutureWarning:adjacency_matrix will return a scipy.sparse array instead of a matrix in Networkx 3.0.\n",
      "\n",
      "Time index:   0%|                                                                                 | 0/3 [00:00<?, ?it/s]\u001b[Areconstraining parameters GP_regression.rbf.variance\n",
      "reconstraining parameters GP_regression.rbf.variance\n",
      "reconstraining parameters GP_regression.rbf.variance\n",
      "\n",
      "Time index:  33%|████████████████████████▎                                                | 1/3 [00:04<00:08,  4.20s/it]\u001b[Areconstraining parameters GP_regression.rbf.variance\n",
      "reconstraining parameters GP_regression.rbf.variance\n",
      "reconstraining parameters GP_regression.rbf.variance\n",
      "\n",
      "Time index:  67%|████████████████████████████████████████████████▋                        | 2/3 [00:11<00:06,  6.21s/it]\u001b[Areconstraining parameters GP_regression.rbf.variance\n",
      "reconstraining parameters GP_regression.rbf.variance\n",
      "reconstraining parameters GP_regression.rbf.variance\n",
      "\n",
      "Time index: 100%|█████████████████████████████████████████████████████████████████████████| 3/3 [00:22<00:00,  7.48s/it]\u001b[A\n",
      "Experiment count: 100%|███████████████████████████████████████████████████████████████████| 1/1 [01:10<00:00, 70.68s/it]\n"
     ]
    }
   ],
   "source": [
    "bad_results = run_methods_replicates(G=G, \n",
    "                                sem=EconSEM, \n",
    "                                make_sem_estimator=build_sem_hat, \n",
    "                                base_target_variable='Y',\n",
    "                                intervention_domain = intervention_domain, \n",
    "                                methods_list = ['BO','PIBO', 'DCBO', 'DCPIBO'],\n",
    "                                obs_samples = subset_obs_data,\n",
    "                                exploration_sets = exploration_sets,\n",
    "                                priors_regret = bad_predicted_optima_regret,\n",
    "                                total_timesteps = T,\n",
    "                                number_of_trials = N, \n",
    "                                reps = R, # Number of replicates (how many times we run each method)\n",
    "                                n_restart = 1,\n",
    "                                save_data = False,\n",
    "                                n_obs = 5, # The method samples 5 time-series for each replicate\n",
    "                                num_anchor_points = 100,\n",
    "                                sample_anchor_points = True,\n",
    "                                controlled_experiment=False,\n",
    "                                args_sem = [functions_0, functions_t],\n",
    "                                manipulative_variables=manipulative_vars)"
   ]
  },
  {
   "cell_type": "markdown",
   "id": "1ba63cff-3137-46fc-84a3-d18117aab1a6",
   "metadata": {
    "tags": []
   },
   "source": [
    "## Plotting"
   ]
  },
  {
   "cell_type": "code",
   "execution_count": 889,
   "id": "dadc6ea4-260b-4d40-9507-099dee8c12ca",
   "metadata": {},
   "outputs": [],
   "source": [
    "plot_params = {\n",
    "    \"linewidth\": 3,\n",
    "    \"linewidth_opt\": 4,\n",
    "    \"alpha\": 0.1,\n",
    "    \"xlim_max\": N,\n",
    "    \"ncols\": 5,\n",
    "    \"loc_legend\": \"lower right\",\n",
    "    \"size_ticks\": 20,\n",
    "    \"size_labels\": 20,\n",
    "    \"xlabel\": r'$\\texttt{cost}(\\mathbf{X}_{s,t}, \\mathbf{x}_{s,t})$',\n",
    "    \"labels\": {'DCPIBO': 'DCPIBO', 'PIBO': 'PIBO', 'DCBO': 'DCBO', 'BO': 'BO', 'True': r'$\\mathbb{E} \\left [Y_t \\mid \\textrm{do}(\\mathbf{X}_{s,t}^\\star = \\mathbf{x}_{s,t}^\\star) \\right]$'},\n",
    "    \"colors\": {'DCPIBO': 'blue', 'PIBO': 'green', 'DCBO': 'orange', 'BO': 'red', 'True': 'black'},\n",
    "    \"line_styles\": {'DCPIBO': 'dashdot', 'PIBO': '--', 'DCBO': '-', 'BO': '-', 'True': ':'},\n",
    "    \"width\":10\n",
    "}\n",
    "rc('text', usetex=True)\n",
    "rc('text.latex', preamble=r'\\usepackage{amssymb}')\n",
    "rc('font', family='serif')\n",
    "rc('font', size=20)"
   ]
  },
  {
   "cell_type": "markdown",
   "id": "62f96c5d-45cd-4533-801b-1cc9303d24e3",
   "metadata": {},
   "source": [
    "### Good Prior"
   ]
  },
  {
   "cell_type": "code",
   "execution_count": 890,
   "id": "8bb29322-1e44-4312-b15b-ec30b3beacc9",
   "metadata": {},
   "outputs": [],
   "source": [
    "good_data = get_relevant_results(results=good_results, replicates=R)\n",
    "good_exp_optimal_outcome_values_during_trials, good_exp_per_trial_cost = elaborate(number_of_interventions=None,\n",
    "                                                                                   n_replicates=R,\n",
    "                                                                                   data=good_data,\n",
    "                                                                                   best_objective_values=true_objective_values,\n",
    "                                                                                   T=T)"
   ]
  },
  {
   "cell_type": "code",
   "execution_count": 891,
   "id": "c96944bd-e7a5-416c-9212-d68c3b2f5ab7",
   "metadata": {
    "tags": []
   },
   "outputs": [
    {
     "data": {
      "image/png": "[encoded data removed]",
      "text/plain": [
       "<Figure size 1500x500 with 3 Axes>"
      ]
     },
     "metadata": {},
     "output_type": "display_data"
    }
   ],
   "source": [
    "# Each frame corresponds to one time-slice.\n",
    "plot_expected_opt_curve_paper(T,\n",
    "    true_objective_values,\n",
    "    good_exp_per_trial_cost,\n",
    "    good_exp_optimal_outcome_values_during_trials,\n",
    "    plot_params,  \n",
    "    fig_size = (15,5))"
   ]
  },
  {
   "cell_type": "markdown",
   "id": "36458e1d-2e8d-418d-ab08-cd0c8d41e5c4",
   "metadata": {
    "tags": []
   },
   "source": [
    "### Bad prior"
   ]
  },
  {
   "cell_type": "code",
   "execution_count": 892,
   "id": "8fa4ca92-0885-45be-a00c-528e4a88dc24",
   "metadata": {},
   "outputs": [],
   "source": [
    "bad_data = get_relevant_results(results=bad_results, replicates=R)\n",
    "bad_exp_optimal_outcome_values_during_trials, bad_exp_per_trial_cost = elaborate(number_of_interventions=None,\n",
    "                                                                                 n_replicates=R,\n",
    "                                                                                 data=bad_data,\n",
    "                                                                                 best_objective_values=true_objective_values,\n",
    "                                                                                 T=T)"
   ]
  },
  {
   "cell_type": "code",
   "execution_count": 893,
   "id": "fc31cde1-a2fc-44ce-a505-0a081d03c41d",
   "metadata": {},
   "outputs": [
    {
     "data": {
      "image/png": "[encoded data removed]",
      "text/plain": [
       "<Figure size 1500x500 with 3 Axes>"
      ]
     },
     "metadata": {},
     "output_type": "display_data"
    }
   ],
   "source": [
    "# Each frame corresponds to one time-slice.\n",
    "plot_expected_opt_curve_paper(T,\n",
    "    true_objective_values,\n",
    "    bad_exp_per_trial_cost,\n",
    "    bad_exp_optimal_outcome_values_during_trials,\n",
    "    plot_params,  \n",
    "    fig_size = (15,5))"
   ]
  },
  {
   "cell_type": "markdown",
   "id": "9a89fb29-e180-4c9c-9793-8b0d3e5d6289",
   "metadata": {
    "tags": []
   },
   "source": [
    "## Gap Metric"
   ]
  },
  {
   "cell_type": "markdown",
   "id": "46065810-8542-4092-8aa3-1c1d99576e73",
   "metadata": {
    "tags": []
   },
   "source": [
    "### Good Prior's Gap Metric"
   ]
  },
  {
   "cell_type": "code",
   "execution_count": 894,
   "id": "48c55aec-31c0-43c8-bbb3-0bae8672dda7",
   "metadata": {},
   "outputs": [],
   "source": [
    "good_t_i_l = get_common_initial_values(T=T,\n",
    "                                  data=good_data,\n",
    "                                  n_replicates=R)\n",
    "\n",
    "good_w_c_d = get_converge_trial(best_objective_values=true_objective_values,\n",
    "                           exp_optimal_outcome_values_during_trials=good_exp_optimal_outcome_values_during_trials,\n",
    "                           n_trials=N,\n",
    "                           T=T,\n",
    "                           n_decimal=1)\n",
    "\n",
    "good_summary = gap_metric_standard(T=T,\n",
    "                             data=good_data,\n",
    "                             best_objective_values=true_objective_values,\n",
    "                             total_initial_list = good_t_i_l,\n",
    "                             n_replicates=R,\n",
    "                             n_trials=N,\n",
    "                             where_converge_dict=good_w_c_d)\n",
    "\n",
    "good_list = compute_gap_values(T, good_summary)"
   ]
  },
  {
   "cell_type": "code",
   "execution_count": 895,
   "id": "91f92430-2038-4600-a3c3-93666329d188",
   "metadata": {},
   "outputs": [
    {
     "data": {
      "text/plain": [
       "{'BO': [[0.4797987396065115, 0.0],\n",
       "  [0.2915020987906387, 0.0],\n",
       "  [0.2907761621646634, 0.0]],\n",
       " 'PIBO': [[0.5066349313666451, 0.0],\n",
       "  [0.2941628189367935, 0.0],\n",
       "  [0.322585501197201, 0.0]],\n",
       " 'DCBO': [[0.46597405958055554, 0.0],\n",
       "  [0.266199773732881, 0.0],\n",
       "  [0.5065191096141098, 0.0]],\n",
       " 'DCPIBO': [[0.4692811340760966, 0.0],\n",
       "  [0.376349012642871, 0.0],\n",
       "  [0.7894736842105263, 0.0]]}"
      ]
     },
     "execution_count": 895,
     "metadata": {},
     "output_type": "execute_result"
    }
   ],
   "source": [
    "good_summary"
   ]
  },
  {
   "cell_type": "code",
   "execution_count": 896,
   "id": "f285dfcf-ac35-4a5d-8292-a1be4266afff",
   "metadata": {},
   "outputs": [
    {
     "data": {
      "text/plain": [
       "[0.3540256668539379,\n",
       " 0.3744610838335465,\n",
       " 0.41289764764251546,\n",
       " 0.5450346103098314]"
      ]
     },
     "execution_count": 896,
     "metadata": {},
     "output_type": "execute_result"
    }
   ],
   "source": [
    "good_list"
   ]
  },
  {
   "cell_type": "markdown",
   "id": "c15f5c14-43c8-4a0a-ad2b-0dd1e2519346",
   "metadata": {
    "tags": []
   },
   "source": [
    "### Bad Prior's Gap Metric"
   ]
  },
  {
   "cell_type": "code",
   "execution_count": 897,
   "id": "dabff6e5-b7e4-4dec-8d43-11422f4ab524",
   "metadata": {},
   "outputs": [],
   "source": [
    "bad_t_i_l = get_common_initial_values(T=T,\n",
    "                                  data=bad_data,\n",
    "                                  n_replicates=R)\n",
    "\n",
    "bad_w_c_d = get_converge_trial(best_objective_values=true_objective_values,\n",
    "                          exp_optimal_outcome_values_during_trials=bad_exp_optimal_outcome_values_during_trials,\n",
    "                          n_trials=N,\n",
    "                          T=T,\n",
    "                          n_decimal=1)\n",
    "\n",
    "bad_summary = gap_metric_standard(T=T,\n",
    "                             data=bad_data,\n",
    "                             best_objective_values=true_objective_values,\n",
    "                             total_initial_list = bad_t_i_l,\n",
    "                             n_replicates=R,\n",
    "                             n_trials=N,\n",
    "                             where_converge_dict=bad_w_c_d)\n",
    "\n",
    "bad_list = compute_gap_values(T, bad_summary)"
   ]
  },
  {
   "cell_type": "code",
   "execution_count": 898,
   "id": "470a2d61-ca53-43c3-af9b-d1e50a1f7157",
   "metadata": {},
   "outputs": [
    {
     "data": {
      "text/plain": [
       "{'BO': [[0.4445218539313747, 0.0],\n",
       "  [0.31407140407361006, 0.0],\n",
       "  [0.33393581680931383, 0.0]],\n",
       " 'PIBO': [[0.46568299122800194, 0.0],\n",
       "  [0.3303879197588846, 0.0],\n",
       "  [0.37395801475284685, 0.0]],\n",
       " 'DCBO': [[0.37004415453436756, 0.0],\n",
       "  [0.2699296389236517, 0.0],\n",
       "  [0.5099735717876406, 0.0]],\n",
       " 'DCPIBO': [[0.39496427898848, 0.0],\n",
       "  [0.42873278650491353, 0.0],\n",
       "  [0.4267040407829461, 0.0]]}"
      ]
     },
     "execution_count": 898,
     "metadata": {},
     "output_type": "execute_result"
    }
   ],
   "source": [
    "bad_summary"
   ]
  },
  {
   "cell_type": "code",
   "execution_count": 899,
   "id": "30f0c59b-ac8b-4658-a732-b02b854ec9e5",
   "metadata": {},
   "outputs": [
    {
     "data": {
      "text/plain": [
       "[0.36417635827143285,\n",
       " 0.39000964191324444,\n",
       " 0.3833157884152199,\n",
       " 0.41680036875877985]"
      ]
     },
     "execution_count": 899,
     "metadata": {},
     "output_type": "execute_result"
    }
   ],
   "source": [
    "bad_list"
   ]
  }
 ],
 "metadata": {
  "kernelspec": {
   "display_name": "Python 3 (ipykernel)",
   "language": "python",
   "name": "python3"
  },
  "language_info": {
   "codemirror_mode": {
    "name": "ipython",
    "version": 3
   },
   "file_extension": ".py",
   "mimetype": "text/x-python",
   "name": "python",
   "nbconvert_exporter": "python",
   "pygments_lexer": "ipython3",
   "version": "3.10.9"
  }
 },
 "nbformat": 4,
 "nbformat_minor": 5
}
