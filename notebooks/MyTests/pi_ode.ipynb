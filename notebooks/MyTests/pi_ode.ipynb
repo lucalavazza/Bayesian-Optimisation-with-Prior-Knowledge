{
 "cells": [
  {
   "cell_type": "markdown",
   "id": "80dae021-81e3-4cad-9266-9d6f5eb449ab",
   "metadata": {},
   "source": [
    "# DC$\\pi$BO - Real World Example: Predator-Prey System (ODE)"
   ]
  },
  {
   "cell_type": "markdown",
   "id": "22b03c08-0318-4fe5-afd3-1ed129c8ba0f",
   "metadata": {
    "tags": []
   },
   "source": [
    "## Imports"
   ]
  },
  {
   "cell_type": "code",
   "execution_count": 1,
   "id": "c16b8ccb-ae6b-41d6-962d-80c22221c9a4",
   "metadata": {},
   "outputs": [],
   "source": [
    "%load_ext autoreload\n",
    "%autoreload 2\n",
    "\n",
    "import sys\n",
    "sys.path.append(\"../../src/\")\n",
    "sys.path.append(\"../../data/\")\n",
    "sys.path.append(\"../..\")\n",
    "\n",
    "from src.examples.example_setups import setup_plankton_SEM\n",
    "from src.utils.sem_utils.real_sems import PredatorPreySEM\n",
    "from src.utils.sem_utils.sem_estimate import build_sem_hat\n",
    "\n",
    "from src.experimental.experiments import create_plankton_dataset\n",
    "\n",
    "from src.experimental.experiments import run_methods_replicates\n",
    "from src.experimental.analyse_results import get_relevant_results, elaborate, gap_metric_standard, get_common_initial_values, get_converge_trial\n",
    "from src.utils.plotting import plot_expected_opt_curve_paper\n",
    "\n",
    "from src.methods.bo import BO\n",
    "from src.methods.dcbo import DCBO\n",
    "from src.methods.pibo import PIBO\n",
    "from src.methods.dcpibo import DCPIBO\n",
    "\n",
    "from matplotlib.pyplot import rc\n",
    "import numpy as np\n",
    "from scipy import stats\n",
    "import random\n",
    "\n",
    "random.seed(42)"
   ]
  },
  {
   "cell_type": "markdown",
   "id": "89c2a0a7-1d20-49d4-b5c0-769c2c9f3730",
   "metadata": {
    "jp-MarkdownHeadingCollapsed": true,
    "tags": []
   },
   "source": [
    "## Utility Functions"
   ]
  },
  {
   "cell_type": "code",
   "execution_count": 2,
   "id": "5b83fe8c-446b-43be-aa32-56bccabc4f6b",
   "metadata": {},
   "outputs": [],
   "source": [
    "def power_list(input_list, exponent):\n",
    "    '''Raises each element of the given input_list to the desired exponent'''\n",
    "    \n",
    "    return_list = []\n",
    "    \n",
    "    for element in input_list:\n",
    "        if element >= 0:\n",
    "            raised_element = element**exponent\n",
    "        else:\n",
    "            raised_element = -(abs(element)**exponent)\n",
    "        return_list.append(raised_element)\n",
    "        \n",
    "    return return_list"
   ]
  },
  {
   "cell_type": "code",
   "execution_count": 3,
   "id": "54cf8bd6-6fe1-4d81-a09d-9cb1c0830072",
   "metadata": {},
   "outputs": [],
   "source": [
    "def compute_statistics(y_function, standard_deviation):\n",
    "    '''Computes all the necessary lists associated to the Normal Distribution'''\n",
    "    \n",
    "    return_variates = []\n",
    "    return_amps = []\n",
    "    return_pdfs = []\n",
    "    \n",
    "    for mean in y_function:\n",
    "        return_variates.append(stats.norm.rvs(mean, standard_deviation, 10))\n",
    "        \n",
    "        amp = np.linspace(mean-5*standard_deviation, mean+5*standard_deviation, 10)\n",
    "        return_amps.append(amp)\n",
    "        \n",
    "        return_pdfs.append(stats.norm.pdf(amp, mean, standard_deviation))\n",
    "    \n",
    "    return return_variates, return_amps, return_pdfs"
   ]
  },
  {
   "cell_type": "code",
   "execution_count": 4,
   "id": "52469750-25c9-45c5-a633-ea42b916e044",
   "metadata": {},
   "outputs": [],
   "source": [
    "def normalise_pdfs(pdfs_list):\n",
    "    '''Normalises the PDFs between 0 and 1'''\n",
    "    \n",
    "    return_normalised_pdfs_list = []\n",
    "    \n",
    "    for pdf_list in pdfs_list:\n",
    "        temp_list = []\n",
    "        \n",
    "        pdf_min = min(pdf_list)\n",
    "        pdf_max = max(pdf_list)\n",
    "        \n",
    "        for pdf_value in pdf_list:\n",
    "            temp_list.append(round((pdf_value-pdf_min)/(pdf_max-pdf_min),2))\n",
    "        \n",
    "        return_normalised_pdfs_list.append(temp_list)\n",
    "        \n",
    "    return return_normalised_pdfs_list"
   ]
  },
  {
   "cell_type": "code",
   "execution_count": 5,
   "id": "3f3e85e2-b32b-4ef5-a274-223a872496af",
   "metadata": {},
   "outputs": [],
   "source": [
    "def regret_priors(start_prior):\n",
    "    '''Adds regret'''\n",
    "    \n",
    "    return_raised_priors = []\n",
    "    \n",
    "    for i in range(1,N+1):\n",
    "        temp = []\n",
    "        gamma = beta/i\n",
    "        \n",
    "        for p_list in start_prior:\n",
    "            temp.append(power_list(p_list, gamma))\n",
    "            \n",
    "        return_raised_priors.append(temp)\n",
    "    \n",
    "    return return_raised_priors"
   ]
  },
  {
   "cell_type": "code",
   "execution_count": 6,
   "id": "19501193-c732-4710-aee4-563ea319baef",
   "metadata": {},
   "outputs": [],
   "source": [
    "def predict_optima_regret(iterations, time_steps, regret_priors, normalised_pdfs):\n",
    "    '''Computes the prediction for each time-step and each iteration, according to the effect of gamma (regret)'''\n",
    "    \n",
    "    return_predictions = []\n",
    "    \n",
    "    for iteration in range(iterations):\n",
    "        temp = []\n",
    "        \n",
    "        for time_step in range(time_steps):\n",
    "            if(min(regret_priors[iteration][time_step])+max(regret_priors[iteration][time_step]))<0:\n",
    "                optimum = min(np.multiply(regret_priors[iteration][time_step], normalised_pdfs[time_step]))\n",
    "            else:\n",
    "                optimum = max(np.multiply(regret_priors[iteration][time_step], normalised_pdfs[time_step]))\n",
    "                              \n",
    "            temp.append(optimum)\n",
    "                              \n",
    "        return_predictions.append(temp)\n",
    "                              \n",
    "    return return_predictions"
   ]
  },
  {
   "cell_type": "markdown",
   "id": "06fdcac1-e01f-479a-99d1-4b308ee7511a",
   "metadata": {
    "tags": []
   },
   "source": [
    "## Constants and such"
   ]
  },
  {
   "cell_type": "code",
   "execution_count": 7,
   "id": "c750a4d3-0b0d-4b40-97cb-a345abe07efd",
   "metadata": {},
   "outputs": [],
   "source": [
    "T = 4\n",
    "t_axis = np.linspace(1,T,T,dtype=int)\n",
    "N = 20\n",
    "std = 0.1\n",
    "beta = 1"
   ]
  },
  {
   "cell_type": "markdown",
   "id": "b1ba5b35-bd2d-406d-b53a-d9c0fb907967",
   "metadata": {
    "tags": []
   },
   "source": [
    "## Optima location"
   ]
  },
  {
   "cell_type": "markdown",
   "id": "450cf3d3-c5e7-45fc-a07c-86416db3e13f",
   "metadata": {},
   "source": [
    "### Good prior"
   ]
  },
  {
   "cell_type": "code",
   "execution_count": 8,
   "id": "ccecbd8d-35e8-463a-acdf-1a27b3baf485",
   "metadata": {},
   "outputs": [],
   "source": [
    "a_param = 0\n",
    "b_param = 0\n",
    "y = a_param*t_axis+b_param # the line on which I assume the optima would be"
   ]
  },
  {
   "cell_type": "markdown",
   "id": "53e0e016-87ab-4b16-b825-9cd2bcd68af2",
   "metadata": {
    "tags": []
   },
   "source": [
    "### Bad prior"
   ]
  },
  {
   "cell_type": "code",
   "execution_count": 9,
   "id": "31b1b0f9-205f-4a1e-b3b7-a68187b8ebc6",
   "metadata": {},
   "outputs": [],
   "source": [
    "bad_a_param = 6\n",
    "bad_y_param = 4\n",
    "bad_y = bad_a_param*t_axis+bad_y_param"
   ]
  },
  {
   "cell_type": "markdown",
   "id": "b486cdb9-1035-4392-a9c1-3156340c2701",
   "metadata": {},
   "source": [
    "## Setup"
   ]
  },
  {
   "cell_type": "markdown",
   "id": "19a74dc8-6f70-448a-b00d-9633951d3477",
   "metadata": {},
   "source": [
    "### Good prior"
   ]
  },
  {
   "cell_type": "code",
   "execution_count": 10,
   "id": "777d2657-58ce-4b0a-927c-aa02065cc9fd",
   "metadata": {},
   "outputs": [],
   "source": [
    "all_variates, all_amps, all_pdfs = compute_statistics(y, std)\n",
    "all_variates_regret = regret_priors(all_variates)\n",
    "\n",
    "all_pdfs_normalised = normalise_pdfs(all_pdfs)\n",
    "\n",
    "predicted_optima_regret = predict_optima_regret(N, T, all_variates_regret, all_pdfs_normalised) # this are all the 𝜋s"
   ]
  },
  {
   "cell_type": "markdown",
   "id": "bdf0f2a9-b9c2-480e-adbf-0aa8b2aaa6d0",
   "metadata": {
    "tags": []
   },
   "source": [
    "### Bad prior"
   ]
  },
  {
   "cell_type": "code",
   "execution_count": 11,
   "id": "aedb7638-7935-4197-a529-1268304c4f5b",
   "metadata": {},
   "outputs": [],
   "source": [
    "bad_all_variates, bad_all_amps, bad_all_pdfs = compute_statistics(bad_y, std)\n",
    "bad_all_variates_regret = regret_priors(bad_all_variates)\n",
    "\n",
    "bad_all_pdfs_normalised = normalise_pdfs(bad_all_pdfs)\n",
    "\n",
    "bad_predicted_optima_regret = predict_optima_regret(N, T, bad_all_variates_regret, bad_all_pdfs_normalised) # this are all the 𝜋s"
   ]
  },
  {
   "cell_type": "markdown",
   "id": "46554fb3-dde8-4bc1-9977-b26d719596d7",
   "metadata": {},
   "source": [
    "### Model:"
   ]
  },
  {
   "cell_type": "code",
   "execution_count": null,
   "id": "f6c2a54c-e7d2-45e0-b4db-8d58216ef8e4",
   "metadata": {},
   "outputs": [
    {
     "name": "stderr",
     "output_type": "stream",
     "text": [
      " /mnt/c/Users/lucal/Desktop/Thesis/notebooks/MyTests/../../src/utils/sem_utils/real_sems.py:55: RuntimeWarning:invalid value encountered in double_scalars\n"
     ]
    }
   ],
   "source": [
    "init_sem, sem, dag_view, G, exploration_sets, intervention_domain, true_objective_values, optimal_interventions, all_causal_effects = setup_plankton_SEM(T=T)"
   ]
  },
  {
   "cell_type": "code",
   "execution_count": null,
   "id": "030cfae9-cccd-460d-b554-8317e42cab32",
   "metadata": {},
   "outputs": [],
   "source": [
    "manipulative_vars = list(intervention_domain.keys())"
   ]
  },
  {
   "cell_type": "code",
   "execution_count": null,
   "id": "6d49fec1-3f3b-4d6e-ae17-e80a74d0d1bf",
   "metadata": {},
   "outputs": [],
   "source": [
    "observation_samples = create_plankton_dataset(1,N+1)"
   ]
  },
  {
   "cell_type": "code",
   "execution_count": 20,
   "id": "e20def1a-f1dd-49fb-af51-0450a2a8731e",
   "metadata": {},
   "outputs": [
    {
     "data": {
      "text/plain": [
       "{'M': array([[80., 80., 80., 80., 80., 80., 80., 80., 80., 80., 80., 80., 80.,\n",
       "         80., 80., 80., 80., 80., 80., 80.],\n",
       "        [80., 80., 80., 80., 80., 80., 80., 80., 80., 80., 80., 80., 80.,\n",
       "         80., 80., 80., 80., 80., 80., 80.],\n",
       "        [80., 80., 80., 80., 80., 80., 80., 80., 80., 80., 80., 80., 80.,\n",
       "         80., 80., 80., 80., 80., 80., 80.],\n",
       "        [80., 80., 80., 80., 80., 80., 80., 80., 80., 80., 80., 80., 80.,\n",
       "         80., 80., 80., 80., 80., 80., 80.]]),\n",
       " 'N': array([[23.24      , 19.6       , 10.64      , 11.48      , 10.92      ,\n",
       "         25.48      ,  8.4       , 21.56      , 11.76      ,  6.72      ,\n",
       "          8.70770231, 14.28      , 17.36      ,  8.96      , 18.76      ,\n",
       "          7.        , 10.64      , 45.92      , 19.32      ,  7.56      ],\n",
       "        [22.4       , 17.92      , 11.2       ,  4.48      ,  3.92      ,\n",
       "          7.28      , 34.16      , 26.6       , 10.92      ,  3.36      ,\n",
       "          3.64      , 12.6       , 17.08      , 31.92      , 17.64      ,\n",
       "          3.64      , 11.2       , 20.44      , 12.32      ,  9.8       ],\n",
       "        [17.64      ,  3.36      , 16.24      ,  7.84      ,  4.76      ,\n",
       "          6.16      , 11.48      ,  4.2       ,  5.32      , 15.12      ,\n",
       "          8.4       ,  6.16      ,  9.52      ,  7.28      , 21.56      ,\n",
       "          9.52      ,  6.44      , 23.52      , 25.48      ,  7.28      ],\n",
       "        [46.2       , 42.28      , 29.96      , 12.88      , 10.08      ,\n",
       "         26.6       , 34.16      , 19.32      ,  7.        , 13.72      ,\n",
       "         31.08      , 33.04      , 25.48      ,  9.52      ,  8.12      ,\n",
       "         16.24      , 38.36      , 19.6       ,  7.        , 16.24      ]]),\n",
       " 'P': array([[ 3.0894    , 10.4082    , 10.1802    , 12.0099    ,  9.9522    ,\n",
       "          9.0345    , 20.5884    , 10.7502    , 17.841     ,  9.4962    ,\n",
       "          2.21176313,  4.4631    , 13.1556    , 13.6116    , 10.6362    ,\n",
       "         15.0993    ,  4.6911    , 11.0979    , 13.3836    , 15.8973    ],\n",
       "        [ 0.228     ,  5.8311    ,  9.8382    ,  3.6594    ,  2.1717    ,\n",
       "          0.798     ,  2.0577    ,  2.7474    , 13.1556    , 10.2942    ,\n",
       "          2.0577    ,  1.3737    ,  2.6334    ,  5.3751    , 14.4096    ,\n",
       "          8.0085    ,  4.3491    ,  4.0014    , 15.7833    , 12.0099    ],\n",
       "        [ 4.44105497,  8.9205    ,  9.6102    ,  4.4631    ,  7.3188    ,\n",
       "          8.9205    ,  8.1225    , 12.5799    , 15.3273    ,  9.1485    ,\n",
       "         17.613     , 11.5539    , 11.4399    , 14.6433    , 12.3519    ,\n",
       "         18.1887    , 11.8959    ,  6.9768    , 13.0416    , 22.0761    ],\n",
       "        [ 4.0014    ,  5.7171    , 11.7819    , 18.4167    ,  8.2365    ,\n",
       "          8.0085    , 10.2942    , 17.271     ,  7.7805    ,  6.5208    ,\n",
       "          6.8628    ,  8.0085    , 12.9276    , 14.7573    ,  6.9768    ,\n",
       "          9.6102    ,  9.8382    , 17.271     , 13.3836    ,  5.3751    ]]),\n",
       " 'J': array([[ 0.        ,  5.265     ,  5.115     ,  6.0740625 ,  4.85925   ,\n",
       "          4.52554945, 10.62642857,  5.339     ,  8.9775    ,  4.68954545,\n",
       "         -3.92682282,  2.24282609,  6.5208    ,  6.859     ,  5.28675   ,\n",
       "          7.62375   ,  2.32830508,  5.529     ,  6.6348    ,  7.62375   ],\n",
       "        [ 0.114     ,  2.92276596,  4.96891304,  1.78125   ,  1.0925    ,\n",
       "          0.39767442,  1.03636364,  1.3737    ,  6.50318182,  5.1585    ,\n",
       "          1.03636364,  0.684     ,  1.31851648,  2.7075    ,  7.21173913,\n",
       "          4.09178571,  2.20326923,  2.005     ,  7.999     ,  6.24409091],\n",
       "        [ 3.20952059,  4.47326087,  5.7       ,  2.22044776,  3.8       ,\n",
       "          4.56      ,  4.00425   ,  6.65      ,  8.55      ,  4.57266667,\n",
       "          8.8533871 ,  5.7285    ,  5.71744898,  8.55      ,  6.2013253 ,\n",
       "          9.33      ,  5.7       ,  3.48195652,  6.53620879, 11.47125   ],\n",
       "        [ 1.98336735,  2.8577027 ,  5.88905941,  9.35318182,  4.08771429,\n",
       "          4.01126866,  5.16097826,  8.65783784,  3.81583333,  3.29175   ,\n",
       "          3.39689189,  3.98491071,  6.48923077,  7.315     ,  3.455625  ,\n",
       "          4.76583333,  4.96330189,  8.74279412,  6.99833333,  2.67532258]]),\n",
       " 'A': array([[  0.        ,  26.325     ,  25.575     ,  30.3703125 ,\n",
       "          24.29625   ,  22.62774725,  53.13214286,  26.695     ,\n",
       "          44.8875    ,  23.44772727, -19.63411409,  11.21413043,\n",
       "          32.604     ,  34.295     ,  26.43375   ,  38.11875   ,\n",
       "          11.64152542,  27.645     ,  33.174     ,  38.11875   ],\n",
       "        [  0.57      ,  14.61382979,  24.84456522,   8.90625   ,\n",
       "           5.4625    ,   1.98837209,   5.18181818,   6.8685    ,\n",
       "          32.51590909,  25.7925    ,   5.18181818,   3.42      ,\n",
       "           6.59258242,  13.5375    ,  36.05869565,  20.45892857,\n",
       "          11.01634615,  10.025     ,  39.995     ,  31.22045455],\n",
       "        [ 16.04760296,  22.36630435,  28.5       ,  11.10223881,\n",
       "          19.        ,  22.8       ,  20.02125   ,  33.25      ,\n",
       "          42.75      ,  22.86333333,  44.26693548,  28.6425    ,\n",
       "          28.5872449 ,  42.75      ,  31.00662651,  46.65      ,\n",
       "          28.5       ,  17.40978261,  32.68104396,  57.35625   ],\n",
       "        [  9.91683673,  14.28851351,  29.44529703,  46.76590909,\n",
       "          20.43857143,  20.05634328,  25.8048913 ,  43.28918919,\n",
       "          19.07916667,  16.45875   ,  16.98445946,  19.92455357,\n",
       "          32.44615385,  36.575     ,  17.278125  ,  23.82916667,\n",
       "          24.81650943,  43.71397059,  34.99166667,  13.3766129 ]]),\n",
       " 'E': array([[ 0.        ,  4.0014    ,  1.9437    ,  3.8874    ,  1.9437    ,\n",
       "          8.2365    ,  1.4877    ,  4.8051    ,  2.5137    ,  1.0317    ,\n",
       "         -0.77652477,  1.0317    ,  6.5208    ,  2.0577    ,  4.2294    ,\n",
       "          1.8297    ,  2.7474    ,  6.6348    ,  6.6348    ,  1.8297    ],\n",
       "        [ 0.228     ,  2.7474    ,  2.2857    ,  0.57      ,  0.9177    ,\n",
       "          0.342     ,  0.456     ,  1.3737    ,  2.8614    ,  1.0317    ,\n",
       "          0.228     ,  0.342     ,  2.3997    ,  2.0577    ,  3.3174    ,\n",
       "          1.1457    ,  1.1457    ,  2.2857    ,  2.3997    ,  1.3737    ],\n",
       "        [ 4.84977451,  2.0577    ,  0.228     ,  2.9754    ,  0.684     ,\n",
       "          0.456     ,  1.6017    ,  0.798     ,  0.342     ,  4.1154    ,\n",
       "          5.4891    ,  1.1457    ,  5.6031    ,  0.342     , 10.2942    ,\n",
       "          3.5454    ,  0.456     ,  4.8051    , 11.8959    ,  0.9177    ],\n",
       "        [ 1.9437    ,  4.2294    , 11.8959    ,  4.1154    ,  2.8614    ,\n",
       "          5.3751    ,  9.4962    ,  6.4068    ,  1.3737    ,  2.6334    ,\n",
       "          2.5137    ,  4.4631    ,  6.7488    ,  2.6334    ,  3.3174    ,\n",
       "          3.4314    ,  5.2611    ,  5.9451    ,  1.2597    ,  3.3174    ]]),\n",
       " 'D': array([[0.228     , 0.        , 0.228     , 0.228     , 0.114     ,\n",
       "         0.57      , 2.2857    , 1.9437    , 0.684     , 0.798     ,\n",
       "         0.52335391, 0.228     , 0.684     , 0.9177    , 0.684     ,\n",
       "         1.7157    , 1.1457    , 0.684     , 0.57      , 1.0317    ],\n",
       "        [0.        , 0.342     , 0.        , 0.114     , 0.114     ,\n",
       "         0.        , 0.        , 0.228     , 0.114     , 0.342     ,\n",
       "         0.228     , 0.228     , 0.114     , 0.228     , 0.228     ,\n",
       "         0.        , 0.456     , 0.114     , 0.456     , 0.        ],\n",
       "        [0.24029291, 0.        , 0.        , 0.456     , 0.228     ,\n",
       "         0.        , 0.        , 0.456     , 0.456     , 0.57      ,\n",
       "         0.456     , 0.        , 1.7157    , 0.57      , 0.798     ,\n",
       "         2.0577    , 1.4877    , 1.6017    , 2.3997    , 1.0317    ],\n",
       "        [0.456     , 0.9177    , 1.0317    , 2.3997    , 2.9754    ,\n",
       "         1.1457    , 0.9177    , 0.456     , 1.4877    , 1.6017    ,\n",
       "         0.228     , 0.228     , 0.342     , 0.456     , 0.684     ,\n",
       "         0.        , 1.3737    , 2.9754    , 1.6017    , 0.9177    ]])}"
      ]
     },
     "execution_count": 20,
     "metadata": {},
     "output_type": "execute_result"
    }
   ],
   "source": [
    "observation_samples"
   ]
  },
  {
   "cell_type": "markdown",
   "id": "2af48e2f-a885-45f4-b236-39eb6008f7c9",
   "metadata": {},
   "source": [
    "## Models' execution"
   ]
  },
  {
   "cell_type": "code",
   "execution_count": null,
   "id": "c051b03c-7165-4678-82ed-f7992a91f15b",
   "metadata": {},
   "outputs": [],
   "source": [
    "R = 3"
   ]
  },
  {
   "cell_type": "markdown",
   "id": "f01e4c1e-0ab2-438c-9dd3-089caffc6e29",
   "metadata": {},
   "source": [
    "### Good Prior"
   ]
  },
  {
   "cell_type": "code",
   "execution_count": null,
   "id": "e5c4430b-4903-4572-a308-682be7f8328d",
   "metadata": {},
   "outputs": [],
   "source": [
    "good_results = run_methods_replicates(G=G, \n",
    "                                sem=PredatorPreySEM, \n",
    "                                make_sem_estimator=build_sem_hat, \n",
    "                                base_target_variable='D',\n",
    "                                intervention_domain = intervention_domain, \n",
    "                                methods_list = ['BO', 'PIBO', 'DCBO', 'DCPIBO'],\n",
    "                                obs_samples = observation_samples,\n",
    "                                exploration_sets = exploration_sets,\n",
    "                                priors_regret = predicted_optima_regret,\n",
    "                                total_timesteps = T,\n",
    "                                number_of_trials = N, \n",
    "                                reps = R, # Number of replicates (how many times we run each method)\n",
    "                                n_restart = 1,\n",
    "                                save_data = False,\n",
    "                                n_obs = 5, # The method samples 5 time-series for each replicate\n",
    "                                num_anchor_points = 100,\n",
    "                                sample_anchor_points = True,\n",
    "                                controlled_experiment=False,\n",
    "                                manipulative_variables=manipulative_vars)"
   ]
  },
  {
   "cell_type": "markdown",
   "id": "b05b4358-979a-40b2-810a-b4ff5e804a6d",
   "metadata": {},
   "source": [
    "### Bad prior"
   ]
  },
  {
   "cell_type": "code",
   "execution_count": null,
   "id": "bfbff2a1-152f-467b-9c57-46e54d4a1fec",
   "metadata": {},
   "outputs": [],
   "source": [
    "bad_results = run_methods_replicates(G=G, \n",
    "                                sem=PredatorPreySEM, \n",
    "                                make_sem_estimator=build_sem_hat, \n",
    "                                base_target_variable='D',\n",
    "                                intervention_domain = intervention_domain, \n",
    "                                methods_list = ['BO', 'PIBO', 'DCBO', 'DCPIBO'],\n",
    "                                obs_samples = observation_samples,\n",
    "                                exploration_sets = exploration_sets,\n",
    "                                priors_regret = bad_predicted_optima_regret,\n",
    "                                total_timesteps = T,\n",
    "                                number_of_trials = N, \n",
    "                                reps = R, # Number of replicates (how many times we run each method)\n",
    "                                n_restart = 1,\n",
    "                                save_data = False,\n",
    "                                n_obs = 5, # The method samples 5 time-series for each replicate\n",
    "                                num_anchor_points = 100,\n",
    "                                sample_anchor_points = True,\n",
    "                                controlled_experiment=False,\n",
    "                                manipulative_variables=manipulative_vars)"
   ]
  },
  {
   "cell_type": "markdown",
   "id": "7ea785c5-24d1-42f5-8afa-e019356756de",
   "metadata": {},
   "source": [
    "## Plotting"
   ]
  },
  {
   "cell_type": "code",
   "execution_count": null,
   "id": "da8c63d4-7580-4f34-9ef1-679d65b12f7b",
   "metadata": {},
   "outputs": [],
   "source": [
    "plot_params = {\n",
    "    \"linewidth\": 3,\n",
    "    \"linewidth_opt\": 4,\n",
    "    \"alpha\": 0.1,\n",
    "    \"xlim_max\": N,\n",
    "    \"ncols\": 5,\n",
    "    \"loc_legend\": \"lower right\",\n",
    "    \"size_ticks\": 20,\n",
    "    \"size_labels\": 20,\n",
    "    \"xlabel\": r'$\\texttt{cost}(\\mathbf{X}_{s,t}, \\mathbf{x}_{s,t})$',\n",
    "    \"labels\": {'DCPIBO': 'DCPIBO', 'PIBO': 'PIBO', 'DCBO': 'DCBO', 'BO': 'BO', 'True': r'$\\mathbb{E} \\left [Y_t \\mid \\textrm{do}(\\mathbf{X}_{s,t}^\\star = \\mathbf{x}_{s,t}^\\star) \\right]$'},\n",
    "    \"colors\": {'DCPIBO': 'blue', 'PIBO': 'green', 'DCBO': 'orange', 'BO': 'red', 'True': 'black'},\n",
    "    \"line_styles\": {'DCPIBO': 'dashdot', 'PIBO': '--', 'DCBO': '-', 'BO': '-', 'True': ':'},\n",
    "    \"width\":10\n",
    "}\n",
    "rc('text', usetex=True)\n",
    "rc('text.latex', preamble=r'\\usepackage{amssymb}')\n",
    "rc('font', family='serif')\n",
    "rc('font', size=20)"
   ]
  },
  {
   "cell_type": "markdown",
   "id": "6fef647d-f0ce-4481-b59a-c40b13e85605",
   "metadata": {},
   "source": [
    "### Good prior"
   ]
  },
  {
   "cell_type": "code",
   "execution_count": null,
   "id": "d7bf12f4-a832-4808-8a25-b45bd24caecf",
   "metadata": {},
   "outputs": [],
   "source": [
    "good_data = get_relevant_results(results=good_results, replicates=R)\n",
    "good_exp_optimal_outcome_values_during_trials, good_exp_per_trial_cost = elaborate(number_of_interventions=None, \n",
    "                                                                         n_replicates=R, \n",
    "                                                                         data=good_data, \n",
    "                                                                         best_objective_values=true_objective_values, \n",
    "                                                                         T=T)"
   ]
  },
  {
   "cell_type": "code",
   "execution_count": null,
   "id": "b2554f06-db6d-451a-a98b-28b568521608",
   "metadata": {
    "tags": []
   },
   "outputs": [],
   "source": [
    "# Each frame corresponds to one time-slice.\n",
    "plot_expected_opt_curve_paper(T,\n",
    "    true_objective_values,\n",
    "    good_exp_per_trial_cost,\n",
    "    good_exp_optimal_outcome_values_during_trials,\n",
    "    plot_params,  \n",
    "    fig_size = (15,5))"
   ]
  },
  {
   "cell_type": "markdown",
   "id": "4585c37b-7c5b-4e8a-8d24-d9760007dd4b",
   "metadata": {},
   "source": [
    "### Bad prior"
   ]
  },
  {
   "cell_type": "code",
   "execution_count": null,
   "id": "f93e3d66-c701-4312-8478-5e9a7c441869",
   "metadata": {},
   "outputs": [],
   "source": [
    "bad_data = get_relevant_results(results=bad_results,replicates=R)\n",
    "bad_exp_optimal_outcome_values_during_trials, bad_exp_per_trial_cost = elaborate(number_of_interventions=None, \n",
    "                                                                         n_replicates=R, \n",
    "                                                                         data=bad_data, \n",
    "                                                                         best_objective_values=true_objective_values, \n",
    "                                                                         T=T)"
   ]
  },
  {
   "cell_type": "code",
   "execution_count": null,
   "id": "770a089c-b89e-4a10-85ce-0f653b1ba27f",
   "metadata": {},
   "outputs": [],
   "source": [
    "# Each frame corresponds to one time-slice.\n",
    "plot_expected_opt_curve_paper(T,\n",
    "    true_objective_values,\n",
    "    bad_exp_per_trial_cost,\n",
    "    bad_exp_optimal_outcome_values_during_trials,\n",
    "    plot_params,  \n",
    "    fig_size = (15,5))"
   ]
  },
  {
   "cell_type": "markdown",
   "id": "3ab815a7-e4cf-46ac-ab2b-efa91083f454",
   "metadata": {
    "tags": []
   },
   "source": [
    "## Gap Metric"
   ]
  },
  {
   "cell_type": "code",
   "execution_count": null,
   "id": "13363c57-76f0-4420-b6e6-92909e80d694",
   "metadata": {},
   "outputs": [],
   "source": [
    "def compute_gap_values(T, summary):\n",
    "    G_BO=0\n",
    "    G_PIBO=0\n",
    "    G_DCBO=0\n",
    "    G_DCPIBO=0\n",
    "    list_gaps=[]\n",
    "    summary_list = list(summary.values())\n",
    "    for i in range(len(summary_list)):\n",
    "        for t in range(T):\n",
    "            # print(summary_list[i][t][0])\n",
    "            if i==0:\n",
    "                G_BO=G_BO+summary_list[i][t][0]\n",
    "                if t==3:\n",
    "                    list_gaps.append(G_BO/T)\n",
    "            elif i==1:\n",
    "                G_PIBO=G_PIBO+summary_list[i][t][0]\n",
    "                if t==3:\n",
    "                    list_gaps.append(G_PIBO/T)\n",
    "            elif i==2:\n",
    "                G_DCBO=G_DCBO+summary_list[i][t][0]\n",
    "                if t==3:\n",
    "                    list_gaps.append(G_DCBO/T)\n",
    "            elif i==3:\n",
    "                G_DCPIBO=G_DCPIBO+summary_list[i][t][0]\n",
    "                if t==3:\n",
    "                    list_gaps.append(G_DCPIBO/T)\n",
    "    return list_gaps"
   ]
  },
  {
   "cell_type": "markdown",
   "id": "04833978-373b-42e5-a13b-83ff44634b91",
   "metadata": {
    "tags": []
   },
   "source": [
    "### Good Gap Metric"
   ]
  },
  {
   "cell_type": "code",
   "execution_count": null,
   "id": "1d1f0d27-9cfb-44ae-b13e-93dc69e2a448",
   "metadata": {},
   "outputs": [],
   "source": [
    "good_t_i_l = get_common_initial_values(T=T,\n",
    "                                  data=good_data,\n",
    "                                  n_replicates=R)\n",
    "\n",
    "good_w_c_d = get_converge_trial(best_objective_values=true_objective_values,\n",
    "                           exp_optimal_outcome_values_during_trials=good_exp_optimal_outcome_values_during_trials,\n",
    "                           n_trials=N,\n",
    "                           T=T,\n",
    "                           n_decimal=1)\n",
    "\n",
    "good_summary = gap_metric_standard(T=T,\n",
    "                             data=good_data,\n",
    "                             best_objective_values=true_objective_values,\n",
    "                             total_initial_list = good_t_i_l,\n",
    "                             n_replicates=R,\n",
    "                             n_trials=N,\n",
    "                             where_converge_dict=good_w_c_d)\n",
    "\n",
    "good_list = compute_gap_values(T, good_summary)"
   ]
  },
  {
   "cell_type": "code",
   "execution_count": null,
   "id": "f734936e-ee4e-40a3-b8fa-04ed181ec11d",
   "metadata": {},
   "outputs": [],
   "source": [
    "good_summary"
   ]
  },
  {
   "cell_type": "code",
   "execution_count": null,
   "id": "b43c18a8-ec49-46a0-ad8f-6dc705f34ef6",
   "metadata": {},
   "outputs": [],
   "source": [
    "good_list"
   ]
  },
  {
   "cell_type": "markdown",
   "id": "02b06b18-c87b-4555-a69d-19340f057473",
   "metadata": {
    "tags": []
   },
   "source": [
    "### Bad Gap Metric"
   ]
  },
  {
   "cell_type": "code",
   "execution_count": null,
   "id": "d39f3fd0-7c49-45ec-9582-facc313ac325",
   "metadata": {},
   "outputs": [],
   "source": [
    "bad_t_i_l = get_common_initial_values(T=T,\n",
    "                                  data=bad_data,\n",
    "                                  n_replicates=R)\n",
    "\n",
    "bad_w_c_d = get_converge_trial(best_objective_values=true_objective_values,\n",
    "                          exp_optimal_outcome_values_during_trials=bad_exp_optimal_outcome_values_during_trials,\n",
    "                          n_trials=N,\n",
    "                          T=T,\n",
    "                          n_decimal=1)\n",
    "\n",
    "bad_summary = gap_metric_standard(T=T,\n",
    "                             data=bad_data,\n",
    "                             best_objective_values=true_objective_values,\n",
    "                             total_initial_list = bad_t_i_l,\n",
    "                             n_replicates=R,\n",
    "                             n_trials=N,\n",
    "                             where_converge_dict=bad_w_c_d)\n",
    "\n",
    "bad_list = compute_gap_values(T, bad_summary)"
   ]
  },
  {
   "cell_type": "code",
   "execution_count": null,
   "id": "e178c075-882a-4859-ae5d-9829cf5990d5",
   "metadata": {},
   "outputs": [],
   "source": [
    "bad_summary"
   ]
  },
  {
   "cell_type": "code",
   "execution_count": null,
   "id": "d20ff990-bb71-443f-9d46-72020b187488",
   "metadata": {},
   "outputs": [],
   "source": [
    "bad_list"
   ]
  }
 ],
 "metadata": {
  "kernelspec": {
   "display_name": "Python 3 (ipykernel)",
   "language": "python",
   "name": "python3"
  },
  "language_info": {
   "codemirror_mode": {
    "name": "ipython",
    "version": 3
   },
   "file_extension": ".py",
   "mimetype": "text/x-python",
   "name": "python",
   "nbconvert_exporter": "python",
   "pygments_lexer": "ipython3",
   "version": "3.10.9"
  }
 },
 "nbformat": 4,
 "nbformat_minor": 5
}
