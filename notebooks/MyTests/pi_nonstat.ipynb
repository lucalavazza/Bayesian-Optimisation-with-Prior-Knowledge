{
 "cells": [
  {
   "cell_type": "markdown",
   "id": "6f3f6dc7-2bec-4a05-ab60-221777faeb9a",
   "metadata": {},
   "source": [
    "# DC$\\pi$BO - Non-stationary SCM and DAG (NONSTAT, i.e. edges X0->Z1, Z1->Y2)"
   ]
  },
  {
   "cell_type": "markdown",
   "id": "b5d2bf3b-e170-4e38-9284-de546f2a1763",
   "metadata": {
    "tags": []
   },
   "source": [
    "## Imports"
   ]
  },
  {
   "cell_type": "code",
   "execution_count": 34,
   "id": "dabbc7d1-50ce-464f-ac73-7802d05d057b",
   "metadata": {},
   "outputs": [
    {
     "name": "stdout",
     "output_type": "stream",
     "text": [
      "The autoreload extension is already loaded. To reload it, use:\n",
      "  %reload_ext autoreload\n"
     ]
    }
   ],
   "source": [
    "%load_ext autoreload\n",
    "%autoreload 2\n",
    "\n",
    "import sys\n",
    "sys.path.append(\"../../src/\")\n",
    "sys.path.append(\"../..\")\n",
    "\n",
    "from src.examples.example_setups import setup_nonstat_scm\n",
    "from src.utils.sem_utils.toy_sems import NonStationaryDependentSEM as NonStatSEM\n",
    "from src.utils.sem_utils.sem_estimate import build_sem_hat\n",
    "\n",
    "from src.experimental.experiments_nonstat import run_methods_replicates\n",
    "from src.experimental.analyse_results import get_relevant_results, elaborate, gap_metric_standard, get_common_initial_values, get_converge_trial\n",
    "from src.utils.plotting import plot_expected_opt_curve_paper\n",
    "\n",
    "from src.methods.bo_nonstat import BO\n",
    "from src.methods.dcbo_nonstat import DCBO\n",
    "from src.methods.pibo_nonstat import PIBO\n",
    "from src.methods.dcpibo_nonstat import DCPIBO\n",
    "\n",
    "from matplotlib.pyplot import rc\n",
    "import numpy as np\n",
    "from scipy import stats\n",
    "import random\n",
    "\n",
    "random.seed(42)"
   ]
  },
  {
   "cell_type": "markdown",
   "id": "8dba81e9-d5bc-43aa-b71d-8796634fe098",
   "metadata": {
    "tags": []
   },
   "source": [
    "## Utility Functions"
   ]
  },
  {
   "cell_type": "code",
   "execution_count": 35,
   "id": "27ea3435-b5b7-4a5d-a840-01f996e429c3",
   "metadata": {},
   "outputs": [],
   "source": [
    "def power_list(input_list, exponent):\n",
    "    '''Raises each element of the given input_list to the desired exponent'''\n",
    "    \n",
    "    return_list = []\n",
    "    \n",
    "    for element in input_list:\n",
    "        if element >= 0:\n",
    "            raised_element = element**exponent\n",
    "        else:\n",
    "            raised_element = -(abs(element)**exponent)\n",
    "        return_list.append(raised_element)\n",
    "        \n",
    "    return return_list"
   ]
  },
  {
   "cell_type": "code",
   "execution_count": 36,
   "id": "93ce49d4-e680-4674-9993-0b02d970d454",
   "metadata": {},
   "outputs": [],
   "source": [
    "def compute_statistics(y_function, standard_deviation):\n",
    "    '''Computes all the necessary lists associated to the Normal Distribution'''\n",
    "    \n",
    "    return_variates = []\n",
    "    return_amps = []\n",
    "    return_pdfs = []\n",
    "    \n",
    "    for mean in y_function:\n",
    "        return_variates.append(stats.norm.rvs(mean, standard_deviation, 10))\n",
    "        \n",
    "        amp = np.linspace(mean-5*standard_deviation, mean+5*standard_deviation, 10)\n",
    "        return_amps.append(amp)\n",
    "        \n",
    "        return_pdfs.append(stats.norm.pdf(amp, mean, standard_deviation))\n",
    "    \n",
    "    return return_variates, return_amps, return_pdfs"
   ]
  },
  {
   "cell_type": "code",
   "execution_count": 37,
   "id": "452a4458-1a24-4beb-9410-09f72f8e3486",
   "metadata": {},
   "outputs": [],
   "source": [
    "def normalise_pdfs(pdfs_list):\n",
    "    '''Normalises the PDFs between 0 and 1'''\n",
    "    \n",
    "    return_normalised_pdfs_list = []\n",
    "    \n",
    "    for pdf_list in pdfs_list:\n",
    "        temp_list = []\n",
    "        \n",
    "        pdf_min = min(pdf_list)\n",
    "        pdf_max = max(pdf_list)\n",
    "        \n",
    "        for pdf_value in pdf_list:\n",
    "            temp_list.append(round((pdf_value-pdf_min)/(pdf_max-pdf_min),2))\n",
    "        \n",
    "        return_normalised_pdfs_list.append(temp_list)\n",
    "        \n",
    "    return return_normalised_pdfs_list"
   ]
  },
  {
   "cell_type": "code",
   "execution_count": 38,
   "id": "233249b0-0016-4f69-bedd-756e6230a1ee",
   "metadata": {},
   "outputs": [],
   "source": [
    "def regret_priors(start_prior):\n",
    "    '''Adds regret'''\n",
    "    \n",
    "    return_raised_priors = []\n",
    "    \n",
    "    for i in range(1,N+1):\n",
    "        temp = []\n",
    "        gamma = beta/i\n",
    "        \n",
    "        for p_list in start_prior:\n",
    "            temp.append(power_list(p_list, gamma))\n",
    "            \n",
    "        return_raised_priors.append(temp)\n",
    "    \n",
    "    return return_raised_priors"
   ]
  },
  {
   "cell_type": "code",
   "execution_count": 39,
   "id": "0ba8eb16-046e-4a5b-89a5-c8e0cf326c72",
   "metadata": {},
   "outputs": [],
   "source": [
    "def predict_optima_regret(iterations, time_steps, regret_priors, normalised_pdfs):\n",
    "    '''Computes the prediction for each time-step and each iteration, according to the effect of gamma (regret)'''\n",
    "    \n",
    "    return_predictions = []\n",
    "    \n",
    "    for iteration in range(iterations):\n",
    "        temp = []\n",
    "        \n",
    "        for time_step in range(time_steps):\n",
    "            if(min(regret_priors[iteration][time_step])+max(regret_priors[iteration][time_step]))<0:\n",
    "                optimum = min(np.multiply(regret_priors[iteration][time_step], normalised_pdfs[time_step]))\n",
    "            else:\n",
    "                optimum = max(np.multiply(regret_priors[iteration][time_step], normalised_pdfs[time_step]))\n",
    "                              \n",
    "            temp.append(optimum)\n",
    "                              \n",
    "        return_predictions.append(temp)\n",
    "                              \n",
    "    return return_predictions"
   ]
  },
  {
   "cell_type": "markdown",
   "id": "06b288e4-dbe8-43ae-b9e4-03c73ff37b95",
   "metadata": {},
   "source": [
    "## Constants and such"
   ]
  },
  {
   "cell_type": "code",
   "execution_count": 40,
   "id": "eda6b21b-f087-4a5c-99b3-484f76f482eb",
   "metadata": {},
   "outputs": [],
   "source": [
    "T = 3\n",
    "t_axis = np.linspace(1,T,T,dtype=int)\n",
    "N = 10\n",
    "std = 0.1\n",
    "beta = 1"
   ]
  },
  {
   "cell_type": "markdown",
   "id": "24c29274-1dfe-4979-b194-4d302a37d8ab",
   "metadata": {
    "tags": []
   },
   "source": [
    "## Optima location"
   ]
  },
  {
   "cell_type": "markdown",
   "id": "6d5f59e8-b2da-4960-af69-d234bf299d14",
   "metadata": {},
   "source": [
    "### Good prior"
   ]
  },
  {
   "cell_type": "code",
   "execution_count": 41,
   "id": "e67dec19-f879-436a-83d7-d91897276676",
   "metadata": {},
   "outputs": [],
   "source": [
    "upper = 12\n",
    "lower = -upper\n",
    "y = []\n",
    "\n",
    "for t in t_axis:\n",
    "    if t%2==0:\n",
    "        y_t=upper\n",
    "    else:\n",
    "        y_t=lower\n",
    "        \n",
    "    y.append(y_t)"
   ]
  },
  {
   "cell_type": "markdown",
   "id": "4ec964c2-3169-4ec1-80d5-f07f4c11dfbd",
   "metadata": {},
   "source": [
    "### Bad prior"
   ]
  },
  {
   "cell_type": "code",
   "execution_count": 42,
   "id": "cf1195d4-5880-4e88-b76b-e76ef4486114",
   "metadata": {},
   "outputs": [],
   "source": [
    "bad_upper = 3\n",
    "bad_lower = -upper\n",
    "bad_y = []\n",
    "\n",
    "for t in t_axis:\n",
    "    if t%2==0:\n",
    "        bad_y_t=bad_upper\n",
    "    else:\n",
    "        bad_y_t=bad_lower\n",
    "        \n",
    "    bad_y.append(bad_y_t)\n",
    "\n"
   ]
  },
  {
   "cell_type": "markdown",
   "id": "e8735837-e22b-4fc4-a9c6-bcb248f958d0",
   "metadata": {
    "tags": []
   },
   "source": [
    "### *Very* bad prior"
   ]
  },
  {
   "cell_type": "code",
   "execution_count": 43,
   "id": "680c1f23-6f83-48e8-9059-92d7b5bb70a9",
   "metadata": {},
   "outputs": [],
   "source": [
    "bad_a_param = 0.5\n",
    "bad_y_param = 0\n",
    "very_bad_y = bad_a_param*t_axis+bad_y_param"
   ]
  },
  {
   "cell_type": "markdown",
   "id": "9bee9d6d-f3bb-4d75-91d5-8b0f9f5a1526",
   "metadata": {},
   "source": [
    "## Setup"
   ]
  },
  {
   "cell_type": "markdown",
   "id": "2bac17f5-5050-456c-8d7c-a557b8752c59",
   "metadata": {},
   "source": [
    "### Good prior"
   ]
  },
  {
   "cell_type": "code",
   "execution_count": 44,
   "id": "37dbbe3c-878d-4668-92e5-d6f4a068c2d0",
   "metadata": {},
   "outputs": [],
   "source": [
    "all_variates, all_amps, all_pdfs = compute_statistics(y, std)\n",
    "all_variates_regret = regret_priors(all_variates)\n",
    "\n",
    "all_pdfs_normalised = normalise_pdfs(all_pdfs)\n",
    "\n",
    "predicted_optima_regret = predict_optima_regret(N, T, all_variates_regret, all_pdfs_normalised) # this are all the 𝜋s"
   ]
  },
  {
   "cell_type": "markdown",
   "id": "e8c17fdf-e562-48ec-820d-1eea254b02e7",
   "metadata": {},
   "source": [
    "### Bad prior"
   ]
  },
  {
   "cell_type": "code",
   "execution_count": 45,
   "id": "6fa8ff07-6efa-4ee3-8bb3-19ef8fa60e0b",
   "metadata": {},
   "outputs": [],
   "source": [
    "bad_all_variates, bad_all_amps, bad_all_pdfs = compute_statistics(bad_y, std)\n",
    "bad_all_variates_regret = regret_priors(bad_all_variates)\n",
    "\n",
    "bad_all_pdfs_normalised = normalise_pdfs(bad_all_pdfs)\n",
    "\n",
    "bad_predicted_optima_regret = predict_optima_regret(N, T, bad_all_variates_regret, bad_all_pdfs_normalised) # this are all the 𝜋s"
   ]
  },
  {
   "cell_type": "markdown",
   "id": "10e4738a-5668-4c82-a0c9-e0a20e55427b",
   "metadata": {},
   "source": [
    "### *Very* bad prior"
   ]
  },
  {
   "cell_type": "code",
   "execution_count": 46,
   "id": "7225f75a-ba16-43c5-b09f-08f1cec1af1c",
   "metadata": {},
   "outputs": [],
   "source": [
    "very_bad_all_variates, very_bad_all_amps, very_bad_all_pdfs = compute_statistics(very_bad_y, std)\n",
    "very_bad_all_variates_regret = regret_priors(very_bad_all_variates)\n",
    "\n",
    "very_bad_all_pdfs_normalised = normalise_pdfs(very_bad_all_pdfs)\n",
    "\n",
    "very_bad_predicted_optima_regret = predict_optima_regret(N, T, very_bad_all_variates_regret, very_bad_all_pdfs_normalised) # this are all the 𝜋s"
   ]
  },
  {
   "cell_type": "markdown",
   "id": "5c4bb87a-d53f-4413-91ab-ac05621b130f",
   "metadata": {},
   "source": [
    "### Model:"
   ]
  },
  {
   "cell_type": "code",
   "execution_count": 47,
   "id": "efeed183-2eb5-4283-b210-79c00fae8f6e",
   "metadata": {},
   "outputs": [
    {
     "name": "stderr",
     "output_type": "stream",
     "text": [
      " /mnt/c/Users/lucal/Desktop/Thesis/notebooks/MyTests/../../src/utils/sem_utils/toy_sems.py:180: RuntimeWarning:invalid value encountered in double_scalars\n"
     ]
    }
   ],
   "source": [
    "init_sem, sem, dag_view, G, exploration_sets, intervention_domain, true_objective_values, all_causal_effects = setup_nonstat_scm(T=T)"
   ]
  },
  {
   "cell_type": "code",
   "execution_count": 48,
   "id": "49502b83-3dbe-4434-a1c2-81c3730871e9",
   "metadata": {},
   "outputs": [
    {
     "data": {
      "text/plain": [
       "0"
      ]
     },
     "execution_count": 48,
     "metadata": {},
     "output_type": "execute_result"
    }
   ],
   "source": [
    "G.add_edge('X_0','Z_1')\n",
    "G.add_edge('Z_1','Y_2')"
   ]
  },
  {
   "cell_type": "markdown",
   "id": "519fe279-3a4a-426d-8898-1a3ab78afbfa",
   "metadata": {
    "tags": []
   },
   "source": [
    "## Models' executions"
   ]
  },
  {
   "cell_type": "code",
   "execution_count": 49,
   "id": "2e28888f-0d86-4a0a-9c12-4722be729761",
   "metadata": {},
   "outputs": [],
   "source": [
    "change_points = T*[False]\n",
    "change_points[1] = True # We encode where the time-series changes stationary regime\n",
    "R = 3"
   ]
  },
  {
   "cell_type": "markdown",
   "id": "28db8f3b-d1d1-42b6-afc0-593d12eba1af",
   "metadata": {
    "tags": []
   },
   "source": [
    "### Good prior"
   ]
  },
  {
   "cell_type": "code",
   "execution_count": 50,
   "id": "ed533f32-d8e9-4bb7-b858-ff41845680ae",
   "metadata": {},
   "outputs": [
    {
     "name": "stderr",
     "output_type": "stream",
     "text": [
      "Experiment count:   0%|                                                                           | 0/3 [00:00<?, ?it/s]"
     ]
    },
    {
     "name": "stdout",
     "output_type": "stream",
     "text": [
      "\n",
      "\t>>>BO\n",
      "\n"
     ]
    },
    {
     "name": "stderr",
     "output_type": "stream",
     "text": [
      "\n",
      "Time index:   0%|                                                                                 | 0/3 [00:00<?, ?it/s]\u001b[Areconstraining parameters GP_regression.rbf.variance\n",
      "\n",
      "Time index:  33%|████████████████████████▎                                                | 1/3 [00:00<00:00,  3.43it/s]\u001b[Areconstraining parameters GP_regression.rbf.variance\n",
      "\n",
      "Time index:  67%|████████████████████████████████████████████████▋                        | 2/3 [00:00<00:00,  3.70it/s]\u001b[Areconstraining parameters GP_regression.rbf.variance\n",
      " /home/luca/miniconda3/envs/MTL_DCBO_testing/lib/python3.10/site-packages/paramz/transformations.py:119: RuntimeWarning:overflow encountered in expm1\n",
      " /home/luca/miniconda3/envs/MTL_DCBO_testing/lib/python3.10/site-packages/paramz/transformations.py:121: RuntimeWarning:overflow encountered in expm1\n",
      "\n",
      "Time index: 100%|█████████████████████████████████████████████████████████████████████████| 3/3 [00:00<00:00,  3.55it/s]\u001b[A\n"
     ]
    },
    {
     "name": "stdout",
     "output_type": "stream",
     "text": [
      "10\n",
      "\n",
      "\t>>>PIBO\n",
      "\n"
     ]
    },
    {
     "name": "stderr",
     "output_type": "stream",
     "text": [
      "\n",
      "Time index:   0%|                                                                                 | 0/3 [00:00<?, ?it/s]\u001b[Areconstraining parameters GP_regression.rbf.variance\n",
      "\n",
      "Time index:  33%|████████████████████████▎                                                | 1/3 [00:00<00:00,  4.73it/s]\u001b[Areconstraining parameters GP_regression.rbf.variance\n",
      "\n",
      "Time index:  67%|████████████████████████████████████████████████▋                        | 2/3 [00:00<00:00,  4.40it/s]\u001b[Areconstraining parameters GP_regression.rbf.variance\n",
      "\n",
      "Time index: 100%|█████████████████████████████████████████████████████████████████████████| 3/3 [00:00<00:00,  4.28it/s]\u001b[A\n",
      " /mnt/c/Users/lucal/Desktop/Thesis/notebooks/MyTests/../../src/utils/dag_utils/adjacency_matrix_utils.py:26: FutureWarning:adjacency_matrix will return a scipy.sparse array instead of a matrix in Networkx 3.0.\n"
     ]
    },
    {
     "name": "stdout",
     "output_type": "stream",
     "text": [
      "\n",
      "\t>>>DCBO\n",
      "\n"
     ]
    },
    {
     "name": "stderr",
     "output_type": "stream",
     "text": [
      " /mnt/c/Users/lucal/Desktop/Thesis/notebooks/MyTests/../../src/utils/dag_utils/adjacency_matrix_utils.py:26: FutureWarning:adjacency_matrix will return a scipy.sparse array instead of a matrix in Networkx 3.0.\n",
      " /home/luca/miniconda3/envs/MTL_DCBO_testing/lib/python3.10/site-packages/GPy/kern/src/stationary.py:168: RuntimeWarning:overflow encountered in divide\n",
      " /home/luca/miniconda3/envs/MTL_DCBO_testing/lib/python3.10/site-packages/GPy/kern/src/rbf.py:52: RuntimeWarning:overflow encountered in square\n",
      " /home/luca/miniconda3/envs/MTL_DCBO_testing/lib/python3.10/site-packages/GPy/kern/src/rbf.py:76: RuntimeWarning:invalid value encountered in multiply\n"
     ]
    },
    {
     "name": "stdout",
     "output_type": "stream",
     "text": [
      "why are your arrays not F order?\n",
      "why are your arrays not F order?\n",
      "why are your arrays not F order?\n",
      "why are your arrays not F order?\n",
      "why are your arrays not F order?\n",
      "why are your arrays not F order?\n",
      "why are your arrays not F order?\n",
      "why are your arrays not F order?\n",
      "why are your arrays not F order?\n",
      "why are your arrays not F order?\n",
      "why are your arrays not F order?\n",
      "why are your arrays not F order?\n",
      "why are your arrays not F order?\n",
      "why are your arrays not F order?\n",
      "why are your arrays not F order?\n",
      "why are your arrays not F order?\n",
      "why are your arrays not F order?\n",
      "why are your arrays not F order?\n"
     ]
    },
    {
     "name": "stderr",
     "output_type": "stream",
     "text": [
      "\n",
      "Time index:   0%|                                                                                 | 0/3 [00:00<?, ?it/s]\u001b[Areconstraining parameters GP_regression.rbf.variance\n",
      " /mnt/c/Users/lucal/Desktop/Thesis/notebooks/MyTests/../../src/utils/sem_utils/toy_sems.py:180: RuntimeWarning:invalid value encountered in double_scalars\n",
      "reconstraining parameters GP_regression.rbf.variance\n",
      "reconstraining parameters GP_regression.rbf.variance\n",
      "\n",
      "Time index:  33%|████████████████████████▎                                                | 1/3 [00:04<00:08,  4.44s/it]\u001b[Areconstraining parameters GP_regression.rbf.variance\n",
      "reconstraining parameters GP_regression.rbf.variance\n",
      "\n",
      "Time index:  67%|████████████████████████████████████████████████▋                        | 2/3 [00:13<00:07,  7.09s/it]\u001b[Areconstraining parameters GP_regression.rbf.variance\n",
      "reconstraining parameters GP_regression.rbf.variance\n",
      "reconstraining parameters GP_regression.rbf.variance\n",
      "\n",
      "Time index: 100%|█████████████████████████████████████████████████████████████████████████| 3/3 [00:25<00:00,  8.40s/it]\u001b[A\n"
     ]
    },
    {
     "name": "stdout",
     "output_type": "stream",
     "text": [
      "\n",
      "\t>>>DCPIBO\n",
      "\n"
     ]
    },
    {
     "name": "stderr",
     "output_type": "stream",
     "text": [
      " /mnt/c/Users/lucal/Desktop/Thesis/notebooks/MyTests/../../src/utils/dag_utils/adjacency_matrix_utils.py:26: FutureWarning:adjacency_matrix will return a scipy.sparse array instead of a matrix in Networkx 3.0.\n",
      " /home/luca/miniconda3/envs/MTL_DCBO_testing/lib/python3.10/site-packages/GPy/kern/src/stationary.py:168: RuntimeWarning:overflow encountered in divide\n",
      " /home/luca/miniconda3/envs/MTL_DCBO_testing/lib/python3.10/site-packages/GPy/kern/src/rbf.py:52: RuntimeWarning:overflow encountered in square\n",
      " /home/luca/miniconda3/envs/MTL_DCBO_testing/lib/python3.10/site-packages/GPy/kern/src/rbf.py:76: RuntimeWarning:invalid value encountered in multiply\n"
     ]
    },
    {
     "name": "stdout",
     "output_type": "stream",
     "text": [
      "why are your arrays not F order?\n",
      "why are your arrays not F order?\n",
      "why are your arrays not F order?\n",
      "why are your arrays not F order?\n",
      "why are your arrays not F order?\n",
      "why are your arrays not F order?\n",
      "why are your arrays not F order?\n",
      "why are your arrays not F order?\n",
      "why are your arrays not F order?\n",
      "why are your arrays not F order?\n",
      "why are your arrays not F order?\n",
      "why are your arrays not F order?\n",
      "why are your arrays not F order?\n",
      "why are your arrays not F order?\n",
      "why are your arrays not F order?\n",
      "why are your arrays not F order?\n",
      "why are your arrays not F order?\n",
      "why are your arrays not F order?\n"
     ]
    },
    {
     "name": "stderr",
     "output_type": "stream",
     "text": [
      "\n",
      "Time index:   0%|                                                                                 | 0/3 [00:00<?, ?it/s]\u001b[Areconstraining parameters GP_regression.rbf.variance\n",
      " /mnt/c/Users/lucal/Desktop/Thesis/notebooks/MyTests/../../src/utils/sem_utils/toy_sems.py:180: RuntimeWarning:invalid value encountered in double_scalars\n",
      "reconstraining parameters GP_regression.rbf.variance\n",
      "reconstraining parameters GP_regression.rbf.variance\n",
      "\n",
      "Time index:  33%|████████████████████████▎                                                | 1/3 [00:04<00:09,  4.82s/it]\u001b[Areconstraining parameters GP_regression.rbf.variance\n",
      "reconstraining parameters GP_regression.rbf.variance\n",
      "\n",
      "Time index:  67%|████████████████████████████████████████████████▋                        | 2/3 [00:13<00:07,  7.21s/it]\u001b[Areconstraining parameters GP_regression.rbf.variance\n",
      "reconstraining parameters GP_regression.rbf.variance\n",
      "reconstraining parameters GP_regression.rbf.variance\n",
      "\n",
      "Time index: 100%|█████████████████████████████████████████████████████████████████████████| 3/3 [00:25<00:00,  8.44s/it]\u001b[A\n",
      "Experiment count:  33%|██████████████████████▎                                            | 1/3 [01:10<02:21, 70.64s/it]"
     ]
    },
    {
     "name": "stdout",
     "output_type": "stream",
     "text": [
      "\n",
      "\t>>>BO\n",
      "\n"
     ]
    },
    {
     "name": "stderr",
     "output_type": "stream",
     "text": [
      "\n",
      "Time index:   0%|                                                                                 | 0/3 [00:00<?, ?it/s]\u001b[Areconstraining parameters GP_regression.rbf.variance\n",
      "\n",
      "Time index:  33%|████████████████████████▎                                                | 1/3 [00:00<00:00,  4.08it/s]\u001b[Areconstraining parameters GP_regression.rbf.variance\n",
      "\n",
      "Time index:  67%|████████████████████████████████████████████████▋                        | 2/3 [00:00<00:00,  3.96it/s]\u001b[Areconstraining parameters GP_regression.rbf.variance\n",
      "\n",
      "Time index: 100%|█████████████████████████████████████████████████████████████████████████| 3/3 [00:00<00:00,  4.11it/s]\u001b[A\n"
     ]
    },
    {
     "name": "stdout",
     "output_type": "stream",
     "text": [
      "10\n",
      "\n",
      "\t>>>PIBO\n",
      "\n"
     ]
    },
    {
     "name": "stderr",
     "output_type": "stream",
     "text": [
      "\n",
      "Time index:   0%|                                                                                 | 0/3 [00:00<?, ?it/s]\u001b[Areconstraining parameters GP_regression.rbf.variance\n",
      "\n",
      "Time index:  33%|████████████████████████▎                                                | 1/3 [00:00<00:00,  3.61it/s]\u001b[Areconstraining parameters GP_regression.rbf.variance\n",
      "\n",
      "Time index:  67%|████████████████████████████████████████████████▋                        | 2/3 [00:00<00:00,  4.00it/s]\u001b[Areconstraining parameters GP_regression.rbf.variance\n",
      "\n",
      "Time index: 100%|█████████████████████████████████████████████████████████████████████████| 3/3 [00:00<00:00,  3.76it/s]\u001b[A\n"
     ]
    },
    {
     "name": "stdout",
     "output_type": "stream",
     "text": [
      "\n",
      "\t>>>DCBO\n",
      "\n"
     ]
    },
    {
     "name": "stderr",
     "output_type": "stream",
     "text": [
      " /mnt/c/Users/lucal/Desktop/Thesis/notebooks/MyTests/../../src/utils/dag_utils/adjacency_matrix_utils.py:26: FutureWarning:adjacency_matrix will return a scipy.sparse array instead of a matrix in Networkx 3.0.\n",
      " /home/luca/miniconda3/envs/MTL_DCBO_testing/lib/python3.10/site-packages/GPy/kern/src/stationary.py:168: RuntimeWarning:overflow encountered in divide\n",
      " /home/luca/miniconda3/envs/MTL_DCBO_testing/lib/python3.10/site-packages/GPy/kern/src/rbf.py:52: RuntimeWarning:overflow encountered in square\n",
      " /home/luca/miniconda3/envs/MTL_DCBO_testing/lib/python3.10/site-packages/GPy/kern/src/rbf.py:76: RuntimeWarning:invalid value encountered in multiply\n"
     ]
    },
    {
     "name": "stdout",
     "output_type": "stream",
     "text": [
      "why are your arrays not F order?\n",
      "why are your arrays not F order?\n",
      "why are your arrays not F order?\n",
      "why are your arrays not F order?\n",
      "why are your arrays not F order?\n",
      "why are your arrays not F order?\n",
      "why are your arrays not F order?\n",
      "why are your arrays not F order?\n",
      "why are your arrays not F order?\n",
      "why are your arrays not F order?\n",
      "why are your arrays not F order?\n",
      "why are your arrays not F order?\n",
      "why are your arrays not F order?\n",
      "why are your arrays not F order?\n",
      "why are your arrays not F order?\n",
      "why are your arrays not F order?\n",
      "why are your arrays not F order?\n",
      "why are your arrays not F order?\n"
     ]
    },
    {
     "name": "stderr",
     "output_type": "stream",
     "text": [
      "\n",
      "Time index:   0%|                                                                                 | 0/3 [00:00<?, ?it/s]\u001b[Areconstraining parameters GP_regression.rbf.variance\n",
      " /mnt/c/Users/lucal/Desktop/Thesis/notebooks/MyTests/../../src/utils/sem_utils/toy_sems.py:180: RuntimeWarning:invalid value encountered in double_scalars\n",
      "reconstraining parameters GP_regression.rbf.variance\n",
      "reconstraining parameters GP_regression.rbf.variance\n",
      "\n",
      "Time index:  33%|████████████████████████▎                                                | 1/3 [00:06<00:12,  6.10s/it]\u001b[Areconstraining parameters GP_regression.rbf.variance\n",
      "reconstraining parameters GP_regression.rbf.variance\n",
      "\n",
      "Time index:  67%|████████████████████████████████████████████████▋                        | 2/3 [00:17<00:08,  8.94s/it]\u001b[Areconstraining parameters GP_regression.rbf.variance\n",
      "reconstraining parameters GP_regression.rbf.variance\n",
      "reconstraining parameters GP_regression.rbf.variance\n",
      "\n",
      "Time index: 100%|█████████████████████████████████████████████████████████████████████████| 3/3 [00:30<00:00, 10.16s/it]\u001b[A\n"
     ]
    },
    {
     "name": "stdout",
     "output_type": "stream",
     "text": [
      "\n",
      "\t>>>DCPIBO\n",
      "\n"
     ]
    },
    {
     "name": "stderr",
     "output_type": "stream",
     "text": [
      " /mnt/c/Users/lucal/Desktop/Thesis/notebooks/MyTests/../../src/utils/dag_utils/adjacency_matrix_utils.py:26: FutureWarning:adjacency_matrix will return a scipy.sparse array instead of a matrix in Networkx 3.0.\n",
      " /home/luca/miniconda3/envs/MTL_DCBO_testing/lib/python3.10/site-packages/GPy/kern/src/stationary.py:168: RuntimeWarning:overflow encountered in divide\n",
      " /home/luca/miniconda3/envs/MTL_DCBO_testing/lib/python3.10/site-packages/GPy/kern/src/rbf.py:52: RuntimeWarning:overflow encountered in square\n",
      " /home/luca/miniconda3/envs/MTL_DCBO_testing/lib/python3.10/site-packages/GPy/kern/src/rbf.py:76: RuntimeWarning:invalid value encountered in multiply\n"
     ]
    },
    {
     "name": "stdout",
     "output_type": "stream",
     "text": [
      "why are your arrays not F order?\n",
      "why are your arrays not F order?\n",
      "why are your arrays not F order?\n",
      "why are your arrays not F order?\n",
      "why are your arrays not F order?\n",
      "why are your arrays not F order?\n",
      "why are your arrays not F order?\n",
      "why are your arrays not F order?\n",
      "why are your arrays not F order?\n",
      "why are your arrays not F order?\n",
      "why are your arrays not F order?\n",
      "why are your arrays not F order?\n",
      "why are your arrays not F order?\n",
      "why are your arrays not F order?\n",
      "why are your arrays not F order?\n",
      "why are your arrays not F order?\n",
      "why are your arrays not F order?\n",
      "why are your arrays not F order?\n"
     ]
    },
    {
     "name": "stderr",
     "output_type": "stream",
     "text": [
      "\n",
      "Time index:   0%|                                                                                 | 0/3 [00:00<?, ?it/s]\u001b[Areconstraining parameters GP_regression.rbf.variance\n",
      " /mnt/c/Users/lucal/Desktop/Thesis/notebooks/MyTests/../../src/utils/sem_utils/toy_sems.py:180: RuntimeWarning:invalid value encountered in double_scalars\n",
      "reconstraining parameters GP_regression.rbf.variance\n",
      "reconstraining parameters GP_regression.rbf.variance\n",
      "\n",
      "Time index:  33%|████████████████████████▎                                                | 1/3 [00:04<00:09,  4.74s/it]\u001b[Areconstraining parameters GP_regression.rbf.variance\n",
      "reconstraining parameters GP_regression.rbf.variance\n",
      "\n",
      "Time index:  67%|████████████████████████████████████████████████▋                        | 2/3 [00:13<00:07,  7.01s/it]\u001b[Areconstraining parameters GP_regression.rbf.variance\n",
      "reconstraining parameters GP_regression.rbf.variance\n",
      "reconstraining parameters GP_regression.rbf.variance\n",
      "\n",
      "Time index: 100%|█████████████████████████████████████████████████████████████████████████| 3/3 [00:26<00:00,  8.76s/it]\u001b[A\n",
      "Experiment count:  67%|████████████████████████████████████████████▋                      | 2/3 [02:30<01:15, 75.82s/it]"
     ]
    },
    {
     "name": "stdout",
     "output_type": "stream",
     "text": [
      "\n",
      "\t>>>BO\n",
      "\n"
     ]
    },
    {
     "name": "stderr",
     "output_type": "stream",
     "text": [
      "\n",
      "Time index:   0%|                                                                                 | 0/3 [00:00<?, ?it/s]\u001b[Areconstraining parameters GP_regression.rbf.variance\n",
      "\n",
      "Time index:  33%|████████████████████████▎                                                | 1/3 [00:00<00:00,  4.40it/s]\u001b[Areconstraining parameters GP_regression.rbf.variance\n",
      "\n",
      "Time index:  67%|████████████████████████████████████████████████▋                        | 2/3 [00:00<00:00,  3.93it/s]\u001b[Areconstraining parameters GP_regression.rbf.variance\n",
      "\n",
      "Time index: 100%|█████████████████████████████████████████████████████████████████████████| 3/3 [00:00<00:00,  3.52it/s]\u001b[A\n"
     ]
    },
    {
     "name": "stdout",
     "output_type": "stream",
     "text": [
      "10\n",
      "\n",
      "\t>>>PIBO\n",
      "\n"
     ]
    },
    {
     "name": "stderr",
     "output_type": "stream",
     "text": [
      "\n",
      "Time index:   0%|                                                                                 | 0/3 [00:00<?, ?it/s]\u001b[Areconstraining parameters GP_regression.rbf.variance\n",
      "\n",
      "Time index:  33%|████████████████████████▎                                                | 1/3 [00:00<00:00,  3.42it/s]\u001b[Areconstraining parameters GP_regression.rbf.variance\n",
      "\n",
      "Time index:  67%|████████████████████████████████████████████████▋                        | 2/3 [00:00<00:00,  2.80it/s]\u001b[Areconstraining parameters GP_regression.rbf.variance\n",
      "\n",
      "Time index: 100%|█████████████████████████████████████████████████████████████████████████| 3/3 [00:01<00:00,  2.92it/s]\u001b[A\n"
     ]
    },
    {
     "name": "stdout",
     "output_type": "stream",
     "text": [
      "\n",
      "\t>>>DCBO\n",
      "\n"
     ]
    },
    {
     "name": "stderr",
     "output_type": "stream",
     "text": [
      " /mnt/c/Users/lucal/Desktop/Thesis/notebooks/MyTests/../../src/utils/dag_utils/adjacency_matrix_utils.py:26: FutureWarning:adjacency_matrix will return a scipy.sparse array instead of a matrix in Networkx 3.0.\n",
      " /home/luca/miniconda3/envs/MTL_DCBO_testing/lib/python3.10/site-packages/GPy/kern/src/stationary.py:168: RuntimeWarning:overflow encountered in divide\n",
      " /home/luca/miniconda3/envs/MTL_DCBO_testing/lib/python3.10/site-packages/GPy/kern/src/rbf.py:52: RuntimeWarning:overflow encountered in square\n",
      " /home/luca/miniconda3/envs/MTL_DCBO_testing/lib/python3.10/site-packages/GPy/kern/src/rbf.py:76: RuntimeWarning:invalid value encountered in multiply\n"
     ]
    },
    {
     "name": "stdout",
     "output_type": "stream",
     "text": [
      "why are your arrays not F order?\n",
      "why are your arrays not F order?\n",
      "why are your arrays not F order?\n",
      "why are your arrays not F order?\n",
      "why are your arrays not F order?\n",
      "why are your arrays not F order?\n",
      "why are your arrays not F order?\n",
      "why are your arrays not F order?\n",
      "why are your arrays not F order?\n",
      "why are your arrays not F order?\n",
      "why are your arrays not F order?\n",
      "why are your arrays not F order?\n",
      "why are your arrays not F order?\n",
      "why are your arrays not F order?\n",
      "why are your arrays not F order?\n",
      "why are your arrays not F order?\n",
      "why are your arrays not F order?\n",
      "why are your arrays not F order?\n"
     ]
    },
    {
     "name": "stderr",
     "output_type": "stream",
     "text": [
      "\n",
      "Time index:   0%|                                                                                 | 0/3 [00:00<?, ?it/s]\u001b[Areconstraining parameters GP_regression.rbf.variance\n",
      " /mnt/c/Users/lucal/Desktop/Thesis/notebooks/MyTests/../../src/utils/sem_utils/toy_sems.py:180: RuntimeWarning:invalid value encountered in double_scalars\n",
      "reconstraining parameters GP_regression.rbf.variance\n",
      "reconstraining parameters GP_regression.rbf.variance\n",
      "\n",
      "Time index:  33%|████████████████████████▎                                                | 1/3 [00:05<00:11,  5.82s/it]\u001b[Areconstraining parameters GP_regression.rbf.variance\n",
      "reconstraining parameters GP_regression.rbf.variance\n",
      "\n",
      "Time index:  67%|████████████████████████████████████████████████▋                        | 2/3 [00:15<00:07,  7.98s/it]\u001b[Areconstraining parameters GP_regression.rbf.variance\n",
      "reconstraining parameters GP_regression.rbf.variance\n",
      "reconstraining parameters GP_regression.rbf.variance\n",
      "\n",
      "Time index: 100%|█████████████████████████████████████████████████████████████████████████| 3/3 [00:28<00:00,  9.56s/it]\u001b[A\n"
     ]
    },
    {
     "name": "stdout",
     "output_type": "stream",
     "text": [
      "\n",
      "\t>>>DCPIBO\n",
      "\n"
     ]
    },
    {
     "name": "stderr",
     "output_type": "stream",
     "text": [
      " /mnt/c/Users/lucal/Desktop/Thesis/notebooks/MyTests/../../src/utils/dag_utils/adjacency_matrix_utils.py:26: FutureWarning:adjacency_matrix will return a scipy.sparse array instead of a matrix in Networkx 3.0.\n",
      " /home/luca/miniconda3/envs/MTL_DCBO_testing/lib/python3.10/site-packages/GPy/kern/src/stationary.py:168: RuntimeWarning:overflow encountered in divide\n",
      " /home/luca/miniconda3/envs/MTL_DCBO_testing/lib/python3.10/site-packages/GPy/kern/src/rbf.py:52: RuntimeWarning:overflow encountered in square\n",
      " /home/luca/miniconda3/envs/MTL_DCBO_testing/lib/python3.10/site-packages/GPy/kern/src/rbf.py:76: RuntimeWarning:invalid value encountered in multiply\n"
     ]
    },
    {
     "name": "stdout",
     "output_type": "stream",
     "text": [
      "why are your arrays not F order?\n",
      "why are your arrays not F order?\n",
      "why are your arrays not F order?\n",
      "why are your arrays not F order?\n",
      "why are your arrays not F order?\n",
      "why are your arrays not F order?\n",
      "why are your arrays not F order?\n",
      "why are your arrays not F order?\n",
      "why are your arrays not F order?\n",
      "why are your arrays not F order?\n",
      "why are your arrays not F order?\n",
      "why are your arrays not F order?\n",
      "why are your arrays not F order?\n",
      "why are your arrays not F order?\n",
      "why are your arrays not F order?\n",
      "why are your arrays not F order?\n",
      "why are your arrays not F order?\n",
      "why are your arrays not F order?\n"
     ]
    },
    {
     "name": "stderr",
     "output_type": "stream",
     "text": [
      "\n",
      "Time index:   0%|                                                                                 | 0/3 [00:00<?, ?it/s]\u001b[Areconstraining parameters GP_regression.rbf.variance\n",
      " /mnt/c/Users/lucal/Desktop/Thesis/notebooks/MyTests/../../src/utils/sem_utils/toy_sems.py:180: RuntimeWarning:invalid value encountered in double_scalars\n",
      "reconstraining parameters GP_regression.rbf.variance\n",
      "reconstraining parameters GP_regression.rbf.variance\n",
      "\n",
      "Time index:  33%|████████████████████████▎                                                | 1/3 [00:04<00:09,  4.66s/it]\u001b[Areconstraining parameters GP_regression.rbf.variance\n",
      "reconstraining parameters GP_regression.rbf.variance\n",
      "\n",
      "Time index:  67%|████████████████████████████████████████████████▋                        | 2/3 [00:13<00:07,  7.35s/it]\u001b[Areconstraining parameters GP_regression.rbf.variance\n",
      "reconstraining parameters GP_regression.rbf.variance\n",
      "reconstraining parameters GP_regression.rbf.variance\n",
      "\n",
      "Time index: 100%|█████████████████████████████████████████████████████████████████████████| 3/3 [00:29<00:00,  9.99s/it]\u001b[A\n",
      "Experiment count: 100%|███████████████████████████████████████████████████████████████████| 3/3 [03:51<00:00, 77.15s/it]\n"
     ]
    }
   ],
   "source": [
    "good_results = run_methods_replicates(G=G, \n",
    "                                sem=NonStatSEM, \n",
    "                                make_sem_estimator=build_sem_hat, \n",
    "                                base_target_variable='Y',\n",
    "                                intervention_domain = intervention_domain, \n",
    "                                methods_list = ['BO', 'PIBO', 'DCBO', 'DCPIBO'],\n",
    "                                obs_samples = None,\n",
    "                                exploration_sets = exploration_sets,\n",
    "                                priors_regret = predicted_optima_regret,\n",
    "                                total_timesteps = T,\n",
    "                                number_of_trials = N, \n",
    "                                reps = R, # Number of replicates (how many times we run each method)\n",
    "                                n_restart = 1,\n",
    "                                save_data = False,\n",
    "                                n_obs = 10, # The method samples 10 time-series for each replicate\n",
    "                                num_anchor_points = 100,\n",
    "                                sample_anchor_points = True,\n",
    "                                controlled_experiment=False,\n",
    "                                change_points=change_points)"
   ]
  },
  {
   "cell_type": "markdown",
   "id": "4c1e6257-8764-4940-9ac4-8845d3fbc256",
   "metadata": {
    "tags": []
   },
   "source": [
    "### Bad prior"
   ]
  },
  {
   "cell_type": "code",
   "execution_count": 51,
   "id": "b8e9d81a-8847-46e6-a597-d337ece20c31",
   "metadata": {},
   "outputs": [
    {
     "name": "stderr",
     "output_type": "stream",
     "text": [
      "Experiment count:   0%|                                                                           | 0/3 [00:00<?, ?it/s]"
     ]
    },
    {
     "name": "stdout",
     "output_type": "stream",
     "text": [
      "\n",
      "\t>>>BO\n",
      "\n"
     ]
    },
    {
     "name": "stderr",
     "output_type": "stream",
     "text": [
      "\n",
      "Time index:   0%|                                                                                 | 0/3 [00:00<?, ?it/s]\u001b[Areconstraining parameters GP_regression.rbf.variance\n",
      "\n",
      "Time index:  33%|████████████████████████▎                                                | 1/3 [00:00<00:00,  3.13it/s]\u001b[Areconstraining parameters GP_regression.rbf.variance\n",
      "\n",
      "Time index:  67%|████████████████████████████████████████████████▋                        | 2/3 [00:00<00:00,  3.37it/s]\u001b[Areconstraining parameters GP_regression.rbf.variance\n",
      "\n",
      "Time index: 100%|█████████████████████████████████████████████████████████████████████████| 3/3 [00:00<00:00,  3.39it/s]\u001b[A\n"
     ]
    },
    {
     "name": "stdout",
     "output_type": "stream",
     "text": [
      "10\n",
      "\n",
      "\t>>>PIBO\n",
      "\n"
     ]
    },
    {
     "name": "stderr",
     "output_type": "stream",
     "text": [
      "\n",
      "Time index:   0%|                                                                                 | 0/3 [00:00<?, ?it/s]\u001b[Areconstraining parameters GP_regression.rbf.variance\n",
      "\n",
      "Time index:  33%|████████████████████████▎                                                | 1/3 [00:00<00:00,  3.98it/s]\u001b[Areconstraining parameters GP_regression.rbf.variance\n",
      "\n",
      "Time index:  67%|████████████████████████████████████████████████▋                        | 2/3 [00:00<00:00,  3.83it/s]\u001b[Areconstraining parameters GP_regression.rbf.variance\n",
      "\n",
      "Time index: 100%|█████████████████████████████████████████████████████████████████████████| 3/3 [00:00<00:00,  3.84it/s]\u001b[A\n"
     ]
    },
    {
     "name": "stdout",
     "output_type": "stream",
     "text": [
      "\n",
      "\t>>>DCBO\n",
      "\n"
     ]
    },
    {
     "name": "stderr",
     "output_type": "stream",
     "text": [
      " /mnt/c/Users/lucal/Desktop/Thesis/notebooks/MyTests/../../src/utils/dag_utils/adjacency_matrix_utils.py:26: FutureWarning:adjacency_matrix will return a scipy.sparse array instead of a matrix in Networkx 3.0.\n",
      " /home/luca/miniconda3/envs/MTL_DCBO_testing/lib/python3.10/site-packages/GPy/kern/src/stationary.py:168: RuntimeWarning:overflow encountered in divide\n",
      " /home/luca/miniconda3/envs/MTL_DCBO_testing/lib/python3.10/site-packages/GPy/kern/src/rbf.py:52: RuntimeWarning:overflow encountered in square\n",
      " /home/luca/miniconda3/envs/MTL_DCBO_testing/lib/python3.10/site-packages/GPy/kern/src/rbf.py:76: RuntimeWarning:invalid value encountered in multiply\n"
     ]
    },
    {
     "name": "stdout",
     "output_type": "stream",
     "text": [
      "why are your arrays not F order?\n",
      "why are your arrays not F order?\n",
      "why are your arrays not F order?\n",
      "why are your arrays not F order?\n",
      "why are your arrays not F order?\n",
      "why are your arrays not F order?\n",
      "why are your arrays not F order?\n",
      "why are your arrays not F order?\n",
      "why are your arrays not F order?\n",
      "why are your arrays not F order?\n",
      "why are your arrays not F order?\n",
      "why are your arrays not F order?\n",
      "why are your arrays not F order?\n",
      "why are your arrays not F order?\n",
      "why are your arrays not F order?\n",
      "why are your arrays not F order?\n",
      "why are your arrays not F order?\n",
      "why are your arrays not F order?\n"
     ]
    },
    {
     "name": "stderr",
     "output_type": "stream",
     "text": [
      "\n",
      "Time index:   0%|                                                                                 | 0/3 [00:00<?, ?it/s]\u001b[Areconstraining parameters GP_regression.rbf.variance\n",
      " /mnt/c/Users/lucal/Desktop/Thesis/notebooks/MyTests/../../src/utils/sem_utils/toy_sems.py:180: RuntimeWarning:invalid value encountered in double_scalars\n",
      "reconstraining parameters GP_regression.rbf.variance\n",
      "reconstraining parameters GP_regression.rbf.variance\n",
      "\n",
      "Time index:  33%|████████████████████████▎                                                | 1/3 [00:04<00:09,  4.61s/it]\u001b[Areconstraining parameters GP_regression.rbf.variance\n",
      "reconstraining parameters GP_regression.rbf.variance\n",
      "\n",
      "Time index:  67%|████████████████████████████████████████████████▋                        | 2/3 [00:14<00:07,  7.76s/it]\u001b[Areconstraining parameters GP_regression.rbf.variance\n",
      "reconstraining parameters GP_regression.rbf.variance\n",
      "reconstraining parameters GP_regression.rbf.variance\n",
      "\n",
      "Time index: 100%|█████████████████████████████████████████████████████████████████████████| 3/3 [00:27<00:00,  9.03s/it]\u001b[A\n"
     ]
    },
    {
     "name": "stdout",
     "output_type": "stream",
     "text": [
      "\n",
      "\t>>>DCPIBO\n",
      "\n"
     ]
    },
    {
     "name": "stderr",
     "output_type": "stream",
     "text": [
      " /mnt/c/Users/lucal/Desktop/Thesis/notebooks/MyTests/../../src/utils/dag_utils/adjacency_matrix_utils.py:26: FutureWarning:adjacency_matrix will return a scipy.sparse array instead of a matrix in Networkx 3.0.\n",
      " /home/luca/miniconda3/envs/MTL_DCBO_testing/lib/python3.10/site-packages/GPy/kern/src/stationary.py:168: RuntimeWarning:overflow encountered in divide\n",
      " /home/luca/miniconda3/envs/MTL_DCBO_testing/lib/python3.10/site-packages/GPy/kern/src/rbf.py:52: RuntimeWarning:overflow encountered in square\n",
      " /home/luca/miniconda3/envs/MTL_DCBO_testing/lib/python3.10/site-packages/GPy/kern/src/rbf.py:76: RuntimeWarning:invalid value encountered in multiply\n"
     ]
    },
    {
     "name": "stdout",
     "output_type": "stream",
     "text": [
      "why are your arrays not F order?\n",
      "why are your arrays not F order?\n",
      "why are your arrays not F order?\n",
      "why are your arrays not F order?\n",
      "why are your arrays not F order?\n",
      "why are your arrays not F order?\n",
      "why are your arrays not F order?\n",
      "why are your arrays not F order?\n",
      "why are your arrays not F order?\n",
      "why are your arrays not F order?\n",
      "why are your arrays not F order?\n",
      "why are your arrays not F order?\n",
      "why are your arrays not F order?\n",
      "why are your arrays not F order?\n",
      "why are your arrays not F order?\n",
      "why are your arrays not F order?\n",
      "why are your arrays not F order?\n",
      "why are your arrays not F order?\n"
     ]
    },
    {
     "name": "stderr",
     "output_type": "stream",
     "text": [
      "\n",
      "Time index:   0%|                                                                                 | 0/3 [00:00<?, ?it/s]\u001b[Areconstraining parameters GP_regression.rbf.variance\n",
      " /mnt/c/Users/lucal/Desktop/Thesis/notebooks/MyTests/../../src/utils/sem_utils/toy_sems.py:180: RuntimeWarning:invalid value encountered in double_scalars\n",
      "reconstraining parameters GP_regression.rbf.variance\n",
      "reconstraining parameters GP_regression.rbf.variance\n",
      "\n",
      "Time index:  33%|████████████████████████▎                                                | 1/3 [00:05<00:11,  5.82s/it]\u001b[Areconstraining parameters GP_regression.rbf.variance\n",
      "reconstraining parameters GP_regression.rbf.variance\n",
      "\n",
      "Time index:  67%|████████████████████████████████████████████████▋                        | 2/3 [00:15<00:08,  8.38s/it]\u001b[Areconstraining parameters GP_regression.rbf.variance\n",
      "reconstraining parameters GP_regression.rbf.variance\n",
      "reconstraining parameters GP_regression.rbf.variance\n",
      "\n",
      "Time index: 100%|█████████████████████████████████████████████████████████████████████████| 3/3 [00:27<00:00,  9.23s/it]\u001b[A\n",
      "Experiment count:  33%|██████████████████████▎                                            | 1/3 [01:17<02:34, 77.47s/it]"
     ]
    },
    {
     "name": "stdout",
     "output_type": "stream",
     "text": [
      "\n",
      "\t>>>BO\n",
      "\n"
     ]
    },
    {
     "name": "stderr",
     "output_type": "stream",
     "text": [
      "\n",
      "Time index:   0%|                                                                                 | 0/3 [00:00<?, ?it/s]\u001b[Areconstraining parameters GP_regression.rbf.variance\n",
      "\n",
      "Time index:  33%|████████████████████████▎                                                | 1/3 [00:00<00:00,  3.58it/s]\u001b[Areconstraining parameters GP_regression.rbf.variance\n",
      "\n",
      "Time index:  67%|████████████████████████████████████████████████▋                        | 2/3 [00:00<00:00,  3.56it/s]\u001b[Areconstraining parameters GP_regression.rbf.variance\n",
      "\n",
      "Time index: 100%|█████████████████████████████████████████████████████████████████████████| 3/3 [00:00<00:00,  3.83it/s]\u001b[A\n"
     ]
    },
    {
     "name": "stdout",
     "output_type": "stream",
     "text": [
      "10\n",
      "\n",
      "\t>>>PIBO\n",
      "\n"
     ]
    },
    {
     "name": "stderr",
     "output_type": "stream",
     "text": [
      "\n",
      "Time index:   0%|                                                                                 | 0/3 [00:00<?, ?it/s]\u001b[Areconstraining parameters GP_regression.rbf.variance\n",
      " /home/luca/miniconda3/envs/MTL_DCBO_testing/lib/python3.10/site-packages/paramz/transformations.py:111: RuntimeWarning:overflow encountered in expm1\n",
      " /home/luca/miniconda3/envs/MTL_DCBO_testing/lib/python3.10/site-packages/paramz/transformations.py:119: RuntimeWarning:overflow encountered in expm1\n",
      " /home/luca/miniconda3/envs/MTL_DCBO_testing/lib/python3.10/site-packages/paramz/transformations.py:121: RuntimeWarning:overflow encountered in expm1\n"
     ]
    },
    {
     "name": "stdout",
     "output_type": "stream",
     "text": [
      "Warning - optimization restart 1/1 failed\n",
      "Warning - optimization restart 1/1 failed\n"
     ]
    },
    {
     "name": "stderr",
     "output_type": "stream",
     "text": [
      " /home/luca/miniconda3/envs/MTL_DCBO_testing/lib/python3.10/site-packages/GPy/core/parameterization/priorizable.py:81: RuntimeWarning:overflow encountered in double_scalars\n"
     ]
    },
    {
     "name": "stdout",
     "output_type": "stream",
     "text": [
      "Warning - optimization restart 1/1 failed\n"
     ]
    },
    {
     "name": "stderr",
     "output_type": "stream",
     "text": [
      "\n",
      "Time index:  33%|████████████████████████▎                                                | 1/3 [00:00<00:00,  2.74it/s]\u001b[Areconstraining parameters GP_regression.rbf.variance\n",
      "\n",
      "Time index:  67%|████████████████████████████████████████████████▋                        | 2/3 [00:00<00:00,  2.80it/s]\u001b[Areconstraining parameters GP_regression.rbf.variance\n",
      "\n",
      "Time index: 100%|█████████████████████████████████████████████████████████████████████████| 3/3 [00:00<00:00,  3.05it/s]\u001b[A\n"
     ]
    },
    {
     "name": "stdout",
     "output_type": "stream",
     "text": [
      "\n",
      "\t>>>DCBO\n",
      "\n"
     ]
    },
    {
     "name": "stderr",
     "output_type": "stream",
     "text": [
      " /mnt/c/Users/lucal/Desktop/Thesis/notebooks/MyTests/../../src/utils/dag_utils/adjacency_matrix_utils.py:26: FutureWarning:adjacency_matrix will return a scipy.sparse array instead of a matrix in Networkx 3.0.\n",
      " /home/luca/miniconda3/envs/MTL_DCBO_testing/lib/python3.10/site-packages/GPy/kern/src/stationary.py:168: RuntimeWarning:overflow encountered in divide\n",
      " /home/luca/miniconda3/envs/MTL_DCBO_testing/lib/python3.10/site-packages/GPy/kern/src/rbf.py:52: RuntimeWarning:overflow encountered in square\n",
      " /home/luca/miniconda3/envs/MTL_DCBO_testing/lib/python3.10/site-packages/GPy/kern/src/rbf.py:76: RuntimeWarning:invalid value encountered in multiply\n"
     ]
    },
    {
     "name": "stdout",
     "output_type": "stream",
     "text": [
      "why are your arrays not F order?\n",
      "why are your arrays not F order?\n",
      "why are your arrays not F order?\n",
      "why are your arrays not F order?\n",
      "why are your arrays not F order?\n",
      "why are your arrays not F order?\n",
      "why are your arrays not F order?\n",
      "why are your arrays not F order?\n",
      "why are your arrays not F order?\n",
      "why are your arrays not F order?\n",
      "why are your arrays not F order?\n",
      "why are your arrays not F order?\n",
      "why are your arrays not F order?\n",
      "why are your arrays not F order?\n",
      "why are your arrays not F order?\n",
      "why are your arrays not F order?\n",
      "why are your arrays not F order?\n",
      "why are your arrays not F order?\n"
     ]
    },
    {
     "name": "stderr",
     "output_type": "stream",
     "text": [
      "\n",
      "Time index:   0%|                                                                                 | 0/3 [00:00<?, ?it/s]\u001b[Areconstraining parameters GP_regression.rbf.variance\n",
      " /mnt/c/Users/lucal/Desktop/Thesis/notebooks/MyTests/../../src/utils/sem_utils/toy_sems.py:180: RuntimeWarning:invalid value encountered in double_scalars\n",
      "reconstraining parameters GP_regression.rbf.variance\n",
      "reconstraining parameters GP_regression.rbf.variance\n",
      "\n",
      "Time index:  33%|████████████████████████▎                                                | 1/3 [00:04<00:08,  4.46s/it]\u001b[Areconstraining parameters GP_regression.rbf.variance\n",
      "reconstraining parameters GP_regression.rbf.variance\n",
      "\n",
      "Time index:  67%|████████████████████████████████████████████████▋                        | 2/3 [00:13<00:06,  7.00s/it]\u001b[Areconstraining parameters GP_regression.rbf.variance\n",
      "reconstraining parameters GP_regression.rbf.variance\n",
      "reconstraining parameters GP_regression.rbf.variance\n",
      "\n",
      "Time index: 100%|█████████████████████████████████████████████████████████████████████████| 3/3 [00:26<00:00,  8.78s/it]\u001b[A\n"
     ]
    },
    {
     "name": "stdout",
     "output_type": "stream",
     "text": [
      "\n",
      "\t>>>DCPIBO\n",
      "\n"
     ]
    },
    {
     "name": "stderr",
     "output_type": "stream",
     "text": [
      " /mnt/c/Users/lucal/Desktop/Thesis/notebooks/MyTests/../../src/utils/dag_utils/adjacency_matrix_utils.py:26: FutureWarning:adjacency_matrix will return a scipy.sparse array instead of a matrix in Networkx 3.0.\n",
      " /home/luca/miniconda3/envs/MTL_DCBO_testing/lib/python3.10/site-packages/GPy/kern/src/stationary.py:168: RuntimeWarning:overflow encountered in divide\n",
      " /home/luca/miniconda3/envs/MTL_DCBO_testing/lib/python3.10/site-packages/GPy/kern/src/rbf.py:52: RuntimeWarning:overflow encountered in square\n",
      " /home/luca/miniconda3/envs/MTL_DCBO_testing/lib/python3.10/site-packages/GPy/kern/src/rbf.py:76: RuntimeWarning:invalid value encountered in multiply\n"
     ]
    },
    {
     "name": "stdout",
     "output_type": "stream",
     "text": [
      "why are your arrays not F order?\n",
      "why are your arrays not F order?\n",
      "why are your arrays not F order?\n",
      "why are your arrays not F order?\n",
      "why are your arrays not F order?\n",
      "why are your arrays not F order?\n",
      "why are your arrays not F order?\n",
      "why are your arrays not F order?\n",
      "why are your arrays not F order?\n",
      "why are your arrays not F order?\n",
      "why are your arrays not F order?\n",
      "why are your arrays not F order?\n",
      "why are your arrays not F order?\n",
      "why are your arrays not F order?\n",
      "why are your arrays not F order?\n",
      "why are your arrays not F order?\n",
      "why are your arrays not F order?\n",
      "why are your arrays not F order?\n"
     ]
    },
    {
     "name": "stderr",
     "output_type": "stream",
     "text": [
      "\n",
      "Time index:   0%|                                                                                 | 0/3 [00:00<?, ?it/s]\u001b[Areconstraining parameters GP_regression.rbf.variance\n",
      " /mnt/c/Users/lucal/Desktop/Thesis/notebooks/MyTests/../../src/utils/sem_utils/toy_sems.py:180: RuntimeWarning:invalid value encountered in double_scalars\n",
      "reconstraining parameters GP_regression.rbf.variance\n",
      "reconstraining parameters GP_regression.rbf.variance\n",
      "\n",
      "Time index:  33%|████████████████████████▎                                                | 1/3 [00:04<00:09,  4.92s/it]\u001b[Areconstraining parameters GP_regression.rbf.variance\n",
      "reconstraining parameters GP_regression.rbf.variance\n",
      "\n",
      "Time index:  67%|████████████████████████████████████████████████▋                        | 2/3 [00:12<00:06,  6.75s/it]\u001b[Areconstraining parameters GP_regression.rbf.variance\n",
      "reconstraining parameters GP_regression.rbf.variance\n",
      "reconstraining parameters GP_regression.rbf.variance\n",
      "\n",
      "Time index: 100%|█████████████████████████████████████████████████████████████████████████| 3/3 [00:24<00:00,  8.26s/it]\u001b[A\n",
      "Experiment count:  67%|████████████████████████████████████████████▋                      | 2/3 [02:30<01:14, 74.57s/it]"
     ]
    },
    {
     "name": "stdout",
     "output_type": "stream",
     "text": [
      "\n",
      "\t>>>BO\n",
      "\n"
     ]
    },
    {
     "name": "stderr",
     "output_type": "stream",
     "text": [
      "\n",
      "Time index:   0%|                                                                                 | 0/3 [00:00<?, ?it/s]\u001b[Areconstraining parameters GP_regression.rbf.variance\n",
      "\n",
      "Time index:  33%|████████████████████████▎                                                | 1/3 [00:00<00:00,  4.34it/s]\u001b[Areconstraining parameters GP_regression.rbf.variance\n",
      "\n",
      "Time index:  67%|████████████████████████████████████████████████▋                        | 2/3 [00:00<00:00,  4.63it/s]\u001b[Areconstraining parameters GP_regression.rbf.variance\n",
      "\n",
      "Time index: 100%|█████████████████████████████████████████████████████████████████████████| 3/3 [00:00<00:00,  4.16it/s]\u001b[A\n"
     ]
    },
    {
     "name": "stdout",
     "output_type": "stream",
     "text": [
      "10\n",
      "\n",
      "\t>>>PIBO\n",
      "\n"
     ]
    },
    {
     "name": "stderr",
     "output_type": "stream",
     "text": [
      "\n",
      "Time index:   0%|                                                                                 | 0/3 [00:00<?, ?it/s]\u001b[Areconstraining parameters GP_regression.rbf.variance\n",
      "\n",
      "Time index:  33%|████████████████████████▎                                                | 1/3 [00:00<00:00,  6.09it/s]\u001b[Areconstraining parameters GP_regression.rbf.variance\n",
      "\n",
      "Time index:  67%|████████████████████████████████████████████████▋                        | 2/3 [00:00<00:00,  4.91it/s]\u001b[Areconstraining parameters GP_regression.rbf.variance\n",
      "\n",
      "Time index: 100%|█████████████████████████████████████████████████████████████████████████| 3/3 [00:00<00:00,  4.63it/s]\u001b[A\n"
     ]
    },
    {
     "name": "stdout",
     "output_type": "stream",
     "text": [
      "\n",
      "\t>>>DCBO\n",
      "\n"
     ]
    },
    {
     "name": "stderr",
     "output_type": "stream",
     "text": [
      " /mnt/c/Users/lucal/Desktop/Thesis/notebooks/MyTests/../../src/utils/dag_utils/adjacency_matrix_utils.py:26: FutureWarning:adjacency_matrix will return a scipy.sparse array instead of a matrix in Networkx 3.0.\n",
      " /home/luca/miniconda3/envs/MTL_DCBO_testing/lib/python3.10/site-packages/GPy/kern/src/stationary.py:168: RuntimeWarning:overflow encountered in divide\n",
      " /home/luca/miniconda3/envs/MTL_DCBO_testing/lib/python3.10/site-packages/GPy/kern/src/rbf.py:52: RuntimeWarning:overflow encountered in square\n",
      " /home/luca/miniconda3/envs/MTL_DCBO_testing/lib/python3.10/site-packages/GPy/kern/src/rbf.py:76: RuntimeWarning:invalid value encountered in multiply\n"
     ]
    },
    {
     "name": "stdout",
     "output_type": "stream",
     "text": [
      "why are your arrays not F order?\n",
      "why are your arrays not F order?\n",
      "why are your arrays not F order?\n",
      "why are your arrays not F order?\n",
      "why are your arrays not F order?\n",
      "why are your arrays not F order?\n",
      "why are your arrays not F order?\n",
      "why are your arrays not F order?\n",
      "why are your arrays not F order?\n",
      "why are your arrays not F order?\n",
      "why are your arrays not F order?\n",
      "why are your arrays not F order?\n",
      "why are your arrays not F order?\n",
      "why are your arrays not F order?\n",
      "why are your arrays not F order?\n",
      "why are your arrays not F order?\n",
      "why are your arrays not F order?\n",
      "why are your arrays not F order?\n"
     ]
    },
    {
     "name": "stderr",
     "output_type": "stream",
     "text": [
      "\n",
      "Time index:   0%|                                                                                 | 0/3 [00:00<?, ?it/s]\u001b[Areconstraining parameters GP_regression.rbf.variance\n",
      " /mnt/c/Users/lucal/Desktop/Thesis/notebooks/MyTests/../../src/utils/sem_utils/toy_sems.py:180: RuntimeWarning:invalid value encountered in double_scalars\n",
      "reconstraining parameters GP_regression.rbf.variance\n",
      "reconstraining parameters GP_regression.rbf.variance\n",
      "\n",
      "Time index:  33%|████████████████████████▎                                                | 1/3 [00:04<00:09,  4.73s/it]\u001b[Areconstraining parameters GP_regression.rbf.variance\n",
      "\n",
      "Time index:  67%|████████████████████████████████████████████████▋                        | 2/3 [00:13<00:07,  7.01s/it]\u001b[Areconstraining parameters GP_regression.rbf.variance\n",
      "reconstraining parameters GP_regression.rbf.variance\n",
      "reconstraining parameters GP_regression.rbf.variance\n",
      "\n",
      "Time index: 100%|█████████████████████████████████████████████████████████████████████████| 3/3 [00:25<00:00,  8.43s/it]\u001b[A\n"
     ]
    },
    {
     "name": "stdout",
     "output_type": "stream",
     "text": [
      "\n",
      "\t>>>DCPIBO\n",
      "\n"
     ]
    },
    {
     "name": "stderr",
     "output_type": "stream",
     "text": [
      " /mnt/c/Users/lucal/Desktop/Thesis/notebooks/MyTests/../../src/utils/dag_utils/adjacency_matrix_utils.py:26: FutureWarning:adjacency_matrix will return a scipy.sparse array instead of a matrix in Networkx 3.0.\n",
      " /home/luca/miniconda3/envs/MTL_DCBO_testing/lib/python3.10/site-packages/GPy/kern/src/stationary.py:168: RuntimeWarning:overflow encountered in divide\n",
      " /home/luca/miniconda3/envs/MTL_DCBO_testing/lib/python3.10/site-packages/GPy/kern/src/rbf.py:52: RuntimeWarning:overflow encountered in square\n",
      " /home/luca/miniconda3/envs/MTL_DCBO_testing/lib/python3.10/site-packages/GPy/kern/src/rbf.py:76: RuntimeWarning:invalid value encountered in multiply\n"
     ]
    },
    {
     "name": "stdout",
     "output_type": "stream",
     "text": [
      "why are your arrays not F order?\n",
      "why are your arrays not F order?\n",
      "why are your arrays not F order?\n",
      "why are your arrays not F order?\n",
      "why are your arrays not F order?\n",
      "why are your arrays not F order?\n",
      "why are your arrays not F order?\n",
      "why are your arrays not F order?\n",
      "why are your arrays not F order?\n",
      "why are your arrays not F order?\n",
      "why are your arrays not F order?\n",
      "why are your arrays not F order?\n",
      "why are your arrays not F order?\n",
      "why are your arrays not F order?\n",
      "why are your arrays not F order?\n",
      "why are your arrays not F order?\n",
      "why are your arrays not F order?\n",
      "why are your arrays not F order?\n"
     ]
    },
    {
     "name": "stderr",
     "output_type": "stream",
     "text": [
      "\n",
      "Time index:   0%|                                                                                 | 0/3 [00:00<?, ?it/s]\u001b[Areconstraining parameters GP_regression.rbf.variance\n",
      " /mnt/c/Users/lucal/Desktop/Thesis/notebooks/MyTests/../../src/utils/sem_utils/toy_sems.py:180: RuntimeWarning:invalid value encountered in double_scalars\n",
      "reconstraining parameters GP_regression.rbf.variance\n",
      "reconstraining parameters GP_regression.rbf.variance\n",
      "\n",
      "Time index:  33%|████████████████████████▎                                                | 1/3 [00:03<00:07,  3.67s/it]\u001b[Areconstraining parameters GP_regression.rbf.variance\n",
      "\n",
      "Time index:  67%|████████████████████████████████████████████████▋                        | 2/3 [00:10<00:05,  5.36s/it]\u001b[Areconstraining parameters GP_regression.rbf.variance\n",
      "reconstraining parameters GP_regression.rbf.variance\n",
      "reconstraining parameters GP_regression.rbf.variance\n",
      "\n",
      "Time index: 100%|█████████████████████████████████████████████████████████████████████████| 3/3 [00:19<00:00,  6.57s/it]\u001b[A\n",
      "Experiment count: 100%|███████████████████████████████████████████████████████████████████| 3/3 [03:33<00:00, 71.02s/it]\n"
     ]
    }
   ],
   "source": [
    "bad_results = run_methods_replicates(G=G, \n",
    "                                sem=NonStatSEM, \n",
    "                                make_sem_estimator=build_sem_hat, \n",
    "                                base_target_variable='Y',\n",
    "                                intervention_domain = intervention_domain, \n",
    "                                methods_list = ['BO', 'PIBO', 'DCBO', 'DCPIBO'],\n",
    "                                obs_samples = None,\n",
    "                                exploration_sets = exploration_sets,\n",
    "                                priors_regret = bad_predicted_optima_regret,\n",
    "                                total_timesteps = T,\n",
    "                                number_of_trials = N, \n",
    "                                reps = R, # Number of replicates (how many times we run each method)\n",
    "                                n_restart = 1,\n",
    "                                save_data = False,\n",
    "                                n_obs = 10, # The method samples 10 time-series for each replicate\n",
    "                                num_anchor_points = 100,\n",
    "                                sample_anchor_points = True,\n",
    "                                controlled_experiment=False,\n",
    "                                change_points=change_points)"
   ]
  },
  {
   "cell_type": "markdown",
   "id": "1cbab929-8d6b-42d4-86f8-c4441bb63616",
   "metadata": {
    "tags": []
   },
   "source": [
    "### *Very* bad prior"
   ]
  },
  {
   "cell_type": "code",
   "execution_count": 52,
   "id": "0023ebeb-e16f-4697-8e9f-2490278a557b",
   "metadata": {},
   "outputs": [],
   "source": [
    "# very_bad_results = run_methods_replicates(G=G, \n",
    "#                                 sem=NonStatSEM, \n",
    "#                                 make_sem_estimator=build_sem_hat, \n",
    "#                                 base_target_variable='Y',\n",
    "#                                 intervention_domain = intervention_domain, \n",
    "#                                 methods_list = ['BO', 'PIBO', 'DCBO', 'DCPIBO'],\n",
    "#                                 obs_samples = None,\n",
    "#                                 exploration_sets = exploration_sets,\n",
    "#                                 priors_regret = very_bad_predicted_optima_regret,\n",
    "#                                 total_timesteps = T,\n",
    "#                                 number_of_trials = N, \n",
    "#                                 reps = R, # Number of replicates (how many times we run each method)\n",
    "#                                 n_restart = 1,\n",
    "#                                 save_data = False,\n",
    "#                                 n_obs = 10, # The method samples 10 time-series for each replicate\n",
    "#                                 num_anchor_points = 100,\n",
    "#                                 sample_anchor_points = True,\n",
    "#                                 controlled_experiment=False,\n",
    "#                                 change_points=change_points)"
   ]
  },
  {
   "cell_type": "markdown",
   "id": "c305b141-007f-4a41-8f1e-c826947eb6c4",
   "metadata": {},
   "source": [
    "## Plotting"
   ]
  },
  {
   "cell_type": "code",
   "execution_count": 53,
   "id": "0b491a11-b0dd-4588-b10d-fb1ec4d13976",
   "metadata": {},
   "outputs": [],
   "source": [
    "plot_params = {\n",
    "    \"linewidth\": 3,\n",
    "    \"linewidth_opt\": 4,\n",
    "    \"alpha\": 0.1,\n",
    "    \"xlim_max\": N,\n",
    "    \"ncols\": 5,\n",
    "    \"loc_legend\": \"lower right\",\n",
    "    \"size_ticks\": 20,\n",
    "    \"size_labels\": 20,\n",
    "    \"xlabel\": r'$\\texttt{cost}(\\mathbf{X}_{s,t}, \\mathbf{x}_{s,t})$',\n",
    "    \"labels\": {'DCPIBO': 'DCPIBO', 'PIBO': 'PIBO', 'DCBO': 'DCBO', 'BO': 'BO', 'True': r'$\\mathbb{E} \\left [Y_t \\mid \\textrm{do}(\\mathbf{X}_{s,t}^\\star = \\mathbf{x}_{s,t}^\\star) \\right]$'},\n",
    "    \"colors\": {'DCPIBO': 'blue', 'PIBO': 'green', 'DCBO': 'orange', 'BO': 'red', 'True': 'black'},\n",
    "    \"line_styles\": {'DCPIBO': 'dashdot', 'PIBO': '--', 'DCBO': '-', 'BO': '-', 'True': ':'},\n",
    "    \"width\":10\n",
    "}\n",
    "rc('text', usetex=True)\n",
    "rc('text.latex', preamble=r'\\usepackage{amssymb}')\n",
    "rc('font', family='serif')\n",
    "rc('font', size=20)"
   ]
  },
  {
   "cell_type": "markdown",
   "id": "34cf20da-8613-4361-b408-3ce73d6d9293",
   "metadata": {},
   "source": [
    "### Good prior"
   ]
  },
  {
   "cell_type": "code",
   "execution_count": 54,
   "id": "7615af60-a05b-4ed2-8102-dadfcba95870",
   "metadata": {},
   "outputs": [],
   "source": [
    "good_data = get_relevant_results(results=good_results, replicates=R)\n",
    "good_exp_optimal_outcome_values_during_trials, good_exp_per_trial_cost = elaborate(number_of_interventions=None, \n",
    "                                                                         n_replicates=R, \n",
    "                                                                         data=good_data, \n",
    "                                                                         best_objective_values=true_objective_values, \n",
    "                                                                         T=T)"
   ]
  },
  {
   "cell_type": "code",
   "execution_count": 55,
   "id": "ec21e66b-bdcf-4d08-b324-4f1e40670b8f",
   "metadata": {
    "tags": []
   },
   "outputs": [
    {
     "data": {
      "image/png": "[encoded data removed]",
      "text/plain": [
       "<Figure size 1500x500 with 3 Axes>"
      ]
     },
     "metadata": {},
     "output_type": "display_data"
    }
   ],
   "source": [
    "# Each frame corresponds to one time-slice.\n",
    "plot_expected_opt_curve_paper(T,\n",
    "    true_objective_values,\n",
    "    good_exp_per_trial_cost,\n",
    "    good_exp_optimal_outcome_values_during_trials,\n",
    "    plot_params,  \n",
    "    fig_size = (15,5))"
   ]
  },
  {
   "cell_type": "markdown",
   "id": "c2c868fe-b9cc-4b99-ac7c-d24b72e0c3dd",
   "metadata": {
    "tags": []
   },
   "source": [
    "### Bad prior"
   ]
  },
  {
   "cell_type": "code",
   "execution_count": 56,
   "id": "a417e08b-2050-4e69-84e6-fb6fafee8a28",
   "metadata": {},
   "outputs": [],
   "source": [
    "bad_data = get_relevant_results(results=bad_results,replicates=R)\n",
    "bad_exp_optimal_outcome_values_during_trials, bad_exp_per_trial_cost = elaborate(number_of_interventions=None, \n",
    "                                                                         n_replicates=R, \n",
    "                                                                         data=bad_data, \n",
    "                                                                         best_objective_values=true_objective_values, \n",
    "                                                                         T=T)"
   ]
  },
  {
   "cell_type": "code",
   "execution_count": 57,
   "id": "6b90fe04-cd51-435c-8026-1ff6e78d003c",
   "metadata": {},
   "outputs": [
    {
     "data": {
      "image/png": "[encoded data removed]",
      "text/plain": [
       "<Figure size 1500x500 with 3 Axes>"
      ]
     },
     "metadata": {},
     "output_type": "display_data"
    }
   ],
   "source": [
    "# Each frame corresponds to one time-slice.\n",
    "plot_expected_opt_curve_paper(T,\n",
    "    true_objective_values,\n",
    "    bad_exp_per_trial_cost,\n",
    "    bad_exp_optimal_outcome_values_during_trials,\n",
    "    plot_params,  \n",
    "    fig_size = (15,5))"
   ]
  },
  {
   "cell_type": "markdown",
   "id": "1394857c-4b50-4638-ba37-9136fe48591a",
   "metadata": {
    "jp-MarkdownHeadingCollapsed": true,
    "tags": []
   },
   "source": [
    "### Very bad prior"
   ]
  },
  {
   "cell_type": "code",
   "execution_count": 58,
   "id": "28b4e2ee-ff02-4499-9436-2965f73470f2",
   "metadata": {},
   "outputs": [],
   "source": [
    "# very_bad_data = get_relevant_results(results=very_bad_results,replicates=R)\n",
    "# very_bad_exp_optimal_outcome_values_during_trials, very_bad_exp_per_trial_cost = elaborate(number_of_interventions=None, \n",
    "#                                                                          n_replicates=R, \n",
    "#                                                                          data=very_bad_data, \n",
    "#                                                                          best_objective_values=true_objective_values, \n",
    "#                                                                          T=T)"
   ]
  },
  {
   "cell_type": "code",
   "execution_count": 59,
   "id": "5cc072a8-f64a-4340-bfbf-28e362cbd35d",
   "metadata": {},
   "outputs": [],
   "source": [
    "# # Each frame corresponds to one time-slice.\n",
    "# plot_expected_opt_curve_paper(T,\n",
    "#     true_objective_values,\n",
    "#     very_bad_exp_per_trial_cost,\n",
    "#     very_bad_exp_optimal_outcome_values_during_trials,\n",
    "#     plot_params,  \n",
    "#     fig_size = (15,5))"
   ]
  },
  {
   "cell_type": "markdown",
   "id": "e141f955-4fb8-42ae-8b0e-37b0f8692057",
   "metadata": {
    "tags": []
   },
   "source": [
    "## Gap Metric"
   ]
  },
  {
   "cell_type": "code",
   "execution_count": 60,
   "id": "dfa39d23-c91e-4128-85d5-c6f97bee682b",
   "metadata": {},
   "outputs": [],
   "source": [
    "def compute_gap_values(T, summary):\n",
    "    G_BO=0\n",
    "    G_PIBO=0\n",
    "    G_DCBO=0\n",
    "    G_DCPIBO=0\n",
    "    list_gaps=[]\n",
    "    summary_list = list(summary.values())\n",
    "    for i in range(len(summary_list)):\n",
    "        for t in range(T):\n",
    "            # print(summary_list[i][t][0])\n",
    "            if i==0:\n",
    "                G_BO=G_BO+summary_list[i][t][0]\n",
    "                if t==2:\n",
    "                    list_gaps.append(G_BO/T)\n",
    "            elif i==1:\n",
    "                G_PIBO=G_PIBO+summary_list[i][t][0]\n",
    "                if t==2:\n",
    "                    list_gaps.append(G_PIBO/T)\n",
    "            elif i==2:\n",
    "                G_DCBO=G_DCBO+summary_list[i][t][0]\n",
    "                if t==2:\n",
    "                    list_gaps.append(G_DCBO/T)\n",
    "            elif i==3:\n",
    "                G_DCPIBO=G_DCPIBO+summary_list[i][t][0]\n",
    "                if t==2:\n",
    "                    list_gaps.append(G_DCPIBO/T)\n",
    "    return list_gaps"
   ]
  },
  {
   "cell_type": "markdown",
   "id": "98573f2d-d933-4a83-a2ab-58b613af08f6",
   "metadata": {
    "tags": []
   },
   "source": [
    "### Good Gap Metric"
   ]
  },
  {
   "cell_type": "code",
   "execution_count": 61,
   "id": "fbca5eee-ee09-469d-bf89-e9568b718726",
   "metadata": {},
   "outputs": [],
   "source": [
    "good_t_i_l = get_common_initial_values(T=T,\n",
    "                                  data=good_data,\n",
    "                                  n_replicates=R)\n",
    "\n",
    "good_w_c_d = get_converge_trial(best_objective_values=true_objective_values,\n",
    "                           exp_optimal_outcome_values_during_trials=good_exp_optimal_outcome_values_during_trials,\n",
    "                           n_trials=N,\n",
    "                           T=T,\n",
    "                           n_decimal=1)\n",
    "\n",
    "good_summary = gap_metric_standard(T=T,\n",
    "                             data=good_data,\n",
    "                             best_objective_values=true_objective_values,\n",
    "                             total_initial_list = good_t_i_l,\n",
    "                             n_replicates=R,\n",
    "                             n_trials=N,\n",
    "                             where_converge_dict=good_w_c_d)\n",
    "\n",
    "good_list = compute_gap_values(T, good_summary)"
   ]
  },
  {
   "cell_type": "code",
   "execution_count": 62,
   "id": "0b96cdf2-eb8f-40fd-9c8b-0fff301e445b",
   "metadata": {},
   "outputs": [
    {
     "data": {
      "text/plain": [
       "{'BO': [[0.2530397576214512, 0.050987859753789486],\n",
       "  [0.3928884849126542, 0.09993115138808001],\n",
       "  [1.0526315789473684, 0.0]],\n",
       " 'PIBO': [[0.28492672253456375, 0.00968416030420981],\n",
       "  [0.23982943186538652, 0.064330431093974],\n",
       "  [1.0526315789473684, 0.0]],\n",
       " 'DCBO': [[0.5180823999264018, 0.005728975611959838],\n",
       "  [0.8947368421052632, 0.0],\n",
       "  [0.497991787436695, 0.006593974193613493]],\n",
       " 'DCPIBO': [[0.574088096855376, 0.002142375696280853],\n",
       "  [0.8947368421052632, 0.0],\n",
       "  [0.4301744601002189, 0.1181218106292599]]}"
      ]
     },
     "execution_count": 62,
     "metadata": {},
     "output_type": "execute_result"
    }
   ],
   "source": [
    "good_summary"
   ]
  },
  {
   "cell_type": "code",
   "execution_count": 63,
   "id": "4b01583f-dab4-4455-a9fb-dd4fd578340e",
   "metadata": {},
   "outputs": [
    {
     "data": {
      "text/plain": [
       "[0.5661866071604913, 0.525795911115773, 0.6369370098227867, 0.6329997996869526]"
      ]
     },
     "execution_count": 63,
     "metadata": {},
     "output_type": "execute_result"
    }
   ],
   "source": [
    "good_list"
   ]
  },
  {
   "cell_type": "markdown",
   "id": "7c88784c-4ee2-4ee5-9456-665cdf7adb5d",
   "metadata": {
    "tags": []
   },
   "source": [
    "### Bad Gap Metric"
   ]
  },
  {
   "cell_type": "code",
   "execution_count": 64,
   "id": "68944479-e7ad-40e9-bd40-f48316a4cf0f",
   "metadata": {},
   "outputs": [],
   "source": [
    "bad_t_i_l = get_common_initial_values(T=T,\n",
    "                                  data=bad_data,\n",
    "                                  n_replicates=R)\n",
    "\n",
    "bad_w_c_d = get_converge_trial(best_objective_values=true_objective_values,\n",
    "                          exp_optimal_outcome_values_during_trials=bad_exp_optimal_outcome_values_during_trials,\n",
    "                          n_trials=N,\n",
    "                          T=T,\n",
    "                          n_decimal=1)\n",
    "\n",
    "bad_summary = gap_metric_standard(T=T,\n",
    "                             data=bad_data,\n",
    "                             best_objective_values=true_objective_values,\n",
    "                             total_initial_list = bad_t_i_l,\n",
    "                             n_replicates=R,\n",
    "                             n_trials=N,\n",
    "                             where_converge_dict=bad_w_c_d)\n",
    "\n",
    "bad_list = compute_gap_values(T, bad_summary)"
   ]
  },
  {
   "cell_type": "code",
   "execution_count": 65,
   "id": "3592525f-fe94-4b26-8a63-1db2d8ea5026",
   "metadata": {},
   "outputs": [
    {
     "data": {
      "text/plain": [
       "{'BO': [[0.28121584738297084, 0.002556871795272311],\n",
       "  [0.37467300311259466, 0.11019725831953492],\n",
       "  [1.0526315789473684, 0.0]],\n",
       " 'PIBO': [[0.25953943155886633, 0.027736261272012532],\n",
       "  [0.4196921852018962, 0.02526909389023063],\n",
       "  [1.0526315789473684, 0.0]],\n",
       " 'DCBO': [[0.6259326902579336, 0.004364013478215318],\n",
       "  [0.8947368421052632, 0.0],\n",
       "  [0.4684868393489225, 0.06262721031492163]],\n",
       " 'DCPIBO': [[0.5154403177004564, 0.008131878208374717],\n",
       "  [0.8421052631578948, 0.0],\n",
       "  [0.4534951805707148, 0.07026374680059819]]}"
      ]
     },
     "execution_count": 65,
     "metadata": {},
     "output_type": "execute_result"
    }
   ],
   "source": [
    "bad_summary"
   ]
  },
  {
   "cell_type": "code",
   "execution_count": 66,
   "id": "4f07793f-db4a-4035-95e9-7d35f4f7edb3",
   "metadata": {},
   "outputs": [
    {
     "data": {
      "text/plain": [
       "[0.5695068098143113,\n",
       " 0.5772877319027103,\n",
       " 0.6630521239040398,\n",
       " 0.6036802538096887]"
      ]
     },
     "execution_count": 66,
     "metadata": {},
     "output_type": "execute_result"
    }
   ],
   "source": [
    "bad_list"
   ]
  }
 ],
 "metadata": {
  "kernelspec": {
   "display_name": "Python 3 (ipykernel)",
   "language": "python",
   "name": "python3"
  },
  "language_info": {
   "codemirror_mode": {
    "name": "ipython",
    "version": 3
   },
   "file_extension": ".py",
   "mimetype": "text/x-python",
   "name": "python",
   "nbconvert_exporter": "python",
   "pygments_lexer": "ipython3",
   "version": "3.10.9"
  }
 },
 "nbformat": 4,
 "nbformat_minor": 5
}
